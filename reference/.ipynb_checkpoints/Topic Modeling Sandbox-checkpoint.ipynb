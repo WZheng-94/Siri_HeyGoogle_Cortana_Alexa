{
 "cells": [
  {
   "cell_type": "markdown",
   "metadata": {},
   "source": [
    "## Example: NMF and LDA"
   ]
  },
  {
   "cell_type": "code",
   "execution_count": 1,
   "metadata": {},
   "outputs": [
    {
     "name": "stderr",
     "output_type": "stream",
     "text": [
      "Downloading 20news dataset. This may take a few minutes.\n",
      "Downloading dataset from https://ndownloader.figshare.com/files/5975967 (14 MB)\n"
     ]
    }
   ],
   "source": [
    "# Preparing dataset\n",
    "from sklearn.datasets import fetch_20newsgroups\n",
    "\n",
    "dataset = fetch_20newsgroups(shuffle=True, random_state=1, remove=('headers', 'footers', 'quotes'))\n",
    "documents = dataset.data"
   ]
  },
  {
   "cell_type": "code",
   "execution_count": null,
   "metadata": {},
   "outputs": [],
   "source": []
  },
  {
   "cell_type": "code",
   "execution_count": 4,
   "metadata": {},
   "outputs": [],
   "source": [
    "import pandas as pd \n",
    "def trans_text(df):\n",
    "\t'''\n",
    "\ttransform the text to list\n",
    "\t'''\n",
    "\n",
    "\tdf = pd.read_csv(df, names = ['text'])\n",
    "\ttext = df.text.tolist()\n",
    "\n",
    "\treturn text"
   ]
  },
  {
   "cell_type": "code",
   "execution_count": null,
   "metadata": {},
   "outputs": [],
   "source": []
  },
  {
   "cell_type": "code",
   "execution_count": 2,
   "metadata": {},
   "outputs": [],
   "source": [
    "# Importing necessary packages\n",
    "from sklearn.feature_extraction.text import TfidfVectorizer, CountVectorizer\n",
    "from sklearn.decomposition import NMF, LatentDirichletAllocation"
   ]
  },
  {
   "cell_type": "code",
   "execution_count": 3,
   "metadata": {},
   "outputs": [],
   "source": [
    "# Create bag of words\n",
    "no_features = 1000\n",
    "\n",
    "# NMF is able to use tf-idf\n",
    "tfidf_vectorizer = TfidfVectorizer(max_df=0.95, min_df=2, max_features=no_features, stop_words='english')\n",
    "tfidf = tfidf_vectorizer.fit_transform(documents)\n",
    "tfidf_feature_names = tfidf_vectorizer.get_feature_names()\n",
    "\n",
    "# LDA can only use raw term counts for LDA because it is a probabilistic graphical model\n",
    "tf_vectorizer = CountVectorizer(max_df=0.95, min_df=2, max_features=no_features, stop_words='english')\n",
    "tf = tf_vectorizer.fit_transform(documents)\n",
    "tf_feature_names = tf_vectorizer.get_feature_names()"
   ]
  },
  {
   "cell_type": "code",
   "execution_count": null,
   "metadata": {},
   "outputs": [
    {
     "name": "stderr",
     "output_type": "stream",
     "text": [
      "C:\\Users\\leoso\\Anaconda3\\lib\\site-packages\\sklearn\\decomposition\\online_lda.py:294: DeprecationWarning: n_topics has been renamed to n_components in version 0.19 and will be removed in 0.21\n",
      "  DeprecationWarning)\n"
     ]
    }
   ],
   "source": [
    "# Set parameters\n",
    "no_topics = 20\n",
    "\n",
    "# Run NMF\n",
    "nmf = NMF(n_components=no_topics, random_state=1, alpha=.1, l1_ratio=.5, init='nndsvd').fit(tfidf)\n",
    "\n",
    "# Run LDA\n",
    "lda = LatentDirichletAllocation(n_topics=no_topics, max_iter=5, learning_method='online', learning_offset=50.,random_state=0).fit(tf)"
   ]
  },
  {
   "cell_type": "code",
   "execution_count": 9,
   "metadata": {},
   "outputs": [
    {
     "name": "stdout",
     "output_type": "stream",
     "text": [
      "NMF Topics:\n",
      "Topic 0: people time right did good said say make way government\n",
      "Topic 1: window problem using server application screen display motif manager running\n",
      "Topic 2: god jesus bible christ faith believe christian christians sin church\n",
      "Topic 3: game team year games season players play hockey win league\n",
      "Topic 4: new 00 sale 10 price offer shipping condition 20 15\n",
      "Topic 5: thanks mail advance hi looking info help information address appreciated\n",
      "Topic 6: windows file files dos program version ftp ms directory running\n",
      "Topic 7: edu soon cs university ftp internet article email pub david\n",
      "Topic 8: key chip clipper encryption keys escrow government public algorithm nsa\n",
      "Topic 9: drive scsi drives hard disk ide floppy controller cd mac\n",
      "Topic 10: just ll thought tell oh little fine work wanted mean\n",
      "Topic 11: does know anybody mean work say doesn help exist program\n",
      "Topic 12: card video monitor cards drivers bus vga driver color memory\n",
      "Topic 13: like sounds looks look bike sound lot things really thing\n",
      "Topic 14: don know want let need doesn little sure sorry things\n",
      "Topic 15: car cars engine speed good bike driver road insurance fast\n",
      "Topic 16: ve got seen heard tried good recently times try couple\n",
      "Topic 17: use used using work available want software need image data\n",
      "Topic 18: think don lot try makes really pretty wasn bit david\n",
      "Topic 19: com list dave internet article sun hp email ibm phone\n",
      "\n",
      "LDA Topics:\n",
      "Topic 0: people gun state control right guns crime states law police\n",
      "Topic 1: time question book years did like don space answer just\n",
      "Topic 2: mr line rules science stephanopoulos title current define int yes\n",
      "Topic 3: key chip keys clipper encryption number des algorithm use bit\n",
      "Topic 4: edu com cs vs w7 cx mail uk 17 send\n",
      "Topic 5: use does window problem way used point different case value\n",
      "Topic 6: windows thanks know help db does dos problem like using\n",
      "Topic 7: bike water effect road design media dod paper like turn\n",
      "Topic 8: don just like think know people good ve going say\n",
      "Topic 9: car new price good power used air sale offer ground\n",
      "Topic 10: file available program edu ftp information files use image version\n",
      "Topic 11: ax max b8f g9v a86 145 pl 1d9 0t 34u\n",
      "Topic 12: government law privacy security legal encryption court fbi technology information\n",
      "Topic 13: card bit memory output video color data mode monitor 16\n",
      "Topic 14: drive scsi disk mac hard apple drives controller software port\n",
      "Topic 15: god jesus people believe christian bible say does life church\n",
      "Topic 16: year game team games season play hockey players league player\n",
      "Topic 17: 10 00 15 25 20 11 12 14 16 13\n",
      "Topic 18: armenian israel armenians war people jews turkish israeli said women\n",
      "Topic 19: president people new said health year university school day work\n"
     ]
    }
   ],
   "source": [
    "# Display topics\n",
    "def display_topics(model, feature_names, no_top_words):\n",
    "    for topic_idx, topic in enumerate(model.components_):\n",
    "        print(\"Topic %d:\" % (topic_idx), \" \".join([feature_names[i]\n",
    "                        for i in topic.argsort()[:-no_top_words - 1:-1]]))\n",
    "\n",
    "no_top_words = 10\n",
    "print(\"NMF Topics:\")\n",
    "display_topics(nmf, tfidf_feature_names, no_top_words)\n",
    "print(\"\")\n",
    "print(\"LDA Topics:\")\n",
    "display_topics(lda, tf_feature_names, no_top_words)"
   ]
  },
  {
   "cell_type": "code",
   "execution_count": 10,
   "metadata": {},
   "outputs": [],
   "source": [
    "# Interpreting topics (to be continued)"
   ]
  },
  {
   "cell_type": "code",
   "execution_count": null,
   "metadata": {},
   "outputs": [],
   "source": []
  }
 ],
 "metadata": {
  "kernelspec": {
   "display_name": "Python 3",
   "language": "python",
   "name": "python3"
  },
  "language_info": {
   "codemirror_mode": {
    "name": "ipython",
    "version": 3
   },
   "file_extension": ".py",
   "mimetype": "text/x-python",
   "name": "python",
   "nbconvert_exporter": "python",
   "pygments_lexer": "ipython3",
   "version": "3.6.4"
  }
 },
 "nbformat": 4,
 "nbformat_minor": 2
}
