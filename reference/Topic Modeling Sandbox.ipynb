{
 "cells": [
  {
   "cell_type": "markdown",
   "metadata": {},
   "source": [
    "## Example: NMF and LDA"
   ]
  },
  {
   "cell_type": "code",
   "execution_count": 1,
   "metadata": {},
   "outputs": [],
   "source": [
    "import pandas as pd \n",
    "def trans_text(df):\n",
    "    '''\n",
    "    transform the text to list\n",
    "    '''\n",
    "\n",
    "    df = pd.read_csv(df, names = ['text'])\n",
    "    text = df.text.tolist()\n",
    "\n",
    "    return text"
   ]
  },
  {
   "cell_type": "code",
   "execution_count": 2,
   "metadata": {},
   "outputs": [],
   "source": [
    "documents = pd.read_csv('../data/text_071031_180729.csv', header = None)"
   ]
  },
  {
   "cell_type": "code",
   "execution_count": 4,
   "metadata": {},
   "outputs": [],
   "source": [
    "documents = documents.drop_duplicates()[0].tolist()"
   ]
  },
  {
   "cell_type": "code",
   "execution_count": 5,
   "metadata": {},
   "outputs": [],
   "source": [
    "# Importing necessary packages\n",
    "from sklearn.feature_extraction.text import TfidfVectorizer, CountVectorizer\n",
    "from sklearn.decomposition import NMF, LatentDirichletAllocation"
   ]
  },
  {
   "cell_type": "code",
   "execution_count": 6,
   "metadata": {},
   "outputs": [],
   "source": [
    "# Create bag of words\n",
    "no_features = 1000\n",
    "\n",
    "# NMF is able to use tf-idf\n",
    "tfidf_vectorizer = TfidfVectorizer(max_df=0.4, min_df=20, max_features=no_features, stop_words='english')\n",
    "tfidf = tfidf_vectorizer.fit_transform(documents)\n",
    "tfidf_feature_names = tfidf_vectorizer.get_feature_names()\n",
    "\n",
    "# LDA can only use raw term counts for LDA because it is a probabilistic graphical model\n",
    "tf_vectorizer = CountVectorizer(max_df=0.4, min_df=20, max_features=no_features, stop_words='english')\n",
    "tf = tf_vectorizer.fit_transform(documents)\n",
    "tf_feature_names = tf_vectorizer.get_feature_names()"
   ]
  },
  {
   "cell_type": "code",
   "execution_count": 7,
   "metadata": {},
   "outputs": [
    {
     "name": "stderr",
     "output_type": "stream",
     "text": [
      "/Users/weiweizheng/anaconda3/lib/python3.6/site-packages/sklearn/decomposition/online_lda.py:294: DeprecationWarning: n_topics has been renamed to n_components in version 0.19 and will be removed in 0.21\n",
      "  DeprecationWarning)\n"
     ]
    }
   ],
   "source": [
    "# Set parameters\n",
    "no_topics = 10\n",
    "\n",
    "# Run NMF\n",
    "nmf = NMF(n_components=no_topics, random_state=1, alpha=.1, l1_ratio=.5, init='nndsvd').fit(tfidf)\n",
    "\n",
    "# Run LDA\n",
    "lda = LatentDirichletAllocation(n_topics=no_topics, max_iter=5, learning_method='online', learning_offset=50.,random_state=0).fit(tf)"
   ]
  },
  {
   "cell_type": "code",
   "execution_count": 8,
   "metadata": {},
   "outputs": [
    {
     "name": "stdout",
     "output_type": "stream",
     "text": [
      "NMF Topics:\n",
      "Topic 0: siri apple iphone homepod hey ai ios like googleassistant know love shortcuts asked thanks applesupport use siriouslysusan better watch wwdc18\n",
      "Topic 1: amazon echo ai amazonecho tech skills home smart devices amazonalexa commercial new laughing smarthome echodot skill technology business news best\n",
      "Topic 2: weed buddy ask effects does make benefit flavor used tell best medicinal taste value feel going research search identify like\n",
      "Topic 3: amazonecho homeautomation stand supercool upgrade dot echo smarthome echodot amazonalexa prime day googlehome smart home iot best deals 2nd win\n",
      "Topic 4: cortana microsoft ai windows windows10 android integration halo assistant 10 artificialintelligence machinelearning googleassistant assistants tech invoke use pc work iot\n",
      "Topic 5: google heygoogle assistant home smart website rankbio googlehome googleassistant rank ces2018 ai apple ces moz hey page optimize authority score\n",
      "Topic 6: tell cleverclogs birthday need pay january search research april weed june buddy identify july march party coffee meeting kitchen team\n",
      "Topic 7: just play new music skill like asked red state redstatetalk talkradio amazonecho say know ask don time got love day\n",
      "Topic 8: voice control assistant ai new assistants technology tech tv remote using voicefirst commands future media googlehome use streaming activated stick\n",
      "Topic 9: blog friend siriismyfriend com icloud contact siri mac ipad tesla iphone ios homepod macosmojave video useful retweet using article commands\n",
      "\n",
      "LDA Topics:\n",
      "Topic 0: siri website blog rankbio technology friend rank contact hey siriismyfriend thanks voice work score using check ve red tesla cleverclogs\n",
      "Topic 1: ask skill buddy weed don news com make best free does business better world tell used lol health enable life\n",
      "Topic 2: siri apple iphone ios homepod voice voicefirst good listening amazonalexa talkradio search rt macosmojave build radio retweet makes does jj\n",
      "Topic 3: just tell today moz mac video ipad think artificialintelligence conversation getting turn learn seo fun working thank thing asking funny\n",
      "Topic 4: amazonecho page latest device dot digital right assistants security hd podcast week homeautomation birthday saying awesome sent alexaskills tablet happy\n",
      "Topic 5: day love asked people great rating state future redstatetalk said coming laughing private talking morning alexadevs look insights making phone\n",
      "Topic 6: play music amazon say heygoogle help got speaker privacy live smart listen going playing start house room game speakers new\n",
      "Topic 7: amazon voice echo new skills 2018 want time tv way users tech enabled daily year soon echodot set prime remote\n",
      "Topic 8: amazon like home know smart devices icloud app smarthome echo really let control google ai iot kids care things make\n",
      "Topic 9: google cortana ai assistant use microsoft googleassistant googlehome need authority 10 hear watch says tech machinelearning shortcuts data doesn marketing\n"
     ]
    }
   ],
   "source": [
    "# Display topics\n",
    "def display_topics(model, feature_names, no_top_words):\n",
    "    for topic_idx, topic in enumerate(model.components_):\n",
    "        print(\"Topic %d:\" % (topic_idx), \" \".join([feature_names[i]\n",
    "                 \n",
    "                                                   for i in topic.argsort()[:-no_top_words - 1:-1]]))\n",
    "\n",
    "no_top_words = 20\n",
    "print(\"NMF Topics:\")\n",
    "display_topics(nmf, tfidf_feature_names, no_top_words)\n",
    "print(\"\")\n",
    "print(\"LDA Topics:\")\n",
    "display_topics(lda, tf_feature_names, no_top_words)"
   ]
  },
  {
   "cell_type": "code",
   "execution_count": 10,
   "metadata": {},
   "outputs": [],
   "source": [
    "# Interpreting topics (to be continued)"
   ]
  },
  {
   "cell_type": "code",
   "execution_count": 9,
   "metadata": {},
   "outputs": [
    {
     "data": {
      "text/plain": [
       "618.1807524013933"
      ]
     },
     "execution_count": 9,
     "metadata": {},
     "output_type": "execute_result"
    }
   ],
   "source": [
    "lda.perplexity(tf)"
   ]
  },
  {
   "cell_type": "code",
   "execution_count": null,
   "metadata": {},
   "outputs": [],
   "source": []
  }
 ],
 "metadata": {
  "kernelspec": {
   "display_name": "Python 3",
   "language": "python",
   "name": "python3"
  },
  "language_info": {
   "codemirror_mode": {
    "name": "ipython",
    "version": 3
   },
   "file_extension": ".py",
   "mimetype": "text/x-python",
   "name": "python",
   "nbconvert_exporter": "python",
   "pygments_lexer": "ipython3",
   "version": "3.6.4"
  }
 },
 "nbformat": 4,
 "nbformat_minor": 2
}
