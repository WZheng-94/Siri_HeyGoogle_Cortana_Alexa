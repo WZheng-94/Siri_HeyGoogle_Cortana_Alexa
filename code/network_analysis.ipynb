{
 "cells": [
  {
   "cell_type": "code",
   "execution_count": 23,
   "metadata": {},
   "outputs": [],
   "source": [
    "import networkx as nx\n",
    "import csv"
   ]
  },
  {
   "cell_type": "markdown",
   "metadata": {},
   "source": [
    "# cohashtag"
   ]
  },
  {
   "cell_type": "markdown",
   "metadata": {},
   "source": [
    "load cohashtag data"
   ]
  },
  {
   "cell_type": "code",
   "execution_count": 2,
   "metadata": {},
   "outputs": [],
   "source": [
    "G = nx.read_gexf('../data/cohashtag_0_2000.gexf')"
   ]
  },
  {
   "cell_type": "markdown",
   "metadata": {},
   "source": [
    "basic info"
   ]
  },
  {
   "cell_type": "code",
   "execution_count": 3,
   "metadata": {},
   "outputs": [
    {
     "data": {
      "text/plain": [
       "36669"
      ]
     },
     "execution_count": 3,
     "metadata": {},
     "output_type": "execute_result"
    }
   ],
   "source": [
    "G.number_of_edges()"
   ]
  },
  {
   "cell_type": "code",
   "execution_count": 5,
   "metadata": {},
   "outputs": [
    {
     "data": {
      "text/plain": [
       "1999"
      ]
     },
     "execution_count": 5,
     "metadata": {},
     "output_type": "execute_result"
    }
   ],
   "source": [
    "G.number_of_nodes()"
   ]
  },
  {
   "cell_type": "code",
   "execution_count": 4,
   "metadata": {},
   "outputs": [
    {
     "data": {
      "text/plain": [
       "0.01834367183591796"
      ]
     },
     "execution_count": 4,
     "metadata": {},
     "output_type": "execute_result"
    }
   ],
   "source": [
    "nx.density(G)"
   ]
  },
  {
   "cell_type": "code",
   "execution_count": 63,
   "metadata": {
    "scrolled": false
   },
   "outputs": [],
   "source": [
    "top_edges = sorted(dict(G.edges()).items(), key = lambda x: -x[1]['weight'])"
   ]
  },
  {
   "cell_type": "code",
   "execution_count": 65,
   "metadata": {},
   "outputs": [],
   "source": [
    "with open('../data/top_edges.csv', 'w', newline = '') as f:\n",
    "    w = csv.writer(f, delimiter=',')\n",
    "    w.writerow(['edges', 'weight'])\n",
    "    for data in top_edges:\n",
    "        w.writerow([data[0], data[1]['weight']])"
   ]
  },
  {
   "cell_type": "code",
   "execution_count": 53,
   "metadata": {},
   "outputs": [
    {
     "data": {
      "text/plain": [
       "[(('alexa', 'amazon'), {'id': '4', 'weight': 32874.0}),\n",
       " (('alexa', 'talkradio'), {'id': '1562', 'weight': 5128.0}),\n",
       " (('alexa', 'apple'), {'id': '135', 'weight': 3719.0}),\n",
       " (('heygoogle', 'ad'), {'id': '15137', 'weight': 3393.0}),\n",
       " (('alexa', 'googlehome'), {'id': '13', 'weight': 3162.0}),\n",
       " (('alexa', 'homeautomation'), {'id': '81', 'weight': 2971.0}),\n",
       " (('siri', 'cortana'), {'id': '4653', 'weight': 2736.0}),\n",
       " (('amazonecho', 'homeautomation'), {'id': '5914', 'weight': 2640.0}),\n",
       " (('alexa', 'camiq'), {'id': '1354', 'weight': 2579.0}),\n",
       " (('technews', 'camiq'), {'id': '24142', 'weight': 2578.0}),\n",
       " (('apple', 'technews'), {'id': '16407', 'weight': 2558.0}),\n",
       " (('alexa', 'tech'), {'id': '10', 'weight': 2517.0}),\n",
       " (('alexa', 'google'), {'id': '49', 'weight': 2131.0}),\n",
       " (('alexa', 'smarthome'), {'id': '9', 'weight': 2109.0}),\n",
       " (('siri', 'artificialintelligence'), {'id': '4681', 'weight': 2094.0}),\n",
       " (('siri', 'virtualassistants'), {'id': '4954', 'weight': 1969.0}),\n",
       " (('alexa', 'superbowl'), {'id': '1478', 'weight': 1634.0}),\n",
       " (('alexa', 'website'), {'id': '112', 'weight': 1575.0}),\n",
       " (('alexa', 'seo'), {'id': '67', 'weight': 1571.0}),\n",
       " (('iot', 'siri'), {'id': '2742', 'weight': 1524.0}),\n",
       " (('alexa', 'voice'), {'id': '39', 'weight': 1447.0}),\n",
       " (('amazon', 'google'), {'id': '3424', 'weight': 1373.0}),\n",
       " (('amazon', 'jeffbezos'), {'id': '3762', 'weight': 1359.0}),\n",
       " (('alexa', 'googleassistant'), {'id': '46', 'weight': 1347.0}),\n",
       " (('echo', 'usa'), {'id': '9157', 'weight': 1343.0}),\n",
       " (('echo', 'virtualassistants'), {'id': '9360', 'weight': 1342.0}),\n",
       " (('alexa', 'jeffbezos'), {'id': '997', 'weight': 1323.0}),\n",
       " (('alexa', 'blog'), {'id': '396', 'weight': 1313.0}),\n",
       " (('amazon', 'echo'), {'id': '3387', 'weight': 1286.0}),\n",
       " (('alexa', 'aws'), {'id': '190', 'weight': 1238.0}),\n",
       " (('siri', 'apple'), {'id': '4654', 'weight': 1223.0}),\n",
       " (('website', 'blog'), {'id': '20044', 'weight': 1220.0}),\n",
       " (('amazon', 'tech'), {'id': '3395', 'weight': 1161.0}),\n",
       " (('alexa', 'win'), {'id': '91', 'weight': 1085.0}),\n",
       " (('iot', 'amazon'), {'id': '2738', 'weight': 1022.0}),\n",
       " (('cortana', 'microsoft'), {'id': '7003', 'weight': 989.0}),\n",
       " (('smart', 'virtualassistants'), {'id': '29412', 'weight': 967.0}),\n",
       " (('amazon', 'echodot'), {'id': '3389', 'weight': 962.0}),\n",
       " (('smart', 'usa'), {'id': '29434', 'weight': 956.0}),\n",
       " (('google', 'apple'), {'id': '12025', 'weight': 947.0}),\n",
       " (('alexa', 'amazonalexa'), {'id': '167', 'weight': 942.0}),\n",
       " (('alexa', 'privacy'), {'id': '157', 'weight': 933.0}),\n",
       " (('alexa', 'prize'), {'id': '579', 'weight': 927.0}),\n",
       " (('siri', 'homepod'), {'id': '4663', 'weight': 922.0}),\n",
       " (('free', 'prize'), {'id': '29783', 'weight': 913.0}),\n",
       " (('alexa', 'cloudcomputing'), {'id': '946', 'weight': 876.0}),\n",
       " (('siri', 'cloudcomputing'), {'id': '5183', 'weight': 844.0}),\n",
       " (('virtualassistants', 'cloudcomputing'), {'id': '33381', 'weight': 844.0}),\n",
       " (('cortana', 'cloudcomputing'), {'id': '7186', 'weight': 839.0}),\n",
       " (('artificialintelligence', 'cloudcomputing'),\n",
       "  {'id': '19786', 'weight': 838.0}),\n",
       " (('iot', 'tech'), {'id': '2814', 'weight': 837.0}),\n",
       " (('iot', 'reinvent'), {'id': '2894', 'weight': 822.0}),\n",
       " (('siri', 'digitalassistants'), {'id': '4747', 'weight': 808.0}),\n",
       " (('cortana', 'windows'), {'id': '6996', 'weight': 808.0}),\n",
       " (('iot', 'virtualassistants'), {'id': '2827', 'weight': 807.0}),\n",
       " (('alexa', 'healthcare'), {'id': '22', 'weight': 805.0}),\n",
       " (('alexa', 'home'), {'id': '36', 'weight': 777.0}),\n",
       " (('googlehome', 'ces2018'), {'id': '8576', 'weight': 775.0}),\n",
       " (('alexa', 'homepod'), {'id': '95', 'weight': 772.0}),\n",
       " (('speaker', 'siri'), {'id': '3218', 'weight': 772.0}),\n",
       " (('amazon', 'aws'), {'id': '3473', 'weight': 769.0}),\n",
       " (('artificialintelligence', 'digitalassistants'),\n",
       "  {'id': '19771', 'weight': 755.0}),\n",
       " (('windows', 'microsoft'), {'id': '12656', 'weight': 753.0}),\n",
       " (('alexa', 'intelligent'), {'id': '1163', 'weight': 747.0}),\n",
       " (('ai', 'echo'), {'id': '1877', 'weight': 740.0}),\n",
       " (('siri', 'google'), {'id': '4648', 'weight': 740.0}),\n",
       " (('iot', 'smarthome'), {'id': '2735', 'weight': 735.0}),\n",
       " (('alexa', 'cumbria'), {'id': '240', 'weight': 721.0}),\n",
       " (('iot', 'artificialintelligence'), {'id': '2886', 'weight': 716.0}),\n",
       " (('alexa', 'enter'), {'id': '1250', 'weight': 711.0}),\n",
       " (('googlehome', 'virtualassistants'), {'id': '8636', 'weight': 710.0}),\n",
       " (('echodot', 'win'), {'id': '9902', 'weight': 703.0}),\n",
       " (('amazon', 'reinvent'), {'id': '3719', 'weight': 689.0}),\n",
       " (('heygoogle', 'sxsw'), {'id': '15297', 'weight': 689.0}),\n",
       " (('echo', 'enter'), {'id': '9560', 'weight': 687.0}),\n",
       " (('ces2018', 'intelligent'), {'id': '33675', 'weight': 685.0}),\n",
       " (('alexa', 'morning'), {'id': '923', 'weight': 680.0}),\n",
       " (('cortana', 'windows10'), {'id': '7009', 'weight': 669.0}),\n",
       " (('googlehome', 'usa'), {'id': '8635', 'weight': 668.0}),\n",
       " (('googlehome', 'intelligent'), {'id': '8621', 'weight': 656.0}),\n",
       " (('alexa', 'chance'), {'id': '924', 'weight': 640.0}),\n",
       " (('alexa', 'bots'), {'id': '53', 'weight': 639.0}),\n",
       " (('win', 'chance'), {'id': '18881', 'weight': 637.0}),\n",
       " (('win', 'morning'), {'id': '18880', 'weight': 636.0}),\n",
       " (('iot', 'cloudcomputing'), {'id': '2910', 'weight': 624.0}),\n",
       " (('alexa', 'lakedistrict'), {'id': '241', 'weight': 623.0}),\n",
       " (('cumbria', 'lakedistrict'), {'id': '26654', 'weight': 623.0}),\n",
       " (('alexa', 'ifttt'), {'id': '71', 'weight': 619.0}),\n",
       " (('echodot', 'chance'), {'id': '9922', 'weight': 613.0}),\n",
       " (('echodot', 'morning'), {'id': '9921', 'weight': 612.0}),\n",
       " (('alexa', 'shopping'), {'id': '34', 'weight': 610.0}),\n",
       " (('microsoft', 'windows10'), {'id': '17588', 'weight': 593.0}),\n",
       " (('siri', 'vo'), {'id': '5072', 'weight': 575.0}),\n",
       " (('ai', 'voice'), {'id': '1890', 'weight': 569.0}),\n",
       " (('machinelearning', 'bigdata'), {'id': '11440', 'weight': 568.0}),\n",
       " (('siri', 'smartphones'), {'id': '4642', 'weight': 566.0}),\n",
       " (('vo', 'accidentallyfamous'), {'id': '34610', 'weight': 558.0}),\n",
       " (('voiceactor', 'accidentallyfamous'), {'id': '36613', 'weight': 558.0}),\n",
       " (('siri', 'makeup'), {'id': '4661', 'weight': 551.0}),\n",
       " (('voicefirst', 'reinvent'), {'id': '11794', 'weight': 542.0}),\n",
       " (('alexa', 'chatbots'), {'id': '47', 'weight': 538.0}),\n",
       " (('alexa', 'parenting'), {'id': '271', 'weight': 537.0}),\n",
       " (('iphone', 'makeup'), {'id': '17365', 'weight': 532.0}),\n",
       " (('alexa', 'realtor'), {'id': '482', 'weight': 531.0}),\n",
       " (('makeup', 'makeupartist'), {'id': '17541', 'weight': 529.0}),\n",
       " (('alexa', 'chatbot'), {'id': '574', 'weight': 528.0}),\n",
       " (('siri', 'makeupartist'), {'id': '5605', 'weight': 528.0}),\n",
       " (('apple', 'makeupartist'), {'id': '16643', 'weight': 527.0}),\n",
       " (('iphone', 'makeupartist'), {'id': '17377', 'weight': 527.0}),\n",
       " (('amazon', 'amazonalexa'), {'id': '3525', 'weight': 524.0}),\n",
       " (('alexa', 'fire'), {'id': '120', 'weight': 522.0}),\n",
       " (('alexa', 'comparison'), {'id': '407', 'weight': 516.0}),\n",
       " (('shopping', 'comparison'), {'id': '13336', 'weight': 516.0}),\n",
       " (('alexa', 'cloud'), {'id': '101', 'weight': 511.0}),\n",
       " (('alexa', 'digital'), {'id': '127', 'weight': 510.0}),\n",
       " (('ai', 'smartphones'), {'id': '1878', 'weight': 510.0}),\n",
       " (('smarthome', 'amazonalexa'), {'id': '6613', 'weight': 507.0}),\n",
       " (('alexa', 'tunein'), {'id': '823', 'weight': 504.0}),\n",
       " (('amazonecho', 'amazonalexa'), {'id': '5962', 'weight': 504.0}),\n",
       " (('alexa', 'cat'), {'id': '534', 'weight': 486.0}),\n",
       " (('siri', 'voicefirst'), {'id': '4913', 'weight': 479.0}),\n",
       " (('alexa', 'podcast'), {'id': '185', 'weight': 477.0}),\n",
       " (('siri', 'machinelearning'), {'id': '4721', 'weight': 469.0}),\n",
       " (('smarthome', 'homepod'), {'id': '6484', 'weight': 464.0}),\n",
       " (('windows', 'windows10'), {'id': '12655', 'weight': 462.0}),\n",
       " (('alexa', 'virtualassistants'), {'id': '687', 'weight': 461.0}),\n",
       " (('amazonecho', 'tech'), {'id': '5957', 'weight': 453.0}),\n",
       " (('alexa', 'webtraffic'), {'id': '652', 'weight': 441.0}),\n",
       " (('siri', 'swiftfest'), {'id': '5740', 'weight': 441.0}),\n",
       " (('tech', 'homepod'), {'id': '7819', 'weight': 440.0}),\n",
       " (('vo', 'voiceactor'), {'id': '34608', 'weight': 438.0}),\n",
       " (('iot', 'amazonalexa'), {'id': '2778', 'weight': 437.0}),\n",
       " (('seo', 'webtraffic'), {'id': '16920', 'weight': 435.0}),\n",
       " (('siri', 'ios12'), {'id': '5577', 'weight': 433.0}),\n",
       " (('cortana', 'windows8'), {'id': '7010', 'weight': 427.0}),\n",
       " (('windows', 'windows8'), {'id': '12657', 'weight': 427.0}),\n",
       " (('windows10', 'windows8'), {'id': '19656', 'weight': 427.0}),\n",
       " (('microsoft', 'windows8'), {'id': '17589', 'weight': 426.0}),\n",
       " (('cortana', 'filehistory'), {'id': '7008', 'weight': 424.0}),\n",
       " (('windows', 'filehistory'), {'id': '12654', 'weight': 424.0}),\n",
       " (('microsoft', 'filehistory'), {'id': '17587', 'weight': 424.0}),\n",
       " (('filehistory', 'windows10'), {'id': '19654', 'weight': 424.0}),\n",
       " (('filehistory', 'windows8'), {'id': '19655', 'weight': 424.0}),\n",
       " (('ai', 'googlehome'), {'id': '1880', 'weight': 420.0}),\n",
       " (('ai', 'fintech'), {'id': '1935', 'weight': 419.0}),\n",
       " (('siri', 'tech'), {'id': '4655', 'weight': 417.0}),\n",
       " (('alexa', 'serp'), {'id': '654', 'weight': 415.0}),\n",
       " (('siri', 'humanvoice'), {'id': '4737', 'weight': 415.0}),\n",
       " (('siri', 'thrivinglaunch'), {'id': '4738', 'weight': 415.0}),\n",
       " (('humanvoice', 'thrivinglaunch'), {'id': '24797', 'weight': 415.0}),\n",
       " (('webtraffic', 'serp'), {'id': '33022', 'weight': 415.0}),\n",
       " (('amazon', 'cortana'), {'id': '3449', 'weight': 412.0}),\n",
       " (('amazon', 'firetv'), {'id': '3584', 'weight': 412.0}),\n",
       " (('siri', 'microsoft'), {'id': '4695', 'weight': 411.0}),\n",
       " (('seo', 'serp'), {'id': '16922', 'weight': 410.0}),\n",
       " (('fiverr', 'webtraffic'), {'id': '31191', 'weight': 410.0}),\n",
       " (('fiverr', 'serp'), {'id': '31193', 'weight': 410.0}),\n",
       " (('alexa', 'fiverrgig'), {'id': '653', 'weight': 409.0}),\n",
       " (('seo', 'fiverrgig'), {'id': '16921', 'weight': 409.0}),\n",
       " (('fiverr', 'fiverrgig'), {'id': '31192', 'weight': 409.0}),\n",
       " (('webtraffic', 'fiverrgig'), {'id': '33021', 'weight': 409.0}),\n",
       " (('fiverrgig', 'serp'), {'id': '33026', 'weight': 409.0}),\n",
       " (('alexa', 'microsoft'), {'id': '177', 'weight': 405.0}),\n",
       " (('alexa', 'realtors'), {'id': '795', 'weight': 405.0}),\n",
       " (('siri', 'boston'), {'id': '4650', 'weight': 405.0}),\n",
       " (('siriouslysusan', 'boston'), {'id': '15403', 'weight': 405.0}),\n",
       " (('siri', 'android'), {'id': '4693', 'weight': 402.0}),\n",
       " (('siri', 'apps'), {'id': '4694', 'weight': 400.0}),\n",
       " (('amazon', 'ecommerce'), {'id': '3410', 'weight': 398.0}),\n",
       " (('iot', 'homepod'), {'id': '2741', 'weight': 396.0}),\n",
       " (('alexa', 'assistant'), {'id': '21', 'weight': 393.0}),\n",
       " (('homepod', 'amazonalexa'), {'id': '18016', 'weight': 389.0}),\n",
       " (('amazonecho', 'ces2018'), {'id': '6167', 'weight': 385.0}),\n",
       " (('ai', 'skills'), {'id': '1971', 'weight': 383.0}),\n",
       " (('tech', 'wearable'), {'id': '7996', 'weight': 377.0}),\n",
       " (('fire', 'tablet'), {'id': '21357', 'weight': 376.0}),\n",
       " (('tech', 'ces18'), {'id': '7998', 'weight': 375.0}),\n",
       " (('tech', 'vr'), {'id': '7849', 'weight': 374.0}),\n",
       " (('siri', 'conference'), {'id': '5167', 'weight': 373.0}),\n",
       " (('vr', 'ces2018'), {'id': '25527', 'weight': 373.0}),\n",
       " (('machinelearning', 'skills'), {'id': '11439', 'weight': 372.0}),\n",
       " (('ces2018', 'wearable'), {'id': '33648', 'weight': 371.0}),\n",
       " (('ces18', 'wearable'), {'id': '34460', 'weight': 371.0}),\n",
       " (('amazonecho', 'echodot'), {'id': '5928', 'weight': 370.0}),\n",
       " (('amazonecho', 'vr'), {'id': '6164', 'weight': 368.0}),\n",
       " (('amazonecho', 'wearable'), {'id': '6165', 'weight': 367.0}),\n",
       " (('amazonecho', 'ces18'), {'id': '6168', 'weight': 367.0}),\n",
       " (('bigdata', 'skills'), {'id': '18799', 'weight': 367.0}),\n",
       " (('vr', 'wearable'), {'id': '25525', 'weight': 367.0}),\n",
       " (('vr', 'ces18'), {'id': '25528', 'weight': 367.0}),\n",
       " (('alexa', 'lastgadget'), {'id': '1378', 'weight': 366.0}),\n",
       " (('amazonecho', 'lastgadget'), {'id': '6166', 'weight': 366.0}),\n",
       " (('tech', 'lastgadget'), {'id': '7997', 'weight': 366.0}),\n",
       " (('vr', 'lastgadget'), {'id': '25526', 'weight': 366.0}),\n",
       " (('ces2018', 'lastgadget'), {'id': '33649', 'weight': 366.0}),\n",
       " (('ces18', 'lastgadget'), {'id': '34461', 'weight': 366.0}),\n",
       " (('wearable', 'lastgadget'), {'id': '35509', 'weight': 366.0}),\n",
       " (('alexa', 'skills'), {'id': '351', 'weight': 363.0}),\n",
       " (('conference', 'retreat'), {'id': '35128', 'weight': 363.0}),\n",
       " (('siri', 'app'), {'id': '4670', 'weight': 358.0}),\n",
       " (('virtualassistant', 'echo'), {'id': '8837', 'weight': 355.0}),\n",
       " (('alexa', 'staging'), {'id': '471', 'weight': 354.0}),\n",
       " (('siri', 'fintech'), {'id': '4944', 'weight': 354.0}),\n",
       " (('alexa', 'traffic'), {'id': '452', 'weight': 348.0}),\n",
       " (('alexa', 'smarthouseaz'), {'id': '480', 'weight': 343.0}),\n",
       " (('alexa', 'cybersecurity'), {'id': '609', 'weight': 342.0}),\n",
       " (('amazon', 'privacy'), {'id': '3471', 'weight': 338.0}),\n",
       " (('siri', 'iphone'), {'id': '4659', 'weight': 338.0}),\n",
       " (('alexa', 'enterprise'), {'id': '639', 'weight': 334.0}),\n",
       " (('iot', 'virtualassistant'), {'id': '2815', 'weight': 332.0}),\n",
       " (('keynote', 'swiftfest'), {'id': '35492', 'weight': 332.0}),\n",
       " (('siri', 'summit'), {'id': '5797', 'weight': 329.0}),\n",
       " (('technology', 'apple'), {'id': '15522', 'weight': 328.0}),\n",
       " (('echo', 'echodot'), {'id': '8976', 'weight': 327.0}),\n",
       " (('android', 'microsoft'), {'id': '12767', 'weight': 326.0}),\n",
       " (('ai', 'deeplearning'), {'id': '2031', 'weight': 325.0}),\n",
       " (('music', 'nowplaying'), {'id': '20673', 'weight': 325.0}),\n",
       " (('alexa', 'echo'), {'id': '16', 'weight': 324.0}),\n",
       " (('alexa', 'humor'), {'id': '696', 'weight': 324.0}),\n",
       " (('conference', 'summit'), {'id': '35130', 'weight': 322.0}),\n",
       " (('siri', 'mobileapp'), {'id': '4643', 'weight': 315.0}),\n",
       " (('siri', 'twitter'), {'id': '4690', 'weight': 315.0}),\n",
       " (('80s', 'tunein'), {'id': '29701', 'weight': 315.0}),\n",
       " (('apps', 'microsoft'), {'id': '13088', 'weight': 314.0}),\n",
       " (('music', 'kodi'), {'id': '20738', 'weight': 314.0}),\n",
       " (('80s', 'nowplaying'), {'id': '29702', 'weight': 314.0}),\n",
       " (('80s', 'kodi'), {'id': '29703', 'weight': 314.0}),\n",
       " (('kodi', 'tunein'), {'id': '31627', 'weight': 314.0}),\n",
       " (('kodi', 'nowplaying'), {'id': '31628', 'weight': 314.0}),\n",
       " (('tunein', 'nowplaying'), {'id': '34401', 'weight': 314.0}),\n",
       " (('smarthouseaz', 'smartcity'), {'id': '31498', 'weight': 313.0}),\n",
       " (('alexa', 'interview'), {'id': '191', 'weight': 312.0}),\n",
       " (('ai', 'mobileapp'), {'id': '1879', 'weight': 311.0}),\n",
       " (('amazon', 'news'), {'id': '3406', 'weight': 311.0}),\n",
       " (('virtualassistant', 'smartphones'), {'id': '8838', 'weight': 311.0}),\n",
       " (('echo', 'smartphones'), {'id': '8972', 'weight': 310.0}),\n",
       " (('virtualassistant', 'mobileapp'), {'id': '8839', 'weight': 309.0}),\n",
       " (('echo', 'mobileapp'), {'id': '8973', 'weight': 309.0}),\n",
       " (('smartphones', 'mobileapp'), {'id': '9636', 'weight': 309.0}),\n",
       " (('siri', 'sleep'), {'id': '4671', 'weight': 305.0}),\n",
       " (('smarthome', 'heygoogle'), {'id': '6567', 'weight': 304.0}),\n",
       " (('voice', 'virtualassistants'), {'id': '13873', 'weight': 302.0}),\n",
       " (('alexa', 'realestate'), {'id': '674', 'weight': 301.0}),\n",
       " (('siri', 'flashlight'), {'id': '4668', 'weight': 300.0}),\n",
       " (('sleep', 'flashlight'), {'id': '11657', 'weight': 300.0}),\n",
       " (('sleep', 'iphone'), {'id': '11659', 'weight': 300.0}),\n",
       " (('sleep', 'app'), {'id': '11660', 'weight': 300.0}),\n",
       " (('android', 'apps'), {'id': '12766', 'weight': 300.0}),\n",
       " (('iphone', 'flashlight'), {'id': '17198', 'weight': 300.0}),\n",
       " (('flashlight', 'app'), {'id': '18377', 'weight': 300.0}),\n",
       " (('alexa', 'popular'), {'id': '254', 'weight': 299.0}),\n",
       " (('sleep', 'weather'), {'id': '11658', 'weight': 298.0}),\n",
       " (('iphone', 'weather'), {'id': '17199', 'weight': 298.0}),\n",
       " (('flashlight', 'weather'), {'id': '18376', 'weight': 298.0}),\n",
       " (('weather', 'app'), {'id': '18378', 'weight': 298.0}),\n",
       " (('alexa', 'machinelearning'), {'id': '143', 'weight': 297.0}),\n",
       " (('alexa', 'holiday'), {'id': '307', 'weight': 296.0}),\n",
       " (('iot', 'smartlife'), {'id': '2800', 'weight': 295.0}),\n",
       " (('amazon', 'siri'), {'id': '3419', 'weight': 292.0}),\n",
       " (('ai', 'smarthome'), {'id': '1915', 'weight': 288.0}),\n",
       " (('amazon', 'smart'), {'id': '3488', 'weight': 288.0}),\n",
       " (('siri', 'icymi'), {'id': '4790', 'weight': 288.0}),\n",
       " (('cortana', 'build2018'), {'id': '7559', 'weight': 288.0}),\n",
       " (('ai', 'bots'), {'id': '1883', 'weight': 287.0}),\n",
       " (('alexa', 'strain'), {'id': '253', 'weight': 283.0}),\n",
       " (('strain', 'popular'), {'id': '26871', 'weight': 283.0}),\n",
       " (('alexa', 'mobile'), {'id': '213', 'weight': 281.0}),\n",
       " (('amazon', 'smartlife'), {'id': '3600', 'weight': 281.0}),\n",
       " (('siri', 'androiddev'), {'id': '4696', 'weight': 280.0}),\n",
       " (('windows', 'android'), {'id': '12650', 'weight': 280.0}),\n",
       " (('tech', 'apple'), {'id': '7658', 'weight': 278.0}),\n",
       " (('voicefirst', 'aws'), {'id': '11795', 'weight': 277.0}),\n",
       " (('alexa', 'nicebotskill'), {'id': '983', 'weight': 276.0}),\n",
       " (('alexa', 'marketing'), {'id': '205', 'weight': 275.0}),\n",
       " (('ai', 'cortana'), {'id': '1886', 'weight': 275.0}),\n",
       " (('siri', 'siriouslysusan'), {'id': '4649', 'weight': 274.0}),\n",
       " (('alexa', 'voicefirst'), {'id': '33', 'weight': 273.0}),\n",
       " (('ai', 'innovation'), {'id': '1947', 'weight': 273.0}),\n",
       " (('alexa', 'artificialintelligence'), {'id': '108', 'weight': 271.0}),\n",
       " (('windows', 'apps'), {'id': '12653', 'weight': 271.0}),\n",
       " (('ai', 'ecommerce'), {'id': '1958', 'weight': 270.0}),\n",
       " (('windows', 'androiddev'), {'id': '12658', 'weight': 270.0}),\n",
       " (('android', 'androiddev'), {'id': '12768', 'weight': 270.0}),\n",
       " (('apps', 'androiddev'), {'id': '13089', 'weight': 270.0}),\n",
       " (('microsoft', 'androiddev'), {'id': '17590', 'weight': 270.0}),\n",
       " (('alexa', 'pandora'), {'id': '814', 'weight': 267.0}),\n",
       " (('siri', 'news'), {'id': '4742', 'weight': 266.0}),\n",
       " (('siri', 'isil'), {'id': '5858', 'weight': 266.0}),\n",
       " (('amazon', 'parenting'), {'id': '3996', 'weight': 265.0}),\n",
       " (('alexa', 'build2018'), {'id': '1775', 'weight': 264.0}),\n",
       " (('alexa', 'networktools'), {'id': '70', 'weight': 263.0}),\n",
       " (('searchengine', 'seo'), {'id': '16869', 'weight': 263.0}),\n",
       " (('seo', 'networktools'), {'id': '16900', 'weight': 263.0}),\n",
       " (('alexa', 'tbt'), {'id': '707', 'weight': 262.0}),\n",
       " (('cloud', 'aws'), {'id': '19283', 'weight': 262.0}),\n",
       " (('alexa', 'parrot'), {'id': '880', 'weight': 261.0}),\n",
       " (('iot', 'smartcity'), {'id': '2808', 'weight': 260.0}),\n",
       " (('searchengine', 'networktools'), {'id': '16872', 'weight': 260.0}),\n",
       " (('siriouslysusan', 'keynote'), {'id': '15410', 'weight': 258.0}),\n",
       " (('siriouslysusan', 'swiftfest'), {'id': '15411', 'weight': 258.0}),\n",
       " (('boston', 'keynote'), {'id': '15419', 'weight': 258.0}),\n",
       " (('boston', 'swiftfest'), {'id': '15420', 'weight': 258.0}),\n",
       " (('alexa', 'dementia'), {'id': '1593', 'weight': 257.0}),\n",
       " (('dementia', 'alzheimers'), {'id': '16841', 'weight': 257.0}),\n",
       " (('alexa', 'historicalfiction'), {'id': '11', 'weight': 256.0}),\n",
       " (('alexa', 'grasmere'), {'id': '239', 'weight': 256.0}),\n",
       " (('voicefirst', 'fintech'), {'id': '11812', 'weight': 256.0}),\n",
       " (('grasmere', 'cumbria'), {'id': '26652', 'weight': 256.0}),\n",
       " (('alexa', 'it'), {'id': '259', 'weight': 253.0}),\n",
       " (('siri', 'accidentalyfamous'), {'id': '5741', 'weight': 253.0}),\n",
       " (('siriouslysusan', 'accidentalyfamous'), {'id': '15412', 'weight': 253.0}),\n",
       " (('boston', 'accidentalyfamous'), {'id': '15421', 'weight': 253.0}),\n",
       " (('keynote', 'accidentalyfamous'), {'id': '35493', 'weight': 253.0}),\n",
       " (('swiftfest', 'accidentalyfamous'), {'id': '36573', 'weight': 253.0}),\n",
       " (('alexa', 'cx'), {'id': '175', 'weight': 252.0}),\n",
       " (('alexa', 'interiordesigners'), {'id': '838', 'weight': 252.0}),\n",
       " (('alexa', 'rpa'), {'id': '1564', 'weight': 252.0}),\n",
       " (('ai', 'rpa'), {'id': '2405', 'weight': 252.0}),\n",
       " (('podcast', 'music'), {'id': '20410', 'weight': 252.0}),\n",
       " (('twitter', 'music'), {'id': '20500', 'weight': 252.0}),\n",
       " (('alexa', 'nowplaying'), {'id': '998', 'weight': 250.0}),\n",
       " (('healthcare', 'healthit'), {'id': '10548', 'weight': 250.0}),\n",
       " (('alexa', 'maga'), {'id': '986', 'weight': 249.0}),\n",
       " (('amazon', 'lol'), {'id': '3718', 'weight': 249.0}),\n",
       " (('alexa', 'alzheimers'), {'id': '1689', 'weight': 247.0}),\n",
       " (('alexa', 'dot'), {'id': '107', 'weight': 246.0}),\n",
       " (('voice', 'rpa'), {'id': '14162', 'weight': 246.0}),\n",
       " (('virtualassistants', 'rpa'), {'id': '33393', 'weight': 246.0}),\n",
       " (('ai', 'ar'), {'id': '1984', 'weight': 245.0}),\n",
       " (('dementia', 'remeapp'), {'id': '16844', 'weight': 245.0}),\n",
       " (('siri', 'business'), {'id': '4793', 'weight': 244.0}),\n",
       " (('tech', 'news'), {'id': '7763', 'weight': 244.0}),\n",
       " (('alexa', 'remeapp'), {'id': '1819', 'weight': 243.0}),\n",
       " (('alexa', 'mci'), {'id': '1828', 'weight': 243.0}),\n",
       " (('amazon', 'echoshow'), {'id': '3388', 'weight': 243.0}),\n",
       " (('dementia', 'mci'), {'id': '16846', 'weight': 243.0}),\n",
       " (('alzheimers', 'remeapp'), {'id': '16851', 'weight': 243.0}),\n",
       " (('alzheimers', 'mci'), {'id': '16852', 'weight': 243.0}),\n",
       " (('remeapp', 'mci'), {'id': '36638', 'weight': 243.0}),\n",
       " (('amazon', 'holiday'), {'id': '3729', 'weight': 242.0}),\n",
       " (('siri', 'tesla'), {'id': '4904', 'weight': 242.0}),\n",
       " (('echo', 'holiday'), {'id': '9126', 'weight': 242.0}),\n",
       " (('alexa', 'msbuild'), {'id': '1773', 'weight': 241.0}),\n",
       " (('alexa', 'skyrim'), {'id': '1822', 'weight': 241.0}),\n",
       " (('ai', 'chatbot'), {'id': '1999', 'weight': 241.0}),\n",
       " (('tech', 'cat'), {'id': '7748', 'weight': 241.0}),\n",
       " (('alexa', 'itunes'), {'id': '589', 'weight': 240.0}),\n",
       " (('amazon', 'fire'), {'id': '3475', 'weight': 239.0}),\n",
       " (('music', 'dance'), {'id': '20574', 'weight': 239.0}),\n",
       " (('ai', 'mobile'), {'id': '1960', 'weight': 237.0}),\n",
       " (('siri', 'homekit'), {'id': '4717', 'weight': 237.0}),\n",
       " (('alexa', 'onairnow'), {'id': '1649', 'weight': 236.0}),\n",
       " (('amazon', 'microsoft'), {'id': '3436', 'weight': 236.0}),\n",
       " (('siri', 'rpa'), {'id': '5564', 'weight': 236.0}),\n",
       " (('ifttt', 'nowplaying'), {'id': '17040', 'weight': 236.0}),\n",
       " (('tunein', 'onairnow'), {'id': '34394', 'weight': 236.0}),\n",
       " (('alexa', 'travel'), {'id': '512', 'weight': 235.0}),\n",
       " (('ai', 'lol'), {'id': '2364', 'weight': 234.0}),\n",
       " (('amazon', 'win'), {'id': '3563', 'weight': 233.0}),\n",
       " (('alexa', 'ar'), {'id': '430', 'weight': 231.0}),\n",
       " (('alexa', 'blackmirror'), {'id': '1270', 'weight': 231.0}),\n",
       " (('alexa', 'funny'), {'id': '469', 'weight': 230.0}),\n",
       " (('ai', 'sciencefiction'), {'id': '1983', 'weight': 230.0}),\n",
       " (('iot', 'influencers'), {'id': '2905', 'weight': 230.0}),\n",
       " (('amazon', 'influencers'), {'id': '3799', 'weight': 230.0}),\n",
       " (('siri', 'event'), {'id': '5715', 'weight': 230.0}),\n",
       " (('echo', 'dot'), {'id': '8981', 'weight': 230.0}),\n",
       " (('smartlife', 'influencers'), {'id': '31490', 'weight': 230.0}),\n",
       " (('rankbio', 'googlerank'), {'id': '36253', 'weight': 230.0}),\n",
       " (('insurtech', 'fintech'), {'id': '26081', 'weight': 229.0}),\n",
       " (('alexa', 'throwbackthursday'), {'id': '1508', 'weight': 228.0}),\n",
       " (('siri', 'metalpay'), {'id': '5487', 'weight': 228.0}),\n",
       " (('cortana', 'googleassistant'), {'id': '7012', 'weight': 228.0}),\n",
       " (('ios', 'metalpay'), {'id': '20266', 'weight': 228.0}),\n",
       " (('africangrey', 'parrot'), {'id': '34481', 'weight': 228.0}),\n",
       " (('ai', 'cloud'), {'id': '1896', 'weight': 227.0}),\n",
       " (('amazon', 'tbt'), {'id': '4223', 'weight': 227.0}),\n",
       " (('smarthome', 'smartcity'), {'id': '6631', 'weight': 227.0}),\n",
       " (('cortana', 'rpa'), {'id': '7580', 'weight': 227.0}),\n",
       " (('ios', 'icymi'), {'id': '20267', 'weight': 227.0}),\n",
       " (('funny', 'parrot'), {'id': '26303', 'weight': 227.0}),\n",
       " (('icymi', 'metalpay'), {'id': '27864', 'weight': 227.0}),\n",
       " (('alexa', 'facebook'), {'id': '287', 'weight': 226.0}),\n",
       " (('echo', 'echoshow'), {'id': '8975', 'weight': 226.0}),\n",
       " (('echodot', 'firetv'), {'id': '10015', 'weight': 226.0}),\n",
       " (('tbt', 'throwbackthursday'), {'id': '17556', 'weight': 226.0}),\n",
       " (('funny', 'africangrey'), {'id': '26337', 'weight': 226.0}),\n",
       " (('cia', 'infowars'), {'id': '34321', 'weight': 226.0}),\n",
       " (('siri', 'shortcuts'), {'id': '5810', 'weight': 225.0}),\n",
       " (('ai', 'tbt'), {'id': '2035', 'weight': 224.0}),\n",
       " (('ai', 'throwbackthursday'), {'id': '2363', 'weight': 224.0}),\n",
       " (('amazon', 'throwbackthursday'), {'id': '4222', 'weight': 224.0}),\n",
       " (('echo', 'cat'), {'id': '9138', 'weight': 224.0}),\n",
       " (('voicefirst', 'throwbackthursday'), {'id': '11875', 'weight': 224.0}),\n",
       " (('voicefirst', 'lol'), {'id': '11876', 'weight': 224.0}),\n",
       " (('voicefirst', 'tbt'), {'id': '11877', 'weight': 224.0}),\n",
       " (('lol', 'throwbackthursday'), {'id': '17144', 'weight': 224.0}),\n",
       " (('lol', 'tbt'), {'id': '17145', 'weight': 224.0}),\n",
       " (('cat', 'gift'), {'id': '31972', 'weight': 224.0}),\n",
       " (('alexa', 'ai'), {'id': '0', 'weight': 223.0}),\n",
       " (('alexa', 'sale'), {'id': '158', 'weight': 223.0}),\n",
       " (('amazon', 'giveaway'), {'id': '3793', 'weight': 223.0}),\n",
       " (('alexa', 'prescientinfo'), {'id': '1697', 'weight': 222.0}),\n",
       " (('optimization', 'rankbio'), {'id': '35877', 'weight': 222.0}),\n",
       " (('alexa', 'csharpcon18'), {'id': '1545', 'weight': 221.0}),\n",
       " (('alexa', 'domainauthority'), {'id': '1703', 'weight': 221.0}),\n",
       " (('ai', 'voicefirst'), {'id': '1912', 'weight': 221.0}),\n",
       " (('msbuild', 'build2018'), {'id': '36587', 'weight': 221.0}),\n",
       " (('alexa', 'iotforum'), {'id': '794', 'weight': 219.0}),\n",
       " (('alexa', 'parties'), {'id': '1264', 'weight': 219.0}),\n",
       " (('alexa', 'skillblueprints'), {'id': '1746', 'weight': 219.0}),\n",
       " (('voice', 'build2018'), {'id': '14151', 'weight': 219.0}),\n",
       " (('zwave', 'iotforum'), {'id': '19160', 'weight': 219.0}),\n",
       " (('zwave', 'realtors'), {'id': '19161', 'weight': 219.0}),\n",
       " (('iotforum', 'realtors'), {'id': '34210', 'weight': 219.0}),\n",
       " (('alexa', 'parents'), {'id': '290', 'weight': 218.0}),\n",
       " (('iot', 'designthinking'), {'id': '2858', 'weight': 218.0}),\n",
       " (('amazon', 'podcast'), {'id': '3954', 'weight': 218.0}),\n",
       " (('amazon', 'parties'), {'id': '3986', 'weight': 218.0}),\n",
       " (('echo', 'parties'), {'id': '9236', 'weight': 218.0}),\n",
       " (('holiday', 'parties'), {'id': '28128', 'weight': 218.0}),\n",
       " (('event', 'summit'), {'id': '36560', 'weight': 218.0}),\n",
       " (('alexa', 'optimization'), {'id': '1539', 'weight': 217.0}),\n",
       " (('rankbio', 'pagespeed'), {'id': '36228', 'weight': 216.0}),\n",
       " (('alexa', 'polly'), {'id': '428', 'weight': 215.0}),\n",
       " (('speaker', 'voiceactor'), {'id': '3360', 'weight': 215.0}),\n",
       " (('podcast', 'humanvoice'), {'id': '20415', 'weight': 215.0}),\n",
       " (('podcast', 'thrivinglaunch'), {'id': '20416', 'weight': 215.0}),\n",
       " (('alexa', 'heating'), {'id': '642', 'weight': 214.0}),\n",
       " (('echo', 'podcast'), {'id': '9170', 'weight': 213.0}),\n",
       " (('zwave', 'designthinking'), {'id': '19162', 'weight': 213.0}),\n",
       " (('iotforum', 'designthinking'), {'id': '34211', 'weight': 213.0}),\n",
       " (('realtors', 'designthinking'), {'id': '34213', 'weight': 213.0}),\n",
       " (('conference', 'event'), {'id': '35131', 'weight': 213.0}),\n",
       " (('iot', 'iotforum'), {'id': '2855', 'weight': 212.0}),\n",
       " (('iot', 'realtors'), {'id': '2856', 'weight': 212.0}),\n",
       " (('iot', 'zwave'), {'id': '2857', 'weight': 212.0}),\n",
       " (('amazon', 'superbowl'), {'id': '4204', 'weight': 212.0}),\n",
       " (('zwave', 'realestate'), {'id': '19163', 'weight': 212.0}),\n",
       " (('realestate', 'iotforum'), {'id': '33265', 'weight': 212.0}),\n",
       " (('realestate', 'realtors'), {'id': '33266', 'weight': 212.0}),\n",
       " (('iot', 'realestate'), {'id': '2939', 'weight': 211.0}),\n",
       " (('vr', 'ar'), {'id': '25499', 'weight': 211.0}),\n",
       " (('realestate', 'designthinking'), {'id': '33268', 'weight': 211.0}),\n",
       " (('alexa', 'remote'), {'id': '651', 'weight': 210.0}),\n",
       " (('amazon', 'innovation'), {'id': '3531', 'weight': 209.0}),\n",
       " (('podcast', 'holiday'), {'id': '20443', 'weight': 209.0}),\n",
       " (('alexa', 'estimation'), {'id': '1867', 'weight': 207.0}),\n",
       " (('smarthome', 'heating'), {'id': '6562', 'weight': 207.0}),\n",
       " (('rankbio', 'estimation'), {'id': '36249', 'weight': 207.0}),\n",
       " (('alexa', 'save'), {'id': '927', 'weight': 206.0}),\n",
       " (('amazon', 'amazonprime'), {'id': '3497', 'weight': 206.0}),\n",
       " (('amazon', 'fintech'), {'id': '3647', 'weight': 206.0}),\n",
       " (('siri', 'seo'), {'id': '4746', 'weight': 206.0}),\n",
       " (('siri', 'mac'), {'id': '4764', 'weight': 206.0}),\n",
       " (('keynote', 'retreat'), {'id': '35494', 'weight': 206.0}),\n",
       " (('rankbio', 'webpage'), {'id': '36251', 'weight': 206.0}),\n",
       " (('alexa', 'moz'), {'id': '637', 'weight': 205.0}),\n",
       " (('alexa', 'daily'), {'id': '893', 'weight': 204.0}),\n",
       " (('website', 'rankbio'), {'id': '20093', 'weight': 204.0}),\n",
       " (('amazon', 'dot'), {'id': '3418', 'weight': 203.0}),\n",
       " (('amazon', 'music'), {'id': '3568', 'weight': 202.0}),\n",
       " (('smarthome', 'reinvent'), {'id': '6621', 'weight': 201.0}),\n",
       " (('alexa', 'historicalfantasy'), {'id': '170', 'weight': 200.0}),\n",
       " (('siri', 'siriismyfriend'), {'id': '4676', 'weight': 200.0}),\n",
       " (('amazonecho', 'csharpcon18'), {'id': '6320', 'weight': 200.0}),\n",
       " (('podcast', 'parties'), {'id': '20444', 'weight': 200.0}),\n",
       " (('music', 'smart'), {'id': '20572', 'weight': 200.0}),\n",
       " (('fantasy', 'historicalfantasy'), {'id': '23756', 'weight': 200.0}),\n",
       " (('traffic', 'rankbio'), {'id': '31182', 'weight': 200.0}),\n",
       " (('alexa', 'cdo'), {'id': '587', 'weight': 199.0}),\n",
       " (('alexa', 'priceless'), {'id': '988', 'weight': 199.0}),\n",
       " (('siri', 'speaking'), {'id': '5549', 'weight': 199.0}),\n",
       " (('alexa', 'planning'), {'id': '481', 'weight': 198.0}),\n",
       " (('alexa', 'howto'), {'id': '616', 'weight': 198.0}),\n",
       " (('alexa', 'livevideo'), {'id': '1152', 'weight': 198.0}),\n",
       " (('iot', 'planning'), {'id': '2802', 'weight': 198.0}),\n",
       " (('digital', 'cio'), {'id': '21934', 'weight': 198.0}),\n",
       " (('conference', 'keynote'), {'id': '35129', 'weight': 198.0}),\n",
       " (('alexa', 'freetools'), {'id': '63', 'weight': 197.0}),\n",
       " (('freetools', 'searchengine'), {'id': '16854', 'weight': 197.0}),\n",
       " (('freetools', 'seo'), {'id': '16857', 'weight': 197.0}),\n",
       " (('freetools', 'networktools'), {'id': '16860', 'weight': 197.0}),\n",
       " (('ai', 'priceless'), {'id': '2365', 'weight': 195.0}),\n",
       " (('amazon', 'priceless'), {'id': '4224', 'weight': 195.0}),\n",
       " (('voicefirst', 'priceless'), {'id': '11878', 'weight': 195.0}),\n",
       " (('lol', 'priceless'), {'id': '17146', 'weight': 195.0}),\n",
       " (('tbt', 'priceless'), {'id': '17557', 'weight': 195.0}),\n",
       " (('throwbackthursday', 'priceless'), {'id': '34965', 'weight': 195.0}),\n",
       " (('rankbio', 'domainauthority'), {'id': '36252', 'weight': 195.0}),\n",
       " (('alexa', 'alexaskills'), {'id': '124', 'weight': 194.0}),\n",
       " (('alexa', 'firestick'), {'id': '182', 'weight': 194.0}),\n",
       " (('smarthome', 'security'), {'id': '6495', 'weight': 194.0}),\n",
       " (('alexa', 'tucson'), {'id': '77', 'weight': 193.0}),\n",
       " (('alexa', 'people'), {'id': '565', 'weight': 193.0}),\n",
       " (('alexa', 'native'), {'id': '643', 'weight': 193.0}),\n",
       " (('alexa', 'arduino'), {'id': '695', 'weight': 193.0}),\n",
       " (('smarthome', 'native'), {'id': '6564', 'weight': 193.0}),\n",
       " (('howto', 'prescientinfo'), {'id': '15477', 'weight': 193.0}),\n",
       " (('iot', 'smarthouseaz'), {'id': '2805', 'weight': 192.0}),\n",
       " (('tablet', 'hd'), {'id': '25810', 'weight': 192.0}),\n",
       " (('realtor', 'interiordesigners'), {'id': '31517', 'weight': 192.0}),\n",
       " (('iot', 'realtor'), {'id': '2803', 'weight': 191.0}),\n",
       " (('iot', 'calendar'), {'id': '2806', 'weight': 191.0}),\n",
       " (('iot', 'events'), {'id': '2807', 'weight': 191.0}),\n",
       " (('smarthome', 'hot'), {'id': '6563', 'weight': 191.0}),\n",
       " (('cortana', 'w10'), {'id': '7031', 'weight': 191.0}),\n",
       " (('podcast', 'entrepreneur'), {'id': '20432', 'weight': 191.0}),\n",
       " (('hot', 'heating'), {'id': '26909', 'weight': 191.0}),\n",
       " (('hot', 'native'), {'id': '26910', 'weight': 191.0}),\n",
       " (('itunes', 'googleplay'), {'id': '30530', 'weight': 191.0}),\n",
       " (('planning', 'realtor'), {'id': '31504', 'weight': 191.0}),\n",
       " (('planning', 'calendar'), {'id': '31506', 'weight': 191.0}),\n",
       " (('planning', 'events'), {'id': '31507', 'weight': 191.0}),\n",
       " (('planning', 'smartcity'), {'id': '31508', 'weight': 191.0}),\n",
       " (('realtor', 'calendar'), {'id': '31514', 'weight': 191.0}),\n",
       " (('realtor', 'events'), {'id': '31515', 'weight': 191.0}),\n",
       " (('realtor', 'smartcity'), {'id': '31516', 'weight': 191.0}),\n",
       " (('calendar', 'events'), {'id': '31528', 'weight': 191.0}),\n",
       " (('calendar', 'smartcity'), {'id': '31529', 'weight': 191.0}),\n",
       " (('events', 'smartcity'), {'id': '31533', 'weight': 191.0}),\n",
       " (('alexa', 'automation'), {'id': '58', 'weight': 190.0}),\n",
       " (('alexa', 'genz'), {'id': '885', 'weight': 190.0}),\n",
       " (('alexa', 'accessibility'), {'id': '1049', 'weight': 190.0}),\n",
       " (('ai', 'vr'), {'id': '1986', 'weight': 190.0}),\n",
       " (('amazon', 'save'), {'id': '3730', 'weight': 190.0}),\n",
       " (('amazon', 'tesla'), {'id': '3738', 'weight': 190.0}),\n",
       " (('entrepreneur', 'livevideo'), {'id': '34725', 'weight': 190.0}),\n",
       " (('superbowl', 'cardib'), {'id': '35903', 'weight': 190.0}),\n",
       " (('alexa', 'singapore'), {'id': '79', 'weight': 189.0}),\n",
       " (('mobile', 'genz'), {'id': '25573', 'weight': 189.0}),\n",
       " (('alexa', 'deepmind'), {'id': '712', 'weight': 188.0}),\n",
       " (('alexa', 'toyota'), {'id': '1415', 'weight': 188.0}),\n",
       " (('ai', 'deepmind'), {'id': '2030', 'weight': 188.0}),\n",
       " (('ai', 'genz'), {'id': '2094', 'weight': 188.0}),\n",
       " (('siri', 'humor'), {'id': '4871', 'weight': 188.0}),\n",
       " (('siri', 'deepmind'), {'id': '4966', 'weight': 188.0}),\n",
       " (('smartphones', 'virtualassistants'), {'id': '9655', 'weight': 188.0}),\n",
       " (('mobile', 'virtualassistants'), {'id': '25575', 'weight': 188.0}),\n",
       " (('virtualassistants', 'genz'), {'id': '33380', 'weight': 188.0}),\n",
       " (('ai', 'business'), {'id': '2013', 'weight': 187.0}),\n",
       " (('siri', 'iosdev'), {'id': '4705', 'weight': 187.0}),\n",
       " (('siri', 'innovation'), {'id': '4782', 'weight': 187.0}),\n",
       " (('podcast', 'googleplay'), {'id': '20433', 'weight': 187.0}),\n",
       " (('podcast', 'daily'), {'id': '20434', 'weight': 187.0}),\n",
       " (('itunes', 'livevideo'), {'id': '30536', 'weight': 187.0}),\n",
       " (('itunes', 'entrepreneur'), {'id': '30537', 'weight': 187.0}),\n",
       " (('itunes', 'daily'), {'id': '30538', 'weight': 187.0}),\n",
       " (('daily', 'livevideo'), {'id': '34704', 'weight': 187.0}),\n",
       " (('daily', 'entrepreneur'), {'id': '34705', 'weight': 187.0}),\n",
       " (('alexa', 'sleep'), {'id': '27', 'weight': 186.0}),\n",
       " (('siri', 'story'), {'id': '5799', 'weight': 186.0}),\n",
       " (('smartphones', 'deepmind'), {'id': '9652', 'weight': 186.0}),\n",
       " (('smartphones', 'genz'), {'id': '9653', 'weight': 186.0}),\n",
       " (('smartphones', 'mobile'), {'id': '9656', 'weight': 186.0}),\n",
       " (('traveltech', 'tucson'), {'id': '17846', 'weight': 186.0}),\n",
       " (('traveltech', 'singapore'), {'id': '17848', 'weight': 186.0}),\n",
       " (('mobile', 'deepmind'), {'id': '25572', 'weight': 186.0}),\n",
       " (('virtualassistants', 'deepmind'), {'id': '33379', 'weight': 186.0}),\n",
       " (('deepmind', 'genz'), {'id': '33576', 'weight': 186.0}),\n",
       " (('daily', 'googleplay'), {'id': '34706', 'weight': 186.0}),\n",
       " (('entrepreneur', 'googleplay'), {'id': '34726', 'weight': 186.0}),\n",
       " (('googleplay', 'livevideo'), {'id': '35037', 'weight': 186.0}),\n",
       " (('alexa', 'vault'), {'id': '1574', 'weight': 185.0}),\n",
       " (('alexa', 'aexa'), {'id': '1224', 'weight': 184.0}),\n",
       " (('iot', 'aexa'), {'id': '2940', 'weight': 184.0}),\n",
       " (('siri', 'wwdc'), {'id': '4729', 'weight': 184.0}),\n",
       " (('zwave', 'aexa'), {'id': '19164', 'weight': 184.0}),\n",
       " (('realestate', 'aexa'), {'id': '33267', 'weight': 184.0}),\n",
       " (('iotforum', 'aexa'), {'id': '34212', 'weight': 184.0}),\n",
       " (('realtors', 'aexa'), {'id': '34215', 'weight': 184.0}),\n",
       " (('designthinking', 'aexa'), {'id': '34216', 'weight': 184.0}),\n",
       " (('ai', 'mobileapps'), {'id': '2095', 'weight': 183.0}),\n",
       " (('amazon', 'it'), {'id': '3834', 'weight': 183.0}),\n",
       " (('siri', 'ios9'), {'id': '4704', 'weight': 183.0}),\n",
       " (('siri', 'mobileapps'), {'id': '4912', 'weight': 183.0}),\n",
       " (('alexa', 'lighting'), {'id': '195', 'weight': 182.0}),\n",
       " (('siri', 'issafriday'), {'id': '5256', 'weight': 182.0}),\n",
       " (('smartphones', 'mobileapps'), {'id': '9654', 'weight': 182.0}),\n",
       " (('iphone6plus', 'ios9'), {'id': '21528', 'weight': 182.0}),\n",
       " (('mobile', 'mobileapps'), {'id': '25574', 'weight': 182.0}),\n",
       " (('mobileapps', 'deepmind'), {'id': '32558', 'weight': 182.0}),\n",
       " (('mobileapps', 'genz'), {'id': '32559', 'weight': 182.0}),\n",
       " (('mobileapps', 'virtualassistants'), {'id': '32560', 'weight': 182.0}),\n",
       " (('alexa', 'ui'), {'id': '278', 'weight': 181.0}),\n",
       " (('alexa', '2ndcityapp'), {'id': '960', 'weight': 181.0}),\n",
       " (('ai', 'msbuild'), {'id': '2585', 'weight': 181.0}),\n",
       " (('siri', 'ecommerce'), {'id': '5005', 'weight': 181.0}),\n",
       " (('alexa', 'dns'), {'id': '1868', 'weight': 180.0}),\n",
       " (('firetv', 'save'), {'id': '30102', 'weight': 180.0}),\n",
       " (('siri', 'wwdc2018'), {'id': '5664', 'weight': 179.0}),\n",
       " (('echodot', 'sale'), {'id': '10036', 'weight': 179.0}),\n",
       " (('rankbio', 'dns'), {'id': '36250', 'weight': 179.0}),\n",
       " (('alexa', 'vui'), {'id': '174', 'weight': 178.0}),\n",
       " (('alexa', 'oasis'), {'id': '470', 'weight': 178.0}),\n",
       " (('alexa', 'humidifier'), {'id': '502', 'weight': 178.0}),\n",
       " (('amazon', 'enterprise'), {'id': '3583', 'weight': 178.0}),\n",
       " (('siri', 'voiceactor'), {'id': '5802', 'weight': 178.0}),\n",
       " (('cortana', 'bluescreenofdeath'), {'id': '7032', 'weight': 178.0}),\n",
       " (('w10', 'bluescreenofdeath'), {'id': '27743', 'weight': 178.0}),\n",
       " (('alexa', 'show'), {'id': '208', 'weight': 177.0}),\n",
       " (('amazon', 'cx'), {'id': '3434', 'weight': 177.0}),\n",
       " (('health', 'technology'), {'id': '10653', 'weight': 177.0}),\n",
       " (('iphone', 'iosdev'), {'id': '17203', 'weight': 177.0}),\n",
       " (('iphone6plus', 'iosdev'), {'id': '21529', 'weight': 177.0}),\n",
       " (('ios9', 'iosdev'), {'id': '21534', 'weight': 177.0}),\n",
       " (('alexa', 'allergies'), {'id': '503', 'weight': 176.0}),\n",
       " (('alexa', 'fever'), {'id': '504', 'weight': 176.0}),\n",
       " (('alexa', 'hay'), {'id': '505', 'weight': 176.0}),\n",
       " (('alexa', 'pollen'), {'id': '506', 'weight': 176.0}),\n",
       " (('health', 'humidifier'), {'id': '10650', 'weight': 176.0}),\n",
       " (('health', 'allergies'), {'id': '10651', 'weight': 176.0}),\n",
       " (('health', 'fever'), {'id': '10652', 'weight': 176.0}),\n",
       " (('health', 'hay'), {'id': '10654', 'weight': 176.0}),\n",
       " (('health', 'pollen'), {'id': '10655', 'weight': 176.0}),\n",
       " (('technology', 'humidifier'), {'id': '15545', 'weight': 176.0}),\n",
       " (('technology', 'allergies'), {'id': '15546', 'weight': 176.0}),\n",
       " (('technology', 'fever'), {'id': '15547', 'weight': 176.0}),\n",
       " (('technology', 'hay'), {'id': '15548', 'weight': 176.0}),\n",
       " (('technology', 'pollen'), {'id': '15549', 'weight': 176.0}),\n",
       " (('wine', 'oasis'), {'id': '30734', 'weight': 176.0}),\n",
       " (('humidifier', 'allergies'), {'id': '31630', 'weight': 176.0}),\n",
       " (('humidifier', 'fever'), {'id': '31631', 'weight': 176.0}),\n",
       " (('humidifier', 'hay'), {'id': '31632', 'weight': 176.0}),\n",
       " (('humidifier', 'pollen'), {'id': '31633', 'weight': 176.0}),\n",
       " (('allergies', 'fever'), {'id': '31635', 'weight': 176.0}),\n",
       " (('allergies', 'hay'), {'id': '31636', 'weight': 176.0}),\n",
       " (('allergies', 'pollen'), {'id': '31637', 'weight': 176.0}),\n",
       " (('fever', 'hay'), {'id': '31638', 'weight': 176.0}),\n",
       " (('fever', 'pollen'), {'id': '31639', 'weight': 176.0}),\n",
       " (('hay', 'pollen'), {'id': '31640', 'weight': 176.0}),\n",
       " (('alexa', 'streaming'), {'id': '572', 'weight': 175.0}),\n",
       " (('siri', 'newiphone'), {'id': '5856', 'weight': 175.0}),\n",
       " (('moz', 'rankbio'), {'id': '32928', 'weight': 174.0}),\n",
       " (('ai', 'robotics'), {'id': '1901', 'weight': 173.0}),\n",
       " (('alexa', 'alexarank'), {'id': '87', 'weight': 172.0}),\n",
       " (('alexa', 'okgoogle'), {'id': '305', 'weight': 172.0}),\n",
       " (('alexa', 'inspiration'), {'id': '1272', 'weight': 172.0}),\n",
       " (('speaker', 'keynote'), {'id': '3353', 'weight': 172.0}),\n",
       " (('siri', 'entrepreneurs'), {'id': '4973', 'weight': 172.0}),\n",
       " (('tech', 'media'), {'id': '7714', 'weight': 172.0}),\n",
       " (('alexa', 'superbowlcommercials'), {'id': '1531', 'weight': 171.0}),\n",
       " (('voicefirst', 'ecommerce'), {'id': '11797', 'weight': 171.0}),\n",
       " (('weather', 'smartcity'), {'id': '18382', 'weight': 170.0}),\n",
       " (('voicefirst', 'homepod'), {'id': '11872', 'weight': 169.0}),\n",
       " (('alexa', 'monitor'), {'id': '645', 'weight': 168.0}),\n",
       " (('iot', 'ces2018'), {'id': '2971', 'weight': 168.0}),\n",
       " (('amazonecho', 'win'), {'id': '6005', 'weight': 168.0}),\n",
       " (('traveltech', 'travel'), {'id': '17850', 'weight': 168.0}),\n",
       " (('azure', 'msbuild'), {'id': '33542', 'weight': 168.0}),\n",
       " (('alexa', 'alexaranking'), {'id': '66', 'weight': 166.0}),\n",
       " (('ecommerce', 'aws'), {'id': '19201', 'weight': 166.0}),\n",
       " (('alexa', 'amazonprime'), {'id': '125', 'weight': 165.0}),\n",
       " (('alexa', 'superbowllii'), {'id': '1493', 'weight': 165.0}),\n",
       " (('voicefirst', 'voicepayments'), {'id': '11911', 'weight': 165.0}),\n",
       " (('tucson', 'travel'), {'id': '17856', 'weight': 165.0}),\n",
       " (('singapore', 'travel'), {'id': '17910', 'weight': 165.0}),\n",
       " (('alexa', 'analytics'), {'id': '78', 'weight': 164.0}),\n",
       " (('cortana', 'ecommerce'), {'id': '7102', 'weight': 164.0}),\n",
       " (('ecommerce', 'cx'), {'id': '19199', 'weight': 164.0}),\n",
       " (('alexa', 'yoga'), {'id': '474', 'weight': 163.0}),\n",
       " (('voicefirst', 'ux'), {'id': '11787', 'weight': 163.0}),\n",
       " (('voicefirst', 'cx'), {'id': '11793', 'weight': 163.0}),\n",
       " (('cx', 'reinvent'), {'id': '23937', 'weight': 163.0}),\n",
       " (('alexa', 'nlp'), {'id': '697', 'weight': 162.0}),\n",
       " (('google', 'seo'), {'id': '12037', 'weight': 162.0}),\n",
       " (('keynote', 'event'), {'id': '35496', 'weight': 162.0}),\n",
       " (('alexa', 'reporting'), {'id': '496', 'weight': 161.0}),\n",
       " (('amazon', 'robotics'), {'id': '3722', 'weight': 161.0}),\n",
       " (('siri', 'speakers'), {'id': '4706', 'weight': 161.0}),\n",
       " (('siri', 'macos'), {'id': '4857', 'weight': 161.0}),\n",
       " (('voicefirst', 'cloud'), {'id': '11796', 'weight': 161.0}),\n",
       " (('ecommerce', 'reinvent'), {'id': '19200', 'weight': 161.0}),\n",
       " (('ecommerce', 'cloud'), {'id': '19202', 'weight': 161.0}),\n",
       " (('cloud', 'cx'), {'id': '19300', 'weight': 161.0}),\n",
       " (('cx', 'aws'), {'id': '23938', 'weight': 161.0}),\n",
       " (('alexa', 'content'), {'id': '394', 'weight': 160.0}),\n",
       " (('alexa', 'daughterlovemother'), {'id': '1747', 'weight': 160.0}),\n",
       " (('amazon', 'deals'), {'id': '3460', 'weight': 160.0}),\n",
       " (('inspiration', 'daughterlovemother'), {'id': '35721', 'weight': 160.0}),\n",
       " (('inspiration', 'anna'), {'id': '35722', 'weight': 160.0}),\n",
       " (('rankbio', 'keyword'), {'id': '36254', 'weight': 160.0}),\n",
       " (('anna', 'daughterlovemother'), {'id': '36548', 'weight': 160.0}),\n",
       " (('alexa', 'developer'), {'id': '42', 'weight': 159.0}),\n",
       " (('ai', 'marketing'), {'id': '1932', 'weight': 159.0}),\n",
       " (('sale', 'save'), {'id': '23098', 'weight': 159.0}),\n",
       " (('it', 'reinvent'), {'id': '27040', 'weight': 159.0}),\n",
       " (('it', 'enterprise'), {'id': '27041', 'weight': 159.0}),\n",
       " (('reinvent', 'enterprise'), {'id': '28112', 'weight': 159.0}),\n",
       " (('ai', 'amazonecho'), {'id': '1889', 'weight': 158.0}),\n",
       " (('grasmere', 'lakedistrict'), {'id': '26653', 'weight': 158.0}),\n",
       " (('alexa', 'keyword'), {'id': '1812', 'weight': 157.0}),\n",
       " (('siri', 'funny'), {'id': '4762', 'weight': 157.0}),\n",
       " (('podcast', 'twitter'), {'id': '20409', 'weight': 156.0}),\n",
       " (('alexa', 'connectedhome'), {'id': '151', 'weight': 155.0}),\n",
       " (('alexa', 'audio'), {'id': '252', 'weight': 155.0}),\n",
       " (('alexa', 'healthyrecipes'), {'id': '493', 'weight': 155.0}),\n",
       " (('conference', 'speaking'), {'id': '35135', 'weight': 155.0}),\n",
       " (('alexa', 'conserve'), {'id': '495', 'weight': 154.0}),\n",
       " (('weather', 'conserve'), {'id': '18380', 'weight': 154.0}),\n",
       " (('lighting', 'healthyrecipes'), {'id': '24665', 'weight': 154.0}),\n",
       " (('smartcity', 'conserve'), {'id': '31537', 'weight': 154.0}),\n",
       " (('alexa', 'travelling'), {'id': '635', 'weight': 153.0}),\n",
       " (('amazon', 'android'), {'id': '3455', 'weight': 153.0}),\n",
       " (('amazon', 'vr'), {'id': '3678', 'weight': 153.0}),\n",
       " (('amazon', 'ar'), {'id': '3693', 'weight': 153.0}),\n",
       " (('amazon', 'smarter'), {'id': '4299', 'weight': 153.0}),\n",
       " (('amazonecho', 'music'), {'id': '5945', 'weight': 153.0}),\n",
       " (('traveltech', 'travelling'), {'id': '17849', 'weight': 153.0}),\n",
       " (('tucson', 'travelling'), {'id': '17855', 'weight': 153.0}),\n",
       " (('singapore', 'travelling'), {'id': '17909', 'weight': 153.0}),\n",
       " (('travel', 'travelling'), {'id': '31670', 'weight': 153.0}),\n",
       " (('keynote', 'summit'), {'id': '35495', 'weight': 153.0}),\n",
       " (('ai', 'smarter'), {'id': '2257', 'weight': 152.0}),\n",
       " (('amazon', 'voice'), {'id': '3398', 'weight': 152.0}),\n",
       " (('siri', 'airpods'), {'id': '5173', 'weight': 152.0}),\n",
       " (('apple', 'iphonex'), {'id': '16299', 'weight': 152.0}),\n",
       " (('ai', 'voiceassistants'), {'id': '2040', 'weight': 151.0}),\n",
       " (('iot', 'homeautomation'), {'id': '2744', 'weight': 151.0}),\n",
       " (('smarthome', 'smarthouseaz'), {'id': '6538', 'weight': 150.0}),\n",
       " (('speaking', 'retreat'), {'id': '36062', 'weight': 150.0}),\n",
       " (('ai', 'robots'), {'id': '1980', 'weight': 149.0}),\n",
       " (('iot', 'amazonecho'), {'id': '2733', 'weight': 149.0}),\n",
       " (('smarthome', 'monitor'), {'id': '6675', 'weight': 149.0}),\n",
       " (('security', 'monitor'), {'id': '24383', 'weight': 149.0}),\n",
       " (('security', 'smarthouseaz'), {'id': '24384', 'weight': 149.0}),\n",
       " (('security', 'smartcity'), {'id': '24385', 'weight': 149.0}),\n",
       " (('show', 'lifestyle'), {'id': '25148', 'weight': 149.0}),\n",
       " (('voiceassistant', 'smarter'), {'id': '27661', 'weight': 149.0}),\n",
       " (('ux', 'ces2018'), {'id': '27927', 'weight': 149.0}),\n",
       " (('smarthouseaz', 'monitor'), {'id': '31500', 'weight': 149.0}),\n",
       " (('smartcity', 'monitor'), {'id': '31543', 'weight': 149.0}),\n",
       " (('amazon', 'googleassistant'), {'id': '3463', 'weight': 148.0}),\n",
       " (('amazon', 'ces'), {'id': '4089', 'weight': 148.0}),\n",
       " (('alexa', 'hotel'), {'id': '313', 'weight': 147.0}),\n",
       " (('alexa', 'smartcities'), {'id': '483', 'weight': 147.0}),\n",
       " (('alexa', 'model'), {'id': '990', 'weight': 147.0}),\n",
       " (('alexa', 'mind'), {'id': '1827', 'weight': 147.0}),\n",
       " (('dementia', 'mind'), {'id': '16845', 'weight': 147.0}),\n",
       " (('alzheimers', 'mind'), {'id': '16850', 'weight': 147.0}),\n",
       " (('remeapp', 'mind'), {'id': '36637', 'weight': 147.0}),\n",
       " (('mind', 'mci'), {'id': '36648', 'weight': 147.0}),\n",
       " (('alexa', 'design'), {'id': '429', 'weight': 146.0}),\n",
       " (('alexa', 'ml'), {'id': '171', 'weight': 145.0}),\n",
       " (('alexa', 'office'), {'id': '1094', 'weight': 145.0}),\n",
       " (('echo', 'skill'), {'id': '8998', 'weight': 145.0}),\n",
       " (('conserve', 'reporting'), {'id': '31588', 'weight': 145.0}),\n",
       " (('alexaranking', 'seo'), {'id': '16889', 'weight': 144.0}),\n",
       " (('roku', 'listen'), {'id': '33840', 'weight': 144.0}),\n",
       " (('alexa', 'alexainternet'), {'id': '68', 'weight': 143.0}),\n",
       " (('alexa', 'kindle'), {'id': '358', 'weight': 143.0}),\n",
       " (('alexa', 'yogionzee'), {'id': '475', 'weight': 143.0}),\n",
       " (('amazon', 'healthcare'), {'id': '3490', 'weight': 143.0}),\n",
       " (('cortana', 'fintech'), {'id': '7071', 'weight': 143.0}),\n",
       " (('tech', 'kodi'), {'id': '7716', 'weight': 143.0}),\n",
       " (('staging', 'realtor'), {'id': '31450', 'weight': 143.0}),\n",
       " (('yoga', 'meditation'), {'id': '31455', 'weight': 143.0}),\n",
       " (('yogionzee', 'meditation'), {'id': '31466', 'weight': 143.0}),\n",
       " (('virtualassistants', 'usa'), {'id': '33386', 'weight': 143.0}),\n",
       " (('alexa', 'omgtv'), {'id': '499', 'weight': 142.0}),\n",
       " (('alexa', 'lovers'), {'id': '501', 'weight': 142.0}),\n",
       " (('tech', 'omgtv'), {'id': '7715', 'weight': 142.0}),\n",
       " (('tech', 'lovers'), {'id': '7717', 'weight': 142.0}),\n",
       " (('heygoogle', 'oscars'), {'id': '15284', 'weight': 142.0}),\n",
       " (('lighting', 'healthyliving'), {'id': '24666', 'weight': 142.0}),\n",
       " (('smarthouseaz', 'planning'), {'id': '31493', 'weight': 142.0}),\n",
       " (('smarthouseaz', 'realtor'), {'id': '31494', 'weight': 142.0}),\n",
       " (('smarthouseaz', 'calendar'), {'id': '31496', 'weight': 142.0}),\n",
       " (('smarthouseaz', 'events'), {'id': '31497', 'weight': 142.0}),\n",
       " (('healthyrecipes', 'healthyliving'), {'id': '31581', 'weight': 142.0}),\n",
       " (('media', 'kodi'), {'id': '31590', 'weight': 142.0}),\n",
       " (('omgtv', 'kodi'), {'id': '31619', 'weight': 142.0}),\n",
       " (('omgtv', 'lovers'), {'id': '31620', 'weight': 142.0}),\n",
       " (('kodi', 'lovers'), {'id': '31621', 'weight': 142.0}),\n",
       " (('alexa', 'voicesearch'), {'id': '48', 'weight': 141.0}),\n",
       " (('alexa', 'wesite'), {'id': '65', 'weight': 141.0}),\n",
       " (('alexa', 'colors'), {'id': '492', 'weight': 141.0}),\n",
       " (('alexa', 'offers'), {'id': '1215', 'weight': 141.0}),\n",
       " (('iot', 'home'), {'id': '2840', 'weight': 141.0}),\n",
       " (('iot', 'smart'), {'id': '2880', 'weight': 141.0}),\n",
       " (('amazon', 'assistant'), {'id': '3448', 'weight': 141.0}),\n",
       " (('searchengine', 'wesite'), {'id': '16867', 'weight': 141.0}),\n",
       " (('searchengine', 'alexaranking'), {'id': '16868', 'weight': 141.0}),\n",
       " (('searchengine', 'alexainternet'), {'id': '16870', 'weight': 141.0}),\n",
       " (('wesite', 'alexaranking'), {'id': '16883', 'weight': 141.0}),\n",
       " (('wesite', 'seo'), {'id': '16884', 'weight': 141.0}),\n",
       " (('wesite', 'alexainternet'), {'id': '16885', 'weight': 141.0}),\n",
       " (('wesite', 'networktools'), {'id': '16887', 'weight': 141.0}),\n",
       " (('alexaranking', 'alexainternet'), {'id': '16890', 'weight': 141.0}),\n",
       " (('alexaranking', 'networktools'), {'id': '16892', 'weight': 141.0}),\n",
       " (('seo', 'alexainternet'), {'id': '16898', 'weight': 141.0}),\n",
       " (('alexainternet', 'networktools'), {'id': '17017', 'weight': 141.0}),\n",
       " (('media', 'omgtv'), {'id': '31589', 'weight': 141.0}),\n",
       " (('media', 'lovers'), {'id': '31591', 'weight': 141.0}),\n",
       " (('alexa', 'nocost'), {'id': '69', 'weight': 140.0}),\n",
       " (('google', 'heygoogle'), {'id': '12075', 'weight': 140.0}),\n",
       " (('freetools', 'wesite'), {'id': '16855', 'weight': 140.0}),\n",
       " (('freetools', 'alexaranking'), {'id': '16856', 'weight': 140.0}),\n",
       " (('freetools', 'alexainternet'), {'id': '16858', 'weight': 140.0}),\n",
       " (('freetools', 'nocost'), {'id': '16859', 'weight': 140.0}),\n",
       " (('searchengine', 'nocost'), {'id': '16871', 'weight': 140.0}),\n",
       " (('searchengine', 'search'), {'id': '16880', 'weight': 140.0}),\n",
       " (('wesite', 'nocost'), {'id': '16886', 'weight': 140.0}),\n",
       " (('alexaranking', 'nocost'), {'id': '16891', 'weight': 140.0}),\n",
       " (('seo', 'nocost'), {'id': '16899', 'weight': 140.0}),\n",
       " (('alexainternet', 'nocost'), {'id': '17016', 'weight': 140.0}),\n",
       " (('nocost', 'networktools'), {'id': '17020', 'weight': 140.0}),\n",
       " (('networktools', 'search'), {'id': '17027', 'weight': 140.0}),\n",
       " (('alexa', 'india'), {'id': '102', 'weight': 139.0}),\n",
       " (('alexa', 'tuneinradio'), {'id': '908', 'weight': 139.0}),\n",
       " (('alexa', 'birthdays'), {'id': '1263', 'weight': 139.0}),\n",
       " (('siri', 'banking'), {'id': '4943', 'weight': 139.0}),\n",
       " (('alexa', 'brand'), {'id': '263', 'weight': 138.0}),\n",
       " (('alexa', 'virtual'), {'id': '431', 'weight': 138.0}),\n",
       " (('alexa', 'wearables'), {'id': '538', 'weight': 138.0}),\n",
       " (('amazon', 'birthdays'), {'id': '3985', 'weight': 138.0}),\n",
       " (('echo', 'birthdays'), {'id': '9235', 'weight': 138.0}),\n",
       " (('holiday', 'birthdays'), {'id': '28127', 'weight': 138.0}),\n",
       " (('birthdays', 'parties'), {'id': '35715', 'weight': 138.0}),\n",
       " (('alexa', 'digitalhealth'), {'id': '38', 'weight': 137.0}),\n",
       " (('alexa', 'nest'), {'id': '215', 'weight': 137.0}),\n",
       " (('cortana', 'masterchief'), {'id': '7007', 'weight': 137.0}),\n",
       " (('cortana', 'datascience'), {'id': '7112', 'weight': 137.0}),\n",
       " (('apple', 'ar'), {'id': '16319', 'weight': 137.0}),\n",
       " (('voicefirst', 'developers'), {'id': '11798', 'weight': 136.0}),\n",
       " (('tablet', 'display'), {'id': '25811', 'weight': 136.0}),\n",
       " (('siri', 'privacy'), {'id': '4975', 'weight': 135.0}),\n",
       " (('cortana', 'bots'), {'id': '6991', 'weight': 135.0}),\n",
       " (('alexa', 'startup'), {'id': '197', 'weight': 134.0}),\n",
       " (('ai', 'google'), {'id': '1924', 'weight': 134.0}),\n",
       " (('ai', 'polly'), {'id': '1982', 'weight': 134.0}),\n",
       " (('ai', 'datascience'), {'id': '2096', 'weight': 134.0}),\n",
       " (('sciencefiction', 'polly'), {'id': '17839', 'weight': 134.0}),\n",
       " (('yoga', 'fitness'), {'id': '31454', 'weight': 134.0}),\n",
       " (('yogionzee', 'fitness'), {'id': '31465', 'weight': 134.0}),\n",
       " (('fitness', 'meditation'), {'id': '31470', 'weight': 134.0}),\n",
       " (('alexa', 'bestsleepever'), {'id': '28', 'weight': 133.0}),\n",
       " (('alexa', 'aleksandra'), {'id': '1073', 'weight': 133.0}),\n",
       " (('alexa', 'fbi'), {'id': '1387', 'weight': 133.0}),\n",
       " (('iot', 'fintech'), {'id': '2770', 'weight': 133.0}),\n",
       " (('amazon', 'ad'), {'id': '3734', 'weight': 133.0}),\n",
       " (('siri', 'pixel2'), {'id': '4873', 'weight': 133.0}),\n",
       " (('alexa', 'dogs'), {'id': '896', 'weight': 132.0}),\n",
       " (('ai', 'digital'), {'id': '1930', 'weight': 132.0}),\n",
       " (('ai', 'iphonex'), {'id': '2067', 'weight': 132.0}),\n",
       " (('amazon', 'people'), {'id': '3669', 'weight': 132.0}),\n",
       " (('amazon', 'developers'), {'id': '3797', 'weight': 132.0}),\n",
       " (('tv', 'fire'), {'id': '14248', 'weight': 132.0}),\n",
       " (('alexa', 'echospot'), {'id': '1144', 'weight': 131.0}),\n",
       " (('alexa', 'artificalintelligence'), {'id': '1179', 'weight': 131.0}),\n",
       " (('home', 'show'), {'id': '13502', 'weight': 131.0}),\n",
       " (('alexa', 'yogi'), {'id': '634', 'weight': 130.0}),\n",
       " (('alexa', 'electronic'), {'id': '644', 'weight': 130.0}),\n",
       " (('alexa', 'worldcup'), {'id': '1769', 'weight': 130.0}),\n",
       " (('google', 'vr'), {'id': '12153', 'weight': 130.0}),\n",
       " (('yoga', 'yogionzee'), {'id': '31453', 'weight': 130.0}),\n",
       " (('yoga', 'yogi'), {'id': '31456', 'weight': 130.0}),\n",
       " (('yogionzee', 'yogi'), {'id': '31467', 'weight': 130.0}),\n",
       " (('meditation', 'yogi'), {'id': '31486', 'weight': 130.0}),\n",
       " (('alexa', 'watson'), {'id': '173', 'weight': 129.0}),\n",
       " (('alexa', 'arlo'), {'id': '916', 'weight': 129.0}),\n",
       " (('ai', 'artificalintelligence'), {'id': '2025', 'weight': 129.0}),\n",
       " (('iot', 'ux'), {'id': '2900', 'weight': 129.0}),\n",
       " (('echo', 'music'), {'id': '9017', 'weight': 129.0}),\n",
       " (('google', 'iphonex'), {'id': '12141', 'weight': 129.0}),\n",
       " (('artificialintelligence', 'deeplearning'),\n",
       "  {'id': '19781', 'weight': 129.0}),\n",
       " (('speakers', 'conference'), {'id': '21703', 'weight': 129.0}),\n",
       " (('alexa', 'seotools'), {'id': '88', 'weight': 128.0}),\n",
       " (('google', 'oculus'), {'id': '12154', 'weight': 128.0}),\n",
       " (('home', 'life'), {'id': '13463', 'weight': 128.0}),\n",
       " (('apple', 'oculus'), {'id': '16453', 'weight': 128.0}),\n",
       " (('speakers', 'summit'), {'id': '21705', 'weight': 128.0}),\n",
       " (('fun', 'reinvent'), {'id': '27871', 'weight': 128.0}),\n",
       " (('alexa', 'voicedesign'), {'id': '281', 'weight': 127.0}),\n",
       " (('alexa', 'uk'), {'id': '517', 'weight': 127.0}),\n",
       " (('siri', 'siriously'), {'id': '5177', 'weight': 127.0}),\n",
       " (('smarthome', 'arlo'), {'id': '6674', 'weight': 127.0}),\n",
       " (('google', 'pixel2'), {'id': '12064', 'weight': 127.0}),\n",
       " (('iphonex', 'ar'), {'id': '20110', 'weight': 127.0}),\n",
       " (('alexa', 'cars'), {'id': '570', 'weight': 126.0}),\n",
       " (('flashbriefing', 'echoshow'), {'id': '9752', 'weight': 126.0}),\n",
       " (('flashbriefing', 'echodot'), {'id': '9753', 'weight': 126.0}),\n",
       " (('voicefirst', 'fun'), {'id': '11801', 'weight': 126.0}),\n",
       " (('seo', 'alexarank'), {'id': '16903', 'weight': 126.0}),\n",
       " (('iphonex', 'vr'), {'id': '20109', 'weight': 126.0}),\n",
       " (('security', 'arlo'), {'id': '24382', 'weight': 126.0}),\n",
       " (('tablet', 'offers'), {'id': '25843', 'weight': 126.0}),\n",
       " (('smart', 'pandora'), {'id': '29392', 'weight': 126.0}),\n",
       " (('smart', 'dance'), {'id': '29393', 'weight': 126.0}),\n",
       " (('ar', 'oculus'), {'id': '30808', 'weight': 126.0}),\n",
       " (('smarthouseaz', 'arlo'), {'id': '31499', 'weight': 126.0}),\n",
       " (('smartcity', 'arlo'), {'id': '31542', 'weight': 126.0}),\n",
       " (('monitor', 'arlo'), {'id': '32968', 'weight': 126.0}),\n",
       " (('iot', 'technews'), {'id': '2820', 'weight': 125.0}),\n",
       " (('amazon', 'oculus'), {'id': '3922', 'weight': 125.0}),\n",
       " (('home', 'electronics'), {'id': '13503', 'weight': 125.0}),\n",
       " (('apple', 'pixel2'), {'id': '16454', 'weight': 125.0}),\n",
       " (('seo', 'seotools'), {'id': '16904', 'weight': 125.0}),\n",
       " (('alexarank', 'seotools'), {'id': '18777', 'weight': 125.0}),\n",
       " (('iphonex', 'pixel2'), {'id': '20141', 'weight': 125.0}),\n",
       " (('electronics', 'smart'), {'id': '20810', 'weight': 125.0}),\n",
       " (('camera', 'security'), {'id': '22085', 'weight': 125.0}),\n",
       " (('vr', 'oculus'), {'id': '25518', 'weight': 125.0}),\n",
       " (('ai', 'oculus'), {'id': '2179', 'weight': 124.0}),\n",
       " (('ai', 'pixel2'), {'id': '2180', 'weight': 124.0}),\n",
       " (('iot', 'electronics'), {'id': '2869', 'weight': 124.0}),\n",
       " (('amazon', 'pixel2'), {'id': '3923', 'weight': 124.0}),\n",
       " (('siri', 'chatbots'), {'id': '4718', 'weight': 124.0}),\n",
       " (('iphonex', 'oculus'), {'id': '20140', 'weight': 124.0}),\n",
       " (('speakers', 'retreat'), {'id': '21702', 'weight': 124.0}),\n",
       " (('show', 'smart'), {'id': '25147', 'weight': 124.0}),\n",
       " (('vr', 'pixel2'), {'id': '25519', 'weight': 124.0}),\n",
       " (('ar', 'pixel2'), {'id': '30809', 'weight': 124.0}),\n",
       " (('pixel2', 'oculus'), {'id': '31324', 'weight': 124.0}),\n",
       " (('iot', 'show'), {'id': '3044', 'weight': 123.0}),\n",
       " (('iot', 'lifestyle'), {'id': '3045', 'weight': 123.0}),\n",
       " (('iot', 'life'), {'id': '3046', 'weight': 123.0}),\n",
       " (('amazon', 'realtors'), {'id': '4469', 'weight': 123.0}),\n",
       " (('siri', 'croatia'), {'id': '5666', 'weight': 123.0}),\n",
       " (('machinelearning', 'datascience'), {'id': '11445', 'weight': 123.0}),\n",
       " (('home', 'lifestyle'), {'id': '13504', 'weight': 123.0}),\n",
       " (('siriouslysusan', 'siriously'), {'id': '15408', 'weight': 123.0}),\n",
       " (('electronics', 'show'), {'id': '20809', 'weight': 123.0}),\n",
       " (('electronics', 'lifestyle'), {'id': '20811', 'weight': 123.0}),\n",
       " (('electronics', 'life'), {'id': '20812', 'weight': 123.0}),\n",
       " (('show', 'life'), {'id': '25149', 'weight': 123.0}),\n",
       " (('smart', 'lifestyle'), {'id': '29444', 'weight': 123.0}),\n",
       " (('smart', 'life'), {'id': '29445', 'weight': 123.0}),\n",
       " (('lifestyle', 'life'), {'id': '31843', 'weight': 123.0}),\n",
       " (('alexa', 'whatismyip'), {'id': '85', 'weight': 122.0}),\n",
       " (('alexa', 'browserinfo'), {'id': '86', 'weight': 122.0}),\n",
       " (('alexa', 'ispspeed'), {'id': '89', 'weight': 122.0}),\n",
       " (('alexa', 'blockchain'), {'id': '235', 'weight': 122.0}),\n",
       " (('iot', 'arduino'), {'id': '2833', 'weight': 122.0}),\n",
       " (('seo', 'whatismyip'), {'id': '16901', 'weight': 122.0}),\n",
       " (('seo', 'browserinfo'), {'id': '16902', 'weight': 122.0}),\n",
       " (('seo', 'ispspeed'), {'id': '16905', 'weight': 122.0}),\n",
       " (('networktools', 'whatismyip'), {'id': '17022', 'weight': 122.0}),\n",
       " (('networktools', 'browserinfo'), {'id': '17023', 'weight': 122.0}),\n",
       " (('networktools', 'alexarank'), {'id': '17024', 'weight': 122.0}),\n",
       " (('networktools', 'seotools'), {'id': '17025', 'weight': 122.0}),\n",
       " (('networktools', 'ispspeed'), {'id': '17026', 'weight': 122.0}),\n",
       " (('whatismyip', 'browserinfo'), {'id': '18768', 'weight': 122.0}),\n",
       " (('whatismyip', 'alexarank'), {'id': '18769', 'weight': 122.0}),\n",
       " (('whatismyip', 'seotools'), {'id': '18770', 'weight': 122.0}),\n",
       " (('whatismyip', 'ispspeed'), {'id': '18771', 'weight': 122.0}),\n",
       " (('browserinfo', 'alexarank'), {'id': '18773', 'weight': 122.0}),\n",
       " (('browserinfo', 'seotools'), {'id': '18774', 'weight': 122.0}),\n",
       " (('browserinfo', 'ispspeed'), {'id': '18775', 'weight': 122.0}),\n",
       " (('alexarank', 'ispspeed'), {'id': '18778', 'weight': 122.0}),\n",
       " (('seotools', 'ispspeed'), {'id': '18785', 'weight': 122.0}),\n",
       " (('ai', 'aws'), {'id': '1972', 'weight': 121.0}),\n",
       " (('google', 'googleassistant'), {'id': '12028', 'weight': 121.0}),\n",
       " (('home', 'staging'), {'id': '13414', 'weight': 121.0}),\n",
       " (('siriouslysusan', 'croatia'), {'id': '15409', 'weight': 121.0}),\n",
       " (('staging', 'colors'), {'id': '31449', 'weight': 121.0}),\n",
       " (('fitness', 'yogi'), {'id': '31471', 'weight': 121.0}),\n",
       " (('model', 'vault'), {'id': '35062', 'weight': 121.0}),\n",
       " (('siriously', 'croatia'), {'id': '35238', 'weight': 121.0}),\n",
       " (('alexa', 'music'), {'id': '303', 'weight': 120.0}),\n",
       " (('alexa', 'applewatch'), {'id': '599', 'weight': 120.0}),\n",
       " (('ai', 'voicerecognition'), {'id': '2088', 'weight': 120.0}),\n",
       " (('ai', 'accessibility'), {'id': '2423', 'weight': 120.0}),\n",
       " (('siri', 'accidentallyfamous'), {'id': '5808', 'weight': 120.0}),\n",
       " (('tech', 'deals'), {'id': '7707', 'weight': 120.0}),\n",
       " (('google', 'home'), {'id': '12059', 'weight': 120.0}),\n",
       " (('podcast', 'birthdays'), {'id': '20442', 'weight': 120.0}),\n",
       " (('alexa', 'gadget'), {'id': '251', 'weight': 119.0}),\n",
       " (('alexa', 'firetvcube'), {'id': '1756', 'weight': 119.0}),\n",
       " (('siri', 'amazonecho'), {'id': '4652', 'weight': 119.0}),\n",
       " (('google', 'giveaway'), {'id': '12156', 'weight': 119.0}),\n",
       " (('searchengine', 'whatismyip'), {'id': '16873', 'weight': 119.0}),\n",
       " (('searchengine', 'browserinfo'), {'id': '16874', 'weight': 119.0}),\n",
       " (('searchengine', 'alexarank'), {'id': '16875', 'weight': 119.0}),\n",
       " (('searchengine', 'seotools'), {'id': '16876', 'weight': 119.0}),\n",
       " (('searchengine', 'ispspeed'), {'id': '16877', 'weight': 119.0}),\n",
       " (('alexa', 'esp8266'), {'id': '694', 'weight': 118.0}),\n",
       " (('amazon', 'virtual'), {'id': '3668', 'weight': 118.0}),\n",
       " (('siri', 'bigdata'), {'id': '4757', 'weight': 118.0}),\n",
       " (('siri', 'giveaway'), {'id': '5261', 'weight': 118.0}),\n",
       " (('siri', 'ces2018'), {'id': '5395', 'weight': 118.0}),\n",
       " (('fintech', 'virtualassistants'), {'id': '26160', 'weight': 118.0}),\n",
       " (('alexa', 'kids'), {'id': '106', 'weight': 117.0}),\n",
       " (('ai', 'giveaway'), {'id': '2181', 'weight': 117.0}),\n",
       " (('iot', 'tutorial'), {'id': '2837', 'weight': 117.0}),\n",
       " (('machinelearning', 'homepod'), {'id': '11509', 'weight': 117.0}),\n",
       " (('apple', 'giveaway'), {'id': '16455', 'weight': 117.0}),\n",
       " (('iphonex', 'giveaway'), {'id': '20142', 'weight': 117.0}),\n",
       " (('giveaway', 'vr'), {'id': '22013', 'weight': 117.0}),\n",
       " (('giveaway', 'oculus'), {'id': '22014', 'weight': 117.0}),\n",
       " (('giveaway', 'ar'), {'id': '22015', 'weight': 117.0}),\n",
       " (('giveaway', 'pixel2'), {'id': '22016', 'weight': 117.0}),\n",
       " (('hack', 'hacking'), {'id': '31927', 'weight': 117.0}),\n",
       " (('esp8266', 'arduino'), {'id': '33430', 'weight': 117.0}),\n",
       " (('alexa', 'dry'), {'id': '442', 'weight': 116.0}),\n",
       " (('alexa', 'dance'), {'id': '815', 'weight': 116.0}),\n",
       " (('hack', 'arduino'), {'id': '31926', 'weight': 116.0}),\n",
       " (('hack', 'esp8266'), {'id': '31928', 'weight': 116.0}),\n",
       " (('hack', 'tutorial'), {'id': '31929', 'weight': 116.0}),\n",
       " (('esp8266', 'hacking'), {'id': '33431', 'weight': 116.0}),\n",
       " ...]"
      ]
     },
     "execution_count": 53,
     "metadata": {},
     "output_type": "execute_result"
    }
   ],
   "source": [
    "top_edges"
   ]
  },
  {
   "cell_type": "markdown",
   "metadata": {},
   "source": [
    "clustering coeffitient"
   ]
  },
  {
   "cell_type": "code",
   "execution_count": 7,
   "metadata": {},
   "outputs": [
    {
     "data": {
      "text/plain": [
       "2.141190746740446e-05"
      ]
     },
     "execution_count": 7,
     "metadata": {},
     "output_type": "execute_result"
    }
   ],
   "source": [
    "nx.clustering(G,'alexa', weight='weight')"
   ]
  },
  {
   "cell_type": "code",
   "execution_count": 8,
   "metadata": {},
   "outputs": [
    {
     "data": {
      "text/plain": [
       "2.42860793988339e-05"
      ]
     },
     "execution_count": 8,
     "metadata": {},
     "output_type": "execute_result"
    }
   ],
   "source": [
    "nx.clustering(G,'heygoogle', weight='weight')"
   ]
  },
  {
   "cell_type": "code",
   "execution_count": 9,
   "metadata": {},
   "outputs": [
    {
     "data": {
      "text/plain": [
       "1.9303507474375952e-05"
      ]
     },
     "execution_count": 9,
     "metadata": {},
     "output_type": "execute_result"
    }
   ],
   "source": [
    "nx.clustering(G,'siri',weight='weight')"
   ]
  },
  {
   "cell_type": "code",
   "execution_count": 10,
   "metadata": {},
   "outputs": [
    {
     "data": {
      "text/plain": [
       "2.690836009174613e-05"
      ]
     },
     "execution_count": 10,
     "metadata": {},
     "output_type": "execute_result"
    }
   ],
   "source": [
    "nx.clustering(G,'cortana',weight='weight')"
   ]
  },
  {
   "cell_type": "code",
   "execution_count": 11,
   "metadata": {},
   "outputs": [
    {
     "data": {
      "text/plain": [
       "0.0004951335175398307"
      ]
     },
     "execution_count": 11,
     "metadata": {},
     "output_type": "execute_result"
    }
   ],
   "source": [
    "nx.average_clustering(G,weight='weight')"
   ]
  },
  {
   "cell_type": "markdown",
   "metadata": {},
   "source": [
    "distance measurements"
   ]
  },
  {
   "cell_type": "code",
   "execution_count": 25,
   "metadata": {},
   "outputs": [
    {
     "data": {
      "text/plain": [
       "['siri', 'heygoogle']"
      ]
     },
     "execution_count": 25,
     "metadata": {},
     "output_type": "execute_result"
    }
   ],
   "source": [
    "nx.shortest_path(G, 'siri', 'heygoogle')"
   ]
  },
  {
   "cell_type": "code",
   "execution_count": 12,
   "metadata": {},
   "outputs": [
    {
     "data": {
      "text/plain": [
       "3"
      ]
     },
     "execution_count": 12,
     "metadata": {},
     "output_type": "execute_result"
    }
   ],
   "source": [
    "nx.diameter(G)"
   ]
  },
  {
   "cell_type": "code",
   "execution_count": 13,
   "metadata": {},
   "outputs": [
    {
     "data": {
      "text/plain": [
       "2.029621310655328"
      ]
     },
     "execution_count": 13,
     "metadata": {},
     "output_type": "execute_result"
    }
   ],
   "source": [
    "nx.average_shortest_path_length(G)"
   ]
  },
  {
   "cell_type": "code",
   "execution_count": 14,
   "metadata": {},
   "outputs": [],
   "source": [
    "eccentr = nx.eccentricity(G)"
   ]
  },
  {
   "cell_type": "code",
   "execution_count": 16,
   "metadata": {},
   "outputs": [
    {
     "data": {
      "text/plain": [
       "2"
      ]
     },
     "execution_count": 16,
     "metadata": {},
     "output_type": "execute_result"
    }
   ],
   "source": [
    "eccentr['siri']"
   ]
  },
  {
   "cell_type": "code",
   "execution_count": 17,
   "metadata": {},
   "outputs": [
    {
     "data": {
      "text/plain": [
       "2"
      ]
     },
     "execution_count": 17,
     "metadata": {},
     "output_type": "execute_result"
    }
   ],
   "source": [
    "eccentr['alexa']"
   ]
  },
  {
   "cell_type": "code",
   "execution_count": 18,
   "metadata": {},
   "outputs": [
    {
     "data": {
      "text/plain": [
       "2"
      ]
     },
     "execution_count": 18,
     "metadata": {},
     "output_type": "execute_result"
    }
   ],
   "source": [
    "eccentr['heygoogle']"
   ]
  },
  {
   "cell_type": "code",
   "execution_count": 19,
   "metadata": {},
   "outputs": [
    {
     "data": {
      "text/plain": [
       "2"
      ]
     },
     "execution_count": 19,
     "metadata": {},
     "output_type": "execute_result"
    }
   ],
   "source": [
    "eccentr['cortana']"
   ]
  },
  {
   "cell_type": "code",
   "execution_count": 20,
   "metadata": {},
   "outputs": [
    {
     "data": {
      "text/plain": [
       "2"
      ]
     },
     "execution_count": 20,
     "metadata": {},
     "output_type": "execute_result"
    }
   ],
   "source": [
    "nx.radius(G)"
   ]
  },
  {
   "cell_type": "code",
   "execution_count": 21,
   "metadata": {},
   "outputs": [
    {
     "data": {
      "text/plain": [
       "['halloween',\n",
       " 'competition',\n",
       " 'techtuesday',\n",
       " 'software',\n",
       " 'historicalfiction',\n",
       " 'homekit',\n",
       " 'smartphones',\n",
       " 'mobileapp',\n",
       " 'echolook',\n",
       " 'flashbriefing',\n",
       " 'echoshow',\n",
       " 'healthcare',\n",
       " 'summary',\n",
       " 'cognition',\n",
       " 'dl',\n",
       " 'neuralnetwork',\n",
       " 'autism',\n",
       " 'autismawareness',\n",
       " 'smartlock',\n",
       " 'sleep',\n",
       " 'bestsleepever',\n",
       " 'update',\n",
       " 'voicecommand',\n",
       " 'speechrecognition',\n",
       " 'voicexp',\n",
       " 'best',\n",
       " 'apps',\n",
       " 'shopping',\n",
       " 'engadget',\n",
       " 'gear',\n",
       " 'digitalhealth',\n",
       " 'talkradio',\n",
       " 'smartwatch',\n",
       " 'tv',\n",
       " 'hackathon',\n",
       " 'contest',\n",
       " 'nlu',\n",
       " 'chatbots',\n",
       " 'raspberrypi',\n",
       " 'ask',\n",
       " 'connectedcar',\n",
       " 'interoperability',\n",
       " 'siriouslysusan',\n",
       " 'boston',\n",
       " 'energetic',\n",
       " '3d',\n",
       " 'phones',\n",
       " 'drones',\n",
       " 'homesecurity',\n",
       " 'dementia',\n",
       " 'alzheimers',\n",
       " 'freetools',\n",
       " 'searchengine',\n",
       " 'wesite',\n",
       " 'alexaranking',\n",
       " 'alexainternet',\n",
       " 'nocost',\n",
       " 'networktools',\n",
       " 'healthit',\n",
       " 'ehealth',\n",
       " 'lol',\n",
       " 'mood',\n",
       " 'makeup',\n",
       " 'tbt',\n",
       " 'np',\n",
       " 'sciencefiction',\n",
       " 'traveltech',\n",
       " 'tucson',\n",
       " 'analytics',\n",
       " 'singapore',\n",
       " 'text',\n",
       " 'meme',\n",
       " 'flashlight',\n",
       " 'weather',\n",
       " 'invoke',\n",
       " 'ios11',\n",
       " 'horror',\n",
       " 'whatismyip',\n",
       " 'browserinfo',\n",
       " 'alexarank',\n",
       " 'seotools',\n",
       " 'ispspeed',\n",
       " 'win',\n",
       " 'techgadgets',\n",
       " 'walkingleader',\n",
       " 'fb',\n",
       " 'sonos',\n",
       " 'zwave',\n",
       " 'smartthings',\n",
       " 'siriismyfriend',\n",
       " 'ecommerce',\n",
       " 'cloud',\n",
       " 'wwe',\n",
       " 'nausea',\n",
       " 'masterchief',\n",
       " 'ford',\n",
       " 'kids',\n",
       " 'scary',\n",
       " 'dot',\n",
       " 'filehistory',\n",
       " 'windows10',\n",
       " 'windows8',\n",
       " 'edtech',\n",
       " 'robotics',\n",
       " 'futureofwork',\n",
       " 'website',\n",
       " 'appleinc',\n",
       " 'electronics',\n",
       " 'wifi',\n",
       " 'ranking',\n",
       " 'rank',\n",
       " 'ideacafechat',\n",
       " 'pics',\n",
       " 'alexaskill',\n",
       " 'personal',\n",
       " 'talk',\n",
       " 'me',\n",
       " 'fire',\n",
       " '4k',\n",
       " 'iphone6plus',\n",
       " 'ios9',\n",
       " 'iosdev',\n",
       " 'finance',\n",
       " 'amazons',\n",
       " 'alexaskills',\n",
       " 'speakers',\n",
       " 'amazonprime',\n",
       " 'tablets',\n",
       " 'indian',\n",
       " 'paranoia',\n",
       " 'smartplugs',\n",
       " 'giveaway',\n",
       " 'assistants',\n",
       " 'camera',\n",
       " 'freebiefriday',\n",
       " 'sony',\n",
       " 'japan',\n",
       " 'socialmedia',\n",
       " 'business',\n",
       " 'dog',\n",
       " 'voip',\n",
       " 'smarttech',\n",
       " 'sonosone',\n",
       " 'itcd',\n",
       " 'advertising',\n",
       " 'automotive',\n",
       " 'mini',\n",
       " 'connectedhome',\n",
       " 'routines',\n",
       " 'phone',\n",
       " 'avs',\n",
       " 'arri',\n",
       " 'sale',\n",
       " 'deals',\n",
       " 'streamingmediaplayer',\n",
       " 'firetvstick',\n",
       " 'bezos',\n",
       " 'reminders',\n",
       " 'ipad',\n",
       " 'asr',\n",
       " 'slashgear',\n",
       " 'august',\n",
       " 'archive',\n",
       " 'fantasy',\n",
       " 'historicalfantasy',\n",
       " 'coding',\n",
       " 'ucaas',\n",
       " 'echoplus',\n",
       " 'firestick',\n",
       " 'leaked',\n",
       " 'podernfamily',\n",
       " 'smallbusiness',\n",
       " 'wwdc',\n",
       " 'security',\n",
       " 'aws',\n",
       " 'interview',\n",
       " 'wholefoods',\n",
       " 'diy',\n",
       " 'lighting',\n",
       " 'berlin',\n",
       " 'accent',\n",
       " 'accentreduction',\n",
       " 'losemyaccent',\n",
       " 'metoo',\n",
       " 'vivlabs',\n",
       " 'startups',\n",
       " 'humanvoice',\n",
       " 'thrivinglaunch',\n",
       " 'namaste',\n",
       " 'millennials',\n",
       " 'podcasting',\n",
       " 'spreaker',\n",
       " 'safari',\n",
       " 'a',\n",
       " 'indiedev',\n",
       " 'appdev',\n",
       " 'ad',\n",
       " 'digitalassistants',\n",
       " 'show',\n",
       " 'lesbian',\n",
       " 'redhead',\n",
       " 'porn',\n",
       " 'sex',\n",
       " 'in',\n",
       " 'javascript',\n",
       " 'sirifail',\n",
       " 'drone',\n",
       " 'nasa',\n",
       " 'appetite',\n",
       " 'gadgets',\n",
       " 'homeelectronics',\n",
       " 'rich',\n",
       " 'tablet',\n",
       " 'sem',\n",
       " 'maps',\n",
       " 'reviews',\n",
       " 'review',\n",
       " 'gadgetry',\n",
       " 'ces2017',\n",
       " 'skill',\n",
       " 'bose',\n",
       " 'insurtech',\n",
       " 'fintech',\n",
       " 'selfie',\n",
       " 'responses',\n",
       " 'stock',\n",
       " 'podcasts',\n",
       " 'chicago',\n",
       " 'voiceactivated',\n",
       " 'purchase',\n",
       " 'smartlighting',\n",
       " 'god',\n",
       " 'voiceui',\n",
       " 'internetofthings',\n",
       " 'grasmere',\n",
       " 'cumbria',\n",
       " 'lakedistrict',\n",
       " 'deezer',\n",
       " 'anamorphic',\n",
       " 'cortona',\n",
       " 'company',\n",
       " 'nodered',\n",
       " 'skype',\n",
       " 'ihome',\n",
       " 'gadget',\n",
       " 'audio',\n",
       " 'strain',\n",
       " 'popular',\n",
       " 'sports',\n",
       " 'hot',\n",
       " 'videos',\n",
       " 'tomas',\n",
       " 'gameofthrones',\n",
       " 'it',\n",
       " 'manners',\n",
       " 'futuretech',\n",
       " 'uplifted',\n",
       " 'brand',\n",
       " 'lambda',\n",
       " 'easteregg',\n",
       " 'cramps',\n",
       " 'amazing',\n",
       " 'infosec',\n",
       " 'marketers',\n",
       " 'can',\n",
       " 'mentalhealth',\n",
       " 'parenting',\n",
       " 'insomnia',\n",
       " 'applemusic',\n",
       " 'amazonechodot',\n",
       " 'banks',\n",
       " 'service',\n",
       " 'ui',\n",
       " 'workshop',\n",
       " 'voicedesign',\n",
       " 'whatsapp',\n",
       " 'disney',\n",
       " 'work',\n",
       " 'ioe',\n",
       " 'ico',\n",
       " 'pharmacy',\n",
       " 'parents',\n",
       " 'w10',\n",
       " 'bluescreenofdeath',\n",
       " 'tap',\n",
       " 'smartphone',\n",
       " 'rock',\n",
       " 'infographic',\n",
       " 'film',\n",
       " 'firstworldproblems',\n",
       " 'hackers',\n",
       " 'icymi',\n",
       " 'ux',\n",
       " 'pikachu',\n",
       " 'devices',\n",
       " 'oprah',\n",
       " 'techcrunch',\n",
       " 'dsntech',\n",
       " 'reinvent',\n",
       " 'hungry',\n",
       " 'depression',\n",
       " 'consumer',\n",
       " 'kubernetes',\n",
       " 'hotel',\n",
       " 'education',\n",
       " 'safety',\n",
       " 'conversationalui',\n",
       " 'awslambda',\n",
       " 'devops',\n",
       " 'deploy',\n",
       " 'code',\n",
       " 'bigbrother',\n",
       " 'red',\n",
       " 'cnet',\n",
       " 'av',\n",
       " 'entertainment',\n",
       " 'techgadgetsguru',\n",
       " 'voicecontrol',\n",
       " 'smartdevices',\n",
       " 'fashion',\n",
       " 'decoracion',\n",
       " 'decoration',\n",
       " 'interior',\n",
       " 'deco',\n",
       " 'musically',\n",
       " 'ge',\n",
       " 'investing',\n",
       " 'poll',\n",
       " 'gaming',\n",
       " 'car',\n",
       " 'pawg',\n",
       " 'collaboration',\n",
       " 'deal',\n",
       " 'random',\n",
       " 'gdpr',\n",
       " 'coffee',\n",
       " 'developers',\n",
       " 'voicetech',\n",
       " 'gps',\n",
       " 'private',\n",
       " 'police',\n",
       " 'philipshue',\n",
       " 'women',\n",
       " 'speak',\n",
       " 'iphone7',\n",
       " 'new',\n",
       " 'today',\n",
       " 'handsfree',\n",
       " 'whoa',\n",
       " 'skills',\n",
       " 'applewatch',\n",
       " 'watchos',\n",
       " 'gamer',\n",
       " 'xboxone',\n",
       " 'newmusic',\n",
       " 'alexamini',\n",
       " '100daysofcode',\n",
       " 'fail',\n",
       " 'iphone8',\n",
       " 'pressure',\n",
       " 'ibm',\n",
       " 'justsaying',\n",
       " 'office365',\n",
       " 'kindle',\n",
       " 'hd',\n",
       " 'vacuum',\n",
       " 'va',\n",
       " 'sleepy',\n",
       " 'display',\n",
       " 'cryptocurrency',\n",
       " 'alex',\n",
       " 'alexadev',\n",
       " 'hacked',\n",
       " 'with',\n",
       " 'microsoftlauncher',\n",
       " 'office',\n",
       " '80s',\n",
       " 'tvs',\n",
       " 'knorox',\n",
       " 'blacktwitter',\n",
       " 'tholukuthiheyy',\n",
       " 'retweet',\n",
       " 'pressplay',\n",
       " 'spasms',\n",
       " 'her',\n",
       " 'voicetechnology',\n",
       " 'serverless',\n",
       " 'thermostat',\n",
       " 'hvac',\n",
       " 'like',\n",
       " 'development',\n",
       " 'diabetes',\n",
       " 'facetime',\n",
       " 'ruby',\n",
       " 'applepay',\n",
       " 'algorithms',\n",
       " 'deeplearning',\n",
       " 'surface',\n",
       " 'happy',\n",
       " 'hiphop',\n",
       " 'robots',\n",
       " 'hub',\n",
       " 'bestbuy',\n",
       " 'ott',\n",
       " 'firetv',\n",
       " 'homebots',\n",
       " 'nhl',\n",
       " 'saturday',\n",
       " 'asksiri',\n",
       " 'support',\n",
       " 'africa',\n",
       " 'windowsphone',\n",
       " 'prime',\n",
       " 'content',\n",
       " 'how',\n",
       " 'mixedreality',\n",
       " 'km',\n",
       " 'knowledgemanagement',\n",
       " 'blogpost',\n",
       " 'breakingnews',\n",
       " 'and',\n",
       " 'you',\n",
       " 'order',\n",
       " 'bigtits',\n",
       " 'smarttv',\n",
       " 'weekend',\n",
       " 'comparison',\n",
       " 'stick',\n",
       " 'bug',\n",
       " 'latest',\n",
       " 'gen',\n",
       " 'itunes',\n",
       " 'jesus',\n",
       " 'geek',\n",
       " 'bollywood',\n",
       " 'rt',\n",
       " 'surveillance',\n",
       " 'lilpump',\n",
       " 'guccigang',\n",
       " 'tunes',\n",
       " 'headaches',\n",
       " 'macos',\n",
       " 'conversationalai',\n",
       " 'api',\n",
       " 'wine',\n",
       " 'polly',\n",
       " 'virtual',\n",
       " 'soundcloud',\n",
       " 'arrialexa',\n",
       " 'podbean',\n",
       " 'allnew',\n",
       " 'firetablet',\n",
       " 'ir',\n",
       " 'iotsecurity',\n",
       " 'brands',\n",
       " 'creative',\n",
       " 'control',\n",
       " 'dry',\n",
       " 'artificial',\n",
       " 'harmankardon',\n",
       " 'starwars',\n",
       " 'nova',\n",
       " 'hard',\n",
       " 'fucked',\n",
       " 'chat',\n",
       " 'productivity',\n",
       " 'gamedev',\n",
       " 'device',\n",
       " 'traffic',\n",
       " 'fiverr',\n",
       " 'smm',\n",
       " 'sophia',\n",
       " 'disruption',\n",
       " 'hospitality',\n",
       " 'outlook',\n",
       " 'furby',\n",
       " 'python',\n",
       " 'programming',\n",
       " 'lduk',\n",
       " 'amazon_echo',\n",
       " 'snrtg',\n",
       " 'itrtg',\n",
       " 'sms',\n",
       " 'radio',\n",
       " 'stress',\n",
       " 'anxiety',\n",
       " 'despacito',\n",
       " 'wearables',\n",
       " 'internetmarketing',\n",
       " 'accessibility',\n",
       " 'startrek',\n",
       " 'oasis',\n",
       " 'staging',\n",
       " 'interiordesigner',\n",
       " 'interiordesign',\n",
       " 'yoga',\n",
       " 'yogionzee',\n",
       " 'fitness',\n",
       " 'meditation',\n",
       " 'smartlife',\n",
       " 'bartender',\n",
       " 'smarthouseaz',\n",
       " 'planning',\n",
       " 'realtor',\n",
       " 'smartcities',\n",
       " 'calendar',\n",
       " 'events',\n",
       " 'smartcity',\n",
       " 'kitchen',\n",
       " 'foodie',\n",
       " 'food',\n",
       " 'walmart',\n",
       " 'heatlhy',\n",
       " 'colors',\n",
       " 'healthyrecipes',\n",
       " 'brain',\n",
       " 'conserve',\n",
       " 'reporting',\n",
       " 'media',\n",
       " 'omgtv',\n",
       " 'kodi',\n",
       " 'lovers',\n",
       " 'humidifier',\n",
       " 'allergies',\n",
       " 'fever',\n",
       " 'hay',\n",
       " 'pollen',\n",
       " 'baby',\n",
       " 'applehomepod',\n",
       " 'information',\n",
       " 'bbc',\n",
       " 'cars',\n",
       " 'websummit',\n",
       " 'watch',\n",
       " 'general',\n",
       " 'uk',\n",
       " 'alexaapp',\n",
       " 'dataprivacy',\n",
       " 'portable',\n",
       " 'bluetooth',\n",
       " 'wireless',\n",
       " 'date',\n",
       " 'a11y',\n",
       " 'firehd',\n",
       " 'cyber',\n",
       " 'lifestyle',\n",
       " 'ecobee4',\n",
       " 'lifx',\n",
       " 'haha',\n",
       " 'offer',\n",
       " 'hack',\n",
       " 'investorseurope',\n",
       " 'conversation',\n",
       " 'wearsalexa',\n",
       " 'marriott',\n",
       " 'cat',\n",
       " 'birthday',\n",
       " 'ukdevs',\n",
       " 'unboxing',\n",
       " 'cool',\n",
       " 'available',\n",
       " 'moto',\n",
       " 'feminism',\n",
       " 'windowsinsiders',\n",
       " 'comedy',\n",
       " 'wordpress',\n",
       " 'tourism',\n",
       " 'games',\n",
       " 'cybermonday',\n",
       " 'tesla',\n",
       " 'askalexa',\n",
       " 'play',\n",
       " 'nsa',\n",
       " 'niajax',\n",
       " 'alexabliss',\n",
       " 'snl',\n",
       " 'cellphones',\n",
       " 'hometheater',\n",
       " 'followers',\n",
       " 'product',\n",
       " 'matlab',\n",
       " 'axon',\n",
       " 'motog',\n",
       " 'smartglasses',\n",
       " 'teen',\n",
       " 'shazam',\n",
       " 'rome',\n",
       " 'sexy',\n",
       " 'people',\n",
       " 'lmao',\n",
       " 'movie',\n",
       " 'happybirthday',\n",
       " 'seizures',\n",
       " 'garmin',\n",
       " 'customers',\n",
       " 'streaming',\n",
       " 'us',\n",
       " 'chatbot',\n",
       " 'oo',\n",
       " 'happybday',\n",
       " 'amazonappsummit',\n",
       " 'big',\n",
       " 'prize',\n",
       " 'london',\n",
       " 'techupdates',\n",
       " 'commands',\n",
       " 'bmw',\n",
       " 'cdo',\n",
       " 'cio',\n",
       " 'crm',\n",
       " 'culture',\n",
       " 'mobileapps',\n",
       " 'jokes',\n",
       " 'linux',\n",
       " 'tits',\n",
       " 'opensource',\n",
       " 'healthtech',\n",
       " 'hometech',\n",
       " 'cats',\n",
       " 'cartoon',\n",
       " 'bangalore',\n",
       " 'angerissues',\n",
       " 'laptop',\n",
       " 'storage',\n",
       " 'voiceover',\n",
       " 'voicerecognition',\n",
       " 'ev',\n",
       " 'gamechanger',\n",
       " 'computers',\n",
       " 'hardware',\n",
       " 'pain',\n",
       " 'headphones',\n",
       " 'snapchat',\n",
       " 'homeassistant',\n",
       " 'web',\n",
       " 'euphoric',\n",
       " 'light',\n",
       " 'australia',\n",
       " 'bing',\n",
       " 'problems',\n",
       " 'grace',\n",
       " 'beautiful',\n",
       " 'asia',\n",
       " 'appletv',\n",
       " 'ia',\n",
       " 'bottish',\n",
       " 'producthunt',\n",
       " 'skynet',\n",
       " 'garyvee',\n",
       " 'applenews',\n",
       " 'follow',\n",
       " 'comment',\n",
       " 'cinematography',\n",
       " 'rap',\n",
       " 'game',\n",
       " 'chung',\n",
       " 'perfect',\n",
       " 'yogi',\n",
       " 'travelling',\n",
       " 'healthyliving',\n",
       " 'moz',\n",
       " 'voiceinterface',\n",
       " 'enterprise',\n",
       " 'cute',\n",
       " 'jibo',\n",
       " 'heating',\n",
       " 'native',\n",
       " 'electronic',\n",
       " 'monitor',\n",
       " 'story',\n",
       " 'conversations',\n",
       " 'have',\n",
       " 'features',\n",
       " 'potato',\n",
       " 'remote',\n",
       " 'webtraffic',\n",
       " 'fiverrgig',\n",
       " 'serp',\n",
       " '3dprinting',\n",
       " 'tc',\n",
       " 'winning',\n",
       " 'english',\n",
       " 'hindi',\n",
       " 'colleges',\n",
       " 'bible',\n",
       " 'hiring',\n",
       " 'jobs',\n",
       " 'party',\n",
       " 'germany',\n",
       " 'techtrends',\n",
       " 'speech',\n",
       " 'appstore',\n",
       " 'dating',\n",
       " 'voiceassistants',\n",
       " 'banking',\n",
       " 'first',\n",
       " 'anal',\n",
       " 'super',\n",
       " 'money',\n",
       " 'course',\n",
       " 'realestate',\n",
       " 'ass',\n",
       " 'cock',\n",
       " 'humpday',\n",
       " 'alexadevs',\n",
       " 'laptops',\n",
       " 'focused',\n",
       " 'house',\n",
       " 'augmentedreality',\n",
       " 'thankyou',\n",
       " 'faceid',\n",
       " 'drupal',\n",
       " 'amazonfire',\n",
       " 'virtualassistants',\n",
       " 'allo',\n",
       " 'voiceshopping',\n",
       " 'lex',\n",
       " 'artificalintelligence',\n",
       " 'periscope',\n",
       " 'engineering',\n",
       " 'market',\n",
       " 'esp8266',\n",
       " 'arduino',\n",
       " 'nlp',\n",
       " 'leica',\n",
       " 'mate',\n",
       " 'dual',\n",
       " 'rockyhorror',\n",
       " 'theverge',\n",
       " 'bot',\n",
       " 'nodejs',\n",
       " 'primemusic',\n",
       " 'blonde',\n",
       " 'nude',\n",
       " 'deepmind',\n",
       " 'job',\n",
       " 'hacking',\n",
       " 'tutorial',\n",
       " 'botframework',\n",
       " 'ghost',\n",
       " 'autocorrect',\n",
       " 'holidays',\n",
       " 'canada',\n",
       " 'ecobee',\n",
       " 'handmade',\n",
       " 'amazongiveaway',\n",
       " 'entrepreneurs',\n",
       " 'gb',\n",
       " 'please',\n",
       " 'iphones',\n",
       " 'msftadvocate',\n",
       " 'southpark',\n",
       " 'hardcore',\n",
       " 'girl',\n",
       " 'intelligent',\n",
       " 'harrypotter',\n",
       " 'online',\n",
       " 'computing',\n",
       " 'roku',\n",
       " 'logitech',\n",
       " 'powerbi',\n",
       " 'tgif',\n",
       " 'world',\n",
       " 'friday',\n",
       " 'commerce',\n",
       " 'russia',\n",
       " 'cooking',\n",
       " 'mother',\n",
       " 'save',\n",
       " 'atlanta',\n",
       " 'television',\n",
       " 'life',\n",
       " 'stitcher',\n",
       " 'xxx',\n",
       " 'dish',\n",
       " 'jeopardy',\n",
       " 'cognitive',\n",
       " 'carplay',\n",
       " '4ir',\n",
       " 'amazonmusic',\n",
       " 'newtech',\n",
       " 'cambridge',\n",
       " 'galaxy',\n",
       " 'technologies',\n",
       " 'fatigue',\n",
       " 'lights',\n",
       " 'inflammation',\n",
       " 'accessories',\n",
       " 'truth',\n",
       " 'research',\n",
       " 'homebot',\n",
       " 'connected',\n",
       " 'voiceactivation',\n",
       " 'npr',\n",
       " 'scifi',\n",
       " 'auto',\n",
       " 'aging',\n",
       " 'amazontap',\n",
       " 'works',\n",
       " '3dprinter',\n",
       " 'raw',\n",
       " 'winners',\n",
       " 'amazonkindle',\n",
       " 'guide',\n",
       " 'virtualreality',\n",
       " 'cloudcam',\n",
       " 'rude',\n",
       " 'petra',\n",
       " 'goodmorning',\n",
       " 'iosapp',\n",
       " 'repost',\n",
       " 'queen',\n",
       " 'led',\n",
       " 'macbookpro',\n",
       " 'hear',\n",
       " 'amazondot',\n",
       " 'beer',\n",
       " 'digitaltransformation',\n",
       " 'insurance',\n",
       " 'player',\n",
       " 'ivr',\n",
       " 'deebot',\n",
       " 'clinicaltrials',\n",
       " 'php',\n",
       " 'smallbiz',\n",
       " 'listening',\n",
       " 'iotforum',\n",
       " 'realtors',\n",
       " 'designthinking',\n",
       " 'mantras',\n",
       " 'chanting',\n",
       " 'ghandi',\n",
       " 'xmas',\n",
       " 'thanksgiving',\n",
       " 'translator',\n",
       " 'smartcar',\n",
       " 'alexadevdays',\n",
       " 'art',\n",
       " 'webcomic',\n",
       " 'comic',\n",
       " 'comics',\n",
       " 'xplan',\n",
       " 'personalization',\n",
       " 'family',\n",
       " 'csharp',\n",
       " 'dynamics365',\n",
       " 'relaxed',\n",
       " 'cia',\n",
       " 'b2b',\n",
       " 'pandora',\n",
       " 'dance',\n",
       " 'tips',\n",
       " 'muse',\n",
       " 'song',\n",
       " 'tuesdaythoughts',\n",
       " 'lenovo',\n",
       " 'memes',\n",
       " 'customerservice',\n",
       " 'navigation',\n",
       " 'tunein',\n",
       " 'babe',\n",
       " 'boobs',\n",
       " 'working',\n",
       " 'drinking',\n",
       " 'meetings',\n",
       " 'rohitprasad',\n",
       " 'musicvideos',\n",
       " 'digitalcinema',\n",
       " 'redcinema',\n",
       " 'africangrey',\n",
       " 'wednesdaywisdom',\n",
       " 'interiordesigners',\n",
       " 'translation',\n",
       " 'morning',\n",
       " 'breakfast',\n",
       " 'mugabe',\n",
       " 'bills',\n",
       " 'deadpool2',\n",
       " 'globalnewsmorning',\n",
       " 'weday',\n",
       " 'voiceapps',\n",
       " 'beauty',\n",
       " 'creditcard',\n",
       " 'crypto',\n",
       " 'platform',\n",
       " 'bargain',\n",
       " 'biometrics',\n",
       " 'androidnews',\n",
       " 'roxy',\n",
       " 'laugh',\n",
       " 'nba',\n",
       " 'starwars40th',\n",
       " 'spanish',\n",
       " 'hrtech',\n",
       " 'vc',\n",
       " 'hr',\n",
       " 'workplace',\n",
       " 'french',\n",
       " 'retailers',\n",
       " 'workflow',\n",
       " 'parrots',\n",
       " 'wrestling',\n",
       " 'woman',\n",
       " 'question',\n",
       " 'surfacepro',\n",
       " 'dyk',\n",
       " 'pussy',\n",
       " 'vo',\n",
       " 'terminator',\n",
       " 'dadlife',\n",
       " 'sirikit',\n",
       " 'integration',\n",
       " 'backlinks',\n",
       " 'finserv',\n",
       " 'parrot',\n",
       " 'learn',\n",
       " 'trending',\n",
       " 'genz',\n",
       " 'hashtag',\n",
       " 'databreach',\n",
       " 'live',\n",
       " 'now',\n",
       " 'daily',\n",
       " 'touchscreen',\n",
       " 'monitoring',\n",
       " 'dogs',\n",
       " 'reinvent2017',\n",
       " 'mayoclinicminute',\n",
       " 'firstaid',\n",
       " 'seattle',\n",
       " 'entrepreneur',\n",
       " 'amira',\n",
       " 'kisw',\n",
       " 'webcomics',\n",
       " 'bliss',\n",
       " 'omg',\n",
       " 'azurefunctions',\n",
       " 'usa',\n",
       " 'build16215',\n",
       " 'imacpro',\n",
       " 'fitbit',\n",
       " 'imac',\n",
       " 'videogames',\n",
       " 'hal9000',\n",
       " 'macbook',\n",
       " 'sundaymorning',\n",
       " 'tuneinradio',\n",
       " 'sunday',\n",
       " 'writing',\n",
       " 'patriots',\n",
       " 'alarm',\n",
       " 'siriusxm',\n",
       " 'command',\n",
       " 'flyeaglesfly',\n",
       " 'users',\n",
       " 'contentmarketing',\n",
       " 'bts',\n",
       " 'tricks',\n",
       " 'roomba',\n",
       " 'report',\n",
       " 'advert',\n",
       " 'momlife',\n",
       " 'arlo',\n",
       " 'belkin',\n",
       " 'win10',\n",
       " 'eavesdropping',\n",
       " 'dr',\n",
       " 'chance',\n",
       " 'naturaltits',\n",
       " 'power',\n",
       " 'blackfridaydeals',\n",
       " 'essential',\n",
       " 'books',\n",
       " 'human',\n",
       " 'mindblown',\n",
       " 'energy',\n",
       " 'fetish',\n",
       " 'amzn',\n",
       " 'dakotajohnson',\n",
       " 'chris',\n",
       " 'smarthouse',\n",
       " 'dizzy',\n",
       " 'friends',\n",
       " 'googlemini',\n",
       " 'neo4j',\n",
       " 'customer',\n",
       " 'orclapex',\n",
       " 'blessed',\n",
       " 'blind',\n",
       " 'funnyvideos',\n",
       " 'amazonfiretv',\n",
       " 'cellphone',\n",
       " 'blowjob',\n",
       " 'cloudcomputing',\n",
       " 'ashes',\n",
       " 'wemo',\n",
       " 'userexperience',\n",
       " 'uxdesign',\n",
       " 'pc',\n",
       " 'cryptos',\n",
       " ...]"
      ]
     },
     "execution_count": 21,
     "metadata": {},
     "output_type": "execute_result"
    }
   ],
   "source": [
    "nx.periphery(G)"
   ]
  },
  {
   "cell_type": "code",
   "execution_count": 22,
   "metadata": {},
   "outputs": [
    {
     "data": {
      "text/plain": [
       "['alexa',\n",
       " 'ai',\n",
       " 'iot',\n",
       " 'speaker',\n",
       " 'amazon',\n",
       " 'siri',\n",
       " 'amazonecho',\n",
       " 'smarthome',\n",
       " 'cortana',\n",
       " 'tech',\n",
       " 'googlehome',\n",
       " 'virtualassistant',\n",
       " 'echo',\n",
       " 'echodot',\n",
       " 'bixby',\n",
       " 'samsung',\n",
       " 'assistant',\n",
       " 'health',\n",
       " 'news',\n",
       " 'ml',\n",
       " 'bots',\n",
       " 'machinelearning',\n",
       " 'voicefirst',\n",
       " 'google',\n",
       " 'windows',\n",
       " 'android',\n",
       " 'halo',\n",
       " 'home',\n",
       " 'voice',\n",
       " 'developer',\n",
       " 'googleassistant',\n",
       " 'voicesearch',\n",
       " 'heygoogle',\n",
       " 'howto',\n",
       " 'technology',\n",
       " 'automation',\n",
       " 'future',\n",
       " 'apple',\n",
       " 'seo',\n",
       " 'ifttt',\n",
       " 'iphone',\n",
       " 'smartassistant',\n",
       " 'microsoft',\n",
       " 'homepod',\n",
       " 'spotify',\n",
       " 'nyc',\n",
       " 'mom',\n",
       " 'homeautomation',\n",
       " 'app',\n",
       " 'startup',\n",
       " 'youtube',\n",
       " 'bigdata',\n",
       " 'smartspeaker',\n",
       " 'india',\n",
       " 'artificialintelligence',\n",
       " 'iphonex',\n",
       " 'ios',\n",
       " 'podcast',\n",
       " 'twitter',\n",
       " 'music',\n",
       " 'androiddev',\n",
       " 'video',\n",
       " 'womenintech',\n",
       " 'intel',\n",
       " 'digital',\n",
       " 'love',\n",
       " 'robot',\n",
       " 'digitalassistant',\n",
       " 'privacy',\n",
       " 'computer',\n",
       " 'amazonalexa',\n",
       " 'watson',\n",
       " 'vui',\n",
       " 'cx',\n",
       " 'data',\n",
       " 'technews',\n",
       " 'digitalmarketing',\n",
       " 'wtf',\n",
       " 'search',\n",
       " 'marketing',\n",
       " 'help',\n",
       " 'vr',\n",
       " 'mobile',\n",
       " 'nest',\n",
       " 'sales',\n",
       " 'funny',\n",
       " 'mac',\n",
       " 'innovation',\n",
       " 'blockchain',\n",
       " 'retail',\n",
       " 'hue',\n",
       " 'facebook',\n",
       " 'customerexperience',\n",
       " 'thursdaythoughts',\n",
       " 'stem',\n",
       " 'blackfriday',\n",
       " 'voiceassistant',\n",
       " 'uber',\n",
       " 'fun',\n",
       " 'okgoogle',\n",
       " 'holiday',\n",
       " 'chrome',\n",
       " 'trends',\n",
       " 'smarthomes',\n",
       " 'dev',\n",
       " 'trump',\n",
       " 'smart',\n",
       " 'thanks',\n",
       " 'smartspeakers',\n",
       " 'useless',\n",
       " 'highered',\n",
       " 'free',\n",
       " 'fridayfeeling',\n",
       " 'blog',\n",
       " 'hilarious',\n",
       " 'email',\n",
       " 'netflix',\n",
       " 'googlehomemini',\n",
       " 'design',\n",
       " 'ar',\n",
       " 'creepy',\n",
       " 'personalassistant',\n",
       " 'learning',\n",
       " 'humor',\n",
       " 'pixel2',\n",
       " 'travel',\n",
       " 'heysiri',\n",
       " 'black',\n",
       " 'datascience',\n",
       " 'mondaymotivation',\n",
       " 'the',\n",
       " 'cybersecurity',\n",
       " 'dad',\n",
       " 'joke',\n",
       " 'bitcoin',\n",
       " 'nfl',\n",
       " 'huawei',\n",
       " 'googlenow',\n",
       " 'azure',\n",
       " 'ces2018',\n",
       " 'mrx',\n",
       " 'okaygoogle',\n",
       " 'christmas',\n",
       " 'awesome',\n",
       " 'savage',\n",
       " 'xbox',\n",
       " 'internet',\n",
       " 'instagram',\n",
       " 'ces',\n",
       " 'ces18',\n",
       " 'donaldtrump',\n",
       " 'wow',\n",
       " 'hey',\n",
       " 'monday',\n",
       " 'commercial',\n",
       " 'demo',\n",
       " 'qanon',\n",
       " 'singularity',\n",
       " 'notifications',\n",
       " 'scottish',\n",
       " 'feedly',\n",
       " 'hal',\n",
       " 'lg',\n",
       " 'chromebook',\n",
       " 'valentinesday',\n",
       " 'superbowl',\n",
       " 'lgbt',\n",
       " 'oscars',\n",
       " 'mwc18',\n",
       " 'googleio',\n",
       " 'io18']"
      ]
     },
     "execution_count": 22,
     "metadata": {},
     "output_type": "execute_result"
    }
   ],
   "source": [
    "nx.center(G)"
   ]
  },
  {
   "cell_type": "markdown",
   "metadata": {},
   "source": [
    "connected components"
   ]
  },
  {
   "cell_type": "code",
   "execution_count": 24,
   "metadata": {},
   "outputs": [
    {
     "data": {
      "text/plain": [
       "True"
      ]
     },
     "execution_count": 24,
     "metadata": {},
     "output_type": "execute_result"
    }
   ],
   "source": [
    "nx.is_connected(G)"
   ]
  },
  {
   "cell_type": "code",
   "execution_count": 39,
   "metadata": {},
   "outputs": [
    {
     "data": {
      "text/plain": [
       "1"
      ]
     },
     "execution_count": 39,
     "metadata": {},
     "output_type": "execute_result"
    }
   ],
   "source": [
    "nx.number_connected_components(G)"
   ]
  },
  {
   "cell_type": "markdown",
   "metadata": {},
   "source": [
    "network robustness"
   ]
  },
  {
   "cell_type": "code",
   "execution_count": 25,
   "metadata": {},
   "outputs": [
    {
     "data": {
      "text/plain": [
       "1"
      ]
     },
     "execution_count": 25,
     "metadata": {},
     "output_type": "execute_result"
    }
   ],
   "source": [
    "nx.node_connectivity(G)"
   ]
  },
  {
   "cell_type": "code",
   "execution_count": 26,
   "metadata": {},
   "outputs": [
    {
     "data": {
      "text/plain": [
       "1"
      ]
     },
     "execution_count": 26,
     "metadata": {},
     "output_type": "execute_result"
    }
   ],
   "source": [
    "nx.edge_connectivity(G)"
   ]
  },
  {
   "cell_type": "markdown",
   "metadata": {},
   "source": [
    "degree and closeness centrality"
   ]
  },
  {
   "cell_type": "code",
   "execution_count": 27,
   "metadata": {},
   "outputs": [],
   "source": [
    "degCent = nx.degree_centrality(G)"
   ]
  },
  {
   "cell_type": "code",
   "execution_count": 28,
   "metadata": {},
   "outputs": [
    {
     "data": {
      "text/plain": [
       "0.9374687343671835"
      ]
     },
     "execution_count": 28,
     "metadata": {},
     "output_type": "execute_result"
    }
   ],
   "source": [
    "degCent['alexa']"
   ]
  },
  {
   "cell_type": "code",
   "execution_count": 29,
   "metadata": {},
   "outputs": [
    {
     "data": {
      "text/plain": [
       "0.6263131565782891"
      ]
     },
     "execution_count": 29,
     "metadata": {},
     "output_type": "execute_result"
    }
   ],
   "source": [
    "degCent['siri']"
   ]
  },
  {
   "cell_type": "code",
   "execution_count": 30,
   "metadata": {},
   "outputs": [
    {
     "data": {
      "text/plain": [
       "0.15107553776888444"
      ]
     },
     "execution_count": 30,
     "metadata": {},
     "output_type": "execute_result"
    }
   ],
   "source": [
    "degCent['heygoogle']"
   ]
  },
  {
   "cell_type": "code",
   "execution_count": 31,
   "metadata": {},
   "outputs": [
    {
     "data": {
      "text/plain": [
       "0.336168084042021"
      ]
     },
     "execution_count": 31,
     "metadata": {},
     "output_type": "execute_result"
    }
   ],
   "source": [
    "degCent['cortana']"
   ]
  },
  {
   "cell_type": "code",
   "execution_count": 32,
   "metadata": {},
   "outputs": [],
   "source": [
    "top_deg = sorted(degCent.items(), key=lambda x:-x[1])"
   ]
  },
  {
   "cell_type": "code",
   "execution_count": 33,
   "metadata": {},
   "outputs": [
    {
     "data": {
      "text/plain": [
       "[('alexa', 0.9374687343671835),\n",
       " ('amazon', 0.6298149074537268),\n",
       " ('siri', 0.6263131565782891),\n",
       " ('ai', 0.4167083541770885),\n",
       " ('tech', 0.3526763381690845),\n",
       " ('echo', 0.3401700850425212),\n",
       " ('cortana', 0.336168084042021),\n",
       " ('google', 0.3341670835417709),\n",
       " ('apple', 0.3076538269134567),\n",
       " ('amazonecho', 0.27313656828414207),\n",
       " ('technology', 0.2676338169084542),\n",
       " ('voice', 0.26163081540770383),\n",
       " ('iot', 0.2436218109054527),\n",
       " ('smarthome', 0.22461230615307654),\n",
       " ('googlehome', 0.21260630315157578),\n",
       " ('amazonalexa', 0.2051025512756378),\n",
       " ('news', 0.19009504752376186),\n",
       " ('googleassistant', 0.17408704352176088),\n",
       " ('iphone', 0.1715857928964482),\n",
       " ('heygoogle', 0.15107553776888444),\n",
       " ('microsoft', 0.144072036018009),\n",
       " ('echodot', 0.14307153576788392),\n",
       " ('music', 0.14057028514257128),\n",
       " ('ios', 0.13656828414207103),\n",
       " ('voicefirst', 0.13606803401700848),\n",
       " ('artificialintelligence', 0.1295647823911956),\n",
       " ('technews', 0.12856428214107052),\n",
       " ('business', 0.128064032016008),\n",
       " ('assistant', 0.12556278139069535),\n",
       " ('android', 0.12056028014007003),\n",
       " ('homepod', 0.12056028014007003),\n",
       " ('home', 0.11555777888944471),\n",
       " ('smart', 0.11455727863931965),\n",
       " ('machinelearning', 0.10705352676338169),\n",
       " ('video', 0.10655327663831915),\n",
       " ('ces2018', 0.10155077538769385),\n",
       " ('security', 0.09654827413706853),\n",
       " ('gadgets', 0.09404702351175587),\n",
       " ('innovation', 0.0930465232616308),\n",
       " ('digital', 0.09204602301150575),\n",
       " ('app', 0.09004502251125562),\n",
       " ('funny', 0.08954477238619309),\n",
       " ('privacy', 0.08904452226113056),\n",
       " ('vui', 0.08904452226113056),\n",
       " ('aws', 0.08904452226113056),\n",
       " ('marketing', 0.0880440220110055),\n",
       " ('tv', 0.08704352176088044),\n",
       " ('mobile', 0.08704352176088044),\n",
       " ('speaker', 0.08554277138569284),\n",
       " ('skills', 0.0850425212606303)]"
      ]
     },
     "execution_count": 33,
     "metadata": {},
     "output_type": "execute_result"
    }
   ],
   "source": [
    "top_deg[:50]"
   ]
  },
  {
   "cell_type": "code",
   "execution_count": 66,
   "metadata": {},
   "outputs": [],
   "source": [
    "with open('../data/top_degree.csv', 'w', newline = '') as f:\n",
    "    w = csv.writer(f, delimiter=',')\n",
    "    w.writerow(['node', 'centrality'])\n",
    "    for data in top_deg:\n",
    "        w.writerow([data[0], data[1]])"
   ]
  },
  {
   "cell_type": "code",
   "execution_count": 35,
   "metadata": {},
   "outputs": [],
   "source": [
    "closeCent = nx.closeness_centrality(G)"
   ]
  },
  {
   "cell_type": "code",
   "execution_count": 36,
   "metadata": {},
   "outputs": [
    {
     "data": {
      "text/plain": [
       "[('alexa', 0.9411487758945386),\n",
       " ('amazon', 0.7298284045271997),\n",
       " ('siri', 0.7279679533867444),\n",
       " ('ai', 0.6315955766192733),\n",
       " ('tech', 0.6070452474946857),\n",
       " ('echo', 0.6024713682941532),\n",
       " ('cortana', 0.6010222489476849),\n",
       " ('google', 0.6003003003003003),\n",
       " ('apple', 0.5908956547443098),\n",
       " ('amazonecho', 0.5790845886442642),\n",
       " ('technology', 0.5772451631533353),\n",
       " ('voice', 0.575251798561151),\n",
       " ('iot', 0.5693534605525491),\n",
       " ('smarthome', 0.5632572555649479),\n",
       " ('googlehome', 0.5594738315141338),\n",
       " ('amazonalexa', 0.5571348940914158),\n",
       " ('news', 0.5525152017689331),\n",
       " ('googleassistant', 0.5476712328767124),\n",
       " ('iphone', 0.546922024623803),\n",
       " ('heygoogle', 0.5408549783549783),\n",
       " ('microsoft', 0.5388140161725068),\n",
       " ('echodot', 0.5385237068965517),\n",
       " ('music', 0.5377993005111649),\n",
       " ('ios', 0.5366442953020134),\n",
       " ('voicefirst', 0.5365002683843264),\n",
       " ('artificialintelligence', 0.5346349291254346),\n",
       " ('technews', 0.5343491045175087),\n",
       " ('business', 0.5339209401709402),\n",
       " ('assistant', 0.5334934614358153),\n",
       " ('android', 0.5320734628693106),\n",
       " ('homepod', 0.5320734628693106),\n",
       " ('home', 0.5306610034510221),\n",
       " ('smart', 0.5303794109843459),\n",
       " ('machinelearning', 0.528276955602537),\n",
       " ('video', 0.5281373844121532),\n",
       " ('ces2018', 0.5267457180500659),\n",
       " ('security', 0.5248096613284327),\n",
       " ('innovation', 0.5243966421825813),\n",
       " ('gadgets', 0.5242591135588776),\n",
       " ('digital', 0.5241216570529628),\n",
       " ('app', 0.5235725510738607),\n",
       " ('funny', 0.5234354543074103),\n",
       " ('privacy', 0.5232984293193718),\n",
       " ('vui', 0.5232984293193718),\n",
       " ('aws', 0.5230245944531658),\n",
       " ('marketing', 0.5230245944531658),\n",
       " ('mobile', 0.5227510460251046),\n",
       " ('speaker', 0.5223412594721714),\n",
       " ('tv', 0.5220684251762863),\n",
       " ('skills', 0.5219321148825066)]"
      ]
     },
     "execution_count": 36,
     "metadata": {},
     "output_type": "execute_result"
    }
   ],
   "source": [
    "top_close = sorted(closeCent.items(), key=lambda x:-x[1])\n",
    "top_close[:50]"
   ]
  },
  {
   "cell_type": "code",
   "execution_count": 68,
   "metadata": {},
   "outputs": [],
   "source": [
    "with open('../data/top_close.csv', 'w', newline = '') as f:\n",
    "    w = csv.writer(f, delimiter=',')\n",
    "    w.writerow(['node', 'centrality'])\n",
    "    for data in top_close:\n",
    "        w.writerow([data[0], data[1]])"
   ]
  },
  {
   "cell_type": "code",
   "execution_count": 38,
   "metadata": {},
   "outputs": [
    {
     "data": {
      "text/plain": [
       "0.9411487758945386"
      ]
     },
     "execution_count": 38,
     "metadata": {},
     "output_type": "execute_result"
    }
   ],
   "source": [
    "closeCent['alexa']"
   ]
  },
  {
   "cell_type": "code",
   "execution_count": 39,
   "metadata": {},
   "outputs": [
    {
     "data": {
      "text/plain": [
       "0.7279679533867444"
      ]
     },
     "execution_count": 39,
     "metadata": {},
     "output_type": "execute_result"
    }
   ],
   "source": [
    "closeCent['siri']"
   ]
  },
  {
   "cell_type": "code",
   "execution_count": 40,
   "metadata": {},
   "outputs": [
    {
     "data": {
      "text/plain": [
       "0.5408549783549783"
      ]
     },
     "execution_count": 40,
     "metadata": {},
     "output_type": "execute_result"
    }
   ],
   "source": [
    "closeCent['heygoogle']"
   ]
  },
  {
   "cell_type": "code",
   "execution_count": 41,
   "metadata": {},
   "outputs": [
    {
     "data": {
      "text/plain": [
       "0.6010222489476849"
      ]
     },
     "execution_count": 41,
     "metadata": {},
     "output_type": "execute_result"
    }
   ],
   "source": [
    "closeCent['cortana']"
   ]
  },
  {
   "cell_type": "markdown",
   "metadata": {},
   "source": [
    "betweenness centrality"
   ]
  },
  {
   "cell_type": "code",
   "execution_count": 42,
   "metadata": {},
   "outputs": [],
   "source": [
    "btwnCent = nx.betweenness_centrality(G, normalized = True, endpoints = False, weight='weight')"
   ]
  },
  {
   "cell_type": "code",
   "execution_count": 43,
   "metadata": {},
   "outputs": [
    {
     "data": {
      "text/plain": [
       "[('alexa', 0.14598287574813562),\n",
       " ('siri', 0.08832168346530446),\n",
       " ('amazon', 0.05345581147219061),\n",
       " ('cortana', 0.04979213514637725),\n",
       " ('tech', 0.039015504043909854),\n",
       " ('google', 0.03824042410621718),\n",
       " ('apple', 0.03353028772986929),\n",
       " ('ai', 0.029896163507076492),\n",
       " ('voice', 0.02944664341045183),\n",
       " ('echo', 0.02895732319153679),\n",
       " ('amazonecho', 0.026768549126300938),\n",
       " ('technology', 0.02591094528217608),\n",
       " ('heygoogle', 0.022140905426458985),\n",
       " ('googlehome', 0.021741241994961958),\n",
       " ('amazonalexa', 0.02062300577252989),\n",
       " ('smarthome', 0.019413380590367867),\n",
       " ('news', 0.01834668323838333),\n",
       " ('iphone', 0.016461585557662875),\n",
       " ('iot', 0.016417827776973343),\n",
       " ('googleassistant', 0.015162672360855885),\n",
       " ('video', 0.013099531062329844),\n",
       " ('echodot', 0.011936004794219576),\n",
       " ('voicefirst', 0.011889779715629408),\n",
       " ('artificialintelligence', 0.011411896221078213),\n",
       " ('microsoft', 0.010927204760128217),\n",
       " ('business', 0.010914161866275324),\n",
       " ('ios', 0.010861492482186862),\n",
       " ('technews', 0.009203420005597011),\n",
       " ('funny', 0.008784744027294367),\n",
       " ('music', 0.008714778775101859),\n",
       " ('android', 0.008183320137341014),\n",
       " ('assistant', 0.008181961227781835),\n",
       " ('home', 0.007340973824343455),\n",
       " ('tv', 0.0070516977055118),\n",
       " ('app', 0.006891786812246979),\n",
       " ('usa', 0.006706767838589749),\n",
       " ('homepod', 0.0066343395194178225),\n",
       " ('skills', 0.006398979252332477),\n",
       " ('smartspeaker', 0.006208928418031607),\n",
       " ('retail', 0.0061326729339551),\n",
       " ('skill', 0.006071521025258352),\n",
       " ('facebook', 0.00605031800159704),\n",
       " ('ads', 0.0060470520800791),\n",
       " ('marketing', 0.006001749108456841),\n",
       " ('free', 0.005970198116523645),\n",
       " ('alexaskills', 0.005874151183314716),\n",
       " ('smart', 0.005803434525722757),\n",
       " ('aws', 0.005444859019366767),\n",
       " ('new', 0.005231729399180416),\n",
       " ('search', 0.005228705524301429)]"
      ]
     },
     "execution_count": 43,
     "metadata": {},
     "output_type": "execute_result"
    }
   ],
   "source": [
    "top_btwn = sorted(btwnCent.items(), key=lambda x:-x[1])\n",
    "top_btwn[:50]"
   ]
  },
  {
   "cell_type": "code",
   "execution_count": 44,
   "metadata": {},
   "outputs": [
    {
     "data": {
      "text/plain": [
       "0.08832168346530446"
      ]
     },
     "execution_count": 44,
     "metadata": {},
     "output_type": "execute_result"
    }
   ],
   "source": [
    "btwnCent['siri']"
   ]
  },
  {
   "cell_type": "code",
   "execution_count": 45,
   "metadata": {},
   "outputs": [
    {
     "data": {
      "text/plain": [
       "0.14598287574813562"
      ]
     },
     "execution_count": 45,
     "metadata": {},
     "output_type": "execute_result"
    }
   ],
   "source": [
    "btwnCent['alexa']"
   ]
  },
  {
   "cell_type": "code",
   "execution_count": 46,
   "metadata": {},
   "outputs": [
    {
     "data": {
      "text/plain": [
       "0.04979213514637725"
      ]
     },
     "execution_count": 46,
     "metadata": {},
     "output_type": "execute_result"
    }
   ],
   "source": [
    "btwnCent['cortana']"
   ]
  },
  {
   "cell_type": "code",
   "execution_count": 47,
   "metadata": {},
   "outputs": [
    {
     "data": {
      "text/plain": [
       "0.022140905426458985"
      ]
     },
     "execution_count": 47,
     "metadata": {},
     "output_type": "execute_result"
    }
   ],
   "source": [
    "btwnCent['heygoogle']"
   ]
  },
  {
   "cell_type": "code",
   "execution_count": 69,
   "metadata": {},
   "outputs": [],
   "source": [
    "with open('../data/top_btwn.csv', 'w', newline = '') as f:\n",
    "    w = csv.writer(f, delimiter=',')\n",
    "    w.writerow(['node', 'centrality'])\n",
    "    for data in top_btwn:\n",
    "        w.writerow([data[0], data[1]])"
   ]
  },
  {
   "cell_type": "code",
   "execution_count": 49,
   "metadata": {},
   "outputs": [],
   "source": [
    "btwnCent_edge = nx.edge_betweenness_centrality(G, normalized = True, weight='weight')"
   ]
  },
  {
   "cell_type": "code",
   "execution_count": 50,
   "metadata": {},
   "outputs": [
    {
     "data": {
      "text/plain": [
       "[(('alexa', 'learningdisabilities'), 0.003958492356654325),\n",
       " (('alexa', 'retail'), 0.0032941672824181533),\n",
       " (('alexa', 'free'), 0.0032271391383378585),\n",
       " (('alexa', 'grasmere'), 0.002996998499249625),\n",
       " (('cortana', 'eurovision'), 0.002795254340772306),\n",
       " (('alexa', 'echoshow'), 0.0026606849840014853),\n",
       " (('alexa', 'smartphone'), 0.002302409344503905),\n",
       " (('cortana', 'dorkypickuplines'), 0.002243110042812933),\n",
       " (('alexa', 'black'), 0.0021946424917393278),\n",
       " (('alexa', 'sales'), 0.002184358445733677),\n",
       " (('alexa', 'phone'), 0.0021565887064126225),\n",
       " (('alexa', 'podcasts'), 0.0020380528677920134),\n",
       " (('alexa', 'fail'), 0.002033102577262314),\n",
       " (('siri', 'talkradio'), 0.0020148094198294765),\n",
       " (('alexa', 'porn'), 0.002001626161743852),\n",
       " (('cortana', 'csharpcon18'), 0.001998999499749875),\n",
       " (('thermostat', 'heating'), 0.001998999499749875),\n",
       " (('alexa', 'electronics'), 0.0019357502956584606),\n",
       " (('siri', 'video'), 0.001902337223034617),\n",
       " (('alexa', 'family'), 0.0018877032611577076),\n",
       " (('alexa', 'london'), 0.001868501681105673),\n",
       " (('alexa', 'digitalassistants'), 0.0018655500071593806),\n",
       " (('siri', 'bigboobs'), 0.0018527952041770465),\n",
       " (('alexa', 'halo'), 0.0018515679588673917),\n",
       " (('talkradio', 'trumpkimsummit'), 0.0018408836611751953),\n",
       " (('alexa', 'mother'), 0.001838904659783295),\n",
       " (('alexa', 'big'), 0.0018209166020233016),\n",
       " (('autism', 'love'), 0.0018004562897399985),\n",
       " (('alexa', 'invoke'), 0.001732790348435007),\n",
       " (('alexa', 'voicerecognition'), 0.0017175542996070126),\n",
       " (('onairnow', 'eurovision'), 0.0016836315373338533),\n",
       " (('alexa', 'wwdc'), 0.0016798091241559615),\n",
       " (('siri', 'healthyliving'), 0.0016223963035818276),\n",
       " (('usa', 'spygate'), 0.001619094255825461),\n",
       " (('alexa', 'hard'), 0.0015941024358030497),\n",
       " (('alexa', 'computers'), 0.0015840121788963395),\n",
       " (('alexa', 'insight'), 0.0015117620820287966),\n",
       " (('iot', 'cortana'), 0.001509570300151267),\n",
       " (('alexa', 'text'), 0.0015031935757736222),\n",
       " (('alexa', 'ps4'), 0.0014922162943515201),\n",
       " (('smartspeaker', 'blogpost'), 0.0014837077880231896),\n",
       " (('alexa', 'features'), 0.001476210384012563),\n",
       " (('china', 'scotus'), 0.0014735826457203873),\n",
       " (('alexa', 'bbc'), 0.001473104416373383),\n",
       " (('feminism', 'snl'), 0.0014637186441173724),\n",
       " (('seotools', 'ads'), 0.0014530278112624162),\n",
       " (('alexa', 'xboxone'), 0.0014478707393816733),\n",
       " (('alexa', 'lights'), 0.001438635313829387),\n",
       " (('siri', 'ads'), 0.00142234336664498),\n",
       " (('alexa', 'financial'), 0.0014014888369290417)]"
      ]
     },
     "execution_count": 50,
     "metadata": {},
     "output_type": "execute_result"
    }
   ],
   "source": [
    "top_btwn_edge = sorted(btwnCent_edge.items(), key=lambda x:-x[1])\n",
    "top_btwn_edge[:50] ## how about the hashtags starting with the four key words"
   ]
  },
  {
   "cell_type": "code",
   "execution_count": 70,
   "metadata": {},
   "outputs": [],
   "source": [
    "with open('../data/top_btwn_edge.csv', 'w', newline = '') as f:\n",
    "    w = csv.writer(f, delimiter=',')\n",
    "    w.writerow(['edge', 'centrality'])\n",
    "    for data in top_btwn_edge:\n",
    "        w.writerow([data[0], data[1]])"
   ]
  },
  {
   "cell_type": "code",
   "execution_count": 61,
   "metadata": {},
   "outputs": [],
   "source": [
    "def get_top_btwn_edges(hashtag, b_dict, top=None):\n",
    "    \n",
    "    rv = [(edge, cen) for edge, cen in b_dict.items() if (edge[0] == hashtag) or (edge[1] == hashtag)]\n",
    "    rv = sorted(rv, key=lambda x:-x[1])[:top]\n",
    "    \n",
    "    return rv"
   ]
  },
  {
   "cell_type": "code",
   "execution_count": 71,
   "metadata": {},
   "outputs": [],
   "source": [
    "top_btwn_alexa = get_top_btwn_edges('alexa', btwnCent_edge)"
   ]
  },
  {
   "cell_type": "code",
   "execution_count": 72,
   "metadata": {},
   "outputs": [],
   "source": [
    "with open('../data/top_btwn_alexa.csv', 'w', newline = '') as f:\n",
    "    w = csv.writer(f, delimiter=',')\n",
    "    w.writerow(['edge', 'centrality'])\n",
    "    for data in top_btwn_alexa:\n",
    "        w.writerow([data[0], data[1]])"
   ]
  },
  {
   "cell_type": "code",
   "execution_count": 73,
   "metadata": {},
   "outputs": [],
   "source": [
    "top_btwn_siri = get_top_btwn_edges('siri', btwnCent_edge)"
   ]
  },
  {
   "cell_type": "code",
   "execution_count": 75,
   "metadata": {},
   "outputs": [],
   "source": [
    "with open('../data/top_btwn_siri.csv', 'w', newline = '') as f:\n",
    "    w = csv.writer(f, delimiter=',')\n",
    "    w.writerow(['edge', 'centrality'])\n",
    "    for data in top_btwn_siri:\n",
    "        w.writerow([data[0], data[1]])"
   ]
  },
  {
   "cell_type": "code",
   "execution_count": 76,
   "metadata": {},
   "outputs": [],
   "source": [
    "top_btwn_hg = get_top_btwn_edges('heygoogle', btwnCent_edge)"
   ]
  },
  {
   "cell_type": "code",
   "execution_count": 77,
   "metadata": {},
   "outputs": [],
   "source": [
    "with open('../data/top_btwn_heygoogle.csv', 'w', newline = '') as f:\n",
    "    w = csv.writer(f, delimiter=',')\n",
    "    w.writerow(['edge', 'centrality'])\n",
    "    for data in top_btwn_hg:\n",
    "        w.writerow([data[0], data[1]])"
   ]
  },
  {
   "cell_type": "code",
   "execution_count": 78,
   "metadata": {},
   "outputs": [],
   "source": [
    "top_btwn_cortana = get_top_btwn_edges('cortana', btwnCent_edge)"
   ]
  },
  {
   "cell_type": "code",
   "execution_count": 79,
   "metadata": {},
   "outputs": [],
   "source": [
    "with open('../data/top_btwn_cortana.csv', 'w', newline = '') as f:\n",
    "    w = csv.writer(f, delimiter=',')\n",
    "    w.writerow(['edge', 'centrality'])\n",
    "    for data in top_btwn_cortana:\n",
    "        w.writerow([data[0], data[1]])"
   ]
  },
  {
   "cell_type": "markdown",
   "metadata": {},
   "source": [
    "katz centrality and eigenvector centrality"
   ]
  },
  {
   "cell_type": "code",
   "execution_count": 65,
   "metadata": {},
   "outputs": [],
   "source": [
    "k_cen = nx.katz_centrality_numpy(G, weight = 'weight')"
   ]
  },
  {
   "cell_type": "code",
   "execution_count": 66,
   "metadata": {},
   "outputs": [
    {
     "data": {
      "text/plain": [
       "-0.0003193281471145185"
      ]
     },
     "execution_count": 66,
     "metadata": {},
     "output_type": "execute_result"
    }
   ],
   "source": [
    "k_cen['siri']"
   ]
  },
  {
   "cell_type": "code",
   "execution_count": 67,
   "metadata": {},
   "outputs": [
    {
     "data": {
      "text/plain": [
       "-6.056668403152542e-05"
      ]
     },
     "execution_count": 67,
     "metadata": {},
     "output_type": "execute_result"
    }
   ],
   "source": [
    "k_cen['heygoogle']"
   ]
  },
  {
   "cell_type": "code",
   "execution_count": 68,
   "metadata": {},
   "outputs": [
    {
     "data": {
      "text/plain": [
       "-5.8052258704105704e-05"
      ]
     },
     "execution_count": 68,
     "metadata": {},
     "output_type": "execute_result"
    }
   ],
   "source": [
    "k_cen['alexa']"
   ]
  },
  {
   "cell_type": "code",
   "execution_count": 69,
   "metadata": {},
   "outputs": [
    {
     "data": {
      "text/plain": [
       "0.002496226585759175"
      ]
     },
     "execution_count": 69,
     "metadata": {},
     "output_type": "execute_result"
    }
   ],
   "source": [
    "k_cen['cortana']"
   ]
  },
  {
   "cell_type": "code",
   "execution_count": 71,
   "metadata": {},
   "outputs": [
    {
     "data": {
      "text/plain": [
       "[('yeelight', 0.13406360479972645),\n",
       " ('xiaomi', 0.1200625890184671),\n",
       " ('conversationalai', 0.10849370132816365),\n",
       " ('random', 0.10247220836483499),\n",
       " ('openvoice', 0.09997988693350923),\n",
       " ('mitb', 0.09494364163268963),\n",
       " ('bartender', 0.09449072804828743),\n",
       " ('watchos5', 0.08871107053512516),\n",
       " ('rhop', 0.08769705554664634),\n",
       " ('spying', 0.08659808016763322),\n",
       " ('party', 0.08384885858939617),\n",
       " ('police', 0.08301462199362084),\n",
       " ('oo', 0.0828861278063682),\n",
       " ('house', 0.08230949649578957),\n",
       " ('energy', 0.07945271894230184),\n",
       " ('hotels', 0.07911810368773078),\n",
       " ('fire7', 0.07817287001254954),\n",
       " ('users', 0.07477508491960548),\n",
       " ('westworld', 0.07438192234626056),\n",
       " ('aging', 0.07403662885251672)]"
      ]
     },
     "execution_count": 71,
     "metadata": {},
     "output_type": "execute_result"
    }
   ],
   "source": [
    "top_kcen = sorted(k_cen.items(), key=lambda x:-x[1])\n",
    "top_kcen[:20]"
   ]
  },
  {
   "cell_type": "code",
   "execution_count": 80,
   "metadata": {},
   "outputs": [],
   "source": [
    "eigen_cen = nx.eigenvector_centrality_numpy(G, weight = 'weight')"
   ]
  },
  {
   "cell_type": "code",
   "execution_count": 81,
   "metadata": {},
   "outputs": [
    {
     "data": {
      "text/plain": [
       "0.017954912161364453"
      ]
     },
     "execution_count": 81,
     "metadata": {},
     "output_type": "execute_result"
    }
   ],
   "source": [
    "eigen_cen['siri']"
   ]
  },
  {
   "cell_type": "code",
   "execution_count": 82,
   "metadata": {},
   "outputs": [
    {
     "data": {
      "text/plain": [
       "0.6984399740042048"
      ]
     },
     "execution_count": 82,
     "metadata": {},
     "output_type": "execute_result"
    }
   ],
   "source": [
    "eigen_cen['alexa']"
   ]
  },
  {
   "cell_type": "code",
   "execution_count": 83,
   "metadata": {},
   "outputs": [
    {
     "data": {
      "text/plain": [
       "0.0020185169227929026"
      ]
     },
     "execution_count": 83,
     "metadata": {},
     "output_type": "execute_result"
    }
   ],
   "source": [
    "eigen_cen['heygoogle']"
   ]
  },
  {
   "cell_type": "code",
   "execution_count": 84,
   "metadata": {},
   "outputs": [
    {
     "data": {
      "text/plain": [
       "0.013613344260788328"
      ]
     },
     "execution_count": 84,
     "metadata": {},
     "output_type": "execute_result"
    }
   ],
   "source": [
    "eigen_cen['cortana']"
   ]
  },
  {
   "cell_type": "code",
   "execution_count": 85,
   "metadata": {},
   "outputs": [
    {
     "data": {
      "text/plain": [
       "[('alexa', 0.6984399740042048),\n",
       " ('amazon', 0.6663303477424568),\n",
       " ('talkradio', 0.10145503398939394),\n",
       " ('apple', 0.07896275667245539),\n",
       " ('tech', 0.07448920920833617),\n",
       " ('google', 0.0717508612820179),\n",
       " ('googlehome', 0.0650773929868774),\n",
       " ('homeautomation', 0.061147303000723595),\n",
       " ('jeffbezos', 0.051894219069126855),\n",
       " ('camiq', 0.051859968880236064),\n",
       " ('smarthome', 0.04590744909584202),\n",
       " ('aws', 0.039480468839297685),\n",
       " ('superbowl', 0.036568443979797714),\n",
       " ('echo', 0.033551230807610744),\n",
       " ('seo', 0.032907156564575255),\n",
       " ('voice', 0.032697745288106296),\n",
       " ('website', 0.03232959599721876),\n",
       " ('amazonalexa', 0.03036943232611956),\n",
       " ('googleassistant', 0.030178283322904415),\n",
       " ('blog', 0.027432168952164427)]"
      ]
     },
     "execution_count": 85,
     "metadata": {},
     "output_type": "execute_result"
    }
   ],
   "source": [
    "top_eigen = sorted(eigen_cen.items(), key=lambda x:-x[1])\n",
    "top_eigen[:20]"
   ]
  },
  {
   "cell_type": "code",
   "execution_count": 86,
   "metadata": {},
   "outputs": [],
   "source": [
    "with open('../data/top_eigen.csv', 'w', newline = '') as f:\n",
    "    w = csv.writer(f, delimiter=',')\n",
    "    w.writerow(['node', 'centrality'])\n",
    "    for data in top_eigen:\n",
    "        w.writerow([data[0], data[1]])"
   ]
  },
  {
   "cell_type": "markdown",
   "metadata": {},
   "source": [
    "page rank"
   ]
  },
  {
   "cell_type": "code",
   "execution_count": 124,
   "metadata": {},
   "outputs": [],
   "source": [
    "pr = nx.pagerank(G, weight = 'weight')"
   ]
  },
  {
   "cell_type": "code",
   "execution_count": 125,
   "metadata": {},
   "outputs": [
    {
     "data": {
      "text/plain": [
       "0.1215663943808574"
      ]
     },
     "execution_count": 125,
     "metadata": {},
     "output_type": "execute_result"
    }
   ],
   "source": [
    "pr['alexa']"
   ]
  },
  {
   "cell_type": "code",
   "execution_count": 126,
   "metadata": {},
   "outputs": [
    {
     "data": {
      "text/plain": [
       "0.0332256445432656"
      ]
     },
     "execution_count": 126,
     "metadata": {},
     "output_type": "execute_result"
    }
   ],
   "source": [
    "pr['siri']"
   ]
  },
  {
   "cell_type": "code",
   "execution_count": 127,
   "metadata": {},
   "outputs": [
    {
     "data": {
      "text/plain": [
       "0.002767385027534598"
      ]
     },
     "execution_count": 127,
     "metadata": {},
     "output_type": "execute_result"
    }
   ],
   "source": [
    "pr['heygoogle']"
   ]
  },
  {
   "cell_type": "code",
   "execution_count": 128,
   "metadata": {},
   "outputs": [
    {
     "data": {
      "text/plain": [
       "0.013204983087771493"
      ]
     },
     "execution_count": 128,
     "metadata": {},
     "output_type": "execute_result"
    }
   ],
   "source": [
    "pr['cortana']"
   ]
  },
  {
   "cell_type": "code",
   "execution_count": 131,
   "metadata": {},
   "outputs": [
    {
     "data": {
      "text/plain": [
       "[('alexa', 0.1215663943808574),\n",
       " ('amazon', 0.03414464131674009),\n",
       " ('siri', 0.0332256445432656),\n",
       " ('ai', 0.01644894732859046),\n",
       " ('iot', 0.01441308742336465),\n",
       " ('cortana', 0.013204983087771493),\n",
       " ('apple', 0.011584737084065336),\n",
       " ('echo', 0.009543285041894667),\n",
       " ('google', 0.00846676156702046),\n",
       " ('amazonecho', 0.007192333934696361),\n",
       " ('tech', 0.00714964719078681),\n",
       " ('virtualassistants', 0.006567817523892632),\n",
       " ('smarthome', 0.005968349774634173),\n",
       " ('artificialintelligence', 0.005363292328823435),\n",
       " ('voice', 0.004847198059330031),\n",
       " ('googlehome', 0.004830860692775999),\n",
       " ('voicefirst', 0.004737296587686614),\n",
       " ('smart', 0.004332897210426147),\n",
       " ('technology', 0.004281297073705153),\n",
       " ('rankbio', 0.004100294125468492)]"
      ]
     },
     "execution_count": 131,
     "metadata": {},
     "output_type": "execute_result"
    }
   ],
   "source": [
    "sorted(pr.items(), key=lambda x:-x[1])[:20]"
   ]
  },
  {
   "cell_type": "markdown",
   "metadata": {},
   "source": [
    "degree distribution"
   ]
  },
  {
   "cell_type": "code",
   "execution_count": 135,
   "metadata": {},
   "outputs": [
    {
     "data": {
      "image/png": "[encoded data removed]",
      "text/plain": [
       "<matplotlib.figure.Figure at 0x150ee3fb00>"
      ]
     },
     "metadata": {},
     "output_type": "display_data"
    }
   ],
   "source": [
    "degrees = dict(G.degree())\n",
    "degree_values = sorted(set(degrees.values()))\n",
    "histogram = [list(degrees.values()).count(i)/float(nx.number_of_nodes(G)) for i in degree_values]\n",
    "\n",
    "import matplotlib.pyplot as plt\n",
    "%matplotlib inline\n",
    "\n",
    "plt.bar(degree_values,histogram)\n",
    "plt.xlabel('Degree')\n",
    "plt.ylabel('Fraction of Nodes')\n",
    "plt.show()"
   ]
  },
  {
   "cell_type": "code",
   "execution_count": 137,
   "metadata": {},
   "outputs": [
    {
     "data": {
      "text/plain": [
       "[('alexa', 1839),\n",
       " ('amazon', 1249),\n",
       " ('siri', 1241),\n",
       " ('ai', 827),\n",
       " ('tech', 697),\n",
       " ('echo', 669),\n",
       " ('cortana', 662),\n",
       " ('google', 661),\n",
       " ('apple', 633),\n",
       " ('amazonecho', 545),\n",
       " ('technology', 538),\n",
       " ('voice', 522),\n",
       " ('iot', 483),\n",
       " ('smarthome', 440),\n",
       " ('googlehome', 422),\n",
       " ('amazonalexa', 413),\n",
       " ('news', 381),\n",
       " ('googleassistant', 345),\n",
       " ('iphone', 344),\n",
       " ('heygoogle', 297)]"
      ]
     },
     "execution_count": 137,
     "metadata": {},
     "output_type": "execute_result"
    }
   ],
   "source": [
    "degrees_sort = sorted(degrees.items(), key = lambda x: -x[1])\n",
    "degrees_sort[:20]"
   ]
  },
  {
   "cell_type": "markdown",
   "metadata": {},
   "source": [
    "# user"
   ]
  },
  {
   "cell_type": "code",
   "execution_count": 151,
   "metadata": {},
   "outputs": [],
   "source": [
    "G_user = nx.read_gexf('../data/user_network_0_2000.gexf')"
   ]
  },
  {
   "cell_type": "code",
   "execution_count": 152,
   "metadata": {},
   "outputs": [
    {
     "data": {
      "text/plain": [
       "True"
      ]
     },
     "execution_count": 152,
     "metadata": {},
     "output_type": "execute_result"
    }
   ],
   "source": [
    "G_user.is_directed()"
   ]
  },
  {
   "cell_type": "code",
   "execution_count": 157,
   "metadata": {},
   "outputs": [],
   "source": [
    "# many people mentioned themselves\n",
    "# how to use the number of tweets and mentions"
   ]
  },
  {
   "cell_type": "markdown",
   "metadata": {},
   "source": [
    "basic info"
   ]
  },
  {
   "cell_type": "code",
   "execution_count": 158,
   "metadata": {},
   "outputs": [
    {
     "data": {
      "text/plain": [
       "1999"
      ]
     },
     "execution_count": 158,
     "metadata": {},
     "output_type": "execute_result"
    }
   ],
   "source": [
    "G_user.number_of_nodes()"
   ]
  },
  {
   "cell_type": "code",
   "execution_count": 162,
   "metadata": {},
   "outputs": [
    {
     "data": {
      "text/plain": [
       "4694"
      ]
     },
     "execution_count": 162,
     "metadata": {},
     "output_type": "execute_result"
    }
   ],
   "source": [
    "G_user.number_of_edges()"
   ]
  },
  {
   "cell_type": "code",
   "execution_count": 163,
   "metadata": {},
   "outputs": [
    {
     "data": {
      "text/plain": [
       "0.001174087043521761"
      ]
     },
     "execution_count": 163,
     "metadata": {},
     "output_type": "execute_result"
    }
   ],
   "source": [
    "nx.density(G_user)"
   ]
  },
  {
   "cell_type": "code",
   "execution_count": 172,
   "metadata": {},
   "outputs": [
    {
     "data": {
      "text/plain": [
       "[(('tcotradioht', 'redstatetalk'), {'id': '3832', 'weight': 5266.0}),\n",
       " (('amazonomy', 'amazonomy'), {'id': '93', 'weight': 716.0}),\n",
       " (('alexaweedbuddy', 'ganjly420'), {'id': '205', 'weight': 282.0}),\n",
       " (('alexaweedbuddy', 'high_times_mag'), {'id': '206', 'weight': 282.0}),\n",
       " (('tcotradioht', 'jjmccartneylive'), {'id': '3833', 'weight': 228.0}),\n",
       " (('mandyeap', 'secondcityradio'), {'id': '2247', 'weight': 196.0}),\n",
       " (('mjaspeakers', 'mjaspeakers'), {'id': '1517', 'weight': 192.0}),\n",
       " (('ntechyel', 'ntechyel'), {'id': '2001', 'weight': 180.0}),\n",
       " (('realjakedevlin', 'realjakedevlin'), {'id': '3623', 'weight': 163.0}),\n",
       " (('tcotradioht', 'scottadamsshow'), {'id': '3840', 'weight': 154.0}),\n",
       " (('djdurrant', 'secondcityradio'), {'id': '2274', 'weight': 137.0}),\n",
       " (('holisticentre1', 'secondcityradio'), {'id': '2261', 'weight': 133.0}),\n",
       " (('marvel_euphoria', 'google'), {'id': '3492', 'weight': 132.0}),\n",
       " (('marvel_euphoria', 'marvel_euphoria'), {'id': '3493', 'weight': 131.0}),\n",
       " (('trmppncemkesens', 'benshapiro'), {'id': '4668', 'weight': 125.0}),\n",
       " (('trmppncemkesens', 'aedison'), {'id': '4669', 'weight': 125.0}),\n",
       " (('trmppncemkesens', 'ocasio2018'), {'id': '4670', 'weight': 125.0}),\n",
       " (('trmppncemkesens', 'trmppncemkesens'), {'id': '4671', 'weight': 124.0}),\n",
       " (('mjaspeakers', 'siriouslysusan'), {'id': '1515', 'weight': 122.0}),\n",
       " (('smarthouseaz', 'asu'), {'id': '132', 'weight': 112.0}),\n",
       " (('evankirstel', 'evankirstel'), {'id': '389', 'weight': 103.0}),\n",
       " (('smarthouseaz', 'amazon'), {'id': '135', 'weight': 101.0}),\n",
       " (('rhinehoth', 'rhinehoth'), {'id': '3389', 'weight': 101.0}),\n",
       " (('reckel', 'amazon'), {'id': '223', 'weight': 100.0}),\n",
       " (('artretail', 'artretail'), {'id': '3898', 'weight': 97.0}),\n",
       " (('tcotradioht', 'theclbryantshow'), {'id': '3838', 'weight': 93.0}),\n",
       " (('smarthouseaz', 'netflix'), {'id': '136', 'weight': 90.0}),\n",
       " (('itempathy', 'itempathy'), {'id': '1245', 'weight': 83.0}),\n",
       " (('angelosantoroit', 'comunemortale'), {'id': '857', 'weight': 81.0}),\n",
       " (('smolly127', 'secondcityradio'), {'id': '2329', 'weight': 80.0}),\n",
       " (('comunemortale', 'angelosantoroit'), {'id': '858', 'weight': 79.0}),\n",
       " (('secondcityradio', 'djdurrant'), {'id': '2239', 'weight': 78.0}),\n",
       " (('smarthouseaz', 'smarthouseaz'), {'id': '137', 'weight': 77.0}),\n",
       " (('mandyeap', 'djdurrant'), {'id': '2253', 'weight': 74.0}),\n",
       " (('ntechyel', 'qz'), {'id': '2002', 'weight': 73.0}),\n",
       " (('hothardware', 'hothardware'), {'id': '2129', 'weight': 72.0}),\n",
       " (('jeffbenton78', 'amazon'), {'id': '3953', 'weight': 72.0}),\n",
       " (('the_best_daily', 'amazon'), {'id': '3720', 'weight': 71.0}),\n",
       " (('jeffbenton78', 'jeffbenton78'), {'id': '3954', 'weight': 69.0}),\n",
       " (('ntechyel', 'amazon'), {'id': '2003', 'weight': 68.0}),\n",
       " (('smarthouseaz', 'voicefirstfm'), {'id': '142', 'weight': 67.0}),\n",
       " (('w3livenews', 'w3livenews'), {'id': '155', 'weight': 66.0}),\n",
       " (('drm00re', 'pollaprenadora'), {'id': '2596', 'weight': 66.0}),\n",
       " (('drm00re', 'boogie_1969'), {'id': '2597', 'weight': 66.0}),\n",
       " (('drm00re', 'siliconeros'), {'id': '2598', 'weight': 66.0}),\n",
       " (('drm00re', 'pqcolor'), {'id': '2599', 'weight': 66.0}),\n",
       " (('drm00re', 'libidorush1'), {'id': '2600', 'weight': 66.0}),\n",
       " (('drm00re', 'jopower666'), {'id': '2601', 'weight': 66.0}),\n",
       " (('andybruce1962', 'secondcityradio'), {'id': '2349', 'weight': 65.0}),\n",
       " (('voiceappsllc', 'amazon'), {'id': '50', 'weight': 64.0})]"
      ]
     },
     "execution_count": 172,
     "metadata": {},
     "output_type": "execute_result"
    }
   ],
   "source": [
    "sorted(dict(G_user.edges()).items(), key = lambda x: -x[1]['weight'])[:50]"
   ]
  },
  {
   "cell_type": "code",
   "execution_count": null,
   "metadata": {},
   "outputs": [],
   "source": []
  }
 ],
 "metadata": {
  "kernelspec": {
   "display_name": "Python 3",
   "language": "python",
   "name": "python3"
  },
  "language_info": {
   "codemirror_mode": {
    "name": "ipython",
    "version": 3
   },
   "file_extension": ".py",
   "mimetype": "text/x-python",
   "name": "python",
   "nbconvert_exporter": "python",
   "pygments_lexer": "ipython3",
   "version": "3.6.4"
  }
 },
 "nbformat": 4,
 "nbformat_minor": 2
}
