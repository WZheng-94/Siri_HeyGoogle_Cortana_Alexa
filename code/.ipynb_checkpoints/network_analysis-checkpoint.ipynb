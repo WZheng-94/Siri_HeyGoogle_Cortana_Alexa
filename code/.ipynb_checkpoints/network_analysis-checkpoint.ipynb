{
 "cells": [
  {
   "cell_type": "code",
   "execution_count": 7,
   "metadata": {},
   "outputs": [],
   "source": [
    "import networkx as nx\n",
    "import csv"
   ]
  },
  {
   "cell_type": "markdown",
   "metadata": {},
   "source": [
    "# cohashtag"
   ]
  },
  {
   "cell_type": "markdown",
   "metadata": {},
   "source": [
    "load cohashtag data"
   ]
  },
  {
   "cell_type": "code",
   "execution_count": 3,
   "metadata": {},
   "outputs": [],
   "source": [
    "G = nx.read_gexf('../data/cohashtag_0_2000.gexf')"
   ]
  },
  {
   "cell_type": "markdown",
   "metadata": {},
   "source": [
    "basic info"
   ]
  },
  {
   "cell_type": "code",
   "execution_count": 4,
   "metadata": {},
   "outputs": [
    {
     "data": {
      "text/plain": [
       "36985"
      ]
     },
     "execution_count": 4,
     "metadata": {},
     "output_type": "execute_result"
    }
   ],
   "source": [
    "G.number_of_edges()"
   ]
  },
  {
   "cell_type": "code",
   "execution_count": 5,
   "metadata": {},
   "outputs": [
    {
     "data": {
      "text/plain": [
       "1999"
      ]
     },
     "execution_count": 5,
     "metadata": {},
     "output_type": "execute_result"
    }
   ],
   "source": [
    "G.number_of_nodes()"
   ]
  },
  {
   "cell_type": "code",
   "execution_count": 9,
   "metadata": {},
   "outputs": [
    {
     "data": {
      "text/plain": [
       "0.0185202711465843"
      ]
     },
     "execution_count": 9,
     "metadata": {},
     "output_type": "execute_result"
    }
   ],
   "source": [
    "nx.density(G)"
   ]
  },
  {
   "cell_type": "code",
   "execution_count": 10,
   "metadata": {},
   "outputs": [],
   "source": [
    "with open(path, 'w', newline = '') as f:\n",
    "    w = csv.writer(f, delimiter=' ', quotechar='|', quoting=csv.QUOTE_MINIMAL)\n",
    "    w.writerow(['edges', 'weight'])\n",
    "    for x in l:\n",
    "        w.writerow([])\n",
    "\n",
    "\n",
    "\n",
    "import csv\n",
    "with open('eggs.csv', 'w', newline='') as csvfile:\n",
    "    spamwriter = csv.writer(csvfile, delimiter=' ',\n",
    "                            quotechar='|', quoting=csv.QUOTE_MINIMAL)\n",
    "    spamwriter.writerow(['Spam'] * 5 + ['Baked Beans'])\n",
    "    spamwriter.writerow(['Spam', 'Lovely Spam', 'Wonderful Spam'])"
   ]
  },
  {
   "cell_type": "code",
   "execution_count": 11,
   "metadata": {
    "scrolled": false
   },
   "outputs": [],
   "source": [
    "top_edges = sorted(dict(G.edges()).items(), key = lambda x: -x[1]['weight'])[:50]"
   ]
  },
  {
   "cell_type": "code",
   "execution_count": 13,
   "metadata": {},
   "outputs": [
    {
     "data": {
      "text/plain": [
       "[(('alexa', 'amazon'), {'id': '4', 'weight': 23174.0}),\n",
       " (('alexa', 'iot'), {'id': '1', 'weight': 6155.0}),\n",
       " (('siri', 'apple'), {'id': '4600', 'weight': 3416.0}),\n",
       " (('alexa', 'artificialintelligence'), {'id': '110', 'weight': 3119.0}),\n",
       " (('alexa', 'apple'), {'id': '136', 'weight': 2983.0}),\n",
       " (('alexa', 'camiq'), {'id': '1332', 'weight': 2579.0}),\n",
       " (('technews', 'camiq'), {'id': '24305', 'weight': 2578.0}),\n",
       " (('siri', 'cortana'), {'id': '4598', 'weight': 2542.0}),\n",
       " (('amazonecho', 'homeautomation'), {'id': '6280', 'weight': 2533.0}),\n",
       " (('alexa', 'amazonecho'), {'id': '8', 'weight': 2222.0}),\n",
       " (('alexa', 'siri'), {'id': '5', 'weight': 2133.0}),\n",
       " (('ai', 'iot'), {'id': '1875', 'weight': 2003.0}),\n",
       " (('ai', 'virtualassistants'), {'id': '1986', 'weight': 1901.0}),\n",
       " (('siri', 'google'), {'id': '4593', 'weight': 1788.0}),\n",
       " (('alexa', 'amazonalexa'), {'id': '166', 'weight': 1748.0}),\n",
       " (('alexa', 'aws'), {'id': '190', 'weight': 1686.0}),\n",
       " (('alexa', 'rankbio'), {'id': '1618', 'weight': 1664.0}),\n",
       " (('alexa', 'ces2018'), {'id': '709', 'weight': 1661.0}),\n",
       " (('alexa', 'website'), {'id': '113', 'weight': 1575.0}),\n",
       " (('google', 'seo'), {'id': '12105', 'weight': 1450.0}),\n",
       " (('alexa', 'smart'), {'id': '359', 'weight': 1392.0}),\n",
       " (('alexa', 'technology'), {'id': '57', 'weight': 1348.0}),\n",
       " (('google', 'voicesearch'), {'id': '12156', 'weight': 1346.0}),\n",
       " (('echo', 'usa'), {'id': '8946', 'weight': 1343.0}),\n",
       " (('echo', 'virtualassistants'), {'id': '9148', 'weight': 1342.0}),\n",
       " (('virtualassistants', 'usa'), {'id': '33665', 'weight': 1338.0}),\n",
       " (('alexa', 'music'), {'id': '301', 'weight': 1313.0}),\n",
       " (('siri', 'iphone'), {'id': '4604', 'weight': 1238.0}),\n",
       " (('website', 'blog'), {'id': '20068', 'weight': 1220.0}),\n",
       " (('cortana', 'virtualassistants'), {'id': '6926', 'weight': 1134.0}),\n",
       " (('cortana', 'artificialintelligence'), {'id': '6924', 'weight': 1070.0}),\n",
       " (('echo', 'smart'), {'id': '8909', 'weight': 1053.0}),\n",
       " (('alexa', 'fire'), {'id': '122', 'weight': 1045.0}),\n",
       " (('alexa', 'free'), {'id': '370', 'weight': 992.0}),\n",
       " (('alexa', 'googlehome'), {'id': '13', 'weight': 968.0}),\n",
       " (('smart', 'virtualassistants'), {'id': '29650', 'weight': 967.0}),\n",
       " (('smart', 'usa'), {'id': '29671', 'weight': 956.0}),\n",
       " (('google', 'apple'), {'id': '12094', 'weight': 950.0}),\n",
       " (('cortana', 'microsoft'), {'id': '6852', 'weight': 949.0}),\n",
       " (('alexa', 'digitalassistants'), {'id': '207', 'weight': 947.0}),\n",
       " (('alexa', 'skills'), {'id': '349', 'weight': 937.0}),\n",
       " (('alexa', 'prize'), {'id': '572', 'weight': 927.0}),\n",
       " (('siri', 'voiceactor'), {'id': '5737', 'weight': 903.0}),\n",
       " (('amazon', 'amazonecho'), {'id': '3353', 'weight': 886.0}),\n",
       " (('alexa', 'cloudcomputing'), {'id': '935', 'weight': 874.0}),\n",
       " (('ai', 'cloudcomputing'), {'id': '2075', 'weight': 847.0}),\n",
       " (('siri', 'cloudcomputing'), {'id': '5126', 'weight': 844.0}),\n",
       " (('virtualassistants', 'cloudcomputing'), {'id': '33660', 'weight': 844.0}),\n",
       " (('cortana', 'cloudcomputing'), {'id': '7037', 'weight': 839.0}),\n",
       " (('artificialintelligence', 'cloudcomputing'),\n",
       "  {'id': '19825', 'weight': 838.0})]"
      ]
     },
     "execution_count": 13,
     "metadata": {},
     "output_type": "execute_result"
    }
   ],
   "source": [
    "top_edges"
   ]
  },
  {
   "cell_type": "code",
   "execution_count": 12,
   "metadata": {},
   "outputs": [
    {
     "ename": "AttributeError",
     "evalue": "'list' object has no attribute 'keys'",
     "output_type": "error",
     "traceback": [
      "\u001b[0;31m---------------------------------------------------------------------------\u001b[0m",
      "\u001b[0;31mAttributeError\u001b[0m                            Traceback (most recent call last)",
      "\u001b[0;32m<ipython-input-12-bc4678e62c4a>\u001b[0m in \u001b[0;36m<module>\u001b[0;34m()\u001b[0m\n\u001b[0;32m----> 1\u001b[0;31m \u001b[0msave_dict_to_csv\u001b[0m\u001b[0;34m(\u001b[0m\u001b[0mtop_edges\u001b[0m\u001b[0;34m,\u001b[0m \u001b[0;34m'../data/top_edges_50.csv'\u001b[0m\u001b[0;34m)\u001b[0m\u001b[0;34m\u001b[0m\u001b[0m\n\u001b[0m",
      "\u001b[0;32m<ipython-input-10-8f30144b1700>\u001b[0m in \u001b[0;36msave_dict_to_csv\u001b[0;34m(d, path)\u001b[0m\n\u001b[1;32m      3\u001b[0m     \u001b[0;32mwith\u001b[0m \u001b[0mopen\u001b[0m\u001b[0;34m(\u001b[0m\u001b[0mpath\u001b[0m\u001b[0;34m,\u001b[0m \u001b[0;34m'w'\u001b[0m\u001b[0;34m)\u001b[0m \u001b[0;32mas\u001b[0m \u001b[0mf\u001b[0m\u001b[0;34m:\u001b[0m\u001b[0;34m\u001b[0m\u001b[0m\n\u001b[1;32m      4\u001b[0m         \u001b[0mw\u001b[0m \u001b[0;34m=\u001b[0m \u001b[0mcsv\u001b[0m\u001b[0;34m.\u001b[0m\u001b[0mwriter\u001b[0m\u001b[0;34m(\u001b[0m\u001b[0mf\u001b[0m\u001b[0;34m)\u001b[0m\u001b[0;34m\u001b[0m\u001b[0m\n\u001b[0;32m----> 5\u001b[0;31m         \u001b[0mw\u001b[0m\u001b[0;34m.\u001b[0m\u001b[0mwriterow\u001b[0m\u001b[0;34m(\u001b[0m\u001b[0md\u001b[0m\u001b[0;34m.\u001b[0m\u001b[0mkeys\u001b[0m\u001b[0;34m(\u001b[0m\u001b[0;34m)\u001b[0m\u001b[0;34m)\u001b[0m\u001b[0;34m\u001b[0m\u001b[0m\n\u001b[0m\u001b[1;32m      6\u001b[0m         \u001b[0mw\u001b[0m\u001b[0;34m.\u001b[0m\u001b[0mwriterow\u001b[0m\u001b[0;34m(\u001b[0m\u001b[0md\u001b[0m\u001b[0;34m.\u001b[0m\u001b[0mvalues\u001b[0m\u001b[0;34m(\u001b[0m\u001b[0;34m)\u001b[0m\u001b[0;34m)\u001b[0m\u001b[0;34m\u001b[0m\u001b[0m\n\u001b[1;32m      7\u001b[0m \u001b[0;34m\u001b[0m\u001b[0m\n",
      "\u001b[0;31mAttributeError\u001b[0m: 'list' object has no attribute 'keys'"
     ]
    }
   ],
   "source": [
    "save_dict_to_csv(top_edges, '../data/top_edges_50.csv')"
   ]
  },
  {
   "cell_type": "markdown",
   "metadata": {},
   "source": [
    "clustering coeffitient"
   ]
  },
  {
   "cell_type": "code",
   "execution_count": 16,
   "metadata": {},
   "outputs": [
    {
     "data": {
      "text/plain": [
       "0.020078802821943374"
      ]
     },
     "execution_count": 16,
     "metadata": {},
     "output_type": "execute_result"
    }
   ],
   "source": [
    "nx.clustering(G,'alexa')"
   ]
  },
  {
   "cell_type": "code",
   "execution_count": 17,
   "metadata": {},
   "outputs": [
    {
     "data": {
      "text/plain": [
       "0.11807261807261807"
      ]
     },
     "execution_count": 17,
     "metadata": {},
     "output_type": "execute_result"
    }
   ],
   "source": [
    "nx.clustering(G,'heygoogle')"
   ]
  },
  {
   "cell_type": "code",
   "execution_count": 18,
   "metadata": {},
   "outputs": [
    {
     "data": {
      "text/plain": [
       "0.03451430947986795"
      ]
     },
     "execution_count": 18,
     "metadata": {},
     "output_type": "execute_result"
    }
   ],
   "source": [
    "nx.clustering(G,'siri')"
   ]
  },
  {
   "cell_type": "code",
   "execution_count": 19,
   "metadata": {},
   "outputs": [
    {
     "data": {
      "text/plain": [
       "0.07068846524765644"
      ]
     },
     "execution_count": 19,
     "metadata": {},
     "output_type": "execute_result"
    }
   ],
   "source": [
    "nx.clustering(G,'cortana')"
   ]
  },
  {
   "cell_type": "code",
   "execution_count": 20,
   "metadata": {},
   "outputs": [
    {
     "data": {
      "text/plain": [
       "0.5902813043205791"
      ]
     },
     "execution_count": 20,
     "metadata": {},
     "output_type": "execute_result"
    }
   ],
   "source": [
    "nx.average_clustering(G)"
   ]
  },
  {
   "cell_type": "markdown",
   "metadata": {},
   "source": [
    "distance measurements"
   ]
  },
  {
   "cell_type": "code",
   "execution_count": 25,
   "metadata": {},
   "outputs": [
    {
     "data": {
      "text/plain": [
       "['siri', 'heygoogle']"
      ]
     },
     "execution_count": 25,
     "metadata": {},
     "output_type": "execute_result"
    }
   ],
   "source": [
    "nx.shortest_path(G, 'siri', 'heygoogle')"
   ]
  },
  {
   "cell_type": "code",
   "execution_count": 28,
   "metadata": {},
   "outputs": [
    {
     "data": {
      "text/plain": [
       "5"
      ]
     },
     "execution_count": 28,
     "metadata": {},
     "output_type": "execute_result"
    }
   ],
   "source": [
    "nx.diameter(G)"
   ]
  },
  {
   "cell_type": "code",
   "execution_count": 29,
   "metadata": {},
   "outputs": [
    {
     "data": {
      "text/plain": [
       "2.0588227046456162"
      ]
     },
     "execution_count": 29,
     "metadata": {},
     "output_type": "execute_result"
    }
   ],
   "source": [
    "nx.average_shortest_path_length(G)"
   ]
  },
  {
   "cell_type": "code",
   "execution_count": 30,
   "metadata": {},
   "outputs": [],
   "source": [
    "eccentr = nx.eccentricity(G)"
   ]
  },
  {
   "cell_type": "code",
   "execution_count": 31,
   "metadata": {},
   "outputs": [
    {
     "data": {
      "text/plain": [
       "3"
      ]
     },
     "execution_count": 31,
     "metadata": {},
     "output_type": "execute_result"
    }
   ],
   "source": [
    "eccentr['siri']"
   ]
  },
  {
   "cell_type": "code",
   "execution_count": 32,
   "metadata": {},
   "outputs": [
    {
     "data": {
      "text/plain": [
       "3"
      ]
     },
     "execution_count": 32,
     "metadata": {},
     "output_type": "execute_result"
    }
   ],
   "source": [
    "eccentr['alexa']"
   ]
  },
  {
   "cell_type": "code",
   "execution_count": 33,
   "metadata": {},
   "outputs": [
    {
     "data": {
      "text/plain": [
       "4"
      ]
     },
     "execution_count": 33,
     "metadata": {},
     "output_type": "execute_result"
    }
   ],
   "source": [
    "eccentr['heygoogle']"
   ]
  },
  {
   "cell_type": "code",
   "execution_count": 34,
   "metadata": {},
   "outputs": [
    {
     "data": {
      "text/plain": [
       "3"
      ]
     },
     "execution_count": 34,
     "metadata": {},
     "output_type": "execute_result"
    }
   ],
   "source": [
    "eccentr['cortana']"
   ]
  },
  {
   "cell_type": "code",
   "execution_count": 35,
   "metadata": {},
   "outputs": [
    {
     "data": {
      "text/plain": [
       "3"
      ]
     },
     "execution_count": 35,
     "metadata": {},
     "output_type": "execute_result"
    }
   ],
   "source": [
    "nx.radius(G)"
   ]
  },
  {
   "cell_type": "code",
   "execution_count": 36,
   "metadata": {},
   "outputs": [
    {
     "data": {
      "text/plain": [
       "['soundingboard',\n",
       " 'mandatesabotage',\n",
       " 'teamunited',\n",
       " 'stateoftheunionaddress',\n",
       " 'secondtonone',\n",
       " 'ageofalexander',\n",
       " 'oneplus6',\n",
       " 'alexandermurraycollins',\n",
       " 'oneplus6t',\n",
       " 'alexavery',\n",
       " 'alexandertechnique',\n",
       " 'nollywood',\n",
       " 'fredasteffl',\n",
       " 'firsttimer',\n",
       " 'alexandrathemovie',\n",
       " 'olddictatorpaulbiya',\n",
       " 'manofgod',\n",
       " 'straybullet']"
      ]
     },
     "execution_count": 36,
     "metadata": {},
     "output_type": "execute_result"
    }
   ],
   "source": [
    "nx.periphery(G)"
   ]
  },
  {
   "cell_type": "code",
   "execution_count": 37,
   "metadata": {},
   "outputs": [
    {
     "data": {
      "text/plain": [
       "['alexa',\n",
       " 'ai',\n",
       " 'iot',\n",
       " 'amazon',\n",
       " 'siri',\n",
       " 'amazonecho',\n",
       " 'cortana',\n",
       " 'tech',\n",
       " 'googlehome',\n",
       " 'echo',\n",
       " 'virtualassistant',\n",
       " 'assistant',\n",
       " 'health',\n",
       " 'healthcare',\n",
       " 'summary',\n",
       " 'news',\n",
       " 'voicefirst',\n",
       " 'google',\n",
       " 'home',\n",
       " 'digitalhealth',\n",
       " 'voice',\n",
       " 'chatbots',\n",
       " 'googleassistant',\n",
       " 'support',\n",
       " 'technology',\n",
       " 'automation',\n",
       " 'ehealth',\n",
       " 'healthit',\n",
       " 'iphone',\n",
       " 'app',\n",
       " 'startup',\n",
       " 'ecommerce',\n",
       " 'futureofwork',\n",
       " 'artificialintelligence',\n",
       " 'robotics',\n",
       " 'edtech',\n",
       " 'twitter',\n",
       " 'finance',\n",
       " 'alexaskills',\n",
       " 'socialmedia',\n",
       " 'business',\n",
       " 'digitalassistant',\n",
       " 'privacy',\n",
       " 'amazonalexa',\n",
       " 'vui',\n",
       " 'data',\n",
       " 'alexandria',\n",
       " 'digitalmarketing',\n",
       " 'pharma',\n",
       " 'aws',\n",
       " 'wholefoods',\n",
       " 'lighting',\n",
       " 'digitalassistants',\n",
       " 'vr',\n",
       " 'drone',\n",
       " 'mobile',\n",
       " 'fintech',\n",
       " 'innovation',\n",
       " 'god',\n",
       " 'retail',\n",
       " 'it',\n",
       " 'infosec',\n",
       " 'voiceassistant',\n",
       " 'pharmacy',\n",
       " 'hackers',\n",
       " 'ux',\n",
       " 'voicetech',\n",
       " 'new',\n",
       " 'trump',\n",
       " 'applewatch',\n",
       " 'va',\n",
       " 'smartspeakers',\n",
       " 'diabetes',\n",
       " 'facetime',\n",
       " 'deeplearning',\n",
       " 'robots',\n",
       " 'lifestyle',\n",
       " 'tesla',\n",
       " 'healthtech',\n",
       " 'voicerecognition',\n",
       " 'gamechanger',\n",
       " 'hardware',\n",
       " 'cybersecurity',\n",
       " 'web',\n",
       " 'jobs',\n",
       " 'hiring',\n",
       " 'voiceassistants',\n",
       " 'money',\n",
       " 'nlp',\n",
       " 'azure',\n",
       " 'job',\n",
       " 'canada',\n",
       " 'ces2018',\n",
       " 'homebot',\n",
       " 'digitaltransformation',\n",
       " 'php',\n",
       " 'donaldtrump',\n",
       " 'internet',\n",
       " 'maga',\n",
       " 'ces',\n",
       " 'platform',\n",
       " 'america',\n",
       " 'sirius',\n",
       " 'vc',\n",
       " 'usa',\n",
       " 'human',\n",
       " 'cloudcomputing',\n",
       " 'hipaa',\n",
       " 'mhealth',\n",
       " 'blacklivesmatter',\n",
       " 'breaking',\n",
       " 'iiot',\n",
       " 'wellness',\n",
       " 'financial',\n",
       " 'himss18',\n",
       " 'jpmorgan',\n",
       " 'voice18',\n",
       " 'alexandriaocasiocortez']"
      ]
     },
     "execution_count": 37,
     "metadata": {},
     "output_type": "execute_result"
    }
   ],
   "source": [
    "nx.center(G)"
   ]
  },
  {
   "cell_type": "markdown",
   "metadata": {},
   "source": [
    "connected components"
   ]
  },
  {
   "cell_type": "code",
   "execution_count": 38,
   "metadata": {},
   "outputs": [
    {
     "data": {
      "text/plain": [
       "True"
      ]
     },
     "execution_count": 38,
     "metadata": {},
     "output_type": "execute_result"
    }
   ],
   "source": [
    "nx.is_connected(G)"
   ]
  },
  {
   "cell_type": "code",
   "execution_count": 39,
   "metadata": {},
   "outputs": [
    {
     "data": {
      "text/plain": [
       "1"
      ]
     },
     "execution_count": 39,
     "metadata": {},
     "output_type": "execute_result"
    }
   ],
   "source": [
    "nx.number_connected_components(G)"
   ]
  },
  {
   "cell_type": "markdown",
   "metadata": {},
   "source": [
    "network robustness"
   ]
  },
  {
   "cell_type": "code",
   "execution_count": 40,
   "metadata": {},
   "outputs": [
    {
     "data": {
      "text/plain": [
       "1"
      ]
     },
     "execution_count": 40,
     "metadata": {},
     "output_type": "execute_result"
    }
   ],
   "source": [
    "nx.node_connectivity(G)"
   ]
  },
  {
   "cell_type": "code",
   "execution_count": 42,
   "metadata": {},
   "outputs": [
    {
     "data": {
      "text/plain": [
       "1"
      ]
     },
     "execution_count": 42,
     "metadata": {},
     "output_type": "execute_result"
    }
   ],
   "source": [
    "nx.edge_connectivity(G)"
   ]
  },
  {
   "cell_type": "markdown",
   "metadata": {},
   "source": [
    "degree and closeness centrality"
   ]
  },
  {
   "cell_type": "code",
   "execution_count": 46,
   "metadata": {},
   "outputs": [],
   "source": [
    "degCent = nx.degree_centrality(G)"
   ]
  },
  {
   "cell_type": "code",
   "execution_count": 47,
   "metadata": {},
   "outputs": [
    {
     "data": {
      "text/plain": [
       "0.9204204204204204"
      ]
     },
     "execution_count": 47,
     "metadata": {},
     "output_type": "execute_result"
    }
   ],
   "source": [
    "degCent['alexa']"
   ]
  },
  {
   "cell_type": "code",
   "execution_count": 48,
   "metadata": {},
   "outputs": [
    {
     "data": {
      "text/plain": [
       "0.6211211211211212"
      ]
     },
     "execution_count": 48,
     "metadata": {},
     "output_type": "execute_result"
    }
   ],
   "source": [
    "degCent['siri']"
   ]
  },
  {
   "cell_type": "code",
   "execution_count": 49,
   "metadata": {},
   "outputs": [
    {
     "data": {
      "text/plain": [
       "0.14864864864864866"
      ]
     },
     "execution_count": 49,
     "metadata": {},
     "output_type": "execute_result"
    }
   ],
   "source": [
    "degCent['heygoogle']"
   ]
  },
  {
   "cell_type": "code",
   "execution_count": 50,
   "metadata": {},
   "outputs": [
    {
     "data": {
      "text/plain": [
       "0.3313313313313313"
      ]
     },
     "execution_count": 50,
     "metadata": {},
     "output_type": "execute_result"
    }
   ],
   "source": [
    "degCent['cortana']"
   ]
  },
  {
   "cell_type": "code",
   "execution_count": 53,
   "metadata": {},
   "outputs": [],
   "source": [
    "top_deg = sorted(degCent.items(), key=lambda x:-x[1])"
   ]
  },
  {
   "cell_type": "code",
   "execution_count": 55,
   "metadata": {},
   "outputs": [
    {
     "data": {
      "text/plain": [
       "[('alexa', 0.9204204204204204),\n",
       " ('amazon', 0.6251251251251251),\n",
       " ('siri', 0.6211211211211212),\n",
       " ('ai', 0.4139139139139139),\n",
       " ('tech', 0.34884884884884887),\n",
       " ('echo', 0.33483483483483484),\n",
       " ('cortana', 0.3313313313313313),\n",
       " ('google', 0.3308308308308308),\n",
       " ('apple', 0.31681681681681684),\n",
       " ('amazonecho', 0.2727727727727728),\n",
       " ('technology', 0.26926926926926925),\n",
       " ('voice', 0.26126126126126126),\n",
       " ('iot', 0.24174174174174173),\n",
       " ('smarthome', 0.22022022022022023),\n",
       " ('googlehome', 0.2112112112112112),\n",
       " ('amazonalexa', 0.2067067067067067),\n",
       " ('news', 0.1906906906906907),\n",
       " ('googleassistant', 0.17267267267267267),\n",
       " ('iphone', 0.17217217217217218),\n",
       " ('heygoogle', 0.14864864864864866)]"
      ]
     },
     "execution_count": 55,
     "metadata": {},
     "output_type": "execute_result"
    }
   ],
   "source": [
    "top_deg[:20]"
   ]
  },
  {
   "cell_type": "code",
   "execution_count": 79,
   "metadata": {},
   "outputs": [],
   "source": [
    "closeCent = nx.closeness_centrality(G)"
   ]
  },
  {
   "cell_type": "code",
   "execution_count": 81,
   "metadata": {},
   "outputs": [
    {
     "data": {
      "text/plain": [
       "[('alexa', 0.925),\n",
       " ('amazon', 0.7262813522355507),\n",
       " ('siri', 0.7228654124457308),\n",
       " ('ai', 0.6273155416012559),\n",
       " ('tech', 0.6025331724969843),\n",
       " ('echo', 0.5982035928143713),\n",
       " ('cortana', 0.5967741935483871),\n",
       " ('google', 0.5958842827318819),\n",
       " ('apple', 0.590600059119125),\n",
       " ('amazonecho', 0.575792507204611),\n",
       " ('technology', 0.5756266205704408),\n",
       " ('voice', 0.5729853742472039),\n",
       " ('iot', 0.5658453695836874),\n",
       " ('smarthome', 0.5579447081820721),\n",
       " ('googlehome', 0.556081269134428),\n",
       " ('amazonalexa', 0.5548458761455152),\n",
       " ('news', 0.5496561210453921),\n",
       " ('iphone', 0.5444141689373297),\n",
       " ('googleassistant', 0.5442658676110051),\n",
       " ('heygoogle', 0.5370967741935484)]"
      ]
     },
     "execution_count": 81,
     "metadata": {},
     "output_type": "execute_result"
    }
   ],
   "source": [
    "top_close = sorted(closeCent.items(), key=lambda x:-x[1])\n",
    "top_close[:20]"
   ]
  },
  {
   "cell_type": "code",
   "execution_count": 83,
   "metadata": {},
   "outputs": [
    {
     "data": {
      "text/plain": [
       "0.925"
      ]
     },
     "execution_count": 83,
     "metadata": {},
     "output_type": "execute_result"
    }
   ],
   "source": [
    "closeCent['alexa']"
   ]
  },
  {
   "cell_type": "code",
   "execution_count": 84,
   "metadata": {},
   "outputs": [
    {
     "data": {
      "text/plain": [
       "0.7228654124457308"
      ]
     },
     "execution_count": 84,
     "metadata": {},
     "output_type": "execute_result"
    }
   ],
   "source": [
    "closeCent['siri']"
   ]
  },
  {
   "cell_type": "code",
   "execution_count": 85,
   "metadata": {},
   "outputs": [
    {
     "data": {
      "text/plain": [
       "0.5370967741935484"
      ]
     },
     "execution_count": 85,
     "metadata": {},
     "output_type": "execute_result"
    }
   ],
   "source": [
    "closeCent['heygoogle']"
   ]
  },
  {
   "cell_type": "code",
   "execution_count": 86,
   "metadata": {},
   "outputs": [
    {
     "data": {
      "text/plain": [
       "0.5967741935483871"
      ]
     },
     "execution_count": 86,
     "metadata": {},
     "output_type": "execute_result"
    }
   ],
   "source": [
    "closeCent['cortana']"
   ]
  },
  {
   "cell_type": "markdown",
   "metadata": {},
   "source": [
    "betweenness centrality"
   ]
  },
  {
   "cell_type": "code",
   "execution_count": 95,
   "metadata": {},
   "outputs": [],
   "source": [
    "btwnCent = nx.betweenness_centrality(G, normalized = True, endpoints = False, weight='weight')"
   ]
  },
  {
   "cell_type": "code",
   "execution_count": 96,
   "metadata": {},
   "outputs": [
    {
     "data": {
      "text/plain": [
       "[('alexa', 0.15265830235918712),\n",
       " ('siri', 0.10170942800135165),\n",
       " ('amazon', 0.06122663335907518),\n",
       " ('cortana', 0.04640349952249361),\n",
       " ('google', 0.03941667715558305),\n",
       " ('amazonecho', 0.03641223492923944),\n",
       " ('apple', 0.0330045355798382),\n",
       " ('ai', 0.032758415607863585),\n",
       " ('tech', 0.03215228030426437),\n",
       " ('echo', 0.02543644749582248),\n",
       " ('technology', 0.02486803783197978),\n",
       " ('heygoogle', 0.021265844838584336),\n",
       " ('voice', 0.021231084633499032),\n",
       " ('news', 0.019527503677798593),\n",
       " ('amazonalexa', 0.018580437602995273),\n",
       " ('googlehome', 0.018434676625951697),\n",
       " ('smarthome', 0.017099211504532773),\n",
       " ('iot', 0.01557450981115634),\n",
       " ('iphone', 0.015083511662385947),\n",
       " ('video', 0.012855277132377559)]"
      ]
     },
     "execution_count": 96,
     "metadata": {},
     "output_type": "execute_result"
    }
   ],
   "source": [
    "top_btwn = sorted(btwnCent.items(), key=lambda x:-x[1])\n",
    "top_btwn[:20]"
   ]
  },
  {
   "cell_type": "code",
   "execution_count": 97,
   "metadata": {},
   "outputs": [
    {
     "data": {
      "text/plain": [
       "0.10170942800135165"
      ]
     },
     "execution_count": 97,
     "metadata": {},
     "output_type": "execute_result"
    }
   ],
   "source": [
    "btwnCent['siri']"
   ]
  },
  {
   "cell_type": "code",
   "execution_count": 98,
   "metadata": {},
   "outputs": [
    {
     "data": {
      "text/plain": [
       "0.15265830235918712"
      ]
     },
     "execution_count": 98,
     "metadata": {},
     "output_type": "execute_result"
    }
   ],
   "source": [
    "btwnCent['alexa']"
   ]
  },
  {
   "cell_type": "code",
   "execution_count": 99,
   "metadata": {},
   "outputs": [
    {
     "data": {
      "text/plain": [
       "0.04640349952249361"
      ]
     },
     "execution_count": 99,
     "metadata": {},
     "output_type": "execute_result"
    }
   ],
   "source": [
    "btwnCent['cortana']"
   ]
  },
  {
   "cell_type": "code",
   "execution_count": 100,
   "metadata": {},
   "outputs": [
    {
     "data": {
      "text/plain": [
       "0.021265844838584336"
      ]
     },
     "execution_count": 100,
     "metadata": {},
     "output_type": "execute_result"
    }
   ],
   "source": [
    "btwnCent['heygoogle']"
   ]
  },
  {
   "cell_type": "code",
   "execution_count": 101,
   "metadata": {},
   "outputs": [],
   "source": [
    "btwnCent_edge = nx.edge_betweenness_centrality(G, normalized = True, weight='weight')"
   ]
  },
  {
   "cell_type": "code",
   "execution_count": 103,
   "metadata": {},
   "outputs": [
    {
     "data": {
      "text/plain": [
       "[(('alexa', 'cortana'), 0.009718356764828876),\n",
       " (('alexa', 'google'), 0.00901544987261421),\n",
       " (('alexa', 'grasmere'), 0.002998496245119557),\n",
       " (('sunday', 'onairnow'), 0.002998406452804226),\n",
       " (('alexa', 'learningdisabilities'), 0.002984103587673271),\n",
       " (('alexa', 'voiceassistant'), 0.002700632845856847),\n",
       " (('alexa', 'marketing'), 0.002486842631767102),\n",
       " (('alexa', 'lol'), 0.0022746180672748645),\n",
       " (('alexa', 'alexandriaocasiocortez'), 0.002220955205461772),\n",
       " (('alexa', 'iphonex'), 0.0021174594964472756),\n",
       " (('cortana', 'dorkypickuplines'), 0.002113566580077931),\n",
       " (('alexa', 'windows'), 0.0020664230649371012),\n",
       " (('ai', 'cortana'), 0.0020318363587016153),\n",
       " (('siri', 'healthyliving'), 0.002014791205093558),\n",
       " (('alexa', 'how'), 0.0020084883204513704),\n",
       " (('alexa', 'samsung'), 0.0020074431640771918),\n",
       " (('thermostat', 'heating'), 0.0019999989984982483),\n",
       " (('cortana', 'csharpcon18'), 0.0019989974967463712),\n",
       " (('talkradio', 'trumpkimsummit'), 0.0019935285131185104),\n",
       " (('siri', 'talkradio'), 0.001984188909779845),\n",
       " (('healthcare', 'aca'), 0.0019442834980411582),\n",
       " (('amazon', 'alexandriaocasiocortez'), 0.0018276358230846098),\n",
       " (('alexa', 'the'), 0.0018087582801683078),\n",
       " (('siri', 'facebook'), 0.0017982743788764496),\n",
       " (('alexa', 'smartphone'), 0.0017885887350643382),\n",
       " (('alexa', 'porn'), 0.0017787558543968672),\n",
       " (('alexa', 'moet'), 0.001777047243404797),\n",
       " (('alexa', 'ecommerce'), 0.0017663866859726723),\n",
       " (('alexa', 'fun'), 0.0017496319293451423),\n",
       " (('siri', 'video'), 0.001747739252741136),\n",
       " (('alexa', 'black'), 0.0017414083631749203),\n",
       " (('siri', 'android'), 0.0017317655001847483),\n",
       " (('mom', 'bigboobs'), 0.0017030116807167865),\n",
       " (('alexaskills', 'realtors'), 0.0016909938945751173),\n",
       " (('usa', 'spygate'), 0.0016510772938550914),\n",
       " (('amazonecho', 'apple'), 0.0016182758172387367),\n",
       " (('siri', 'music'), 0.0015429529954046485),\n",
       " (('alexa', 'a'), 0.001479651057957066),\n",
       " (('feminism', 'snl'), 0.0014740830435259124),\n",
       " (('alexa', 'developers'), 0.0014652246161933058),\n",
       " (('smartspeaker', 'blogpost'), 0.001463321039710574),\n",
       " (('alexa', 'siriusxm'), 0.0014453184319329659),\n",
       " (('alexa', 'jeffbezos'), 0.0014364771650786756),\n",
       " (('alexa', 'itunes'), 0.001427058601430415),\n",
       " (('siri', 'ads'), 0.0014104076265761844),\n",
       " (('alexa', 'lake'), 0.001405337987248061),\n",
       " (('alexandermurray', 'support'), 0.001404916093776778),\n",
       " (('siri', 'yesterday'), 0.001395412640927023),\n",
       " (('alexa', 'tbt'), 0.0013911533037909447),\n",
       " (('alexa', 'lighting'), 0.0013879890196143658)]"
      ]
     },
     "execution_count": 103,
     "metadata": {},
     "output_type": "execute_result"
    }
   ],
   "source": [
    "top_btwn_edge = sorted(btwnCent_edge.items(), key=lambda x:-x[1])\n",
    "top_btwn_edge[:50] ## how about the hashtags starting with the four key words"
   ]
  },
  {
   "cell_type": "code",
   "execution_count": 104,
   "metadata": {},
   "outputs": [
    {
     "data": {
      "text/plain": [
       "{('alexa', 'ai'): 0.0,\n",
       " ('alexa', 'iot'): 0.0,\n",
       " ('alexa', 'halloween'): 1.645973625267232e-05,\n",
       " ('alexa', 'speaker'): 0.0,\n",
       " ('alexa', 'amazon'): 0.0,\n",
       " ('alexa', 'siri'): 0.0,\n",
       " ('alexa', 'competition'): 3.5920508298475404e-07,\n",
       " ('alexa', 'smarthome'): 0.0,\n",
       " ('alexa', 'amazonecho'): 0.0,\n",
       " ('alexa', 'techtuesday'): 0.0,\n",
       " ('alexa', 'tech'): 0.0,\n",
       " ('alexa', 'historicalfiction'): 0.0010005002501250627,\n",
       " ('alexa', 'homekit'): 0.0,\n",
       " ('alexa', 'googlehome'): 0.0,\n",
       " ('alexa', 'echolook'): 0.0,\n",
       " ('alexa', 'flashbriefing'): 0.0,\n",
       " ('alexa', 'echoshow'): 0.0,\n",
       " ('alexa', 'echo'): 0.0,\n",
       " ('alexa', 'echodot'): 0.0,\n",
       " ('alexa', 'assistant'): 0.0,\n",
       " ('alexa', 'bixby'): 0.0,\n",
       " ('alexa', 'samsung'): 0.0020074431640771918,\n",
       " ('alexa', 'health'): 0.0,\n",
       " ('alexa', 'healthcare'): 0.0,\n",
       " ('alexa', 'summary'): 0.0,\n",
       " ('alexa', 'news'): 0.0,\n",
       " ('alexa', 'smartlock'): 0.0,\n",
       " ('alexa', 'bestsleepever'): 0.0,\n",
       " ('alexa', 'sleep'): 0.0,\n",
       " ('alexa', 'update'): 0.0,\n",
       " ('alexa', 'voicecommand'): 2.5290643486170765e-05,\n",
       " ('alexa', 'voicefirst'): 0.0,\n",
       " ('alexa', 'speechrecognition'): 0.0,\n",
       " ('alexa', 'voicexp'): 0.0,\n",
       " ('alexa', 'shopping'): 0.0,\n",
       " ('alexa', 'engadget'): 0.0,\n",
       " ('alexa', 'gear'): 0.0,\n",
       " ('alexa', 'home'): 0.0,\n",
       " ('alexa', 'digitalhealth'): 0.0,\n",
       " ('alexa', 'voice'): 0.0,\n",
       " ('alexa', 'tv'): 0.0,\n",
       " ('alexa', 'contest'): 0.0,\n",
       " ('alexa', 'hackathon'): 0.0,\n",
       " ('alexa', 'software'): 0.0,\n",
       " ('alexa', 'developer'): 0.0,\n",
       " ('alexa', 'nlu'): 0.0,\n",
       " ('alexa', 'chatbots'): 0.0,\n",
       " ('alexa', 'googleassistant'): 0.0,\n",
       " ('alexa', 'voicesearch'): 0.0,\n",
       " ('alexa', 'google'): 0.00901544987261421,\n",
       " ('alexa', 'raspberrypi'): 5.3533015425381686e-05,\n",
       " ('alexa', 'connectedcar'): 0.0,\n",
       " ('alexa', 'ask'): 0.0,\n",
       " ('alexa', 'bots'): 0.0,\n",
       " ('alexa', 'cortana'): 0.009718356764828876,\n",
       " ('alexa', 'energetic'): 0.0010005002501250627,\n",
       " ('alexa', '3d'): 0.0,\n",
       " ('alexa', 'technology'): 0.0,\n",
       " ('alexa', 'future'): 0.0,\n",
       " ('alexa', 'homesecurity'): 0.0,\n",
       " ('alexa', 'automation'): 0.0,\n",
       " ('alexa', 'drones'): 0.0,\n",
       " ('alexa', 'phones'): 0.0012309317059357831,\n",
       " ('alexa', 'networktools'): 0.0,\n",
       " ('alexa', 'freetools'): 0.0,\n",
       " ('alexa', 'searchengine'): 5.015656907938374e-05,\n",
       " ('alexa', 'alexaranking'): 0.0,\n",
       " ('alexa', 'nocost'): 0.0,\n",
       " ('alexa', 'wesite'): 0.0,\n",
       " ('alexa', 'seo'): 0.0,\n",
       " ('alexa', 'alexainternet'): 0.0,\n",
       " ('alexa', 'ifttt'): 0.0,\n",
       " ('alexa', 'ehealth'): 0.000454843156264659,\n",
       " ('alexa', 'healthit'): 0.0005786390913033246,\n",
       " ('alexa', 'np'): 0.0007390446119249038,\n",
       " ('alexa', 'sciencefiction'): 0.0005489432949747507,\n",
       " ('alexa', 'analytics'): 0.0,\n",
       " ('alexa', 'singapore'): 0.0,\n",
       " ('alexa', 'tucson'): 0.0,\n",
       " ('alexa', 'traveltech'): 0.0,\n",
       " ('alexa', 'nyc'): 0.0,\n",
       " ('alexa', 'homeautomation'): 0.0,\n",
       " ('alexa', 'meme'): 0.0009842828260267509,\n",
       " ('alexa', 'horror'): 0.0,\n",
       " ('alexa', 'youtube'): 0.0,\n",
       " ('alexa', 'seotools'): 0.0,\n",
       " ('alexa', 'browserinfo'): 0.0,\n",
       " ('alexa', 'ispspeed'): 0.0,\n",
       " ('alexa', 'whatismyip'): 0.0,\n",
       " ('alexa', 'alexarank'): 0.0,\n",
       " ('alexa', 'nlproc'): 0.0,\n",
       " ('alexa', 'bigdata'): 0.0,\n",
       " ('alexa', 'win'): 0.0,\n",
       " ('alexa', 'techgadgets'): 0.000716251566774031,\n",
       " ('alexa', 'walkingleader'): 0.0002720216102763458,\n",
       " ('alexa', 'fb'): 0.0,\n",
       " ('alexa', 'homepod'): 0.0,\n",
       " ('alexa', 'sonos'): 0.0,\n",
       " ('alexa', 'smartspeaker'): 0.0,\n",
       " ('alexa', 'zwave'): 0.0,\n",
       " ('alexa', 'smartthings'): 0.0,\n",
       " ('alexa', 'ecommerce'): 0.0017663866859726723,\n",
       " ('alexa', 'cloud'): 0.0,\n",
       " ('alexa', 'india'): 0.0010923573149638627,\n",
       " ('alexa', 'wwe'): 2.1540155016583077e-05,\n",
       " ('alexa', 'nausea'): 0.0010005002501250627,\n",
       " ('alexa', 'ford'): 0.0,\n",
       " ('alexa', 'kids'): 0.0,\n",
       " ('alexa', 'dot'): 0.0,\n",
       " ('alexa', 'futureofwork'): 0.0007164209930385418,\n",
       " ('alexa', 'artificialintelligence'): 0.0,\n",
       " ('alexa', 'robotics'): 0.0,\n",
       " ('alexa', 'edtech'): 0.0,\n",
       " ('alexa', 'website'): 0.0,\n",
       " ('alexa', 'electronics'): 0.0,\n",
       " ('alexa', 'wifi'): 0.0,\n",
       " ('alexa', 'ranking'): 0.00045535089187839214,\n",
       " ('alexa', 'rank'): 0.0013010601057010665,\n",
       " ('alexa', 'womenintech'): 0.0,\n",
       " ('alexa', 'alexaskill'): 0.0,\n",
       " ('alexa', 'intel'): 0.0,\n",
       " ('alexa', '4k'): 0.0,\n",
       " ('alexa', 'fire'): 0.0,\n",
       " ('alexa', 'finance'): 0.0,\n",
       " ('alexa', 'amazons'): 0.0,\n",
       " ('alexa', 'alexaskills'): 0.0,\n",
       " ('alexa', 'tablets'): 0.0,\n",
       " ('alexa', 'amazonprime'): 0.0,\n",
       " ('alexa', 'digital'): 0.0,\n",
       " ('alexa', 'paranoia'): 0.0,\n",
       " ('alexa', 'smartplugs'): 0.0,\n",
       " ('alexa', 'giveaway'): 0.0,\n",
       " ('alexa', 'assistants'): 0.0,\n",
       " ('alexa', 'dl'): 0.0,\n",
       " ('alexa', 'camera'): 0.0,\n",
       " ('alexa', 'freebiefriday'): 0.0,\n",
       " ('alexa', 'apple'): 0.0,\n",
       " ('alexa', 'sony'): 0.0,\n",
       " ('alexa', 'japan'): 0.0,\n",
       " ('alexa', 'socialmedia'): 2.1055901863020676e-05,\n",
       " ('alexa', 'business'): 0.0,\n",
       " ('alexa', 'dog'): 0.0,\n",
       " ('alexa', 'robot'): 0.0,\n",
       " ('alexa', 'machinelearning'): 2.0288663858240257e-05,\n",
       " ('alexa', 'voip'): 0.0005599168216775514,\n",
       " ('alexa', 'smarttech'): 0.0,\n",
       " ('alexa', 'digitalassistant'): 0.0,\n",
       " ('alexa', 'sonosone'): 0.0,\n",
       " ('alexa', 'itcd'): 0.0,\n",
       " ('alexa', 'advertising'): 0.0,\n",
       " ('alexa', 'mini'): 0.0012632030406512457,\n",
       " ('alexa', 'automotive'): 0.0,\n",
       " ('alexa', 'connectedhome'): 0.0,\n",
       " ('alexa', 'phone'): 0.0,\n",
       " ('alexa', 'avs'): 0.0,\n",
       " ('alexa', 'arri'): 0.0,\n",
       " ('alexa', 'spotify'): 1.376793560228023e-05,\n",
       " ('alexa', 'privacy'): 1.4600735144313841e-05,\n",
       " ('alexa', 'sale'): 0.0,\n",
       " ('alexa', 'deals'): 0.0,\n",
       " ('alexa', 'firetvstick'): 0.0,\n",
       " ('alexa', 'streamingmediaplayer'): 0.0007103665269089834,\n",
       " ('alexa', 'bezos'): 0.0,\n",
       " ('alexa', 'computer'): 0.0,\n",
       " ('alexa', 'asr'): 0.0,\n",
       " ('alexa', 'slashgear'): 0.0,\n",
       " ('alexa', 'amazonalexa'): 0.0,\n",
       " ('alexa', 'august'): 0.0,\n",
       " ('alexa', 'archive'): 0.0,\n",
       " ('alexa', 'fantasy'): 0.0,\n",
       " ('alexa', 'historicalfantasy'): 0.0,\n",
       " ('alexa', 'coding'): 0.0006587345041604959,\n",
       " ('alexa', 'vui'): 0.0,\n",
       " ('alexa', 'watson'): 0.0,\n",
       " ('alexa', 'ml'): 0.0,\n",
       " ('alexa', 'cx'): 0.0,\n",
       " ('alexa', 'microsoft'): 0.0,\n",
       " ('alexa', 'apps'): 0.0,\n",
       " ('alexa', 'data'): 0.0,\n",
       " ('alexa', 'ucaas'): 0.0,\n",
       " ('alexa', 'app'): 0.0,\n",
       " ('alexa', 'echoplus'): 0.0,\n",
       " ('alexa', 'firestick'): 0.0,\n",
       " ('alexa', 'leaked'): 8.848373655344543e-05,\n",
       " ('alexa', 'technews'): 0.0,\n",
       " ('alexa', 'podcast'): 0.0,\n",
       " ('alexa', 'podernfamily'): 0.0,\n",
       " ('alexa', 'smallbusiness'): 0.0006189672070950645,\n",
       " ('alexa', 'digitalmarketing'): 0.0,\n",
       " ('alexa', 'security'): 2.4812752632650324e-05,\n",
       " ('alexa', 'aws'): 0.0,\n",
       " ('alexa', 'interview'): 0.0,\n",
       " ('alexa', 'ios'): 0.0,\n",
       " ('alexa', 'wholefoods'): 0.0,\n",
       " ('alexa', 'diy'): 0.0,\n",
       " ('alexa', 'lighting'): 0.0013879890196143658,\n",
       " ('alexa', 'startup'): 0.0,\n",
       " ('alexa', 'berlin'): 0.000564680153858593,\n",
       " ('alexa', 'millennials'): 0.0,\n",
       " ('alexa', 'podcasting'): 0.0,\n",
       " ('alexa', 'spreaker'): 0.0,\n",
       " ('alexa', 'smartassistant'): 0.0,\n",
       " ('alexa', 'a'): 0.001479651057957066,\n",
       " ('alexa', 'appdev'): 0.0,\n",
       " ('alexa', 'indiedev'): 0.0,\n",
       " ('alexa', 'ad'): 0.0,\n",
       " ('alexa', 'marketing'): 0.002486842631767102,\n",
       " ('alexa', 'digitalassistants'): 0.0,\n",
       " ('alexa', 'show'): 0.0,\n",
       " ('alexa', 'in'): 0.0,\n",
       " ('alexa', 'javascript'): 0.0,\n",
       " ('alexa', 'vr'): 0.0,\n",
       " ('alexa', 'drone'): 1.2962855224561803e-05,\n",
       " ('alexa', 'mobile'): 0.0,\n",
       " ('alexa', 'appetite'): 0.0,\n",
       " ('alexa', 'rich'): 8.254098262232759e-05,\n",
       " ('alexa', 'gadgets'): 0.0,\n",
       " ('alexa', 'homeelectronics'): 5.313587129184549e-06,\n",
       " ('alexa', 'nest'): 0.0,\n",
       " ('alexa', 'tablet'): 0.0,\n",
       " ('alexa', 'reviews'): 0.0,\n",
       " ('alexa', 'gadgetry'): 0.0,\n",
       " ('alexa', 'review'): 0.0,\n",
       " ('alexa', 'ces2017'): 0.00042324027190465403,\n",
       " ('alexa', 'skill'): 0.0,\n",
       " ('alexa', 'bose'): 0.0,\n",
       " ('alexa', 'love'): 0.0,\n",
       " ('alexa', 'fintech'): 0.0,\n",
       " ('alexa', 'insurtech'): 0.0,\n",
       " ('alexa', 'sales'): 0.0,\n",
       " ('alexa', 'stock'): 0.0,\n",
       " ('alexa', 'podcasts'): 0.0,\n",
       " ('alexa', 'android'): 1.9058005299922474e-05,\n",
       " ('alexa', 'chicago'): 6.010072949428656e-05,\n",
       " ('alexa', 'innovation'): 0.0,\n",
       " ('alexa', 'blockchain'): 0.0006282694881325876,\n",
       " ('alexa', 'god'): 0.0,\n",
       " ('alexa', 'voiceui'): 0.0,\n",
       " ('alexa', 'internetofthings'): 0.0,\n",
       " ('alexa', 'cumbria'): 0.0,\n",
       " ('alexa', 'lakedistrict'): 0.0,\n",
       " ('alexa', 'grasmere'): 0.002998496245119557,\n",
       " ('alexa', 'deezer'): 0.0,\n",
       " ('alexa', 'anamorphic'): 6.920632671649045e-05,\n",
       " ('alexa', 'cortona'): 0.0,\n",
       " ('alexa', 'indian'): 0.0,\n",
       " ('alexa', 'iphone'): 1.4889785009826092e-05,\n",
       " ('alexa', 'retail'): 0.0,\n",
       " ('alexa', 'ihome'): 0.0,\n",
       " ('alexa', 'gadget'): 0.0,\n",
       " ('alexa', 'audio'): 0.0,\n",
       " ('alexa', 'strain'): 0.0007420141320840692,\n",
       " ('alexa', 'popular'): 0.0,\n",
       " ('alexa', 'sports'): 0.0,\n",
       " ('alexa', 'videos'): 0.0,\n",
       " ('alexa', 'tomas'): 0.0,\n",
       " ('alexa', 'hot'): 0.0,\n",
       " ('alexa', 'it'): 0.0,\n",
       " ('alexa', 'hue'): 0.0,\n",
       " ('alexa', 'futuretech'): 0.0,\n",
       " ('alexa', 'uplifted'): 0.0010005002501250627,\n",
       " ('alexa', 'brand'): 0.0,\n",
       " ('alexa', 'lambda'): 0.0,\n",
       " ('alexa', 'easteregg'): 0.0,\n",
       " ('alexa', 'cramps'): 0.0010005002501250627,\n",
       " ('alexa', 'amazing'): 0.0,\n",
       " ('alexa', 'infosec'): 0.0,\n",
       " ('alexa', 'can'): 0.0,\n",
       " ('alexa', 'mentalhealth'): 0.0,\n",
       " ('alexa', 'parenting'): 0.0,\n",
       " ('alexa', 'insomnia'): 0.0005313039508794548,\n",
       " ('alexa', 'applemusic'): 0.0,\n",
       " ('alexa', 'amazonechodot'): 0.0,\n",
       " ('alexa', 'customerexperience'): 0.0,\n",
       " ('alexa', 'banks'): 0.0,\n",
       " ('alexa', 'service'): 0.0005526711190356426,\n",
       " ('alexa', 'ui'): 0.0,\n",
       " ('alexa', 'thursdaythoughts'): 0.0010317998190396119,\n",
       " ('alexa', 'voicedesign'): 0.0,\n",
       " ('alexa', 'workshop'): 0.0,\n",
       " ('alexa', 'whatsapp'): 0.0,\n",
       " ('alexa', 'disney'): 0.0006589594702082945,\n",
       " ('alexa', 'blackfriday'): 0.0,\n",
       " ('alexa', 'ioe'): 5.438047688633967e-06,\n",
       " ('alexa', 'voiceassistant'): 0.002700632845856847,\n",
       " ('alexa', 'facebook'): 0.0,\n",
       " ('alexa', 'ico'): 0.0,\n",
       " ('alexa', 'pharmacy'): 0.0,\n",
       " ('alexa', 'parents'): 7.748587674422862e-05,\n",
       " ('alexa', 'uber'): 1.6663233458133565e-05,\n",
       " ('alexa', 'tap'): 0.0,\n",
       " ('alexa', 'film'): 0.0,\n",
       " ('alexa', 'firstworldproblems'): 0.0004492605108469224,\n",
       " ('alexa', 'hackers'): 0.0,\n",
       " ('alexa', 'icymi'): 0.0001221751984299211,\n",
       " ('alexa', 'fun'): 0.0017496319293451423,\n",
       " ('alexa', 'ux'): 0.0,\n",
       " ('alexa', 'devices'): 0.0,\n",
       " ('alexa', 'pikachu'): 0.0,\n",
       " ('alexa', 'oprah'): 0.0,\n",
       " ('alexa', 'techcrunch'): 0.0,\n",
       " ('alexa', 'music'): 0.0,\n",
       " ('alexa', 'dsntech'): 3.065449028812064e-05,\n",
       " ('alexa', 'okgoogle'): 0.0,\n",
       " ('alexa', 'reinvent'): 0.0,\n",
       " ('alexa', 'holiday'): 0.0,\n",
       " ('alexa', 'hungry'): 0.0,\n",
       " ('alexa', 'depression'): 0.0,\n",
       " ('alexa', 'trends'): 0.0,\n",
       " ('alexa', 'consumer'): 0.0,\n",
       " ('alexa', 'kubernetes'): 0.0,\n",
       " ('alexa', 'hotel'): 0.0006785603254178913,\n",
       " ('alexa', 'education'): 0.0,\n",
       " ('alexa', 'safety'): 0.0,\n",
       " ('alexa', 'conversationalui'): 7.314788602589478e-05,\n",
       " ('alexa', 'devops'): 0.0,\n",
       " ('alexa', 'code'): 0.0,\n",
       " ('alexa', 'awslambda'): 0.0,\n",
       " ('alexa', 'deploy'): 0.0,\n",
       " ('alexa', 'bigbrother'): 0.0,\n",
       " ('alexa', 'red'): 0.0,\n",
       " ('alexa', 'cnet'): 0.0,\n",
       " ('alexa', 'av'): 0.0,\n",
       " ('alexa', 'entertainment'): 0.0012299671087654537,\n",
       " ('alexa', 'techgadgetsguru'): 2.0406676531185034e-06,\n",
       " ('alexa', 'voicecontrol'): 0.0,\n",
       " ('alexa', 'smarthomes'): 0.0,\n",
       " ('alexa', 'smartdevices'): 0.0,\n",
       " ('alexa', 'fashion'): 0.0,\n",
       " ('alexa', 'decoration'): 0.000998997997497247,\n",
       " ('alexa', 'decoracion'): 0.000998997997497247,\n",
       " ('alexa', 'deco'): 0.000998997997497247,\n",
       " ('alexa', 'interior'): 0.000998997997497247,\n",
       " ('alexa', 'gaming'): 0.0,\n",
       " ('alexa', 'car'): 0.0,\n",
       " ('alexa', 'collaboration'): 2.4612134731327126e-05,\n",
       " ('alexa', 'deal'): 0.0,\n",
       " ('alexa', 'video'): 0.0,\n",
       " ('alexa', 'dev'): 0.0,\n",
       " ('alexa', 'random'): 0.0,\n",
       " ('alexa', 'coffee'): 1.9702694857079812e-05,\n",
       " ('alexa', 'voicetech'): 0.0,\n",
       " ('alexa', 'gps'): 0.0,\n",
       " ('alexa', 'philipshue'): 0.0,\n",
       " ('alexa', 'police'): 0.0,\n",
       " ('alexa', 'women'): 0.0,\n",
       " ('alexa', 'speak'): 0.0,\n",
       " ('alexa', 'handsfree'): 0.0,\n",
       " ('alexa', 'smartphone'): 0.0017885887350643382,\n",
       " ('alexa', 'skills'): 0.0,\n",
       " ('alexa', 'alexamini'): 6.467601189259044e-05,\n",
       " ('alexa', '100daysofcode'): 0.0,\n",
       " ('alexa', 'fail'): 0.0,\n",
       " ('alexa', 'pressure'): 0.0010005002501250627,\n",
       " ('alexa', 'ibm'): 0.0,\n",
       " ('alexa', 'justsaying'): 0.0,\n",
       " ('alexa', 'kindle'): 0.0,\n",
       " ('alexa', 'hd'): 0.0,\n",
       " ('alexa', 'vacuum'): 0.0,\n",
       " ('alexa', 'smart'): 0.0,\n",
       " ('alexa', 'va'): 0.0,\n",
       " ('alexa', 'thanks'): 0.0,\n",
       " ('alexa', 'display'): 0.0,\n",
       " ('alexa', 'cryptocurrency'): 0.0,\n",
       " ('alexa', 'smartspeakers'): 0.0,\n",
       " ('alexa', 'alexadev'): 0.0,\n",
       " ('alexa', 'hacked'): 0.0005051053634671031,\n",
       " ('alexa', 'tvs'): 0.0,\n",
       " ('alexa', 'spasms'): 0.0010005002501250627,\n",
       " ('alexa', 'voicetechnology'): 0.0,\n",
       " ('alexa', 'free'): 0.0,\n",
       " ('alexa', 'serverless'): 0.0,\n",
       " ('alexa', 'hvac'): 0.0,\n",
       " ('alexa', 'thermostat'): 0.0,\n",
       " ('alexa', 'fridayfeeling'): 0.0007091535585507042,\n",
       " ('alexa', 'like'): 0.0,\n",
       " ('alexa', 'development'): 0.0,\n",
       " ('alexa', 'rock'): 0.0,\n",
       " ('alexa', 'diabetes'): 0.0001178253368340084,\n",
       " ('alexa', 'ruby'): 0.0008197119523223155,\n",
       " ('alexa', 'happy'): 0.0,\n",
       " ('alexa', 'robots'): 0.0,\n",
       " ('alexa', 'bestbuy'): 0.0,\n",
       " ('alexa', 'firetv'): 0.0,\n",
       " ('alexa', 'ott'): 0.0,\n",
       " ('alexa', 'homebots'): 0.0,\n",
       " ('alexa', 'nhl'): 0.0,\n",
       " ('alexa', 'wtf'): 0.0,\n",
       " ('alexa', 'sem'): 0.0,\n",
       " ('alexa', 'prime'): 0.0,\n",
       " ('alexa', 'content'): 0.0010531329160105222,\n",
       " ('alexa', 'blog'): 0.0,\n",
       " ('alexa', 'how'): 0.0020084883204513704,\n",
       " ('alexa', 'mixedreality'): 0.0,\n",
       " ('alexa', 'blogpost'): 0.0,\n",
       " ('alexa', 'breakingnews'): 0.0,\n",
       " ('alexa', 'help'): 0.0,\n",
       " ('alexa', 'you'): 0.0,\n",
       " ('alexa', 'order'): 3.6799774790870314e-05,\n",
       " ('alexa', 'and'): 0.0,\n",
       " ('alexa', 'best'): 0.0,\n",
       " ('alexa', 'smarttv'): 0.0008832936135463787,\n",
       " ('alexa', 'weekend'): 7.705319317664561e-05,\n",
       " ('alexa', 'comparison'): 0.0,\n",
       " ('alexa', 'stick'): 0.0,\n",
       " ('alexa', 'newyork'): 0.0,\n",
       " ('alexa', 'hilarious'): 0.0006375963783222351,\n",
       " ('alexa', 'latest'): 0.0,\n",
       " ('alexa', 'scary'): 0.0,\n",
       " ('alexa', 'email'): 0.0,\n",
       " ('alexa', 'netflix'): 0.0,\n",
       " ('alexa', 'jesus'): 0.0,\n",
       " ('alexa', 'geek'): 0.0,\n",
       " ('alexa', 'bollywood'): 0.0,\n",
       " ('alexa', 'rt'): 0.0,\n",
       " ('alexa', 'iphonex'): 0.0021174594964472756,\n",
       " ('alexa', 'surveillance'): 0.000706812882816093,\n",
       " ('alexa', 'virtualassistant'): 0.0,\n",
       " ('alexa', 'googlehomemini'): 0.0013097450889007376,\n",
       " ('alexa', 'tunes'): 9.336971790452048e-05,\n",
       " ('alexa', 'headaches'): 0.0010005002501250627,\n",
       " ('alexa', 'conversationalai'): 0.0,\n",
       " ('alexa', 'api'): 0.0,\n",
       " ('alexa', 'wine'): 0.0,\n",
       " ('alexa', 'polly'): 0.0,\n",
       " ('alexa', 'design'): 0.0,\n",
       " ('alexa', 'ar'): 0.0,\n",
       " ('alexa', 'virtual'): 0.0,\n",
       " ('alexa', 'creepy'): 0.0,\n",
       " ('alexa', 'podbean'): 0.00010339329854438811,\n",
       " ('alexa', 'allnew'): 0.0005016819753430637,\n",
       " ('alexa', 'firetablet'): 0.0,\n",
       " ('alexa', 'iotsecurity'): 0.0,\n",
       " ('alexa', 'brands'): 0.0,\n",
       " ('alexa', 'creative'): 0.0,\n",
       " ('alexa', 'control'): 0.0,\n",
       " ('alexa', 'boston'): 0.0,\n",
       " ('alexa', 'dry'): 0.0010005002501250627,\n",
       " ('alexa', 'artificial'): 0.0,\n",
       " ('alexa', 'saturday'): 0.0,\n",
       " ('alexa', 'starwars'): 0.0,\n",
       " ('alexa', 'fucked'): 0.0,\n",
       " ('alexa', 'nova'): 0.0,\n",
       " ('alexa', 'hard'): 0.0,\n",
       " ('alexa', 'gamedev'): 0.0,\n",
       " ('alexa', 'learning'): 0.0,\n",
       " ('alexa', 'device'): 0.0,\n",
       " ('alexa', 'fiverr'): 0.0,\n",
       " ('alexa', 'traffic'): 3.192672420092529e-05,\n",
       " ('alexa', 'smm'): 0.0,\n",
       " ('alexa', 'sophia'): 0.0,\n",
       " ('alexa', 'disruption'): 3.7043648249713997e-07,\n",
       " ('alexa', 'hospitality'): 0.0,\n",
       " ('alexa', 'programming'): 0.0,\n",
       " ('alexa', 'python'): 0.0,\n",
       " ('alexa', 'lduk'): 4.904693392832315e-05,\n",
       " ('alexa', 'sms'): 0.0,\n",
       " ('alexa', 'stress'): 0.0,\n",
       " ('alexa', 'anxiety'): 0.0,\n",
       " ('alexa', 'despacito'): 0.0,\n",
       " ('alexa', 'internetmarketing'): 0.0006714883680815897,\n",
       " ('alexa', 'developers'): 0.0014652246161933058,\n",
       " ('alexa', 'startrek'): 0.0,\n",
       " ('alexa', 'funny'): 0.0,\n",
       " ('alexa', 'oasis'): 3.6743656483013665e-05,\n",
       " ('alexa', 'interiordesign'): 0.0,\n",
       " ('alexa', 'staging'): 0.0,\n",
       " ('alexa', 'interiordesigner'): 0.0,\n",
       " ('alexa', 'yoga'): 0.0,\n",
       " ('alexa', 'meditation'): 0.0,\n",
       " ('alexa', 'yogionzee'): 0.0,\n",
       " ('alexa', 'fitness'): 0.0,\n",
       " ('alexa', 'smartlife'): 0.0005138140059704991,\n",
       " ('alexa', 'smarthouseaz'): 0.0,\n",
       " ('alexa', 'bartender'): 0.0,\n",
       " ('alexa', 'events'): 0.0,\n",
       " ('alexa', 'calendar'): 0.0,\n",
       " ('alexa', 'realtor'): 0.0,\n",
       " ('alexa', 'planning'): 0.0,\n",
       " ('alexa', 'smartcities'): 0.0,\n",
       " ('alexa', 'smartcity'): 0.0,\n",
       " ('alexa', 'kitchen'): 0.0,\n",
       " ('alexa', 'heatlhy'): 0.0,\n",
       " ('alexa', 'food'): 0.0,\n",
       " ('alexa', 'foodie'): 0.0,\n",
       " ('alexa', 'walmart'): 0.0,\n",
       " ('alexa', 'colors'): 0.0,\n",
       " ('alexa', 'healthyrecipes'): 0.0,\n",
       " ('alexa', 'brain'): 0.0005215106769878709,\n",
       " ('alexa', 'weather'): 0.0,\n",
       " ('alexa', 'reporting'): 0.0,\n",
       " ('alexa', 'conserve'): 0.0,\n",
       " ('alexa', 'lovers'): 0.0,\n",
       " ('alexa', 'omgtv'): 0.0,\n",
       " ('alexa', 'kodi'): 0.0,\n",
       " ('alexa', 'media'): 0.0,\n",
       " ('alexa', 'pollen'): 0.0,\n",
       " ('alexa', 'humidifier'): 0.0,\n",
       " ('alexa', 'fever'): 0.0,\n",
       " ('alexa', 'allergies'): 0.0,\n",
       " ('alexa', 'hay'): 0.0,\n",
       " ('alexa', 'speakers'): 0.0,\n",
       " ('alexa', 'alex'): 0.0,\n",
       " ('alexa', 'baby'): 0.0,\n",
       " ('alexa', 'applehomepod'): 0.0,\n",
       " ('alexa', 'information'): 0.0,\n",
       " ('alexa', 'travel'): 0.0,\n",
       " ('alexa', 'bbc'): 0.0,\n",
       " ('alexa', 'sleepy'): 0.0,\n",
       " ('alexa', 'websummit'): 0.0,\n",
       " ('alexa', 'general'): 0.0,\n",
       " ('alexa', 'uk'): 0.0,\n",
       " ('alexa', 'alexaapp'): 0.0,\n",
       " ('alexa', 'dataprivacy'): 0.0,\n",
       " ('alexa', 'wireless'): 0.0,\n",
       " ('alexa', 'portable'): 0.0005283460849202815,\n",
       " ('alexa', 'bluetooth'): 0.0011333285146997974,\n",
       " ('alexa', 'date'): 0.000741071318811145,\n",
       " ('alexa', 'firehd'): 0.0,\n",
       " ('alexa', 'metoo'): 0.0005716867892318483,\n",
       " ('alexa', 'cyber'): 0.0003443393961423676,\n",
       " ('alexa', 'ecobee4'): 0.0,\n",
       " ('alexa', 'lifx'): 0.0,\n",
       " ('alexa', 'offer'): 0.0,\n",
       " ('alexa', 'black'): 0.0017414083631749203,\n",
       " ('alexa', 'investorseurope'): 0.0,\n",
       " ('alexa', 'wearsalexa'): 0.0,\n",
       " ('alexa', 'marriott'): 0.0,\n",
       " ('alexa', 'cat'): 0.0,\n",
       " ('alexa', 'birthday'): 0.0,\n",
       " ('alexa', 'ukdevs'): 0.0,\n",
       " ('alexa', 'unboxing'): 0.0007216257327761652,\n",
       " ('alexa', 'wearables'): 0.0,\n",
       " ('alexa', 'available'): 0.0004317487352696064,\n",
       " ('alexa', 'feminism'): 0.0,\n",
       " ('alexa', 'wordpress'): 0.0,\n",
       " ('alexa', 'tourism'): 0.0,\n",
       " ('alexa', 'games'): 0.0,\n",
       " ('alexa', 'cybermonday'): 0.0006982635690329646,\n",
       " ('alexa', 'radio'): 0.0,\n",
       " ('alexa', 'play'): 0.0,\n",
       " ('alexa', 'askalexa'): 0.0,\n",
       " ('alexa', 'datascience'): 0.0,\n",
       " ('alexa', 'nsa'): 0.0,\n",
       " ('alexa', 'alexabliss'): 0.0,\n",
       " ('alexa', 'niajax'): 0.0008838688890041641,\n",
       " ('alexa', 'snl'): 0.0008839491678047109,\n",
       " ('alexa', 'mondaymotivation'): 0.0,\n",
       " ('alexa', 'the'): 0.0018087582801683078,\n",
       " ('alexa', 'cellphones'): 0.0,\n",
       " ('alexa', 'hometheater'): 0.0,\n",
       " ('alexa', 'followers'): 0.0,\n",
       " ('alexa', 'matlab'): 0.0,\n",
       " ('alexa', 'smartglasses'): 0.0,\n",
       " ('alexa', 'teen'): 0.0,\n",
       " ('alexa', 'rome'): 0.0,\n",
       " ('alexa', 'people'): 0.0009242153634621046,\n",
       " ('alexa', 'lol'): 0.0022746180672748645,\n",
       " ('alexa', 'sexy'): 0.0,\n",
       " ('alexa', 'lmao'): 0.0,\n",
       " ('alexa', 'movie'): 0.0,\n",
       " ('alexa', 'happybirthday'): 4.3451911458194246e-07,\n",
       " ('alexa', 'seizures'): 0.0010005002501250627,\n",
       " ('alexa', 'cars'): 0.0007336063790799946,\n",
       " ('alexa', 'garmin'): 0.0,\n",
       " ('alexa', 'streaming'): 0.0,\n",
       " ('alexa', 'us'): 0.0,\n",
       " ('alexa', 'chatbot'): 0.0,\n",
       " ('alexa', 'oo'): 0.0,\n",
       " ('alexa', 'happybday'): 0.0002568749276469257,\n",
       " ('alexa', 'big'): 0.0,\n",
       " ('alexa', 'amazonappsummit'): 0.0,\n",
       " ('alexa', 'prize'): 0.0,\n",
       " ('alexa', 'london'): 0.0,\n",
       " ('alexa', 'techupdates'): 0.0,\n",
       " ('alexa', 'iosdev'): 0.0,\n",
       " ('alexa', 'smartphones'): 0.0,\n",
       " ('alexa', 'androiddev'): 0.0,\n",
       " ('alexa', 'commands'): 0.0,\n",
       " ('alexa', 'bmw'): 2.7234868129787875e-05,\n",
       " ('alexa', 'cio'): 0.0,\n",
       " ('alexa', 'cdo'): 0.0,\n",
       " ('alexa', 'itunes'): 0.001427058601430415,\n",
       " ('alexa', 'crm'): 0.0,\n",
       " ('alexa', 'culture'): 0.0,\n",
       " ('alexa', 'linux'): 0.0,\n",
       " ('alexa', 'healthtech'): 0.0006438933166621135,\n",
       " ('alexa', 'productivity'): 0.0,\n",
       " ('alexa', 'hometech'): 0.0,\n",
       " ('alexa', 'cartoon'): 0.0,\n",
       " ('alexa', 'bangalore'): 0.0,\n",
       " ('alexa', 'angerissues'): 0.0,\n",
       " ('alexa', 'laptop'): 0.0,\n",
       " ('alexa', 'applewatch'): 0.0,\n",
       " ('alexa', 'storage'): 0.0,\n",
       " ('alexa', 'voiceover'): 0.0,\n",
       " ('alexa', 'voicerecognition'): 0.0,\n",
       " ('alexa', 'gamechanger'): 0.0,\n",
       " ('alexa', 'computers'): 0.0012460566023670694,\n",
       " ('alexa', 'hardware'): 0.0,\n",
       " ('alexa', 'pain'): 0.0,\n",
       " ('alexa', 'snapchat'): 0.0,\n",
       " ('alexa', 'cybersecurity'): 0.0,\n",
       " ('alexa', 'startups'): 0.0,\n",
       " ('alexa', 'web'): 0.0006918417498507468,\n",
       " ('alexa', 'homeassistant'): 0.0,\n",
       " ('alexa', '80s'): 0.0,\n",
       " ('alexa', 'euphoric'): 0.0010005002501250627,\n",
       " ('alexa', 'light'): 0.0,\n",
       " ('alexa', 'howto'): 0.0,\n",
       " ('alexa', 'grace'): 0.0,\n",
       " ('alexa', 'beautiful'): 0.0,\n",
       " ('alexa', 'asia'): 2.691864046459098e-05,\n",
       " ('alexa', 'ia'): 0.0,\n",
       " ('alexa', 'bottish'): 0.0006200696190672822,\n",
       " ('alexa', 'producthunt'): 0.0,\n",
       " ('alexa', 'skynet'): 0.0,\n",
       " ('alexa', 'applenews'): 0.0,\n",
       " ('alexa', 'follow'): 6.0795944586436714e-05,\n",
       " ('alexa', 'retweet'): 0.0,\n",
       " ('alexa', 'cinematography'): 0.0,\n",
       " ('alexa', 'game'): 0.0,\n",
       " ('alexa', 'rap'): 0.0,\n",
       " ('alexa', 'perfect'): 0.0,\n",
       " ('alexa', 'chung'): 0.0,\n",
       " ('alexa', 'yogi'): 0.0,\n",
       " ('alexa', 'travelling'): 0.0005991887825137569,\n",
       " ('alexa', 'healthyliving'): 0.0,\n",
       " ('alexa', 'moz'): 0.0006002661526335392,\n",
       " ('alexa', 'enterprise'): 0.0,\n",
       " ('alexa', 'cute'): 0.0,\n",
       " ('alexa', 'jibo'): 0.0,\n",
       " ('alexa', 'heating'): 0.0,\n",
       " ('alexa', 'native'): 0.0,\n",
       " ('alexa', 'electronic'): 0.0010005002501250627,\n",
       " ('alexa', 'monitor'): 0.0006330332402466609,\n",
       " ('alexa', 'story'): 0.0,\n",
       " ('alexa', 'have'): 0.0,\n",
       " ('alexa', 'conversations'): 0.0,\n",
       " ('alexa', 'features'): 0.0,\n",
       " ('alexa', 'remote'): 1.2810053294605688e-05,\n",
       " ('alexa', 'potato'): 0.0006163964732168694,\n",
       " ('alexa', 'serp'): 0.0,\n",
       " ('alexa', 'fiverrgig'): 0.000656549458568467,\n",
       " ('alexa', 'webtraffic'): 0.0,\n",
       " ('alexa', '3dprinting'): 0.0,\n",
       " ('alexa', 'opensource'): 0.0,\n",
       " ('alexa', 'tc'): 0.0,\n",
       " ('alexa', 'winning'): 0.0,\n",
       " ('alexa', 'hindi'): 0.0,\n",
       " ('alexa', 'english'): 0.0,\n",
       " ('alexa', 'bible'): 0.000506134062831994,\n",
       " ('alexa', 'jobs'): 1.396026619191315e-05,\n",
       " ('alexa', 'hiring'): 0.0,\n",
       " ('alexa', 'party'): 0.0010697153727972336,\n",
       " ('alexa', 'germany'): 0.0,\n",
       " ('alexa', 'techtrends'): 0.0,\n",
       " ('alexa', 'anal'): 0.0,\n",
       " ('alexa', 'first'): 0.0,\n",
       " ('alexa', 'super'): 0.0,\n",
       " ('alexa', 'dad'): 0.0,\n",
       " ('alexa', 'stem'): 0.000564232081993139,\n",
       " ('alexa', 'money'): 0.0,\n",
       " ('alexa', 'course'): 0.0,\n",
       " ('alexa', 'realestate'): 0.0,\n",
       " ('alexa', 'ass'): 0.0,\n",
       " ('alexa', 'cock'): 0.0007033646395462534,\n",
       " ('alexa', 'humpday'): 0.0,\n",
       " ('alexa', 'alexadevs'): 0.0,\n",
       " ('alexa', 'laptops'): 0.0,\n",
       " ('alexa', 'nfl'): 0.0,\n",
       " ('alexa', 'focused'): 0.0010005002501250627,\n",
       " ('alexa', 'house'): 0.0,\n",
       " ('alexa', 'accent'): 0.0,\n",
       " ('alexa', 'thankyou'): 0.0,\n",
       " ('alexa', 'drupal'): 0.0,\n",
       " ('alexa', 'amazonfire'): 0.0,\n",
       " ('alexa', 'virtualassistants'): 0.0,\n",
       " ('alexa', 'allo'): 0.0,\n",
       " ('alexa', 'voiceshopping'): 0.0,\n",
       " ('alexa', 'lex'): 0.0,\n",
       " ('alexa', 'periscope'): 0.0,\n",
       " ('alexa', 'engineering'): 0.0,\n",
       " ('alexa', 'market'): 0.0,\n",
       " ('alexa', 'arduino'): 0.0,\n",
       " ('alexa', 'esp8266'): 7.354841424418134e-05,\n",
       " ('alexa', 'humor'): 0.0,\n",
       " ('alexa', 'nlp'): 0.0,\n",
       " ('alexa', 'leica'): 0.0,\n",
       " ('alexa', 'mate'): 0.0,\n",
       " ('alexa', 'huawei'): 0.0,\n",
       " ('alexa', 'theverge'): 0.0006360122152416207,\n",
       " ('alexa', 'bot'): 0.0,\n",
       " ('alexa', 'googlenow'): 0.0,\n",
       " ('alexa', 'nodejs'): 0.0,\n",
       " ('alexa', 'primemusic'): 0.0,\n",
       " ('alexa', 'tbt'): 0.0013911533037909447,\n",
       " ('alexa', 'cool'): 0.0,\n",
       " ('alexa', 'nude'): 0.0009894181586173401,\n",
       " ('alexa', 'blonde'): 0.0,\n",
       " ('alexa', 'bigtits'): 0.0,\n",
       " ('alexa', 'deepmind'): 0.0,\n",
       " ('alexa', 'hacking'): 1.0205258537262152e-06,\n",
       " ('alexa', 'tutorial'): 0.0,\n",
       " ('alexa', 'hack'): 0.0,\n",
       " ('alexa', 'voiceactivated'): 0.0,\n",
       " ('alexa', 'ecobee'): 0.0,\n",
       " ('alexa', 'canada'): 0.0,\n",
       " ('alexa', 'amazongiveaway'): 0.0,\n",
       " ('alexa', 'ces2018'): 0.0,\n",
       " ('alexa', 'mrx'): 0.0,\n",
       " ('alexa', 'gb'): 0.0,\n",
       " ('alexa', 'heysiri'): 0.0,\n",
       " ('alexa', 'okaygoogle'): 0.0,\n",
       " ('alexa', 'putin'): 1.3309499237591283e-06,\n",
       " ('alexa', 'deeplearning'): 0.0,\n",
       " ('alexa', 'southpark'): 0.0,\n",
       " ('alexa', 'harrypotter'): 9.031528385995595e-05,\n",
       " ('alexa', 'computing'): 0.0,\n",
       " ('alexa', 'roku'): 0.0,\n",
       " ('alexa', 'new'): 0.0,\n",
       " ('alexa', 'logitech'): 0.0,\n",
       " ('alexa', 'tgif'): 0.0,\n",
       " ('alexa', 'world'): 0.0008959483661479879,\n",
       " ('alexa', 'twitter'): 0.0011090651853040993,\n",
       " ('alexa', 'voiceassistants'): 0.0,\n",
       " ('alexa', 'commerce'): 0.0,\n",
       " ('alexa', 'cooking'): 0.0,\n",
       " ('alexa', 'setlife'): 0.0,\n",
       " ('alexa', 'television'): 0.0,\n",
       " ('alexa', 'atlanta'): 0.0,\n",
       " ('alexa', 'stitcher'): 0.0,\n",
       " ('alexa', 'dish'): 0.0,\n",
       " ('alexa', 'jeopardy'): 0.00043378206889007297,\n",
       " ('alexa', 'carplay'): 0.0,\n",
       " ('alexa', 'amazonmusic'): 0.0,\n",
       " ('alexa', 'newtech'): 0.0,\n",
       " ('alexa', 'cambridge'): 0.0,\n",
       " ('alexa', 'fatigue'): 0.0010005002501250627,\n",
       " ('alexa', 'lights'): 0.0,\n",
       " ('alexa', 'inflammation'): 0.0010005002501250627,\n",
       " ('alexa', 'accessories'): 0.0,\n",
       " ('alexa', 'research'): 0.0,\n",
       " ('alexa', 'homebot'): 0.0,\n",
       " ('alexa', 'connected'): 0.0,\n",
       " ('alexa', 'npr'): 0.0,\n",
       " ('alexa', 'voiceactivation'): 0.0,\n",
       " ('alexa', 'scifi'): 0.0,\n",
       " ('alexa', 'aging'): 0.0005192058134210434,\n",
       " ('alexa', 'amazontap'): 0.0,\n",
       " ('alexa', 'works'): 0.0,\n",
       " ('alexa', 'mood'): 0.0,\n",
       " ('alexa', '3dprinter'): 0.0,\n",
       " ('alexa', 'raw'): 0.0,\n",
       " ('alexa', 'haha'): 0.0005848903262229362,\n",
       " ('alexa', 'winners'): 0.0,\n",
       " ('alexa', 'amazonkindle'): 0.0,\n",
       " ('alexa', 'virtualreality'): 0.0,\n",
       " ('alexa', 'newmusic'): 0.0,\n",
       " ('alexa', 'heygoogle'): 0.0,\n",
       " ('alexa', 'cloudcam'): 0.0,\n",
       " ('alexa', 'christmas'): 0.0,\n",
       " ('alexa', 'truth'): 0.0,\n",
       " ('alexa', 'lesbian'): 0.0,\n",
       " ('alexa', 'rude'): 0.0,\n",
       " ('alexa', 'petra'): 0.0,\n",
       " ('alexa', 'support'): 0.0,\n",
       " ('alexa', 'goodmorning'): 0.0,\n",
       " ('alexa', 'ir'): 0.0,\n",
       " ('alexa', 'repost'): 0.0,\n",
       " ('alexa', 'queen'): 0.0006606809994454105,\n",
       " ('alexa', 'led'): 0.0,\n",
       " ('alexa', 'amazondot'): 0.0,\n",
       " ('alexa', 'beer'): 0.0,\n",
       " ('alexa', 'digitaltransformation'): 0.0,\n",
       " ('alexa', 'banking'): 0.0,\n",
       " ('alexa', 'insurance'): 0.0,\n",
       " ('alexa', 'player'): 0.0,\n",
       " ('alexa', 'florida'): 0.0,\n",
       " ('alexa', 'ivr'): 0.0,\n",
       " ('alexa', 'deebot'): 0.0,\n",
       " ('alexa', 'clinicaltrials'): 0.00013038605186902884,\n",
       " ('alexa', 'php'): 0.0,\n",
       " ('alexa', 'designthinking'): 0.0,\n",
       " ('alexa', 'realtors'): 0.0,\n",
       " ('alexa', 'iotforum'): 0.0,\n",
       " ('alexa', 'ghandi'): 0.0009994987483731856,\n",
       " ('alexa', 'mantras'): 0.0009994987483731856,\n",
       " ('alexa', 'chanting'): 0.0009994987483731856,\n",
       " ('alexa', 'thanksgiving'): 0.0,\n",
       " ('alexa', 'xmas'): 3.952848079807533e-05,\n",
       " ('alexa', 'internet'): 0.0,\n",
       " ('alexa', 'with'): 0.0,\n",
       " ('alexa', 'translator'): 0.0,\n",
       " ('alexa', 'appletv'): 0.0,\n",
       " ('alexa', 'instagram'): 0.0,\n",
       " ('alexa', 'smartcar'): 0.0,\n",
       " ('alexa', 'alexadevdays'): 0.0,\n",
       " ('alexa', 'joke'): 0.0007935062028733425,\n",
       " ('alexa', 'xplan'): 0.0,\n",
       " ('alexa', 'personalization'): 0.0,\n",
       " ('alexa', 'family'): 0.0,\n",
       " ('alexa', 'relaxed'): 0.0,\n",
       " ('alexa', 'pandora'): 0.0,\n",
       " ('alexa', 'dance'): 0.0,\n",
       " ('alexa', 'tips'): 0.0,\n",
       " ('alexa', 'egypt'): 0.0,\n",
       " ('alexa', 'muse'): 0.0,\n",
       " ('alexa', 'tuesdaythoughts'): 0.0,\n",
       " ('alexa', 'lenovo'): 0.0,\n",
       " ('alexa', 'comedy'): 0.0,\n",
       " ('alexa', 'memes'): 0.0,\n",
       " ('alexa', 'navigation'): 0.0,\n",
       " ('alexa', 'tunein'): 0.0,\n",
       " ('alexa', 'online'): 0.0,\n",
       " ('alexa', 'working'): 0.0,\n",
       " ('alexa', 'drinking'): 0.0004770958342685391,\n",
       " ('alexa', 'technologies'): 0.0,\n",
       " ('alexa', 'meetings'): 0.0,\n",
       " ('alexa', 'faceid'): 0.0,\n",
       " ('alexa', 'ces18'): 0.0,\n",
       " ('alexa', 'ces'): 0.0,\n",
       " ('alexa', 'appstore'): 0.0,\n",
       " ('alexa', 'rohitprasad'): 0.0,\n",
       " ('alexa', 'musicvideos'): 0.0,\n",
       " ('alexa', 'digitalcinema'): 0.0,\n",
       " ('alexa', 'redcinema'): 0.0,\n",
       " ('alexa', 'africangrey'): 0.0,\n",
       " ('alexa', 'interiordesigners'): 0.0,\n",
       " ('alexa', 'deadpool2'): 0.00022186335015766717,\n",
       " ('alexa', 'mugabe'): 0.0008497987949079604,\n",
       " ('alexa', 'globalnewsmorning'): 0.0008497987949079604,\n",
       " ('alexa', 'weday'): 0.0,\n",
       " ('alexa', 'bills'): 0.0,\n",
       " ('alexa', 'wednesdaywisdom'): 0.0,\n",
       " ('alexa', 'voiceapps'): 0.0,\n",
       " ('alexa', 'beauty'): 0.0,\n",
       " ('alexa', 'platform'): 0.0,\n",
       " ('alexa', 'marketers'): 0.0,\n",
       " ('alexa', 'personalassistant'): 0.0,\n",
       " ('alexa', 'bargain'): 0.0,\n",
       " ('alexa', 'biometrics'): 0.0,\n",
       " ('alexa', 'androidnews'): 0.0,\n",
       " ('alexa', 'roxy'): 0.0,\n",
       " ('alexa', 'ghost'): 0.0,\n",
       " ('alexa', 'sirius'): 0.0,\n",
       " ('alexa', 'manners'): 3.884980775565706e-05,\n",
       " ('alexa', 'spanish'): 0.0,\n",
       " ('alexa', 'hrtech'): 0.0,\n",
       " ('alexa', 'hr'): 0.0,\n",
       " ('alexa', 'workplace'): 0.0009733544719564151,\n",
       " ('alexa', 'vc'): 0.00104323410991634,\n",
       " ('alexa', 'french'): 0.0,\n",
       " ('alexa', 'hiphop'): 0.0,\n",
       " ('alexa', 'retailers'): 0.0,\n",
       " ('alexa', 'parrots'): 0.0,\n",
       " ('alexa', 'wow'): 0.0,\n",
       " ('alexa', 'wrestling'): 0.0,\n",
       " ('alexa', 'woman'): 0.0,\n",
       " ('alexa', 'awesome'): 0.0,\n",
       " ('alexa', 'question'): 0.0,\n",
       " ('alexa', 'dyk'): 0.0,\n",
       " ('alexa', 'pussy'): 0.0,\n",
       " ('alexa', 'her'): 0.0,\n",
       " ('alexa', 'vo'): 0.0,\n",
       " ('alexa', 'song'): 0.0,\n",
       " ('alexa', 'headphones'): 0.0,\n",
       " ('alexa', 'backlinks'): 0.0009962203114640938,\n",
       " ('alexa', 'finserv'): 0.0,\n",
       " ('alexa', 'parrot'): 0.0,\n",
       " ('alexa', 'bitcoin'): 0.0,\n",
       " ('alexa', 'crypto'): 0.0,\n",
       " ('alexa', 'learn'): 0.0,\n",
       " ('alexa', 'trending'): 0.0,\n",
       " ('alexa', 'genz'): 0.0,\n",
       " ('alexa', 'hashtag'): 0.0,\n",
       " ('alexa', 'databreach'): 0.0,\n",
       " ('alexa', 'xboxone'): 0.0,\n",
       " ('alexa', 'a11y'): 0.0,\n",
       " ('alexa', 'text'): 1.6886986670298596e-05,\n",
       " ('alexa', 'daily'): 0.0,\n",
       " ('alexa', 'live'): 0.0,\n",
       " ('alexa', 'now'): 0.0,\n",
       " ('alexa', 'touchscreen'): 0.0,\n",
       " ('alexa', 'monitoring'): 0.0,\n",
       " ('alexa', 'dogs'): 0.0,\n",
       " ('alexa', 'reinvent2017'): 0.0,\n",
       " ('alexa', 'mayoclinicminute'): 0.0009999994992491241,\n",
       " ('alexa', 'firstaid'): 0.0009999994992491241,\n",
       " ('alexa', 'seattle'): 0.0,\n",
       " ('alexa', 'entrepreneur'): 0.0,\n",
       " ('alexa', 'amira'): 0.0,\n",
       " ('alexa', 'kisw'): 0.0010005002501250627,\n",
       " ('alexa', 'bliss'): 0.0008418490043583998,\n",
       " ('alexa', 'omg'): 0.0,\n",
       " ('alexa', 'usa'): 2.921643854805306e-05,\n",
       " ('alexa', 'fitbit'): 0.0007817826408356541,\n",
       " ('alexa', 'tuneinradio'): 0.0,\n",
       " ('alexa', 'search'): 0.0,\n",
       " ('alexa', 'alarm'): 0.0,\n",
       " ('alexa', 'bts'): 0.0,\n",
       " ('alexa', 'ge'): 0.0,\n",
       " ('alexa', 'mobileapps'): 0.0,\n",
       " ('alexa', 'roomba'): 0.0,\n",
       " ('alexa', 'alexander'): 8.062456620389329e-05,\n",
       " ('alexa', 'advert'): 0.0,\n",
       " ('alexa', 'arlo'): 0.0,\n",
       " ('alexa', 'belkin'): 0.0,\n",
       " ('alexa', 'monday'): 0.0,\n",
       " ('alexa', 'private'): 0.0,\n",
       " ('alexa', 'talk'): 0.0007184295238393986,\n",
       " ('alexa', 'eavesdropping'): 0.0,\n",
       " ('alexa', 'morning'): 0.0,\n",
       " ('alexa', 'chance'): 0.0,\n",
       " ('alexa', 'cognitive'): 0.0,\n",
       " ('alexa', 'save'): 0.0,\n",
       " ('alexa', 'blackfridaydeals'): 0.0,\n",
       " ('alexa', 'essential'): 0.0,\n",
       " ('alexa', 'books'): 0.001027037833445162,\n",
       " ('alexa', 'lifestyle'): 0.0008236790532954461,\n",
       " ('alexa', 'human'): 0.0,\n",
       " ('alexa', 'energy'): 0.0,\n",
       " ('alexa', 'amzn'): 2.5193322256176846e-05,\n",
       " ('alexa', 'chris'): 0.0,\n",
       " ('alexa', 'dakotajohnson'): 0.0009408989800371333,\n",
       " ('alexa', 'smarthouse'): 0.0,\n",
       " ('alexa', 'sirikit'): 0.0004993430188589932,\n",
       " ('alexa', 'dizzy'): 0.0010005002501250627,\n",
       " ('alexa', 'googlemini'): 0.0,\n",
       " ('alexa', 'neo4j'): 0.0,\n",
       " ('alexa', 'customer'): 0.0,\n",
       " ('alexa', 'orclapex'): 0.0,\n",
       " ('alexa', 'blessed'): 0.0,\n",
       " ('alexa', 'wcw'): 0.0001836577666611907,\n",
       " ('alexa', 'amazonfiretv'): 0.0,\n",
       " ('alexa', 'cloudcomputing'): 0.0,\n",
       " ('alexa', 'wemo'): 0.0,\n",
       " ('alexa', 'cryptos'): 0.0,\n",
       " ('alexa', 'amazondeals'): 0.0,\n",
       " ('alexa', 'xiaomi'): 7.197451087252702e-07,\n",
       " ('alexa', 'please'): 0.0,\n",
       " ('alexa', 'discount'): 0.0,\n",
       " ('alexa', 'babe'): 0.0,\n",
       " ('alexa', 'alexaecho'): 0.0,\n",
       " ('alexa', 'tesla'): 0.0,\n",
       " ('alexa', 'teams'): 0.0007362402915443112,\n",
       " ('alexa', 'commercial'): 0.0,\n",
       " ('alexa', 'demo'): 0.0,\n",
       " ('alexa', '2ndcityapp'): 0.0,\n",
       " ('alexa', 'russia'): 0.0,\n",
       " ('alexa', 'alexis'): 0.0006072199081848073,\n",
       " ('alexa', 'useless'): 0.0,\n",
       " ('alexa', 'users'): 0.000536220322390073,\n",
       " ('alexa', 'integration'): 0.0,\n",
       " ('alexa', 'speech'): 0.0,\n",
       " ('alexa', 'cia'): 0.0,\n",
       " ('alexa', 'branding'): 0.0008489303288031176,\n",
       " ('alexa', 'blowjob'): 3.567238542785025e-05,\n",
       " ('alexa', 'lake'): 0.001405337987248061,\n",
       " ('alexa', 'sensors'): 0.0,\n",
       " ('alexa', 'raspberry'): 0.0,\n",
       " ('alexa', 'dataprotection'): 0.0,\n",
       " ('alexa', 'humans'): 0.0,\n",
       " ('alexa', 'martech'): 0.0,\n",
       " ('alexa', 'watch'): 0.0,\n",
       " ('alexa', 'gift'): 0.0,\n",
       " ('alexa', 'donaldtrump'): 0.0,\n",
       " ('alexa', 'sjw'): 0.0,\n",
       " ('alexa', 'breez'): 0.0,\n",
       " ('alexa', 'liberal'): 0.0,\n",
       " ('alexa', 'nicebotskill'): 0.0010005002501250627,\n",
       " ('alexa', 'spyware'): 0.0,\n",
       " ('alexa', 'maga'): 0.0,\n",
       " ('alexa', 'malware'): 0.0,\n",
       " ('alexa', 'priceless'): 0.0005121166413894977,\n",
       " ('alexa', 'siliconvalley'): 0.0,\n",
       " ('alexa', 'redhead'): 0.0,\n",
       " ('alexa', 'model'): 0.0,\n",
       " ('alexa', 'lingerie'): 0.0,\n",
       " ('alexa', 'altleft'): 0.0,\n",
       " ('alexa', 'ethereum'): 0.0,\n",
       " ('alexa', 'wework'): 0.0,\n",
       " ('alexa', 'jesuschrist'): 0.0013494654496466229,\n",
       " ('alexa', 'jeffbezos'): 0.0014364771650786756,\n",
       " ('alexa', 'nowplaying'): 0.0,\n",
       " ('alexa', 'merrychristmas'): 0.0,\n",
       " ('alexa', 'ebay'): 0.0,\n",
       " ('alexa', 'alexafail'): 0.0,\n",
       " ('alexa', 'contentmarketing'): 0.0,\n",
       " ('alexa', 'fakenews'): 0.0,\n",
       " ('alexa', 'china'): 0.0,\n",
       " ('alexa', 'vegas'): 0.0,\n",
       " ('alexa', 'workout'): 0.0,\n",
       " ('alexa', 'set'): 0.0,\n",
       " ('alexa', 'businesses'): 0.0,\n",
       " ('alexa', 'customerservice'): 0.0,\n",
       " ('alexa', 'lynx'): 0.0,\n",
       " ('alexa', 'awsreinvent'): 0.0,\n",
       " ('alexa', 'sundaymorning'): 0.0,\n",
       " ('alexa', 'qanon'): 0.0,\n",
       " ...}"
      ]
     },
     "execution_count": 104,
     "metadata": {},
     "output_type": "execute_result"
    }
   ],
   "source": [
    "btwnCent_edge"
   ]
  },
  {
   "cell_type": "code",
   "execution_count": 110,
   "metadata": {},
   "outputs": [],
   "source": [
    "def get_top_btwn_edges(hashtag, b_dict, top):\n",
    "    \n",
    "    rv = [(edge, cen) for edge, cen in b_dict.items() if (edge[0] == hashtag) or (edge[1] == hashtag)]\n",
    "    rv = sorted(rv, key=lambda x:-x[1])[:top]\n",
    "    \n",
    "    return rv"
   ]
  },
  {
   "cell_type": "code",
   "execution_count": 112,
   "metadata": {},
   "outputs": [
    {
     "data": {
      "text/plain": [
       "[(('alexa', 'cortana'), 0.009718356764828876),\n",
       " (('alexa', 'google'), 0.00901544987261421),\n",
       " (('alexa', 'grasmere'), 0.002998496245119557),\n",
       " (('alexa', 'learningdisabilities'), 0.002984103587673271),\n",
       " (('alexa', 'voiceassistant'), 0.002700632845856847),\n",
       " (('alexa', 'marketing'), 0.002486842631767102),\n",
       " (('alexa', 'lol'), 0.0022746180672748645),\n",
       " (('alexa', 'alexandriaocasiocortez'), 0.002220955205461772),\n",
       " (('alexa', 'iphonex'), 0.0021174594964472756),\n",
       " (('alexa', 'windows'), 0.0020664230649371012),\n",
       " (('alexa', 'how'), 0.0020084883204513704),\n",
       " (('alexa', 'samsung'), 0.0020074431640771918),\n",
       " (('alexa', 'the'), 0.0018087582801683078),\n",
       " (('alexa', 'smartphone'), 0.0017885887350643382),\n",
       " (('alexa', 'porn'), 0.0017787558543968672),\n",
       " (('alexa', 'moet'), 0.001777047243404797),\n",
       " (('alexa', 'ecommerce'), 0.0017663866859726723),\n",
       " (('alexa', 'fun'), 0.0017496319293451423),\n",
       " (('alexa', 'black'), 0.0017414083631749203),\n",
       " (('alexa', 'a'), 0.001479651057957066)]"
      ]
     },
     "execution_count": 112,
     "metadata": {},
     "output_type": "execute_result"
    }
   ],
   "source": [
    "get_top_btwn_edges('alexa', btwnCent_edge, 20)"
   ]
  },
  {
   "cell_type": "code",
   "execution_count": 114,
   "metadata": {},
   "outputs": [
    {
     "data": {
      "text/plain": [
       "[(('siri', 'healthyliving'), 0.002014791205093558),\n",
       " (('siri', 'talkradio'), 0.001984188909779845),\n",
       " (('siri', 'facebook'), 0.0017982743788764496),\n",
       " (('siri', 'video'), 0.001747739252741136),\n",
       " (('siri', 'android'), 0.0017317655001847483),\n",
       " (('siri', 'music'), 0.0015429529954046485),\n",
       " (('siri', 'ads'), 0.0014104076265761844),\n",
       " (('siri', 'yesterday'), 0.001395412640927023),\n",
       " (('siri', 'rickross'), 0.0013191959612610972),\n",
       " (('siri', 'apps'), 0.0012207062780090492),\n",
       " (('siri', 'lol'), 0.0011819201364510125),\n",
       " (('siri', 'wakandaforever'), 0.0011730976161049447),\n",
       " (('siri', 'beautiful'), 0.0011121875348662938),\n",
       " (('siri', 'digitalmarketing'), 0.0010914248380941558),\n",
       " (('siri', 'how'), 0.0010906969744984409),\n",
       " (('siri', 'skill'), 0.0010895684502671824),\n",
       " (('siri', 'gym'), 0.0010719201153556043),\n",
       " (('siri', 'analytics'), 0.0010581178865245453),\n",
       " (('siri', 'selfies'), 0.0010519059340092843),\n",
       " (('siri', 'devices'), 0.0010501213062803513)]"
      ]
     },
     "execution_count": 114,
     "metadata": {},
     "output_type": "execute_result"
    }
   ],
   "source": [
    "get_top_btwn_edges('siri', btwnCent_edge, 20)"
   ]
  },
  {
   "cell_type": "code",
   "execution_count": 115,
   "metadata": {},
   "outputs": [
    {
     "data": {
      "text/plain": [
       "[(('ai', 'heygoogle'), 0.0012668305993976078),\n",
       " (('heygoogle', 'biggov'), 0.0010002824684168872),\n",
       " (('heygoogle', 'rhop'), 0.0009957106355694034),\n",
       " (('heygoogle', 'releasethememo'), 0.0008091619554773882),\n",
       " (('heygoogle', 'maythe4thbewithyou'), 0.0007972950857470723),\n",
       " (('smarthome', 'heygoogle'), 0.0007812700216273434),\n",
       " (('heygoogle', 'croatia'), 0.0007798286882096421),\n",
       " (('heygoogle', 'jesuschrist'), 0.0007208640361330172),\n",
       " (('heygoogle', 'zwave'), 0.0007186830095107789),\n",
       " (('heygoogle', 'podernfamily'), 0.0006832065456758651),\n",
       " (('heygoogle', 'lenovoces'), 0.0006789006541911397),\n",
       " (('heygoogle', 'iphone'), 0.0005673235455410875),\n",
       " (('heygoogle', 'artificialintelligence'), 0.0005464996220615824),\n",
       " (('heygoogle', 'video'), 0.0005130597140167212),\n",
       " (('heygoogle', 'structureddata'), 0.0004709507958005687),\n",
       " (('heygoogle', 'prizes'), 0.0004691859116542116),\n",
       " (('heygoogle', 'modeling'), 0.00045797183143864915),\n",
       " (('heygoogle', 'giveaway'), 0.00044616657609903014),\n",
       " (('heygoogle', 'podbean'), 0.0004450211460575999),\n",
       " (('heygoogle', 'mom'), 0.00044383213115611566)]"
      ]
     },
     "execution_count": 115,
     "metadata": {},
     "output_type": "execute_result"
    }
   ],
   "source": [
    "get_top_btwn_edges('heygoogle', btwnCent_edge, 20)"
   ]
  },
  {
   "cell_type": "code",
   "execution_count": 116,
   "metadata": {},
   "outputs": [
    {
     "data": {
      "text/plain": [
       "[(('alexa', 'cortana'), 0.009718356764828876),\n",
       " (('cortana', 'dorkypickuplines'), 0.002113566580077931),\n",
       " (('ai', 'cortana'), 0.0020318363587016153),\n",
       " (('cortana', 'csharpcon18'), 0.0019989974967463712),\n",
       " (('smarthome', 'cortana'), 0.0012772766205912025),\n",
       " (('cortana', 'vaporwave'), 0.0010257871380874514),\n",
       " (('cortana', 'reps'), 0.0010005002501250627),\n",
       " (('cortana', 'bluescreenofdeath'), 0.0009999994992491241),\n",
       " (('cortana', 'w10'), 0.0009999994992491241),\n",
       " (('cortana', 'azurefunctions'), 0.000980276742163085),\n",
       " (('cortana', 'podcast'), 0.0008126485836284434),\n",
       " (('cortana', 'cryptos'), 0.0008104856256213812),\n",
       " (('cortana', 'voiceover'), 0.0008039360259003579),\n",
       " (('cortana', 'vui'), 0.0007801590093643456),\n",
       " (('cortana', 'kubernetes'), 0.0007213403051042757),\n",
       " (('cortana', 'ios'), 0.0007110772903841464),\n",
       " (('cortana', 'aws'), 0.0006952319177715317),\n",
       " (('cortana', 'bills'), 0.0006887732445486751),\n",
       " (('cortana', 'tv'), 0.0006881488735974943),\n",
       " (('cortana', 'boobs'), 0.0006672255513550397)]"
      ]
     },
     "execution_count": 116,
     "metadata": {},
     "output_type": "execute_result"
    }
   ],
   "source": [
    "get_top_btwn_edges('cortana', btwnCent_edge, 20)"
   ]
  },
  {
   "cell_type": "markdown",
   "metadata": {},
   "source": [
    "katz centrality and eigenvector centrality"
   ]
  },
  {
   "cell_type": "code",
   "execution_count": 65,
   "metadata": {},
   "outputs": [],
   "source": [
    "k_cen = nx.katz_centrality_numpy(G, weight = 'weight')"
   ]
  },
  {
   "cell_type": "code",
   "execution_count": 66,
   "metadata": {},
   "outputs": [
    {
     "data": {
      "text/plain": [
       "-0.0003193281471145185"
      ]
     },
     "execution_count": 66,
     "metadata": {},
     "output_type": "execute_result"
    }
   ],
   "source": [
    "k_cen['siri']"
   ]
  },
  {
   "cell_type": "code",
   "execution_count": 67,
   "metadata": {},
   "outputs": [
    {
     "data": {
      "text/plain": [
       "-6.056668403152542e-05"
      ]
     },
     "execution_count": 67,
     "metadata": {},
     "output_type": "execute_result"
    }
   ],
   "source": [
    "k_cen['heygoogle']"
   ]
  },
  {
   "cell_type": "code",
   "execution_count": 68,
   "metadata": {},
   "outputs": [
    {
     "data": {
      "text/plain": [
       "-5.8052258704105704e-05"
      ]
     },
     "execution_count": 68,
     "metadata": {},
     "output_type": "execute_result"
    }
   ],
   "source": [
    "k_cen['alexa']"
   ]
  },
  {
   "cell_type": "code",
   "execution_count": 69,
   "metadata": {},
   "outputs": [
    {
     "data": {
      "text/plain": [
       "0.002496226585759175"
      ]
     },
     "execution_count": 69,
     "metadata": {},
     "output_type": "execute_result"
    }
   ],
   "source": [
    "k_cen['cortana']"
   ]
  },
  {
   "cell_type": "code",
   "execution_count": 71,
   "metadata": {},
   "outputs": [
    {
     "data": {
      "text/plain": [
       "[('yeelight', 0.13406360479972645),\n",
       " ('xiaomi', 0.1200625890184671),\n",
       " ('conversationalai', 0.10849370132816365),\n",
       " ('random', 0.10247220836483499),\n",
       " ('openvoice', 0.09997988693350923),\n",
       " ('mitb', 0.09494364163268963),\n",
       " ('bartender', 0.09449072804828743),\n",
       " ('watchos5', 0.08871107053512516),\n",
       " ('rhop', 0.08769705554664634),\n",
       " ('spying', 0.08659808016763322),\n",
       " ('party', 0.08384885858939617),\n",
       " ('police', 0.08301462199362084),\n",
       " ('oo', 0.0828861278063682),\n",
       " ('house', 0.08230949649578957),\n",
       " ('energy', 0.07945271894230184),\n",
       " ('hotels', 0.07911810368773078),\n",
       " ('fire7', 0.07817287001254954),\n",
       " ('users', 0.07477508491960548),\n",
       " ('westworld', 0.07438192234626056),\n",
       " ('aging', 0.07403662885251672)]"
      ]
     },
     "execution_count": 71,
     "metadata": {},
     "output_type": "execute_result"
    }
   ],
   "source": [
    "top_kcen = sorted(k_cen.items(), key=lambda x:-x[1])\n",
    "top_kcen[:20]"
   ]
  },
  {
   "cell_type": "code",
   "execution_count": 73,
   "metadata": {},
   "outputs": [],
   "source": [
    "eigen_cen = nx.eigenvector_centrality_numpy(G, weight = 'weight')"
   ]
  },
  {
   "cell_type": "code",
   "execution_count": 74,
   "metadata": {},
   "outputs": [
    {
     "data": {
      "text/plain": [
       "0.08336786134567603"
      ]
     },
     "execution_count": 74,
     "metadata": {},
     "output_type": "execute_result"
    }
   ],
   "source": [
    "eigen_cen['siri']"
   ]
  },
  {
   "cell_type": "code",
   "execution_count": 75,
   "metadata": {},
   "outputs": [
    {
     "data": {
      "text/plain": [
       "0.6984534577715691"
      ]
     },
     "execution_count": 75,
     "metadata": {},
     "output_type": "execute_result"
    }
   ],
   "source": [
    "eigen_cen['alexa']"
   ]
  },
  {
   "cell_type": "code",
   "execution_count": 76,
   "metadata": {},
   "outputs": [
    {
     "data": {
      "text/plain": [
       "0.000944833549195534"
      ]
     },
     "execution_count": 76,
     "metadata": {},
     "output_type": "execute_result"
    }
   ],
   "source": [
    "eigen_cen['heygoogle']"
   ]
  },
  {
   "cell_type": "code",
   "execution_count": 77,
   "metadata": {},
   "outputs": [
    {
     "data": {
      "text/plain": [
       "0.01765960535364472"
      ]
     },
     "execution_count": 77,
     "metadata": {},
     "output_type": "execute_result"
    }
   ],
   "source": [
    "eigen_cen['cortana']"
   ]
  },
  {
   "cell_type": "code",
   "execution_count": 78,
   "metadata": {},
   "outputs": [
    {
     "data": {
      "text/plain": [
       "[('alexa', 0.6984534577715691),\n",
       " ('amazon', 0.6310464876041583),\n",
       " ('iot', 0.1753589975757288),\n",
       " ('apple', 0.09661274246416525),\n",
       " ('artificialintelligence', 0.08813734474369772),\n",
       " ('amazonecho', 0.08420591021635142),\n",
       " ('siri', 0.08336786134567603),\n",
       " ('camiq', 0.07009274401971663),\n",
       " ('ces2018', 0.051816250343479565),\n",
       " ('ai', 0.050544330273722134),\n",
       " ('amazonalexa', 0.04980817159097725),\n",
       " ('aws', 0.04712407169910381),\n",
       " ('smart', 0.046410757616980325),\n",
       " ('rankbio', 0.045301731796596925),\n",
       " ('website', 0.042898553367754326),\n",
       " ('technology', 0.03961873749569411),\n",
       " ('music', 0.036588938360210425),\n",
       " ('cloudcomputing', 0.03652231449803103),\n",
       " ('googlehome', 0.03207052277055291),\n",
       " ('digitalassistants', 0.03051430659331342)]"
      ]
     },
     "execution_count": 78,
     "metadata": {},
     "output_type": "execute_result"
    }
   ],
   "source": [
    "top_eigen = sorted(eigen_cen.items(), key=lambda x:-x[1])\n",
    "top_eigen[:20]"
   ]
  },
  {
   "cell_type": "markdown",
   "metadata": {},
   "source": [
    "page rank"
   ]
  },
  {
   "cell_type": "code",
   "execution_count": 124,
   "metadata": {},
   "outputs": [],
   "source": [
    "pr = nx.pagerank(G, weight = 'weight')"
   ]
  },
  {
   "cell_type": "code",
   "execution_count": 125,
   "metadata": {},
   "outputs": [
    {
     "data": {
      "text/plain": [
       "0.1215663943808574"
      ]
     },
     "execution_count": 125,
     "metadata": {},
     "output_type": "execute_result"
    }
   ],
   "source": [
    "pr['alexa']"
   ]
  },
  {
   "cell_type": "code",
   "execution_count": 126,
   "metadata": {},
   "outputs": [
    {
     "data": {
      "text/plain": [
       "0.0332256445432656"
      ]
     },
     "execution_count": 126,
     "metadata": {},
     "output_type": "execute_result"
    }
   ],
   "source": [
    "pr['siri']"
   ]
  },
  {
   "cell_type": "code",
   "execution_count": 127,
   "metadata": {},
   "outputs": [
    {
     "data": {
      "text/plain": [
       "0.002767385027534598"
      ]
     },
     "execution_count": 127,
     "metadata": {},
     "output_type": "execute_result"
    }
   ],
   "source": [
    "pr['heygoogle']"
   ]
  },
  {
   "cell_type": "code",
   "execution_count": 128,
   "metadata": {},
   "outputs": [
    {
     "data": {
      "text/plain": [
       "0.013204983087771493"
      ]
     },
     "execution_count": 128,
     "metadata": {},
     "output_type": "execute_result"
    }
   ],
   "source": [
    "pr['cortana']"
   ]
  },
  {
   "cell_type": "code",
   "execution_count": 131,
   "metadata": {},
   "outputs": [
    {
     "data": {
      "text/plain": [
       "[('alexa', 0.1215663943808574),\n",
       " ('amazon', 0.03414464131674009),\n",
       " ('siri', 0.0332256445432656),\n",
       " ('ai', 0.01644894732859046),\n",
       " ('iot', 0.01441308742336465),\n",
       " ('cortana', 0.013204983087771493),\n",
       " ('apple', 0.011584737084065336),\n",
       " ('echo', 0.009543285041894667),\n",
       " ('google', 0.00846676156702046),\n",
       " ('amazonecho', 0.007192333934696361),\n",
       " ('tech', 0.00714964719078681),\n",
       " ('virtualassistants', 0.006567817523892632),\n",
       " ('smarthome', 0.005968349774634173),\n",
       " ('artificialintelligence', 0.005363292328823435),\n",
       " ('voice', 0.004847198059330031),\n",
       " ('googlehome', 0.004830860692775999),\n",
       " ('voicefirst', 0.004737296587686614),\n",
       " ('smart', 0.004332897210426147),\n",
       " ('technology', 0.004281297073705153),\n",
       " ('rankbio', 0.004100294125468492)]"
      ]
     },
     "execution_count": 131,
     "metadata": {},
     "output_type": "execute_result"
    }
   ],
   "source": [
    "sorted(pr.items(), key=lambda x:-x[1])[:20]"
   ]
  },
  {
   "cell_type": "markdown",
   "metadata": {},
   "source": [
    "degree distribution"
   ]
  },
  {
   "cell_type": "code",
   "execution_count": 135,
   "metadata": {},
   "outputs": [
    {
     "data": {
      "image/png": "[encoded data removed]",
      "text/plain": [
       "<matplotlib.figure.Figure at 0x150ee3fb00>"
      ]
     },
     "metadata": {},
     "output_type": "display_data"
    }
   ],
   "source": [
    "degrees = dict(G.degree())\n",
    "degree_values = sorted(set(degrees.values()))\n",
    "histogram = [list(degrees.values()).count(i)/float(nx.number_of_nodes(G)) for i in degree_values]\n",
    "\n",
    "import matplotlib.pyplot as plt\n",
    "%matplotlib inline\n",
    "\n",
    "plt.bar(degree_values,histogram)\n",
    "plt.xlabel('Degree')\n",
    "plt.ylabel('Fraction of Nodes')\n",
    "plt.show()"
   ]
  },
  {
   "cell_type": "code",
   "execution_count": 137,
   "metadata": {},
   "outputs": [
    {
     "data": {
      "text/plain": [
       "[('alexa', 1839),\n",
       " ('amazon', 1249),\n",
       " ('siri', 1241),\n",
       " ('ai', 827),\n",
       " ('tech', 697),\n",
       " ('echo', 669),\n",
       " ('cortana', 662),\n",
       " ('google', 661),\n",
       " ('apple', 633),\n",
       " ('amazonecho', 545),\n",
       " ('technology', 538),\n",
       " ('voice', 522),\n",
       " ('iot', 483),\n",
       " ('smarthome', 440),\n",
       " ('googlehome', 422),\n",
       " ('amazonalexa', 413),\n",
       " ('news', 381),\n",
       " ('googleassistant', 345),\n",
       " ('iphone', 344),\n",
       " ('heygoogle', 297)]"
      ]
     },
     "execution_count": 137,
     "metadata": {},
     "output_type": "execute_result"
    }
   ],
   "source": [
    "degrees_sort = sorted(degrees.items(), key = lambda x: -x[1])\n",
    "degrees_sort[:20]"
   ]
  },
  {
   "cell_type": "markdown",
   "metadata": {},
   "source": [
    "# user"
   ]
  },
  {
   "cell_type": "code",
   "execution_count": 151,
   "metadata": {},
   "outputs": [],
   "source": [
    "G_user = nx.read_gexf('../data/user_network_0_2000.gexf')"
   ]
  },
  {
   "cell_type": "code",
   "execution_count": 152,
   "metadata": {},
   "outputs": [
    {
     "data": {
      "text/plain": [
       "True"
      ]
     },
     "execution_count": 152,
     "metadata": {},
     "output_type": "execute_result"
    }
   ],
   "source": [
    "G_user.is_directed()"
   ]
  },
  {
   "cell_type": "code",
   "execution_count": 157,
   "metadata": {},
   "outputs": [],
   "source": [
    "# many people mentioned themselves\n",
    "# how to use the number of tweets and mentions"
   ]
  },
  {
   "cell_type": "markdown",
   "metadata": {},
   "source": [
    "basic info"
   ]
  },
  {
   "cell_type": "code",
   "execution_count": 158,
   "metadata": {},
   "outputs": [
    {
     "data": {
      "text/plain": [
       "1999"
      ]
     },
     "execution_count": 158,
     "metadata": {},
     "output_type": "execute_result"
    }
   ],
   "source": [
    "G_user.number_of_nodes()"
   ]
  },
  {
   "cell_type": "code",
   "execution_count": 162,
   "metadata": {},
   "outputs": [
    {
     "data": {
      "text/plain": [
       "4694"
      ]
     },
     "execution_count": 162,
     "metadata": {},
     "output_type": "execute_result"
    }
   ],
   "source": [
    "G_user.number_of_edges()"
   ]
  },
  {
   "cell_type": "code",
   "execution_count": 163,
   "metadata": {},
   "outputs": [
    {
     "data": {
      "text/plain": [
       "0.001174087043521761"
      ]
     },
     "execution_count": 163,
     "metadata": {},
     "output_type": "execute_result"
    }
   ],
   "source": [
    "nx.density(G_user)"
   ]
  },
  {
   "cell_type": "code",
   "execution_count": 172,
   "metadata": {},
   "outputs": [
    {
     "data": {
      "text/plain": [
       "[(('tcotradioht', 'redstatetalk'), {'id': '3832', 'weight': 5266.0}),\n",
       " (('amazonomy', 'amazonomy'), {'id': '93', 'weight': 716.0}),\n",
       " (('alexaweedbuddy', 'ganjly420'), {'id': '205', 'weight': 282.0}),\n",
       " (('alexaweedbuddy', 'high_times_mag'), {'id': '206', 'weight': 282.0}),\n",
       " (('tcotradioht', 'jjmccartneylive'), {'id': '3833', 'weight': 228.0}),\n",
       " (('mandyeap', 'secondcityradio'), {'id': '2247', 'weight': 196.0}),\n",
       " (('mjaspeakers', 'mjaspeakers'), {'id': '1517', 'weight': 192.0}),\n",
       " (('ntechyel', 'ntechyel'), {'id': '2001', 'weight': 180.0}),\n",
       " (('realjakedevlin', 'realjakedevlin'), {'id': '3623', 'weight': 163.0}),\n",
       " (('tcotradioht', 'scottadamsshow'), {'id': '3840', 'weight': 154.0}),\n",
       " (('djdurrant', 'secondcityradio'), {'id': '2274', 'weight': 137.0}),\n",
       " (('holisticentre1', 'secondcityradio'), {'id': '2261', 'weight': 133.0}),\n",
       " (('marvel_euphoria', 'google'), {'id': '3492', 'weight': 132.0}),\n",
       " (('marvel_euphoria', 'marvel_euphoria'), {'id': '3493', 'weight': 131.0}),\n",
       " (('trmppncemkesens', 'benshapiro'), {'id': '4668', 'weight': 125.0}),\n",
       " (('trmppncemkesens', 'aedison'), {'id': '4669', 'weight': 125.0}),\n",
       " (('trmppncemkesens', 'ocasio2018'), {'id': '4670', 'weight': 125.0}),\n",
       " (('trmppncemkesens', 'trmppncemkesens'), {'id': '4671', 'weight': 124.0}),\n",
       " (('mjaspeakers', 'siriouslysusan'), {'id': '1515', 'weight': 122.0}),\n",
       " (('smarthouseaz', 'asu'), {'id': '132', 'weight': 112.0}),\n",
       " (('evankirstel', 'evankirstel'), {'id': '389', 'weight': 103.0}),\n",
       " (('smarthouseaz', 'amazon'), {'id': '135', 'weight': 101.0}),\n",
       " (('rhinehoth', 'rhinehoth'), {'id': '3389', 'weight': 101.0}),\n",
       " (('reckel', 'amazon'), {'id': '223', 'weight': 100.0}),\n",
       " (('artretail', 'artretail'), {'id': '3898', 'weight': 97.0}),\n",
       " (('tcotradioht', 'theclbryantshow'), {'id': '3838', 'weight': 93.0}),\n",
       " (('smarthouseaz', 'netflix'), {'id': '136', 'weight': 90.0}),\n",
       " (('itempathy', 'itempathy'), {'id': '1245', 'weight': 83.0}),\n",
       " (('angelosantoroit', 'comunemortale'), {'id': '857', 'weight': 81.0}),\n",
       " (('smolly127', 'secondcityradio'), {'id': '2329', 'weight': 80.0}),\n",
       " (('comunemortale', 'angelosantoroit'), {'id': '858', 'weight': 79.0}),\n",
       " (('secondcityradio', 'djdurrant'), {'id': '2239', 'weight': 78.0}),\n",
       " (('smarthouseaz', 'smarthouseaz'), {'id': '137', 'weight': 77.0}),\n",
       " (('mandyeap', 'djdurrant'), {'id': '2253', 'weight': 74.0}),\n",
       " (('ntechyel', 'qz'), {'id': '2002', 'weight': 73.0}),\n",
       " (('hothardware', 'hothardware'), {'id': '2129', 'weight': 72.0}),\n",
       " (('jeffbenton78', 'amazon'), {'id': '3953', 'weight': 72.0}),\n",
       " (('the_best_daily', 'amazon'), {'id': '3720', 'weight': 71.0}),\n",
       " (('jeffbenton78', 'jeffbenton78'), {'id': '3954', 'weight': 69.0}),\n",
       " (('ntechyel', 'amazon'), {'id': '2003', 'weight': 68.0}),\n",
       " (('smarthouseaz', 'voicefirstfm'), {'id': '142', 'weight': 67.0}),\n",
       " (('w3livenews', 'w3livenews'), {'id': '155', 'weight': 66.0}),\n",
       " (('drm00re', 'pollaprenadora'), {'id': '2596', 'weight': 66.0}),\n",
       " (('drm00re', 'boogie_1969'), {'id': '2597', 'weight': 66.0}),\n",
       " (('drm00re', 'siliconeros'), {'id': '2598', 'weight': 66.0}),\n",
       " (('drm00re', 'pqcolor'), {'id': '2599', 'weight': 66.0}),\n",
       " (('drm00re', 'libidorush1'), {'id': '2600', 'weight': 66.0}),\n",
       " (('drm00re', 'jopower666'), {'id': '2601', 'weight': 66.0}),\n",
       " (('andybruce1962', 'secondcityradio'), {'id': '2349', 'weight': 65.0}),\n",
       " (('voiceappsllc', 'amazon'), {'id': '50', 'weight': 64.0})]"
      ]
     },
     "execution_count": 172,
     "metadata": {},
     "output_type": "execute_result"
    }
   ],
   "source": [
    "sorted(dict(G_user.edges()).items(), key = lambda x: -x[1]['weight'])[:50]"
   ]
  },
  {
   "cell_type": "code",
   "execution_count": null,
   "metadata": {},
   "outputs": [],
   "source": []
  }
 ],
 "metadata": {
  "kernelspec": {
   "display_name": "Python 3",
   "language": "python",
   "name": "python3"
  },
  "language_info": {
   "codemirror_mode": {
    "name": "ipython",
    "version": 3
   },
   "file_extension": ".py",
   "mimetype": "text/x-python",
   "name": "python",
   "nbconvert_exporter": "python",
   "pygments_lexer": "ipython3",
   "version": "3.6.4"
  }
 },
 "nbformat": 4,
 "nbformat_minor": 2
}
