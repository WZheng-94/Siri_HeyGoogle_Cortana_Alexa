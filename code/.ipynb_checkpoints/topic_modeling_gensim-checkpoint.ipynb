{
 "cells": [
  {
   "cell_type": "markdown",
   "metadata": {},
   "source": [
    "Prerequisites – Download nltk stopwords and spacy model"
   ]
  },
  {
   "cell_type": "code",
   "execution_count": 1,
   "metadata": {},
   "outputs": [
    {
     "name": "stdout",
     "output_type": "stream",
     "text": [
      "[nltk_data] Downloading package stopwords to\n",
      "[nltk_data]     /Users/weiweizheng/nltk_data...\n",
      "[nltk_data]   Package stopwords is already up-to-date!\n"
     ]
    },
    {
     "data": {
      "text/plain": [
       "True"
      ]
     },
     "execution_count": 1,
     "metadata": {},
     "output_type": "execute_result"
    }
   ],
   "source": [
    "import nltk; nltk.download('stopwords')"
   ]
  },
  {
   "cell_type": "markdown",
   "metadata": {},
   "source": [
    "Import Packages"
   ]
  },
  {
   "cell_type": "code",
   "execution_count": 4,
   "metadata": {},
   "outputs": [],
   "source": [
    "import re\n",
    "import numpy as np\n",
    "import pandas as pd\n",
    "from pprint import pprint\n",
    "\n",
    "# Gensim\n",
    "import gensim\n",
    "import gensim.corpora as corpora\n",
    "from gensim.utils import simple_preprocess\n",
    "from gensim.models import CoherenceModel\n",
    "\n",
    "# spacy for lemmatization\n",
    "import spacy\n",
    "\n",
    "# Plotting tools\n",
    "import pyLDAvis\n",
    "import pyLDAvis.gensim  # don't skip this\n",
    "import matplotlib.pyplot as plt\n",
    "%matplotlib inline\n",
    "\n",
    "# Enable logging for gensim - optional\n",
    "import logging\n",
    "logging.basicConfig(format='%(asctime)s : %(levelname)s : %(message)s', level=logging.ERROR)\n",
    "\n",
    "import warnings\n",
    "warnings.filterwarnings(\"ignore\",category=DeprecationWarning)"
   ]
  },
  {
   "cell_type": "markdown",
   "metadata": {},
   "source": [
    "prepare stopwords"
   ]
  },
  {
   "cell_type": "code",
   "execution_count": 44,
   "metadata": {},
   "outputs": [],
   "source": [
    "from nltk.corpus import stopwords\n",
    "stop_words = stopwords.words('english')\n",
    "stop_words.extend(['alexa', 'siri', 'heygoogle', 'cortana','would','could'])\n",
    "# stop_words.extend(['alexa', 'siri', 'heygoogle', 'cortana', 'apple', 'google', 'amazon', 'microsoft'])"
   ]
  },
  {
   "cell_type": "code",
   "execution_count": 45,
   "metadata": {},
   "outputs": [
    {
     "data": {
      "text/plain": [
       "['i',\n",
       " 'me',\n",
       " 'my',\n",
       " 'myself',\n",
       " 'we',\n",
       " 'our',\n",
       " 'ours',\n",
       " 'ourselves',\n",
       " 'you',\n",
       " \"you're\",\n",
       " \"you've\",\n",
       " \"you'll\",\n",
       " \"you'd\",\n",
       " 'your',\n",
       " 'yours',\n",
       " 'yourself',\n",
       " 'yourselves',\n",
       " 'he',\n",
       " 'him',\n",
       " 'his',\n",
       " 'himself',\n",
       " 'she',\n",
       " \"she's\",\n",
       " 'her',\n",
       " 'hers',\n",
       " 'herself',\n",
       " 'it',\n",
       " \"it's\",\n",
       " 'its',\n",
       " 'itself',\n",
       " 'they',\n",
       " 'them',\n",
       " 'their',\n",
       " 'theirs',\n",
       " 'themselves',\n",
       " 'what',\n",
       " 'which',\n",
       " 'who',\n",
       " 'whom',\n",
       " 'this',\n",
       " 'that',\n",
       " \"that'll\",\n",
       " 'these',\n",
       " 'those',\n",
       " 'am',\n",
       " 'is',\n",
       " 'are',\n",
       " 'was',\n",
       " 'were',\n",
       " 'be',\n",
       " 'been',\n",
       " 'being',\n",
       " 'have',\n",
       " 'has',\n",
       " 'had',\n",
       " 'having',\n",
       " 'do',\n",
       " 'does',\n",
       " 'did',\n",
       " 'doing',\n",
       " 'a',\n",
       " 'an',\n",
       " 'the',\n",
       " 'and',\n",
       " 'but',\n",
       " 'if',\n",
       " 'or',\n",
       " 'because',\n",
       " 'as',\n",
       " 'until',\n",
       " 'while',\n",
       " 'of',\n",
       " 'at',\n",
       " 'by',\n",
       " 'for',\n",
       " 'with',\n",
       " 'about',\n",
       " 'against',\n",
       " 'between',\n",
       " 'into',\n",
       " 'through',\n",
       " 'during',\n",
       " 'before',\n",
       " 'after',\n",
       " 'above',\n",
       " 'below',\n",
       " 'to',\n",
       " 'from',\n",
       " 'up',\n",
       " 'down',\n",
       " 'in',\n",
       " 'out',\n",
       " 'on',\n",
       " 'off',\n",
       " 'over',\n",
       " 'under',\n",
       " 'again',\n",
       " 'further',\n",
       " 'then',\n",
       " 'once',\n",
       " 'here',\n",
       " 'there',\n",
       " 'when',\n",
       " 'where',\n",
       " 'why',\n",
       " 'how',\n",
       " 'all',\n",
       " 'any',\n",
       " 'both',\n",
       " 'each',\n",
       " 'few',\n",
       " 'more',\n",
       " 'most',\n",
       " 'other',\n",
       " 'some',\n",
       " 'such',\n",
       " 'no',\n",
       " 'nor',\n",
       " 'not',\n",
       " 'only',\n",
       " 'own',\n",
       " 'same',\n",
       " 'so',\n",
       " 'than',\n",
       " 'too',\n",
       " 'very',\n",
       " 's',\n",
       " 't',\n",
       " 'can',\n",
       " 'will',\n",
       " 'just',\n",
       " 'don',\n",
       " \"don't\",\n",
       " 'should',\n",
       " \"should've\",\n",
       " 'now',\n",
       " 'd',\n",
       " 'll',\n",
       " 'm',\n",
       " 'o',\n",
       " 're',\n",
       " 've',\n",
       " 'y',\n",
       " 'ain',\n",
       " 'aren',\n",
       " \"aren't\",\n",
       " 'couldn',\n",
       " \"couldn't\",\n",
       " 'didn',\n",
       " \"didn't\",\n",
       " 'doesn',\n",
       " \"doesn't\",\n",
       " 'hadn',\n",
       " \"hadn't\",\n",
       " 'hasn',\n",
       " \"hasn't\",\n",
       " 'haven',\n",
       " \"haven't\",\n",
       " 'isn',\n",
       " \"isn't\",\n",
       " 'ma',\n",
       " 'mightn',\n",
       " \"mightn't\",\n",
       " 'mustn',\n",
       " \"mustn't\",\n",
       " 'needn',\n",
       " \"needn't\",\n",
       " 'shan',\n",
       " \"shan't\",\n",
       " 'shouldn',\n",
       " \"shouldn't\",\n",
       " 'wasn',\n",
       " \"wasn't\",\n",
       " 'weren',\n",
       " \"weren't\",\n",
       " 'won',\n",
       " \"won't\",\n",
       " 'wouldn',\n",
       " \"wouldn't\",\n",
       " 'alexa',\n",
       " 'siri',\n",
       " 'heygoogle',\n",
       " 'cortana',\n",
       " 'would',\n",
       " 'could']"
      ]
     },
     "execution_count": 45,
     "metadata": {},
     "output_type": "execute_result"
    }
   ],
   "source": [
    "stop_words"
   ]
  },
  {
   "cell_type": "markdown",
   "metadata": {},
   "source": [
    "convert data to list"
   ]
  },
  {
   "cell_type": "code",
   "execution_count": 16,
   "metadata": {},
   "outputs": [],
   "source": [
    "df = pd.read_csv('../data/text_071031_180729.csv', names = ['text'])\n",
    "df = df.drop_duplicates()\n",
    "data = df['text'].tolist()"
   ]
  },
  {
   "cell_type": "code",
   "execution_count": 17,
   "metadata": {},
   "outputs": [
    {
     "data": {
      "text/html": [
       "<div>\n",
       "<style scoped>\n",
       "    .dataframe tbody tr th:only-of-type {\n",
       "        vertical-align: middle;\n",
       "    }\n",
       "\n",
       "    .dataframe tbody tr th {\n",
       "        vertical-align: top;\n",
       "    }\n",
       "\n",
       "    .dataframe thead th {\n",
       "        text-align: right;\n",
       "    }\n",
       "</style>\n",
       "<table border=\"1\" class=\"dataframe\">\n",
       "  <thead>\n",
       "    <tr style=\"text-align: right;\">\n",
       "      <th></th>\n",
       "      <th>text</th>\n",
       "    </tr>\n",
       "  </thead>\n",
       "  <tbody>\n",
       "    <tr>\n",
       "      <th>0</th>\n",
       "      <td>interesting times, interesting questions ! Ale...</td>\n",
       "    </tr>\n",
       "    <tr>\n",
       "      <th>4</th>\n",
       "      <td>IOT NEWS: Not everyone likes digital voice ass...</td>\n",
       "    </tr>\n",
       "    <tr>\n",
       "      <th>5</th>\n",
       "      <td>Did you know that you can control your @dishne...</td>\n",
       "    </tr>\n",
       "    <tr>\n",
       "      <th>8</th>\n",
       "      <td>.@808_Audio wireless #speaker features #Alexa ...</td>\n",
       "    </tr>\n",
       "    <tr>\n",
       "      <th>9</th>\n",
       "      <td>@BigstickCarpet Awesome! I'm doing a workshop ...</td>\n",
       "    </tr>\n",
       "  </tbody>\n",
       "</table>\n",
       "</div>"
      ],
      "text/plain": [
       "                                                text\n",
       "0  interesting times, interesting questions ! Ale...\n",
       "4  IOT NEWS: Not everyone likes digital voice ass...\n",
       "5  Did you know that you can control your @dishne...\n",
       "8  .@808_Audio wireless #speaker features #Alexa ...\n",
       "9  @BigstickCarpet Awesome! I'm doing a workshop ..."
      ]
     },
     "execution_count": 17,
     "metadata": {},
     "output_type": "execute_result"
    }
   ],
   "source": [
    "df.head()"
   ]
  },
  {
   "cell_type": "markdown",
   "metadata": {},
   "source": [
    "Tokenize words and Clean-up text"
   ]
  },
  {
   "cell_type": "code",
   "execution_count": 18,
   "metadata": {},
   "outputs": [
    {
     "name": "stdout",
     "output_type": "stream",
     "text": [
      "[['interesting', 'times', 'interesting', 'questions', 'alexa', 'are', 'you', 'safe', 'for', 'my', 'kids', 'ai', 'alexa']]\n"
     ]
    }
   ],
   "source": [
    "def sent_to_words(sentences):\n",
    "    for sentence in sentences:\n",
    "        yield(gensim.utils.simple_preprocess(str(sentence), deacc=True))  # deacc=True removes punctuations\n",
    "\n",
    "data_words = list(sent_to_words(data))\n",
    "\n",
    "print(data_words[:1])"
   ]
  },
  {
   "cell_type": "markdown",
   "metadata": {},
   "source": [
    "Creating Bigram and Trigram Models"
   ]
  },
  {
   "cell_type": "code",
   "execution_count": 19,
   "metadata": {},
   "outputs": [
    {
     "name": "stderr",
     "output_type": "stream",
     "text": [
      "/Users/weiweizheng/anaconda3/lib/python3.6/site-packages/gensim/models/phrases.py:494: UserWarning: For a faster implementation, use the gensim.models.phrases.Phraser class\n",
      "  warnings.warn(\"For a faster implementation, use the gensim.models.phrases.Phraser class\")\n"
     ]
    },
    {
     "name": "stdout",
     "output_type": "stream",
     "text": [
      "['interesting', 'times', 'interesting', 'questions', 'alexa', 'are', 'you', 'safe', 'for', 'my', 'kids', 'ai', 'alexa']\n"
     ]
    }
   ],
   "source": [
    "# Build the bigram and trigram models\n",
    "bigram = gensim.models.Phrases(data_words, min_count=5, threshold=100) # higher threshold fewer phrases.\n",
    "trigram = gensim.models.Phrases(bigram[data_words], threshold=100)  \n",
    "\n",
    "# Faster way to get a sentence clubbed as a trigram/bigram\n",
    "bigram_mod = gensim.models.phrases.Phraser(bigram)\n",
    "trigram_mod = gensim.models.phrases.Phraser(trigram)\n",
    "\n",
    "# See trigram example\n",
    "print(trigram_mod[bigram_mod[data_words[0]]])"
   ]
  },
  {
   "cell_type": "markdown",
   "metadata": {},
   "source": [
    "Remove Stopwords, Make Bigrams and Lemmatize"
   ]
  },
  {
   "cell_type": "code",
   "execution_count": 24,
   "metadata": {},
   "outputs": [],
   "source": [
    "# Define functions for stopwords, bigrams, trigrams and lemmatization\n",
    "def remove_stopwords(texts):\n",
    "    return [[word for word in simple_preprocess(str(doc)) if word not in stop_words] for doc in texts]\n",
    "\n",
    "def make_bigrams(texts):\n",
    "    return [bigram_mod[doc] for doc in texts]\n",
    "\n",
    "def make_trigrams(texts):\n",
    "    return [trigram_mod[bigram_mod[doc]] for doc in texts]\n",
    "\n",
    "def lemmatization(texts, allowed_postags=['NOUN', 'ADJ', 'VERB', 'ADV']):\n",
    "    \"\"\"https://spacy.io/api/annotation\"\"\"\n",
    "    texts_out = []\n",
    "    for sent in texts:\n",
    "        doc = nlp(\" \".join(sent)) \n",
    "        texts_out.append([token.lemma_ for token in doc if token.pos_ in allowed_postags])\n",
    "    return texts_out"
   ]
  },
  {
   "cell_type": "code",
   "execution_count": 47,
   "metadata": {},
   "outputs": [
    {
     "name": "stdout",
     "output_type": "stream",
     "text": [
      "[['interesting', 'time', 'interesting', 'question', 'safe', 'kid', 'ai']]\n"
     ]
    }
   ],
   "source": [
    "# Remove Stop Words\n",
    "data_words_nostops = remove_stopwords(data_words)\n",
    "\n",
    "# Form Bigrams\n",
    "data_words_bigrams = make_bigrams(data_words_nostops)\n",
    "\n",
    "# Initialize spacy 'en' model, keeping only tagger component (for efficiency)\n",
    "# python3 -m spacy download en\n",
    "nlp = spacy.load('en', disable=['parser', 'ner'])\n",
    "\n",
    "# Do lemmatization keeping only noun, adj, vb, adv\n",
    "data_lemmatized = lemmatization(data_words_bigrams, allowed_postags=['NOUN', 'ADJ', 'VERB', 'ADV'])\n",
    "\n",
    "print(data_lemmatized[:1])"
   ]
  },
  {
   "cell_type": "markdown",
   "metadata": {},
   "source": [
    "Create the Dictionary and Corpus needed for Topic Modeling"
   ]
  },
  {
   "cell_type": "code",
   "execution_count": 48,
   "metadata": {},
   "outputs": [
    {
     "name": "stdout",
     "output_type": "stream",
     "text": [
      "[[(0, 1), (1, 2), (2, 1), (3, 1), (4, 1), (5, 1)]]\n"
     ]
    }
   ],
   "source": [
    "# Create Dictionary\n",
    "id2word = corpora.Dictionary(data_lemmatized)\n",
    "\n",
    "# Create Corpus\n",
    "texts = data_lemmatized\n",
    "\n",
    "# Term Document Frequency\n",
    "corpus = [id2word.doc2bow(text) for text in texts]\n",
    "\n",
    "# View\n",
    "print(corpus[:1])"
   ]
  },
  {
   "cell_type": "code",
   "execution_count": 49,
   "metadata": {},
   "outputs": [
    {
     "data": {
      "text/plain": [
       "'ai'"
      ]
     },
     "execution_count": 49,
     "metadata": {},
     "output_type": "execute_result"
    }
   ],
   "source": [
    "id2word[0]"
   ]
  },
  {
   "cell_type": "code",
   "execution_count": 50,
   "metadata": {},
   "outputs": [
    {
     "data": {
      "text/plain": [
       "[[('ai', 1),\n",
       "  ('interesting', 2),\n",
       "  ('kid', 1),\n",
       "  ('question', 1),\n",
       "  ('safe', 1),\n",
       "  ('time', 1)]]"
      ]
     },
     "execution_count": 50,
     "metadata": {},
     "output_type": "execute_result"
    }
   ],
   "source": [
    "# Human readable format of corpus (term-frequency)\n",
    "[[(id2word[id], freq) for id, freq in cp] for cp in corpus[:1]]\n"
   ]
  },
  {
   "cell_type": "markdown",
   "metadata": {},
   "source": [
    "Building the Topic Model"
   ]
  },
  {
   "cell_type": "code",
   "execution_count": 71,
   "metadata": {},
   "outputs": [],
   "source": [
    "# Build LDA model\n",
    "lda_model = gensim.models.ldamodel.LdaModel(corpus=corpus,\n",
    "                                           id2word=id2word,\n",
    "                                           num_topics=5, \n",
    "                                           random_state=100,\n",
    "                                           update_every=1,\n",
    "                                           chunksize=500,\n",
    "                                           passes=10,\n",
    "                                           alpha='auto',\n",
    "                                           per_word_topics=True)"
   ]
  },
  {
   "cell_type": "markdown",
   "metadata": {},
   "source": [
    " View the topics in LDA model"
   ]
  },
  {
   "cell_type": "code",
   "execution_count": 75,
   "metadata": {},
   "outputs": [
    {
     "name": "stdout",
     "output_type": "stream",
     "text": [
      "[(0,\n",
      "  '0.051*\"rank\" + 0.034*\"get\" + 0.030*\"rankbio\" + 0.027*\"rating_page\" + '\n",
      "  '0.025*\"authority_moz\" + 0.022*\"website_score\" + 0.013*\"website\" + '\n",
      "  '0.012*\"contact\" + 0.012*\"traffic\" + 0.011*\"help\" + 0.011*\"come\" + '\n",
      "  '0.010*\"thank\" + 0.009*\"moz\" + 0.007*\"late\" + 0.006*\"info\" + 0.006*\"right\" + '\n",
      "  '0.006*\"domainauthority\" + 0.006*\"live\" + 0.005*\"kid\" + 0.005*\"create\"'),\n",
      " (1,\n",
      "  '0.033*\"ask\" + 0.020*\"good\" + 0.019*\"make\" + 0.019*\"say\" + 0.015*\"know\" + '\n",
      "  '0.015*\"friend\" + 0.014*\"tell\" + 0.013*\"go\" + 0.011*\"need\" + 0.011*\"today\" + '\n",
      "  '0.010*\"blog_siriismyfriend\" + 0.010*\"let\" + 0.010*\"want\" + 0.010*\"listen\" + '\n",
      "  '0.009*\"think\" + 0.009*\"love\" + 0.009*\"find\" + 0.009*\"talk\" + 0.008*\"way\" + '\n",
      "  '0.008*\"see\"'),\n",
      " (2,\n",
      "  '0.031*\"play\" + 0.019*\"show\" + 0.017*\"seo\" + 0.015*\"tesla\" + 0.015*\"time\" + '\n",
      "  '0.013*\"day\" + 0.010*\"search\" + 0.009*\"shortcut\" + 0.009*\"turn\" + '\n",
      "  '0.009*\"state_talkradio\" + 0.009*\"tell_cleverclog\" + 0.008*\"hear\" + '\n",
      "  '0.007*\"still\" + 0.007*\"answer\" + 0.007*\"buy\" + 0.007*\"understand\" + '\n",
      "  '0.007*\"song\" + 0.007*\"change\" + 0.006*\"window\" + 0.005*\"sign_language\"'),\n",
      " (3,\n",
      "  '0.083*\"amazon\" + 0.035*\"voice\" + 0.034*\"amazonecho\" + 0.027*\"echo\" + '\n",
      "  '0.023*\"use\" + 0.022*\"new\" + 0.021*\"skill\" + 0.017*\"technology\" + '\n",
      "  '0.015*\"smart\" + 0.015*\"work\" + 0.015*\"home\" + 0.014*\"device\" + '\n",
      "  '0.010*\"speaker\" + 0.010*\"primeday\" + 0.009*\"tech\" + 0.008*\"enable\" + '\n",
      "  '0.008*\"control\" + 0.007*\"smarthome\" + 0.007*\"news\" + 0.007*\"check\"'),\n",
      " (4,\n",
      "  '0.049*\"apple\" + 0.034*\"ai\" + 0.028*\"google\" + 0.023*\"assistant\" + '\n",
      "  '0.022*\"iphone\" + 0.015*\"homepod\" + 0.014*\"music\" + 0.013*\"pagespeed\" + '\n",
      "  '0.013*\"app\" + 0.011*\"voicefirst\" + 0.010*\"googleassistant\" + '\n",
      "  '0.009*\"ios_macosmojave\" + 0.009*\"insight\" + 0.008*\"people\" + '\n",
      "  '0.008*\"business\" + 0.008*\"user\" + 0.007*\"googlehome\" + 0.007*\"digital\" + '\n",
      "  '0.007*\"rankbio\" + 0.007*\"iot\"')]\n"
     ]
    }
   ],
   "source": [
    "# Print the Keyword in the 10 topics\n",
    "pprint(lda_model.print_topics(num_words = 20))\n",
    "doc_lda = lda_model[corpus]"
   ]
  },
  {
   "cell_type": "markdown",
   "metadata": {},
   "source": [
    "Compute Model Perplexity and Coherence Score"
   ]
  },
  {
   "cell_type": "code",
   "execution_count": 76,
   "metadata": {},
   "outputs": [
    {
     "name": "stdout",
     "output_type": "stream",
     "text": [
      "\n",
      "Perplexity:  -9.022294180239593\n",
      "\n",
      "Coherence Score:  0.3616766885698726\n"
     ]
    }
   ],
   "source": [
    "# Compute Perplexity\n",
    "print('\\nPerplexity: ', lda_model.log_perplexity(corpus))  # a measure of how good the model is. lower the better.\n",
    "\n",
    "# Compute Coherence Score\n",
    "coherence_model_lda = CoherenceModel(model=lda_model, texts=data_lemmatized, dictionary=id2word, coherence='c_v')\n",
    "coherence_lda = coherence_model_lda.get_coherence()\n",
    "print('\\nCoherence Score: ', coherence_lda)"
   ]
  },
  {
   "cell_type": "markdown",
   "metadata": {},
   "source": [
    "Visualize the topics-keywords"
   ]
  },
  {
   "cell_type": "code",
   "execution_count": 77,
   "metadata": {},
   "outputs": [
    {
     "data": {
      "text/html": [
       "\n",
       "<link rel=\"stylesheet\" type=\"text/css\" href=\"https://cdn.rawgit.com/bmabey/pyLDAvis/files/ldavis.v1.0.0.css\">\n",
       "\n",
       "\n",
       "<div id=\"ldavis_el201611126966342487603952810\"></div>\n",
       "<script type=\"text/javascript\">\n",
       "\n",
       "var ldavis_el201611126966342487603952810_data = {\"mdsDat\": {\"Freq\": [26.492631912231445, 23.687620162963867, 17.998531341552734, 17.145057678222656, 14.676163673400879], \"cluster\": [1, 1, 1, 1, 1], \"topics\": [1, 2, 3, 4, 5], \"x\": [0.3653570625754238, -0.09374377864416893, -0.10542686964683608, -0.09509185886694722, -0.07109455541747146], \"y\": [0.002874704111808964, -0.32992273020943097, 0.1550577167544121, 0.14183562652323511, 0.03015468281997481]}, \"tinfo\": {\"Category\": [\"Default\", \"Default\", \"Default\", \"Default\", \"Default\", \"Default\", \"Default\", \"Default\", \"Default\", \"Default\", \"Default\", \"Default\", \"Default\", \"Default\", \"Default\", \"Default\", \"Default\", \"Default\", \"Default\", \"Default\", \"Default\", \"Default\", \"Default\", \"Default\", \"Default\", \"Default\", \"Default\", \"Default\", \"Default\", \"Default\", \"Topic1\", \"Topic1\", \"Topic1\", \"Topic1\", \"Topic1\", \"Topic1\", \"Topic1\", \"Topic1\", \"Topic1\", \"Topic1\", \"Topic1\", \"Topic1\", \"Topic1\", \"Topic1\", \"Topic1\", \"Topic1\", \"Topic1\", \"Topic1\", \"Topic1\", \"Topic1\", \"Topic1\", \"Topic1\", \"Topic1\", \"Topic1\", \"Topic1\", \"Topic1\", \"Topic1\", \"Topic1\", \"Topic1\", \"Topic1\", \"Topic1\", \"Topic2\", \"Topic2\", \"Topic2\", \"Topic2\", \"Topic2\", \"Topic2\", \"Topic2\", \"Topic2\", \"Topic2\", \"Topic2\", \"Topic2\", \"Topic2\", \"Topic2\", \"Topic2\", \"Topic2\", \"Topic2\", \"Topic2\", \"Topic2\", \"Topic2\", \"Topic2\", \"Topic2\", \"Topic2\", \"Topic2\", \"Topic2\", \"Topic2\", \"Topic2\", \"Topic2\", \"Topic2\", \"Topic2\", \"Topic2\", \"Topic3\", \"Topic3\", \"Topic3\", \"Topic3\", \"Topic3\", \"Topic3\", \"Topic3\", \"Topic3\", \"Topic3\", \"Topic3\", \"Topic3\", \"Topic3\", \"Topic3\", \"Topic3\", \"Topic3\", \"Topic3\", \"Topic3\", \"Topic3\", \"Topic3\", \"Topic3\", \"Topic3\", \"Topic3\", \"Topic3\", \"Topic3\", \"Topic3\", \"Topic3\", \"Topic3\", \"Topic3\", \"Topic3\", \"Topic3\", \"Topic3\", \"Topic3\", \"Topic3\", \"Topic4\", \"Topic4\", \"Topic4\", \"Topic4\", \"Topic4\", \"Topic4\", \"Topic4\", \"Topic4\", \"Topic4\", \"Topic4\", \"Topic4\", \"Topic4\", \"Topic4\", \"Topic4\", \"Topic4\", \"Topic4\", \"Topic4\", \"Topic4\", \"Topic4\", \"Topic4\", \"Topic4\", \"Topic4\", \"Topic4\", \"Topic4\", \"Topic4\", \"Topic4\", \"Topic4\", \"Topic4\", \"Topic4\", \"Topic4\", \"Topic4\", \"Topic4\", \"Topic4\", \"Topic4\", \"Topic4\", \"Topic4\", \"Topic4\", \"Topic5\", \"Topic5\", \"Topic5\", \"Topic5\", \"Topic5\", \"Topic5\", \"Topic5\", \"Topic5\", \"Topic5\", \"Topic5\", \"Topic5\", \"Topic5\", \"Topic5\", \"Topic5\", \"Topic5\", \"Topic5\", \"Topic5\", \"Topic5\", \"Topic5\", \"Topic5\", \"Topic5\", \"Topic5\", \"Topic5\", \"Topic5\", \"Topic5\", \"Topic5\", \"Topic5\", \"Topic5\", \"Topic5\", \"Topic5\", \"Topic5\", \"Topic5\"], \"Freq\": [24054.0, 9592.0, 9645.0, 10113.0, 9754.0, 8630.0, 6740.0, 6334.0, 7688.0, 5014.0, 5417.0, 6605.0, 6418.0, 6012.0, 4478.0, 4375.0, 5123.0, 5015.0, 4993.0, 4833.0, 8763.0, 4425.0, 7064.0, 3979.0, 2967.0, 3937.0, 4241.0, 4206.0, 6603.0, 4091.0, 24053.291015625, 10112.88671875, 9754.041015625, 7687.609375, 6417.34814453125, 4832.43701171875, 4424.74658203125, 4205.98193359375, 4240.9443359375, 4090.68212890625, 6011.3740234375, 6604.33544921875, 2946.16064453125, 2742.677490234375, 2278.274658203125, 2231.063720703125, 2030.1966552734375, 1994.4222412109375, 1886.5135498046875, 1855.8079833984375, 1652.09814453125, 1571.058349609375, 1704.7584228515625, 1556.890869140625, 1544.4139404296875, 1457.5579833984375, 1383.3624267578125, 1351.8353271484375, 1304.8558349609375, 1305.6644287109375, 2842.09423828125, 8630.1181640625, 5122.35107421875, 5014.87548828125, 4993.17431640625, 3978.778076171875, 3936.377197265625, 3725.653564453125, 3248.418212890625, 2856.977294921875, 2758.94189453125, 2601.8427734375, 2583.531494140625, 2518.32421875, 2489.08056640625, 2386.427978515625, 2312.75, 2298.43994140625, 2262.8681640625, 2041.12451171875, 1997.2108154296875, 1959.89208984375, 1872.0526123046875, 1862.3931884765625, 1855.3006591796875, 1835.87548828125, 1775.5091552734375, 1706.5965576171875, 1653.4683837890625, 1561.741455078125, 1512.2265625, 9645.111328125, 6739.6669921875, 5416.490234375, 4477.423828125, 4374.78173828125, 2925.135986328125, 2736.149169921875, 2614.61474609375, 2101.409423828125, 1934.13623046875, 1726.575927734375, 1631.53076171875, 1611.363525390625, 1514.157958984375, 1409.2869873046875, 1341.1112060546875, 1304.943359375, 1278.6251220703125, 1259.736083984375, 1027.689453125, 1001.1299438476562, 909.81298828125, 900.6974487304688, 911.8792724609375, 878.9685668945312, 879.7662353515625, 861.729736328125, 842.3900146484375, 803.3472290039062, 770.7733764648438, 2643.005126953125, 1735.1929931640625, 1327.1942138671875, 9591.65234375, 6334.2080078125, 2400.633056640625, 2316.1279296875, 2272.514892578125, 2132.172607421875, 2050.005126953125, 1915.4969482421875, 1639.657958984375, 1362.6904296875, 1117.2025146484375, 1071.495849609375, 1119.3583984375, 997.5560302734375, 977.2404174804688, 959.7023315429688, 922.6439819335938, 1105.06689453125, 845.3350219726562, 844.8356323242188, 842.14453125, 820.0285034179688, 797.207275390625, 704.5494384765625, 723.2493286132812, 650.26513671875, 647.500732421875, 644.7364501953125, 647.45849609375, 580.0512084960938, 753.4196166992188, 5016.869140625, 4731.36669921875, 4171.53466796875, 5685.94921875, 888.0137939453125, 757.278076171875, 5013.42236328125, 2967.110595703125, 2646.859130859375, 2338.623046875, 2406.671630859375, 2036.986572265625, 1587.3961181640625, 1452.2410888671875, 1426.9346923828125, 1402.6668701171875, 1320.387451171875, 1194.7686767578125, 1196.8602294921875, 1186.126220703125, 1169.7093505859375, 1171.3902587890625, 1059.8978271484375, 1497.0760498046875, 891.103271484375, 768.6174926757812, 774.3612670898438, 690.0399169921875, 670.0819091796875, 675.993408203125, 658.4873046875, 630.8678588867188, 612.4444580078125, 625.9727172851562, 601.5802612304688, 597.24072265625, 794.7262573242188, 608.0718383789062], \"Term\": [\"amazon\", \"rank\", \"apple\", \"voice\", \"amazonecho\", \"ask\", \"ai\", \"get\", \"echo\", \"play\", \"google\", \"use\", \"new\", \"skill\", \"assistant\", \"iphone\", \"good\", \"make\", \"say\", \"technology\", \"rankbio\", \"smart\", \"rating_page\", \"know\", \"show\", \"friend\", \"work\", \"home\", \"authority_moz\", \"device\", \"amazon\", \"voice\", \"amazonecho\", \"echo\", \"new\", \"technology\", \"smart\", \"home\", \"work\", \"device\", \"skill\", \"use\", \"speaker\", \"tech\", \"enable\", \"control\", \"smarthome\", \"news\", \"check\", \"great\", \"deal\", \"learn\", \"score\", \"dot\", \"amazonalexa\", \"may\", \"add\", \"question\", \"launch\", \"command\", \"primeday\", \"ask\", \"good\", \"make\", \"say\", \"know\", \"friend\", \"tell\", \"go\", \"need\", \"today\", \"blog_siriismyfriend\", \"let\", \"want\", \"listen\", \"think\", \"love\", \"find\", \"talk\", \"way\", \"see\", \"call\", \"take\", \"thing\", \"start\", \"first\", \"try\", \"even\", \"look\", \"video\", \"phone\", \"apple\", \"ai\", \"google\", \"assistant\", \"iphone\", \"homepod\", \"music\", \"app\", \"voicefirst\", \"googleassistant\", \"insight\", \"people\", \"business\", \"user\", \"googlehome\", \"digital\", \"iot\", \"feature\", \"ios\", \"next\", \"microsoft\", \"big\", \"win\", \"increase\", \"week\", \"become\", \"marketing\", \"podcast\", \"support\", \"company\", \"pagespeed\", \"ios_macosmojave\", \"rankbio\", \"rank\", \"get\", \"website\", \"contact\", \"traffic\", \"help\", \"come\", \"thank\", \"moz\", \"late\", \"right\", \"live\", \"info\", \"kid\", \"create\", \"much\", \"free\", \"domainauthority\", \"life\", \"game\", \"bring\", \"daily\", \"hotel\", \"morning\", \"ranking\", \"experience\", \"top\", \"pay\", \"respond\", \"actually\", \"googlerank\", \"rating_page\", \"authority_moz\", \"website_score\", \"rankbio\", \"rank_https\", \"ranking_rankbio\", \"play\", \"show\", \"seo\", \"time\", \"tesla\", \"day\", \"search\", \"turn\", \"state_talkradio\", \"tell_cleverclog\", \"hear\", \"answer\", \"still\", \"buy\", \"song\", \"understand\", \"change\", \"shortcut\", \"window\", \"play_red\", \"smartspeaker\", \"light\", \"ever\", \"healthcare\", \"play_r\", \"fire\", \"funny\", \"tap\", \"ready\", \"real\", \"sign_language\", \"hospitality\"], \"Total\": [24054.0, 9592.0, 9645.0, 10113.0, 9754.0, 8630.0, 6740.0, 6334.0, 7688.0, 5014.0, 5417.0, 6605.0, 6418.0, 6012.0, 4478.0, 4375.0, 5123.0, 5015.0, 4993.0, 4833.0, 8763.0, 4425.0, 7064.0, 3979.0, 2967.0, 3937.0, 4241.0, 4206.0, 6603.0, 4091.0, 24054.00390625, 10113.6025390625, 9754.7578125, 7688.32275390625, 6418.06396484375, 4833.1630859375, 4425.46044921875, 4206.6962890625, 4241.66748046875, 4091.3974609375, 6012.4453125, 6605.63232421875, 2946.87451171875, 2743.3916015625, 2278.989013671875, 2231.775634765625, 2030.909423828125, 1995.1402587890625, 1887.231201171875, 1856.5286865234375, 1652.81201171875, 1571.773681640625, 1705.5374755859375, 1557.60302734375, 1545.1309814453125, 1458.27294921875, 1384.0799560546875, 1352.5557861328125, 1305.5697021484375, 1306.3817138671875, 3007.25927734375, 8630.8173828125, 5123.05517578125, 5015.57470703125, 4993.8720703125, 3979.476806640625, 3937.07861328125, 3726.351806640625, 3249.115234375, 2857.676513671875, 2759.642822265625, 2602.5458984375, 2584.23291015625, 2519.02294921875, 2489.779052734375, 2387.126220703125, 2313.44970703125, 2299.14013671875, 2263.56591796875, 2041.8248291015625, 1997.908935546875, 1960.5911865234375, 1872.7532958984375, 1863.092529296875, 1855.99951171875, 1836.5762939453125, 1776.20947265625, 1707.2950439453125, 1654.168212890625, 1562.4383544921875, 1512.9268798828125, 9645.826171875, 6740.3828125, 5417.2275390625, 4478.14111328125, 4375.498046875, 2925.853271484375, 2736.875244140625, 2615.331787109375, 2102.13037109375, 1934.8533935546875, 1727.3292236328125, 1632.250732421875, 1612.0850830078125, 1514.8798828125, 1410.00439453125, 1341.8275146484375, 1305.658447265625, 1279.3458251953125, 1260.4515380859375, 1028.4083251953125, 1001.8419189453125, 910.5302734375, 901.4169311523438, 912.6239624023438, 879.689208984375, 880.4891967773438, 862.4461059570312, 843.109375, 804.0618896484375, 771.4932861328125, 2660.371337890625, 2241.299072265625, 8763.5361328125, 9592.4375, 6334.95556640625, 2401.390869140625, 2316.881103515625, 2273.27685546875, 2132.92041015625, 2050.750732421875, 1916.241455078125, 1640.502685546875, 1363.4344482421875, 1117.952392578125, 1072.24658203125, 1120.156005859375, 998.2997436523438, 977.9876098632812, 960.4509887695312, 923.3877563476562, 1106.01318359375, 846.0804443359375, 845.5811767578125, 842.8921508789062, 820.7704467773438, 797.978759765625, 705.2980346679688, 724.0306396484375, 651.0103149414062, 648.249267578125, 645.4826049804688, 648.2168579101562, 580.8004760742188, 754.8812255859375, 7064.3310546875, 6603.544921875, 5729.16796875, 8763.5361328125, 1343.02099609375, 1316.1378173828125, 5014.14794921875, 2967.8349609375, 2647.624267578125, 2339.345703125, 2407.43212890625, 2037.7088623046875, 1588.1268310546875, 1452.9642333984375, 1427.647705078125, 1403.3873291015625, 1321.1094970703125, 1195.4940185546875, 1197.58740234375, 1186.8515625, 1170.4339599609375, 1172.118408203125, 1060.6236572265625, 1498.130126953125, 891.8219604492188, 769.330322265625, 775.0900268554688, 690.7626953125, 670.8037719726562, 676.7244262695312, 659.2005615234375, 631.5938720703125, 613.1642456054688, 626.71142578125, 602.3038940429688, 597.9623413085938, 796.6890258789062, 609.5181884765625], \"loglift\": [30.0, 29.0, 28.0, 27.0, 26.0, 25.0, 24.0, 23.0, 22.0, 21.0, 20.0, 19.0, 18.0, 17.0, 16.0, 15.0, 14.0, 13.0, 12.0, 11.0, 10.0, 9.0, 8.0, 7.0, 6.0, 5.0, 4.0, 3.0, 2.0, 1.0, 1.3282999992370605, 1.3281999826431274, 1.3281999826431274, 1.3281999826431274, 1.3281999826431274, 1.3281999826431274, 1.3280999660491943, 1.3280999660491943, 1.3280999660491943, 1.3280999660491943, 1.3280999660491943, 1.3280999660491943, 1.3280999660491943, 1.3279999494552612, 1.3279999494552612, 1.3279999494552612, 1.3279999494552612, 1.3279000520706177, 1.3279000520706177, 1.3279000520706177, 1.3279000520706177, 1.3278000354766846, 1.3278000354766846, 1.3278000354766846, 1.3278000354766846, 1.3278000354766846, 1.3278000354766846, 1.3278000354766846, 1.3278000354766846, 1.3278000354766846, 1.2718000411987305, 1.4400999546051025, 1.4400999546051025, 1.4400999546051025, 1.4400999546051025, 1.440000057220459, 1.440000057220459, 1.440000057220459, 1.440000057220459, 1.440000057220459, 1.440000057220459, 1.4399000406265259, 1.4399000406265259, 1.4399000406265259, 1.4399000406265259, 1.4399000406265259, 1.4399000406265259, 1.4399000406265259, 1.4399000406265259, 1.4399000406265259, 1.4399000406265259, 1.4399000406265259, 1.4398000240325928, 1.4398000240325928, 1.4398000240325928, 1.4398000240325928, 1.4398000240325928, 1.4398000240325928, 1.4398000240325928, 1.4398000240325928, 1.4398000240325928, 1.7148000001907349, 1.7148000001907349, 1.7146999835968018, 1.7146999835968018, 1.7146999835968018, 1.7145999670028687, 1.7145999670028687, 1.7145999670028687, 1.7144999504089355, 1.7144999504089355, 1.714400053024292, 1.714400053024292, 1.714400053024292, 1.714400053024292, 1.714400053024292, 1.7143000364303589, 1.7143000364303589, 1.7143000364303589, 1.7143000364303589, 1.7142000198364258, 1.7142000198364258, 1.7141000032424927, 1.7141000032424927, 1.7141000032424927, 1.7141000032424927, 1.7141000032424927, 1.7139999866485596, 1.7139999866485596, 1.7139999866485596, 1.7138999700546265, 1.708299994468689, 1.458899974822998, -0.17270000278949738, 1.7633999586105347, 1.7632999420166016, 1.763100028038025, 1.763100028038025, 1.763100028038025, 1.763100028038025, 1.763100028038025, 1.763100028038025, 1.7628999948501587, 1.7628999948501587, 1.7627999782562256, 1.7627999782562256, 1.7626999616622925, 1.7626999616622925, 1.7626999616622925, 1.7626999616622925, 1.7626999616622925, 1.7625999450683594, 1.7625999450683594, 1.7625999450683594, 1.7625999450683594, 1.7625999450683594, 1.7625000476837158, 1.7624000310897827, 1.7624000310897827, 1.7623000144958496, 1.7623000144958496, 1.7623000144958496, 1.7623000144958496, 1.7621999979019165, 1.7615000009536743, 1.4212000370025635, 1.4300999641418457, 1.4462000131607056, 1.330899953842163, 1.3497999906539917, 1.2107000350952148, 1.9187999963760376, 1.9186999797821045, 1.9186999797821045, 1.9185999631881714, 1.9185999631881714, 1.9185999631881714, 1.9184999465942383, 1.9184000492095947, 1.9184000492095947, 1.9184000492095947, 1.9184000492095947, 1.9183000326156616, 1.9183000326156616, 1.9183000326156616, 1.9183000326156616, 1.9183000326156616, 1.9183000326156616, 1.9182000160217285, 1.9180999994277954, 1.9179999828338623, 1.9179999828338623, 1.9178999662399292, 1.9178999662399292, 1.9178999662399292, 1.9178999662399292, 1.917799949645996, 1.917799949645996, 1.917799949645996, 1.9177000522613525, 1.9177000522613525, 1.9164999723434448, 1.916599988937378], \"logprob\": [30.0, 29.0, 28.0, 27.0, 26.0, 25.0, 24.0, 23.0, 22.0, 21.0, 20.0, 19.0, 18.0, 17.0, 16.0, 15.0, 14.0, 13.0, 12.0, 11.0, 10.0, 9.0, 8.0, 7.0, 6.0, 5.0, 4.0, 3.0, 2.0, 1.0, -2.4860999584198, -3.35260009765625, -3.388700008392334, -3.626800060272217, -3.8073999881744385, -4.091000080108643, -4.179200172424316, -4.229899883270264, -4.22160005569458, -4.257699966430664, -3.8726999759674072, -3.778700113296509, -4.585899829864502, -4.657400131225586, -4.8429999351501465, -4.863900184631348, -4.958199977874756, -4.97599983215332, -5.031599998474121, -5.048099994659424, -5.164299964904785, -5.214600086212158, -5.132999897003174, -5.223700046539307, -5.2316999435424805, -5.289599895477295, -5.341899871826172, -5.3649001121521, -5.400300025939941, -5.399700164794922, -4.621799945831299, -3.399199962615967, -3.9209001064300537, -3.9421000480651855, -3.9463999271392822, -4.173500061035156, -4.184199810028076, -4.239200115203857, -4.376299858093262, -4.504700183868408, -4.539599895477295, -4.598199844360352, -4.605299949645996, -4.630899906158447, -4.642600059509277, -4.684700012207031, -4.716000080108643, -4.7221999168396, -4.737800121307373, -4.841000080108643, -4.86269998550415, -4.8815999031066895, -4.9274001121521, -4.932600021362305, -4.936399936676025, -4.946899890899658, -4.980400085449219, -5.019999980926514, -5.051599979400635, -5.108699798583984, -5.140900135040283, -3.013400077819824, -3.371799945831299, -3.590399980545044, -3.7808001041412354, -3.8039000034332275, -4.206500053405762, -4.2733001708984375, -4.318699836730957, -4.537199974060059, -4.620100021362305, -4.733699798583984, -4.790299892425537, -4.802700042724609, -4.8649001121521, -4.936699867248535, -4.986299991607666, -5.013599872589111, -5.033999919891357, -5.048900127410889, -5.252500057220459, -5.27869987487793, -5.374300003051758, -5.384399890899658, -5.372099876403809, -5.40880012512207, -5.407899856567383, -5.428599834442139, -5.451300144195557, -5.498799800872803, -5.540200233459473, -4.3078999519348145, -4.728700160980225, -4.996699810028076, -2.9702999591827393, -3.3852999210357666, -4.355500221252441, -4.391300201416016, -4.410299777984619, -4.474100112915039, -4.513400077819824, -4.581200122833252, -4.736700057983398, -4.921800136566162, -5.1203999519348145, -5.162199974060059, -5.118500232696533, -5.233699798583984, -5.254199981689453, -5.27239990234375, -5.311699867248535, -5.13129997253418, -5.399199962615967, -5.399799823760986, -5.4029998779296875, -5.429599761962891, -5.457900047302246, -5.581399917602539, -5.555200099945068, -5.661600112915039, -5.665900230407715, -5.670100212097168, -5.665900230407715, -5.775899887084961, -5.514400005340576, -3.6184000968933105, -3.677000045776367, -3.8029000759124756, -3.4932000637054443, -5.349999904632568, -5.509200096130371, -3.463599920272827, -3.9881999492645264, -4.102399826049805, -4.226200103759766, -4.197500228881836, -4.364299774169922, -4.61359977722168, -4.702600002288818, -4.720200061798096, -4.737400054931641, -4.797800064086914, -4.897799968719482, -4.895999908447266, -4.90500020980835, -4.919000148773193, -4.917500019073486, -5.017600059509277, -4.6722002029418945, -5.190999984741211, -5.338900089263916, -5.331500053405762, -5.446700096130371, -5.476099967956543, -5.467299938201904, -5.493500232696533, -5.536399841308594, -5.565999984741211, -5.5441999435424805, -5.583899974822998, -5.59119987487793, -5.305500030517578, -5.573200225830078]}, \"token.table\": {\"Topic\": [4, 1, 3, 1, 1, 1, 5, 3, 3, 2, 3, 1, 2, 3, 4, 5, 3, 3, 2, 4, 3, 5, 2, 5, 1, 4, 1, 3, 4, 1, 4, 4, 5, 1, 1, 3, 4, 1, 1, 1, 2, 5, 4, 3, 2, 5, 2, 4, 2, 5, 4, 4, 2, 2, 3, 3, 3, 3, 4, 1, 5, 5, 4, 1, 3, 4, 5, 4, 3, 4, 3, 3, 1, 2, 3, 4, 5, 3, 3, 4, 2, 4, 1, 1, 2, 4, 5, 2, 4, 2, 2, 2, 3, 1, 3, 4, 4, 4, 3, 2, 1, 1, 3, 1, 2, 3, 4, 5, 4, 3, 2, 5, 5, 5, 3, 1, 2, 3, 4, 5, 1, 4, 1, 2, 3, 4, 5, 1, 2, 3, 4, 5, 4, 1, 2, 3, 4, 5, 1, 2, 3, 4, 5, 5, 5, 4, 4, 2, 1, 5, 2, 5, 5, 5, 1, 2, 3, 5, 1, 4, 1, 1, 5, 5, 1, 2, 5, 5, 3, 2, 2, 5, 1, 1, 2, 5, 5, 4, 2, 2, 5, 2, 4, 4, 2, 5, 5, 1, 2, 3, 2, 1, 3, 2, 2, 4, 1, 2, 3, 4, 5, 3, 3, 5, 1], \"Freq\": [0.9986217617988586, 0.9992197155952454, 0.999943196773529, 0.9999582767486572, 0.9992680549621582, 0.9999223351478577, 0.9995867609977722, 0.999873161315918, 0.9999143481254578, 0.9999052882194519, 0.9997451901435852, 0.05754484981298447, 0.05179036408662796, 0.11645260453224182, 0.7164334058761597, 0.05784771591424942, 0.9994444251060486, 0.9994176030158997, 0.9997902512550354, 0.9989415407180786, 0.9993268847465515, 0.9992824792861938, 0.9996984601020813, 0.9994120001792908, 0.9998775124549866, 0.9996339082717896, 0.999707818031311, 0.9993606209754944, 0.999619722366333, 0.9996524453163147, 0.9989901781082153, 0.9990612864494324, 0.9996521472930908, 0.9995087385177612, 0.9999028444290161, 0.999383270740509, 0.999083936214447, 0.9996128678321838, 0.9999580383300781, 0.9995660185813904, 0.9998272061347961, 0.9988017678260803, 0.9984480738639832, 0.9997296929359436, 0.9995040893554688, 0.9990597367286682, 0.9996862411499023, 0.9995800852775574, 0.9997260570526123, 0.9981012344360352, 0.999312698841095, 0.9998491406440735, 0.9996567368507385, 0.9997940063476562, 0.999773383140564, 0.9995589256286621, 0.9992876648902893, 0.0013247117167338729, 0.9975079298019409, 0.9997152090072632, 0.998929500579834, 0.9991601705551147, 0.9995684623718262, 0.9998344779014587, 0.999708354473114, 0.001640640082769096, 0.9975091814994812, 0.998773455619812, 0.9993162751197815, 0.9989680051803589, 0.9998093843460083, 0.9996417760848999, 0.014277433976531029, 0.149020716547966, 0.774104654788971, 0.051309529691934586, 0.011600415222346783, 0.9994956851005554, 0.999886155128479, 0.9996997714042664, 0.9998801946640015, 0.9996813535690308, 0.9995636343955994, 0.9995077848434448, 0.9999098777770996, 0.998723030090332, 0.9988958835601807, 0.9996870756149292, 0.998837411403656, 0.9992938041687012, 0.9998056292533875, 0.9998854398727417, 0.9994827508926392, 0.9998128414154053, 0.9991596341133118, 0.9995774626731873, 0.9996935725212097, 0.9995304346084595, 0.99968022108078, 0.9997632503509521, 0.9998342394828796, 0.9994285106658936, 0.9996029734611511, 0.0003758873790502548, 0.0003758873790502548, 0.993470311164856, 0.0052624233067035675, 0.0003758873790502548, 0.9992523193359375, 0.9998463988304138, 0.9993873834609985, 0.9997710585594177, 0.9981787800788879, 0.9995706081390381, 0.9986841678619385, 0.9450465440750122, 0.011971033178269863, 0.011971033178269863, 0.012968619354069233, 0.018289078027009964, 0.9995890855789185, 0.9999544024467468, 0.08041571825742722, 0.06254556030035019, 0.12955865263938904, 0.6611959338188171, 0.06701309978961945, 0.07063359022140503, 0.06047787144780159, 0.1514228880405426, 0.6488248705863953, 0.06857962161302567, 0.9985765218734741, 0.07142109423875809, 0.08889646828174591, 0.19754770398139954, 0.575167715549469, 0.06610249727964401, 0.059878282248973846, 0.052658915519714355, 0.11947344988584518, 0.710187554359436, 0.05761338025331497, 0.9994954466819763, 0.9983906149864197, 0.9981227517127991, 0.9991480708122253, 0.9998253583908081, 0.9996848702430725, 0.9992904663085938, 0.9995450377464294, 0.9997642040252686, 0.9992456436157227, 0.9997186660766602, 0.001255194889381528, 0.001255194889381528, 0.001255194889381528, 0.9978799223899841, 0.9997596144676208, 0.00016632168262731284, 0.9998959302902222, 0.9995521903038025, 0.9985936880111694, 0.9996292591094971, 0.9997032284736633, 0.9994614720344543, 0.9995462894439697, 0.9995095133781433, 0.9986793398857117, 0.9995977878570557, 0.9997499585151672, 0.9988648295402527, 0.9998572468757629, 0.9997593760490417, 0.9999055862426758, 0.9997240304946899, 0.9998205304145813, 0.9993521571159363, 0.9994136095046997, 0.9995282292366028, 0.9998522400856018, 0.9997670650482178, 0.999615490436554, 0.9998782277107239, 0.9998820424079895, 0.9993363618850708, 0.9990458488464355, 0.9997528791427612, 0.0001513859606347978, 0.9994191527366638, 0.9997194409370422, 0.9999403953552246, 0.9994622468948364, 0.9995939135551453, 0.9995960593223572, 0.9998372197151184, 0.052363622933626175, 0.05218907818198204, 0.10926543176174164, 0.7282034754753113, 0.058123622089624405, 0.9992165565490723, 0.999537467956543, 0.9990783333778381, 0.999842643737793], \"Term\": [\"actually\", \"add\", \"ai\", \"amazon\", \"amazonalexa\", \"amazonecho\", \"answer\", \"app\", \"apple\", \"ask\", \"assistant\", \"authority_moz\", \"authority_moz\", \"authority_moz\", \"authority_moz\", \"authority_moz\", \"become\", \"big\", \"blog_siriismyfriend\", \"bring\", \"business\", \"buy\", \"call\", \"change\", \"check\", \"come\", \"command\", \"company\", \"contact\", \"control\", \"create\", \"daily\", \"day\", \"deal\", \"device\", \"digital\", \"domainauthority\", \"dot\", \"echo\", \"enable\", \"even\", \"ever\", \"experience\", \"feature\", \"find\", \"fire\", \"first\", \"free\", \"friend\", \"funny\", \"game\", \"get\", \"go\", \"good\", \"google\", \"googleassistant\", \"googlehome\", \"googlerank\", \"googlerank\", \"great\", \"healthcare\", \"hear\", \"help\", \"home\", \"homepod\", \"hospitality\", \"hospitality\", \"hotel\", \"increase\", \"info\", \"insight\", \"ios\", \"ios_macosmojave\", \"ios_macosmojave\", \"ios_macosmojave\", \"ios_macosmojave\", \"ios_macosmojave\", \"iot\", \"iphone\", \"kid\", \"know\", \"late\", \"launch\", \"learn\", \"let\", \"life\", \"light\", \"listen\", \"live\", \"look\", \"love\", \"make\", \"marketing\", \"may\", \"microsoft\", \"morning\", \"moz\", \"much\", \"music\", \"need\", \"new\", \"news\", \"next\", \"pagespeed\", \"pagespeed\", \"pagespeed\", \"pagespeed\", \"pagespeed\", \"pay\", \"people\", \"phone\", \"play\", \"play_r\", \"play_red\", \"podcast\", \"primeday\", \"primeday\", \"primeday\", \"primeday\", \"primeday\", \"question\", \"rank\", \"rank_https\", \"rank_https\", \"rank_https\", \"rank_https\", \"rank_https\", \"rankbio\", \"rankbio\", \"rankbio\", \"rankbio\", \"rankbio\", \"ranking\", \"ranking_rankbio\", \"ranking_rankbio\", \"ranking_rankbio\", \"ranking_rankbio\", \"ranking_rankbio\", \"rating_page\", \"rating_page\", \"rating_page\", \"rating_page\", \"rating_page\", \"ready\", \"real\", \"respond\", \"right\", \"say\", \"score\", \"search\", \"see\", \"seo\", \"shortcut\", \"show\", \"sign_language\", \"sign_language\", \"sign_language\", \"sign_language\", \"skill\", \"skill\", \"smart\", \"smarthome\", \"smartspeaker\", \"song\", \"speaker\", \"start\", \"state_talkradio\", \"still\", \"support\", \"take\", \"talk\", \"tap\", \"tech\", \"technology\", \"tell\", \"tell_cleverclog\", \"tesla\", \"thank\", \"thing\", \"think\", \"time\", \"today\", \"top\", \"traffic\", \"try\", \"turn\", \"understand\", \"use\", \"use\", \"user\", \"video\", \"voice\", \"voicefirst\", \"want\", \"way\", \"website\", \"website_score\", \"website_score\", \"website_score\", \"website_score\", \"website_score\", \"week\", \"win\", \"window\", \"work\"]}, \"R\": 30, \"lambda.step\": 0.01, \"plot.opts\": {\"xlab\": \"PC1\", \"ylab\": \"PC2\"}, \"topic.order\": [4, 2, 5, 1, 3]};\n",
       "\n",
       "function LDAvis_load_lib(url, callback){\n",
       "  var s = document.createElement('script');\n",
       "  s.src = url;\n",
       "  s.async = true;\n",
       "  s.onreadystatechange = s.onload = callback;\n",
       "  s.onerror = function(){console.warn(\"failed to load library \" + url);};\n",
       "  document.getElementsByTagName(\"head\")[0].appendChild(s);\n",
       "}\n",
       "\n",
       "if(typeof(LDAvis) !== \"undefined\"){\n",
       "   // already loaded: just create the visualization\n",
       "   !function(LDAvis){\n",
       "       new LDAvis(\"#\" + \"ldavis_el201611126966342487603952810\", ldavis_el201611126966342487603952810_data);\n",
       "   }(LDAvis);\n",
       "}else if(typeof define === \"function\" && define.amd){\n",
       "   // require.js is available: use it to load d3/LDAvis\n",
       "   require.config({paths: {d3: \"https://cdnjs.cloudflare.com/ajax/libs/d3/3.5.5/d3.min\"}});\n",
       "   require([\"d3\"], function(d3){\n",
       "      window.d3 = d3;\n",
       "      LDAvis_load_lib(\"https://cdn.rawgit.com/bmabey/pyLDAvis/files/ldavis.v1.0.0.js\", function(){\n",
       "        new LDAvis(\"#\" + \"ldavis_el201611126966342487603952810\", ldavis_el201611126966342487603952810_data);\n",
       "      });\n",
       "    });\n",
       "}else{\n",
       "    // require.js not available: dynamically load d3 & LDAvis\n",
       "    LDAvis_load_lib(\"https://cdnjs.cloudflare.com/ajax/libs/d3/3.5.5/d3.min.js\", function(){\n",
       "         LDAvis_load_lib(\"https://cdn.rawgit.com/bmabey/pyLDAvis/files/ldavis.v1.0.0.js\", function(){\n",
       "                 new LDAvis(\"#\" + \"ldavis_el201611126966342487603952810\", ldavis_el201611126966342487603952810_data);\n",
       "            })\n",
       "         });\n",
       "}\n",
       "</script>"
      ],
      "text/plain": [
       "PreparedData(topic_coordinates=            Freq  cluster  topics         x         y\n",
       "topic                                                \n",
       "3      26.492632        1       1  0.365357  0.002875\n",
       "1      23.687620        1       2 -0.093744 -0.329923\n",
       "4      17.998531        1       3 -0.105427  0.155058\n",
       "0      17.145058        1       4 -0.095092  0.141836\n",
       "2      14.676164        1       5 -0.071095  0.030155, topic_info=      Category          Freq             Term         Total  loglift  logprob\n",
       "term                                                                         \n",
       "37     Default  24054.000000           amazon  24054.000000  30.0000  30.0000\n",
       "1028   Default   9592.000000             rank   9592.000000  29.0000  29.0000\n",
       "51     Default   9645.000000            apple   9645.000000  28.0000  28.0000\n",
       "14     Default  10113.000000            voice  10113.000000  27.0000  27.0000\n",
       "82     Default   9754.000000       amazonecho   9754.000000  26.0000  26.0000\n",
       "164    Default   8630.000000              ask   8630.000000  25.0000  25.0000\n",
       "0      Default   6740.000000               ai   6740.000000  24.0000  24.0000\n",
       "58     Default   6334.000000              get   6334.000000  23.0000  23.0000\n",
       "104    Default   7688.000000             echo   7688.000000  22.0000  22.0000\n",
       "95     Default   5014.000000             play   5014.000000  21.0000  21.0000\n",
       "233    Default   5417.000000           google   5417.000000  20.0000  20.0000\n",
       "21     Default   6605.000000              use   6605.000000  19.0000  19.0000\n",
       "79     Default   6418.000000              new   6418.000000  18.0000  18.0000\n",
       "34     Default   6012.000000            skill   6012.000000  17.0000  17.0000\n",
       "6      Default   4478.000000        assistant   4478.000000  16.0000  16.0000\n",
       "587    Default   4375.000000           iphone   4375.000000  15.0000  15.0000\n",
       "112    Default   5123.000000             good   5123.000000  14.0000  14.0000\n",
       "85     Default   5015.000000             make   5015.000000  13.0000  13.0000\n",
       "60     Default   4993.000000              say   4993.000000  12.0000  12.0000\n",
       "55     Default   4833.000000       technology   4833.000000  11.0000  11.0000\n",
       "72566  Default   8763.000000          rankbio   8763.000000  10.0000  10.0000\n",
       "96     Default   4425.000000            smart   4425.000000   9.0000   9.0000\n",
       "72567  Default   7064.000000      rating_page   7064.000000   8.0000   8.0000\n",
       "20     Default   3979.000000             know   3979.000000   7.0000   7.0000\n",
       "886    Default   2967.000000             show   2967.000000   6.0000   6.0000\n",
       "688    Default   3937.000000           friend   3937.000000   5.0000   5.0000\n",
       "100    Default   4241.000000             work   4241.000000   4.0000   4.0000\n",
       "78     Default   4206.000000             home   4206.000000   3.0000   3.0000\n",
       "72564  Default   6603.000000    authority_moz   6603.000000   2.0000   2.0000\n",
       "418    Default   4091.000000           device   4091.000000   1.0000   1.0000\n",
       "...        ...           ...              ...           ...      ...      ...\n",
       "965     Topic5   2646.859131              seo   2647.624268   1.9187  -4.1024\n",
       "5       Topic5   2338.623047             time   2339.345703   1.9186  -4.2262\n",
       "1092    Topic5   2406.671631            tesla   2407.432129   1.9186  -4.1975\n",
       "409     Topic5   2036.986572              day   2037.708862   1.9186  -4.3643\n",
       "222     Topic5   1587.396118           search   1588.126831   1.9185  -4.6136\n",
       "398     Topic5   1452.241089             turn   1452.964233   1.9184  -4.7026\n",
       "38592   Topic5   1426.934692  state_talkradio   1427.647705   1.9184  -4.7202\n",
       "8695    Topic5   1402.666870  tell_cleverclog   1403.387329   1.9184  -4.7374\n",
       "347     Topic5   1320.387451             hear   1321.109497   1.9184  -4.7978\n",
       "56      Topic5   1194.768677           answer   1195.494019   1.9183  -4.8978\n",
       "425     Topic5   1196.860229            still   1197.587402   1.9183  -4.8960\n",
       "974     Topic5   1186.126221              buy   1186.851562   1.9183  -4.9050\n",
       "348     Topic5   1169.709351             song   1170.433960   1.9183  -4.9190\n",
       "1115    Topic5   1171.390259       understand   1172.118408   1.9183  -4.9175\n",
       "513     Topic5   1059.897827           change   1060.623657   1.9183  -5.0176\n",
       "9655    Topic5   1497.076050         shortcut   1498.130127   1.9182  -4.6722\n",
       "268     Topic5    891.103271           window    891.821960   1.9181  -5.1910\n",
       "26841   Topic5    768.617493         play_red    769.330322   1.9180  -5.3389\n",
       "796     Topic5    774.361267     smartspeaker    775.090027   1.9180  -5.3315\n",
       "801     Topic5    690.039917            light    690.762695   1.9179  -5.4467\n",
       "1308    Topic5    670.081909             ever    670.803772   1.9179  -5.4761\n",
       "186     Topic5    675.993408       healthcare    676.724426   1.9179  -5.4673\n",
       "38590   Topic5    658.487305           play_r    659.200562   1.9179  -5.4935\n",
       "1090    Topic5    630.867859             fire    631.593872   1.9178  -5.5364\n",
       "1402    Topic5    612.444458            funny    613.164246   1.9178  -5.5660\n",
       "1439    Topic5    625.972717              tap    626.711426   1.9178  -5.5442\n",
       "1638    Topic5    601.580261            ready    602.303894   1.9177  -5.5839\n",
       "378     Topic5    597.240723             real    597.962341   1.9177  -5.5912\n",
       "23272   Topic5    794.726257    sign_language    796.689026   1.9165  -5.3055\n",
       "4301    Topic5    608.071838      hospitality    609.518188   1.9166  -5.5732\n",
       "\n",
       "[193 rows x 6 columns], token_table=       Topic      Freq                 Term\n",
       "term                                       \n",
       "1421       4  0.998622             actually\n",
       "155        1  0.999220                  add\n",
       "0          3  0.999943                   ai\n",
       "37         1  0.999958               amazon\n",
       "115        1  0.999268          amazonalexa\n",
       "82         1  0.999922           amazonecho\n",
       "56         5  0.999587               answer\n",
       "15         3  0.999873                  app\n",
       "51         3  0.999914                apple\n",
       "164        2  0.999905                  ask\n",
       "6          3  0.999745            assistant\n",
       "72564      1  0.057545        authority_moz\n",
       "72564      2  0.051790        authority_moz\n",
       "72564      3  0.116453        authority_moz\n",
       "72564      4  0.716433        authority_moz\n",
       "72564      5  0.057848        authority_moz\n",
       "184        3  0.999444               become\n",
       "1697       3  0.999418                  big\n",
       "13970      2  0.999790  blog_siriismyfriend\n",
       "1336       4  0.998942                bring\n",
       "1151       3  0.999327             business\n",
       "974        5  0.999282                  buy\n",
       "634        2  0.999698                 call\n",
       "513        5  0.999412               change\n",
       "433        1  0.999878                check\n",
       "108        4  0.999634                 come\n",
       "239        1  0.999708              command\n",
       "1085       3  0.999361              company\n",
       "1026       4  0.999620              contact\n",
       "16         1  0.999652              control\n",
       "...      ...       ...                  ...\n",
       "8695       5  0.999724      tell_cleverclog\n",
       "1092       5  0.999821                tesla\n",
       "718        4  0.999352                thank\n",
       "943        2  0.999414                thing\n",
       "701        2  0.999528                think\n",
       "5          5  0.999852                 time\n",
       "70         2  0.999767                today\n",
       "281        4  0.999615                  top\n",
       "3151       4  0.999878              traffic\n",
       "518        2  0.999882                  try\n",
       "398        5  0.999336                 turn\n",
       "1115       5  0.999046           understand\n",
       "21         1  0.999753                  use\n",
       "21         2  0.000151                  use\n",
       "644        3  0.999419                 user\n",
       "821        2  0.999719                video\n",
       "14         1  0.999940                voice\n",
       "259        3  0.999462           voicefirst\n",
       "159        2  0.999594                 want\n",
       "302        2  0.999596                  way\n",
       "968        4  0.999837              website\n",
       "72568      1  0.052364        website_score\n",
       "72568      2  0.052189        website_score\n",
       "72568      3  0.109265        website_score\n",
       "72568      4  0.728203        website_score\n",
       "72568      5  0.058124        website_score\n",
       "2266       3  0.999217                 week\n",
       "502        3  0.999537                  win\n",
       "268        5  0.999078               window\n",
       "100        1  0.999843                 work\n",
       "\n",
       "[205 rows x 3 columns], R=30, lambda_step=0.01, plot_opts={'xlab': 'PC1', 'ylab': 'PC2'}, topic_order=[4, 2, 5, 1, 3])"
      ]
     },
     "execution_count": 77,
     "metadata": {},
     "output_type": "execute_result"
    }
   ],
   "source": [
    "# Visualize the topics\n",
    "pyLDAvis.enable_notebook()\n",
    "vis = pyLDAvis.gensim.prepare(lda_model, corpus, id2word)\n",
    "vis"
   ]
  },
  {
   "cell_type": "markdown",
   "metadata": {},
   "source": [
    "Building LDA Mallet Model"
   ]
  },
  {
   "cell_type": "code",
   "execution_count": 65,
   "metadata": {},
   "outputs": [],
   "source": [
    "# Download File: http://mallet.cs.umass.edu/dist/mallet-2.0.8.zip\n",
    "mallet_path = '../mallet-2.0.8/bin/mallet' # update this path\n",
    "ldamallet = gensim.models.wrappers.LdaMallet(mallet_path, corpus=corpus, num_topics=11, id2word=id2word)"
   ]
  },
  {
   "cell_type": "code",
   "execution_count": 66,
   "metadata": {
    "scrolled": true
   },
   "outputs": [
    {
     "name": "stdout",
     "output_type": "stream",
     "text": [
      "[(1,\n",
      "  [('home', 0.05892507768442859),\n",
      "   ('smart', 0.05311313154563241),\n",
      "   ('device', 0.045920128898607436),\n",
      "   ('work', 0.031476579583381285),\n",
      "   ('microsoft', 0.03009552307515249),\n",
      "   ('googlehome', 0.029428012429508574),\n",
      "   ('speaker', 0.029370468408332375),\n",
      "   ('control', 0.025756703878467027),\n",
      "   ('live', 0.020025319369317528),\n",
      "   ('window', 0.016342502014040743)]),\n",
      " (5,\n",
      "  [('play', 0.06139962037258044),\n",
      "   ('music', 0.03399597640399632),\n",
      "   ('listen', 0.028096975483342994),\n",
      "   ('good', 0.027801457132790034),\n",
      "   ('love', 0.024721246632795717),\n",
      "   ('hear', 0.022277537195530852),\n",
      "   ('kid', 0.01821984292063059),\n",
      "   ('commercial', 0.017856128027642332),\n",
      "   ('song', 0.016469464998124596),\n",
      "   ('superbowl', 0.016287607551630466)]),\n",
      " (0,\n",
      "  [('call', 0.02677589814519275),\n",
      "   ('turn', 0.024045111182040644),\n",
      "   ('ce', 0.02395053847336005),\n",
      "   ('set', 0.01789788511780213),\n",
      "   ('year', 0.017673274934685724),\n",
      "   ('tell_cleverclog', 0.01656204560768876),\n",
      "   ('phone', 0.01606553888711565),\n",
      "   ('light', 0.014209549479259023),\n",
      "   ('talk', 0.012400846425742691),\n",
      "   ('start', 0.01228263053989195)]),\n",
      " (3,\n",
      "  [('amazon', 0.22877442682603838),\n",
      "   ('amazonecho', 0.09584182586566253),\n",
      "   ('echo', 0.08818415264679126),\n",
      "   ('dot', 0.0335555785861517),\n",
      "   ('smarthome', 0.033405879711196323),\n",
      "   ('homeautomation', 0.02366393754102325),\n",
      "   ('upgrade', 0.02131481673403116),\n",
      "   ('supercool_stand', 0.019219032484655865),\n",
      "   ('amazonalexa', 0.01871235936942228),\n",
      "   ('buy', 0.01634020796628321)]),\n",
      " (7,\n",
      "  [('make', 0.032725080955870185),\n",
      "   ('good', 0.025894060084619565),\n",
      "   ('give', 0.02145035100574373),\n",
      "   ('win', 0.016841184673931028),\n",
      "   ('free', 0.014702058760961543),\n",
      "   ('game', 0.014134776750892288),\n",
      "   ('today', 0.013957501122745644),\n",
      "   ('day', 0.011298366700546009),\n",
      "   ('tv', 0.011002907320301606),\n",
      "   ('great', 0.01024653130687593)]),\n",
      " (2,\n",
      "  [('show', 0.027132830960582156),\n",
      "   ('google', 0.024722852474048648),\n",
      "   ('search', 0.01587059003326946),\n",
      "   ('rank', 0.015847078048034986),\n",
      "   ('read', 0.013084419782984377),\n",
      "   ('state_talkradio', 0.012520132137357018),\n",
      "   ('technology', 0.012437840189036362),\n",
      "   ('team', 0.011238728942078224),\n",
      "   ('work', 0.010286493540082056),\n",
      "   ('marketing', 0.010051373687737324)]),\n",
      " (6,\n",
      "  [('voice', 0.12241970192077788),\n",
      "   ('amazon', 0.06664085894180738),\n",
      "   ('assistant', 0.0610959933507156),\n",
      "   ('news', 0.03231278962529461),\n",
      "   ('late', 0.019993396258638947),\n",
      "   ('business', 0.01739744275808674),\n",
      "   ('digital', 0.017044484168099373),\n",
      "   ('googleassistant', 0.01649796764166733),\n",
      "   ('user', 0.015609878286215259),\n",
      "   ('launch', 0.015598492525247925)]),\n",
      " (9,\n",
      "  [('ai', 0.09237113402061856),\n",
      "   ('tech', 0.03554410080183276),\n",
      "   ('amazon', 0.02849942726231386),\n",
      "   ('iot', 0.026563573883161513),\n",
      "   ('technology', 0.023298969072164947),\n",
      "   ('future', 0.01765177548682703),\n",
      "   ('conversation', 0.014421534936998855),\n",
      "   ('send', 0.013161512027491409),\n",
      "   ('privacy', 0.01304696449026346),\n",
      "   ('voicefirst', 0.012073310423825888)]),\n",
      " (8,\n",
      "  [('skill', 0.08559348611385362),\n",
      "   ('build', 0.021488390461477703),\n",
      "   ('learn', 0.02105862265224815),\n",
      "   ('today', 0.01749271137026239),\n",
      "   ('create', 0.014832797091517313),\n",
      "   ('great', 0.01429849116652922),\n",
      "   ('enable', 0.013694493164368764),\n",
      "   ('check', 0.013659647125782584),\n",
      "   ('fun', 0.012718804083955723),\n",
      "   ('alexadevs', 0.012277420928530776)]),\n",
      " (10,\n",
      "  [('time', 0.038934918004685445),\n",
      "   ('make', 0.0340323410090852),\n",
      "   ('thing', 0.024547168733215243),\n",
      "   ('laugh', 0.023038683503799784),\n",
      "   ('people', 0.02254728301239929),\n",
      "   ('talk', 0.021027369864579166),\n",
      "   ('question', 0.01790754814010628),\n",
      "   ('answer', 0.016433346665904805),\n",
      "   ('day', 0.015359122335866521),\n",
      "   ('life', 0.01495914519170333)])]\n",
      "\n",
      "Coherence Score:  0.409072906571606\n"
     ]
    }
   ],
   "source": [
    "# Show Topics\n",
    "pprint(ldamallet.show_topics(formatted=False))\n",
    "\n",
    "# Compute Coherence Score\n",
    "coherence_model_ldamallet = CoherenceModel(model=ldamallet, texts=data_lemmatized, dictionary=id2word, coherence='c_v')\n",
    "coherence_ldamallet = coherence_model_ldamallet.get_coherence()\n",
    "print('\\nCoherence Score: ', coherence_ldamallet)"
   ]
  },
  {
   "cell_type": "markdown",
   "metadata": {},
   "source": [
    "How to find the optimal number of topics for LDA?"
   ]
  },
  {
   "cell_type": "code",
   "execution_count": 57,
   "metadata": {},
   "outputs": [],
   "source": [
    "def compute_coherence_values(dictionary, corpus, texts, limit, start=2, step=3):\n",
    "    \"\"\"\n",
    "    Compute c_v coherence for various number of topics\n",
    "\n",
    "    Parameters:\n",
    "    ----------\n",
    "    dictionary : Gensim dictionary\n",
    "    corpus : Gensim corpus\n",
    "    texts : List of input texts\n",
    "    limit : Max num of topics\n",
    "\n",
    "    Returns:\n",
    "    -------\n",
    "    model_list : List of LDA topic models\n",
    "    coherence_values : Coherence values corresponding to the LDA model with respective number of topics\n",
    "    \"\"\"\n",
    "    coherence_values = []\n",
    "    model_list = []\n",
    "    for num_topics in range(start, limit, step):\n",
    "        model = gensim.models.wrappers.LdaMallet(mallet_path, corpus=corpus, num_topics=num_topics, id2word=id2word)\n",
    "        model_list.append(model)\n",
    "        coherencemodel = CoherenceModel(model=model, texts=texts, dictionary=dictionary, coherence='c_v')\n",
    "        coherence_values.append(coherencemodel.get_coherence())\n",
    "\n",
    "    return model_list, coherence_values"
   ]
  },
  {
   "cell_type": "code",
   "execution_count": 61,
   "metadata": {},
   "outputs": [],
   "source": [
    "# Can take a long time to run.\n",
    "model_list, coherence_values = compute_coherence_values(dictionary=id2word, corpus=corpus, texts=data_lemmatized, start=1, limit=20, step=1)"
   ]
  },
  {
   "cell_type": "code",
   "execution_count": 63,
   "metadata": {},
   "outputs": [
    {
     "data": {
      "image/png": "[encoded data removed]",
      "text/plain": [
       "<matplotlib.figure.Figure at 0x1a3a591dd8>"
      ]
     },
     "metadata": {},
     "output_type": "display_data"
    }
   ],
   "source": [
    "# Show graph\n",
    "limit=20; start=1; step=1;\n",
    "x = range(start, limit, step)\n",
    "plt.plot(x, coherence_values)\n",
    "plt.xlabel(\"Num Topics\")\n",
    "plt.ylabel(\"Coherence score\")\n",
    "plt.legend((\"coherence_values\"), loc='best')\n",
    "plt.show()"
   ]
  },
  {
   "cell_type": "code",
   "execution_count": 64,
   "metadata": {},
   "outputs": [
    {
     "name": "stdout",
     "output_type": "stream",
     "text": [
      "Num Topics = 1  has Coherence Value of 0.1544\n",
      "Num Topics = 2  has Coherence Value of 0.1576\n",
      "Num Topics = 3  has Coherence Value of 0.2317\n",
      "Num Topics = 4  has Coherence Value of 0.2687\n",
      "Num Topics = 5  has Coherence Value of 0.3661\n",
      "Num Topics = 6  has Coherence Value of 0.3725\n",
      "Num Topics = 7  has Coherence Value of 0.4039\n",
      "Num Topics = 8  has Coherence Value of 0.4062\n",
      "Num Topics = 9  has Coherence Value of 0.414\n",
      "Num Topics = 10  has Coherence Value of 0.4065\n",
      "Num Topics = 11  has Coherence Value of 0.4238\n",
      "Num Topics = 12  has Coherence Value of 0.4148\n",
      "Num Topics = 13  has Coherence Value of 0.4195\n",
      "Num Topics = 14  has Coherence Value of 0.41\n",
      "Num Topics = 15  has Coherence Value of 0.4201\n",
      "Num Topics = 16  has Coherence Value of 0.391\n",
      "Num Topics = 17  has Coherence Value of 0.4059\n",
      "Num Topics = 18  has Coherence Value of 0.4155\n",
      "Num Topics = 19  has Coherence Value of 0.4153\n"
     ]
    }
   ],
   "source": [
    "# Print the coherence scores\n",
    "for m, cv in zip(x, coherence_values):\n",
    "    print(\"Num Topics =\", m, \" has Coherence Value of\", round(cv, 4))"
   ]
  },
  {
   "cell_type": "code",
   "execution_count": null,
   "metadata": {},
   "outputs": [],
   "source": []
  }
 ],
 "metadata": {
  "kernelspec": {
   "display_name": "Python 3",
   "language": "python",
   "name": "python3"
  },
  "language_info": {
   "codemirror_mode": {
    "name": "ipython",
    "version": 3
   },
   "file_extension": ".py",
   "mimetype": "text/x-python",
   "name": "python",
   "nbconvert_exporter": "python",
   "pygments_lexer": "ipython3",
   "version": "3.6.4"
  }
 },
 "nbformat": 4,
 "nbformat_minor": 2
}
