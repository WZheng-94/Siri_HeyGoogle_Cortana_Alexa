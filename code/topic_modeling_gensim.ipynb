{
 "cells": [
  {
   "cell_type": "markdown",
   "metadata": {},
   "source": [
    "Prerequisites – Download nltk stopwords and spacy model"
   ]
  },
  {
   "cell_type": "code",
   "execution_count": 1,
   "metadata": {},
   "outputs": [
    {
     "name": "stdout",
     "output_type": "stream",
     "text": [
      "[nltk_data] Downloading package stopwords to\n",
      "[nltk_data]     /Users/weiweizheng/nltk_data...\n",
      "[nltk_data]   Package stopwords is already up-to-date!\n"
     ]
    },
    {
     "data": {
      "text/plain": [
       "True"
      ]
     },
     "execution_count": 1,
     "metadata": {},
     "output_type": "execute_result"
    }
   ],
   "source": [
    "import nltk; nltk.download('stopwords')"
   ]
  },
  {
   "cell_type": "markdown",
   "metadata": {},
   "source": [
    "Import Packages"
   ]
  },
  {
   "cell_type": "code",
   "execution_count": 2,
   "metadata": {},
   "outputs": [],
   "source": [
    "import re\n",
    "import numpy as np\n",
    "import pandas as pd\n",
    "from pprint import pprint\n",
    "\n",
    "# Gensim\n",
    "import gensim\n",
    "import gensim.corpora as corpora\n",
    "from gensim.utils import simple_preprocess\n",
    "from gensim.models import CoherenceModel\n",
    "\n",
    "# spacy for lemmatization\n",
    "import spacy\n",
    "\n",
    "# Plotting tools\n",
    "import pyLDAvis\n",
    "import pyLDAvis.gensim  # don't skip this\n",
    "import matplotlib.pyplot as plt\n",
    "%matplotlib inline\n",
    "\n",
    "# Enable logging for gensim - optional\n",
    "import logging\n",
    "logging.basicConfig(format='%(asctime)s : %(levelname)s : %(message)s', level=logging.ERROR)\n",
    "\n",
    "import warnings\n",
    "warnings.filterwarnings(\"ignore\",category=DeprecationWarning)"
   ]
  },
  {
   "cell_type": "markdown",
   "metadata": {},
   "source": [
    "prepare stopwords"
   ]
  },
  {
   "cell_type": "code",
   "execution_count": 3,
   "metadata": {},
   "outputs": [],
   "source": [
    "from nltk.corpus import stopwords\n",
    "stop_words = stopwords.words('english')\n",
    "stop_words.extend(['alexa', 'siri', 'heygoogle', 'cortana','would','could'])\n",
    "# stop_words.extend(['alexa', 'siri', 'heygoogle', 'cortana', 'apple', 'google', 'amazon', 'microsoft'])"
   ]
  },
  {
   "cell_type": "code",
   "execution_count": 4,
   "metadata": {},
   "outputs": [
    {
     "data": {
      "text/plain": [
       "['i',\n",
       " 'me',\n",
       " 'my',\n",
       " 'myself',\n",
       " 'we',\n",
       " 'our',\n",
       " 'ours',\n",
       " 'ourselves',\n",
       " 'you',\n",
       " \"you're\",\n",
       " \"you've\",\n",
       " \"you'll\",\n",
       " \"you'd\",\n",
       " 'your',\n",
       " 'yours',\n",
       " 'yourself',\n",
       " 'yourselves',\n",
       " 'he',\n",
       " 'him',\n",
       " 'his',\n",
       " 'himself',\n",
       " 'she',\n",
       " \"she's\",\n",
       " 'her',\n",
       " 'hers',\n",
       " 'herself',\n",
       " 'it',\n",
       " \"it's\",\n",
       " 'its',\n",
       " 'itself',\n",
       " 'they',\n",
       " 'them',\n",
       " 'their',\n",
       " 'theirs',\n",
       " 'themselves',\n",
       " 'what',\n",
       " 'which',\n",
       " 'who',\n",
       " 'whom',\n",
       " 'this',\n",
       " 'that',\n",
       " \"that'll\",\n",
       " 'these',\n",
       " 'those',\n",
       " 'am',\n",
       " 'is',\n",
       " 'are',\n",
       " 'was',\n",
       " 'were',\n",
       " 'be',\n",
       " 'been',\n",
       " 'being',\n",
       " 'have',\n",
       " 'has',\n",
       " 'had',\n",
       " 'having',\n",
       " 'do',\n",
       " 'does',\n",
       " 'did',\n",
       " 'doing',\n",
       " 'a',\n",
       " 'an',\n",
       " 'the',\n",
       " 'and',\n",
       " 'but',\n",
       " 'if',\n",
       " 'or',\n",
       " 'because',\n",
       " 'as',\n",
       " 'until',\n",
       " 'while',\n",
       " 'of',\n",
       " 'at',\n",
       " 'by',\n",
       " 'for',\n",
       " 'with',\n",
       " 'about',\n",
       " 'against',\n",
       " 'between',\n",
       " 'into',\n",
       " 'through',\n",
       " 'during',\n",
       " 'before',\n",
       " 'after',\n",
       " 'above',\n",
       " 'below',\n",
       " 'to',\n",
       " 'from',\n",
       " 'up',\n",
       " 'down',\n",
       " 'in',\n",
       " 'out',\n",
       " 'on',\n",
       " 'off',\n",
       " 'over',\n",
       " 'under',\n",
       " 'again',\n",
       " 'further',\n",
       " 'then',\n",
       " 'once',\n",
       " 'here',\n",
       " 'there',\n",
       " 'when',\n",
       " 'where',\n",
       " 'why',\n",
       " 'how',\n",
       " 'all',\n",
       " 'any',\n",
       " 'both',\n",
       " 'each',\n",
       " 'few',\n",
       " 'more',\n",
       " 'most',\n",
       " 'other',\n",
       " 'some',\n",
       " 'such',\n",
       " 'no',\n",
       " 'nor',\n",
       " 'not',\n",
       " 'only',\n",
       " 'own',\n",
       " 'same',\n",
       " 'so',\n",
       " 'than',\n",
       " 'too',\n",
       " 'very',\n",
       " 's',\n",
       " 't',\n",
       " 'can',\n",
       " 'will',\n",
       " 'just',\n",
       " 'don',\n",
       " \"don't\",\n",
       " 'should',\n",
       " \"should've\",\n",
       " 'now',\n",
       " 'd',\n",
       " 'll',\n",
       " 'm',\n",
       " 'o',\n",
       " 're',\n",
       " 've',\n",
       " 'y',\n",
       " 'ain',\n",
       " 'aren',\n",
       " \"aren't\",\n",
       " 'couldn',\n",
       " \"couldn't\",\n",
       " 'didn',\n",
       " \"didn't\",\n",
       " 'doesn',\n",
       " \"doesn't\",\n",
       " 'hadn',\n",
       " \"hadn't\",\n",
       " 'hasn',\n",
       " \"hasn't\",\n",
       " 'haven',\n",
       " \"haven't\",\n",
       " 'isn',\n",
       " \"isn't\",\n",
       " 'ma',\n",
       " 'mightn',\n",
       " \"mightn't\",\n",
       " 'mustn',\n",
       " \"mustn't\",\n",
       " 'needn',\n",
       " \"needn't\",\n",
       " 'shan',\n",
       " \"shan't\",\n",
       " 'shouldn',\n",
       " \"shouldn't\",\n",
       " 'wasn',\n",
       " \"wasn't\",\n",
       " 'weren',\n",
       " \"weren't\",\n",
       " 'won',\n",
       " \"won't\",\n",
       " 'wouldn',\n",
       " \"wouldn't\",\n",
       " 'alexa',\n",
       " 'siri',\n",
       " 'heygoogle',\n",
       " 'cortana',\n",
       " 'would',\n",
       " 'could']"
      ]
     },
     "execution_count": 4,
     "metadata": {},
     "output_type": "execute_result"
    }
   ],
   "source": [
    "stop_words"
   ]
  },
  {
   "cell_type": "markdown",
   "metadata": {},
   "source": [
    "convert data to list"
   ]
  },
  {
   "cell_type": "code",
   "execution_count": 5,
   "metadata": {},
   "outputs": [],
   "source": [
    "df = pd.read_csv('../data/text_071031_180729.csv', names = ['text'])\n",
    "df = df.drop_duplicates()\n",
    "data = df['text'].tolist()"
   ]
  },
  {
   "cell_type": "code",
   "execution_count": 6,
   "metadata": {},
   "outputs": [
    {
     "data": {
      "text/html": [
       "<div>\n",
       "<style scoped>\n",
       "    .dataframe tbody tr th:only-of-type {\n",
       "        vertical-align: middle;\n",
       "    }\n",
       "\n",
       "    .dataframe tbody tr th {\n",
       "        vertical-align: top;\n",
       "    }\n",
       "\n",
       "    .dataframe thead th {\n",
       "        text-align: right;\n",
       "    }\n",
       "</style>\n",
       "<table border=\"1\" class=\"dataframe\">\n",
       "  <thead>\n",
       "    <tr style=\"text-align: right;\">\n",
       "      <th></th>\n",
       "      <th>text</th>\n",
       "    </tr>\n",
       "  </thead>\n",
       "  <tbody>\n",
       "    <tr>\n",
       "      <th>0</th>\n",
       "      <td>interesting times, interesting questions ! Ale...</td>\n",
       "    </tr>\n",
       "    <tr>\n",
       "      <th>4</th>\n",
       "      <td>IOT NEWS: Not everyone likes digital voice ass...</td>\n",
       "    </tr>\n",
       "    <tr>\n",
       "      <th>5</th>\n",
       "      <td>Did you know that you can control your @dishne...</td>\n",
       "    </tr>\n",
       "    <tr>\n",
       "      <th>8</th>\n",
       "      <td>.@808_Audio wireless #speaker features #Alexa ...</td>\n",
       "    </tr>\n",
       "    <tr>\n",
       "      <th>9</th>\n",
       "      <td>@BigstickCarpet Awesome! I'm doing a workshop ...</td>\n",
       "    </tr>\n",
       "  </tbody>\n",
       "</table>\n",
       "</div>"
      ],
      "text/plain": [
       "                                                text\n",
       "0  interesting times, interesting questions ! Ale...\n",
       "4  IOT NEWS: Not everyone likes digital voice ass...\n",
       "5  Did you know that you can control your @dishne...\n",
       "8  .@808_Audio wireless #speaker features #Alexa ...\n",
       "9  @BigstickCarpet Awesome! I'm doing a workshop ..."
      ]
     },
     "execution_count": 6,
     "metadata": {},
     "output_type": "execute_result"
    }
   ],
   "source": [
    "df.head()"
   ]
  },
  {
   "cell_type": "code",
   "execution_count": 7,
   "metadata": {},
   "outputs": [
    {
     "data": {
      "text/plain": [
       "(128788, 1)"
      ]
     },
     "execution_count": 7,
     "metadata": {},
     "output_type": "execute_result"
    }
   ],
   "source": [
    "df.shape"
   ]
  },
  {
   "cell_type": "markdown",
   "metadata": {},
   "source": [
    "Tokenize words and Clean-up text"
   ]
  },
  {
   "cell_type": "code",
   "execution_count": 8,
   "metadata": {},
   "outputs": [
    {
     "name": "stdout",
     "output_type": "stream",
     "text": [
      "[['interesting', 'times', 'interesting', 'questions', 'alexa', 'are', 'you', 'safe', 'for', 'my', 'kids', 'ai', 'alexa']]\n"
     ]
    }
   ],
   "source": [
    "def sent_to_words(sentences):\n",
    "    for sentence in sentences:\n",
    "        yield(gensim.utils.simple_preprocess(str(sentence), deacc=True))  # deacc=True removes punctuations\n",
    "\n",
    "data_words = list(sent_to_words(data))\n",
    "\n",
    "print(data_words[:1])"
   ]
  },
  {
   "cell_type": "markdown",
   "metadata": {},
   "source": [
    "Creating Bigram and Trigram Models"
   ]
  },
  {
   "cell_type": "code",
   "execution_count": 9,
   "metadata": {},
   "outputs": [
    {
     "name": "stderr",
     "output_type": "stream",
     "text": [
      "/Users/weiweizheng/anaconda3/lib/python3.6/site-packages/gensim/models/phrases.py:494: UserWarning: For a faster implementation, use the gensim.models.phrases.Phraser class\n",
      "  warnings.warn(\"For a faster implementation, use the gensim.models.phrases.Phraser class\")\n"
     ]
    },
    {
     "name": "stdout",
     "output_type": "stream",
     "text": [
      "['interesting', 'times', 'interesting', 'questions', 'alexa', 'are', 'you', 'safe', 'for', 'my', 'kids', 'ai', 'alexa']\n"
     ]
    }
   ],
   "source": [
    "# Build the bigram and trigram models\n",
    "bigram = gensim.models.Phrases(data_words, min_count=200, threshold=100) # higher threshold fewer phrases.\n",
    "trigram = gensim.models.Phrases(bigram[data_words], threshold=100)  \n",
    "\n",
    "# Faster way to get a sentence clubbed as a trigram/bigram\n",
    "bigram_mod = gensim.models.phrases.Phraser(bigram)\n",
    "trigram_mod = gensim.models.phrases.Phraser(trigram)\n",
    "\n",
    "# See trigram example\n",
    "print(trigram_mod[bigram_mod[data_words[0]]])"
   ]
  },
  {
   "cell_type": "markdown",
   "metadata": {},
   "source": [
    "Remove Stopwords, Make Bigrams and Lemmatize"
   ]
  },
  {
   "cell_type": "code",
   "execution_count": 10,
   "metadata": {},
   "outputs": [],
   "source": [
    "# Define functions for stopwords, bigrams, trigrams and lemmatization\n",
    "def remove_stopwords(texts):\n",
    "    return [[word for word in simple_preprocess(str(doc)) if word not in stop_words] for doc in texts]\n",
    "\n",
    "def make_bigrams(texts):\n",
    "    return [bigram_mod[doc] for doc in texts]\n",
    "\n",
    "def make_trigrams(texts):\n",
    "    return [trigram_mod[bigram_mod[doc]] for doc in texts]\n",
    "\n",
    "def lemmatization(texts, allowed_postags=['NOUN', 'ADJ', 'VERB', 'ADV']):\n",
    "    \"\"\"https://spacy.io/api/annotation\"\"\"\n",
    "    texts_out = []\n",
    "    for sent in texts:\n",
    "        doc = nlp(\" \".join(sent)) \n",
    "        texts_out.append([token.lemma_ for token in doc if token.pos_ in allowed_postags])\n",
    "    return texts_out"
   ]
  },
  {
   "cell_type": "code",
   "execution_count": 11,
   "metadata": {},
   "outputs": [
    {
     "name": "stdout",
     "output_type": "stream",
     "text": [
      "[['interesting', 'time', 'interesting', 'question', 'safe', 'kid', 'ai']]\n"
     ]
    }
   ],
   "source": [
    "# Remove Stop Words\n",
    "data_words_nostops = remove_stopwords(data_words)\n",
    "\n",
    "# Form Bigrams\n",
    "data_words_bigrams = make_bigrams(data_words_nostops)\n",
    "\n",
    "# Initialize spacy 'en' model, keeping only tagger component (for efficiency)\n",
    "# python3 -m spacy download en\n",
    "nlp = spacy.load('en', disable=['parser', 'ner'])\n",
    "\n",
    "# Do lemmatization keeping only noun, adj, vb, adv\n",
    "data_lemmatized = lemmatization(data_words_bigrams, allowed_postags=['NOUN', 'ADJ', 'VERB', 'ADV'])\n",
    "\n",
    "print(data_lemmatized[:1])"
   ]
  },
  {
   "cell_type": "markdown",
   "metadata": {},
   "source": [
    "Create the Dictionary and Corpus needed for Topic Modeling"
   ]
  },
  {
   "cell_type": "code",
   "execution_count": 12,
   "metadata": {},
   "outputs": [
    {
     "name": "stdout",
     "output_type": "stream",
     "text": [
      "[[(0, 1), (1, 2), (2, 1), (3, 1), (4, 1), (5, 1)]]\n"
     ]
    }
   ],
   "source": [
    "# Create Dictionary\n",
    "id2word = corpora.Dictionary(data_lemmatized)\n",
    "\n",
    "# Create Corpus\n",
    "texts = data_lemmatized\n",
    "\n",
    "# Term Document Frequency\n",
    "corpus = [id2word.doc2bow(text) for text in texts]\n",
    "\n",
    "# View\n",
    "print(corpus[:1])"
   ]
  },
  {
   "cell_type": "code",
   "execution_count": 13,
   "metadata": {},
   "outputs": [
    {
     "data": {
      "text/plain": [
       "'ai'"
      ]
     },
     "execution_count": 13,
     "metadata": {},
     "output_type": "execute_result"
    }
   ],
   "source": [
    "id2word[0]"
   ]
  },
  {
   "cell_type": "code",
   "execution_count": 14,
   "metadata": {},
   "outputs": [
    {
     "data": {
      "text/plain": [
       "[[('ai', 1),\n",
       "  ('interesting', 2),\n",
       "  ('kid', 1),\n",
       "  ('question', 1),\n",
       "  ('safe', 1),\n",
       "  ('time', 1)]]"
      ]
     },
     "execution_count": 14,
     "metadata": {},
     "output_type": "execute_result"
    }
   ],
   "source": [
    "# Human readable format of corpus (term-frequency)\n",
    "[[(id2word[id], freq) for id, freq in cp] for cp in corpus[:1]]\n"
   ]
  },
  {
   "cell_type": "markdown",
   "metadata": {},
   "source": [
    "Building the Topic Model"
   ]
  },
  {
   "cell_type": "code",
   "execution_count": null,
   "metadata": {},
   "outputs": [],
   "source": [
    "# Build LDA model\n",
    "lda_model = gensim.models.ldamodel.LdaModel(corpus=corpus,\n",
    "                                           id2word=id2word,\n",
    "                                           num_topics=37, \n",
    "                                           random_state=100,\n",
    "                                           update_every=1,\n",
    "                                           chunksize=500,\n",
    "                                           passes=10,\n",
    "                                           alpha='auto',\n",
    "                                           per_word_topics=True)"
   ]
  },
  {
   "cell_type": "markdown",
   "metadata": {},
   "source": [
    " View the topics in LDA model"
   ]
  },
  {
   "cell_type": "code",
   "execution_count": null,
   "metadata": {},
   "outputs": [],
   "source": [
    "# Print the Keyword in the 30 topics\n",
    "pprint(lda_model.print_topics(num_words = 20))\n",
    "doc_lda = lda_model[corpus]"
   ]
  },
  {
   "cell_type": "markdown",
   "metadata": {},
   "source": [
    "Compute Model Perplexity and Coherence Score"
   ]
  },
  {
   "cell_type": "code",
   "execution_count": null,
   "metadata": {},
   "outputs": [],
   "source": [
    "# Compute Perplexity\n",
    "print('\\nPerplexity: ', lda_model.log_perplexity(corpus))  # a measure of how good the model is. lower the better.\n",
    "\n",
    "# Compute Coherence Score\n",
    "coherence_model_lda = CoherenceModel(model=lda_model, texts=data_lemmatized, dictionary=id2word, coherence='c_v')\n",
    "coherence_lda = coherence_model_lda.get_coherence()\n",
    "print('\\nCoherence Score: ', coherence_lda)"
   ]
  },
  {
   "cell_type": "markdown",
   "metadata": {},
   "source": [
    "Visualize the topics-keywords"
   ]
  },
  {
   "cell_type": "code",
   "execution_count": null,
   "metadata": {},
   "outputs": [],
   "source": [
    "# Visualize the topics\n",
    "pyLDAvis.enable_notebook()\n",
    "vis = pyLDAvis.gensim.prepare(lda_model, corpus, id2word)\n",
    "vis"
   ]
  },
  {
   "cell_type": "markdown",
   "metadata": {},
   "source": [
    "Building LDA Mallet Model"
   ]
  },
  {
   "cell_type": "code",
   "execution_count": 25,
   "metadata": {},
   "outputs": [],
   "source": [
    "# Download File: http://mallet.cs.umass.edu/dist/mallet-2.0.8.zip\n",
    "mallet_path = '../mallet-2.0.8/bin/mallet' # update this path\n",
    "ldamallet = gensim.models.wrappers.LdaMallet(mallet_path, corpus=corpus, num_topics=37, id2word=id2word)"
   ]
  },
  {
   "cell_type": "code",
   "execution_count": 26,
   "metadata": {
    "scrolled": true
   },
   "outputs": [
    {
     "name": "stdout",
     "output_type": "stream",
     "text": [
      "[(35,\n",
      "  [('googlehome', 0.10358936963215037),\n",
      "   ('googleassistant', 0.08669583535893696),\n",
      "   ('late', 0.07502835845081834),\n",
      "   ('live', 0.06186193485658726),\n",
      "   ('assistant', 0.04521147301895965),\n",
      "   ('smartspeaker', 0.022565224436882192),\n",
      "   ('daily', 0.022443688219089288),\n",
      "   ('night', 0.018351968886728246),\n",
      "   ('join', 0.016042780748663103),\n",
      "   ('tonight', 0.014624858207745908),\n",
      "   ('pm', 0.01405768919137903),\n",
      "   ('bixby', 0.012680278723059471),\n",
      "   ('djdurrant', 0.011991573488899692),\n",
      "   ('googlehomemini', 0.01187003727110679),\n",
      "   ('weekend', 0.011707988980716254),\n",
      "   ('catch', 0.01118133203694701),\n",
      "   ('ndcityapp', 0.009884945713822719),\n",
      "   ('okgoogle', 0.009439312915248745),\n",
      "   ('tunein', 0.00830497488251499),\n",
      "   ('sunday', 0.008142926592124454)]),\n",
      " (10,\n",
      "  [('ai', 0.22473812294995238),\n",
      "   ('assistant', 0.07681726801396678),\n",
      "   ('iot', 0.057948012555990545),\n",
      "   ('chatbot', 0.025852643459245934),\n",
      "   ('datum', 0.02564102564102564),\n",
      "   ('cloud', 0.024406588368073925),\n",
      "   ('machinelearn', 0.024371318731703877),\n",
      "   ('personal', 0.023383768913342505),\n",
      "   ('virtual', 0.0198568052763376),\n",
      "   ('bot', 0.01915141254893662),\n",
      "   ('digital', 0.014989595457270835),\n",
      "   ('bigdata', 0.014601629457200296),\n",
      "   ('nlp', 0.012802878002327796),\n",
      "   ('tech', 0.012379642365887207),\n",
      "   ('machinelearning', 0.01227383345677706),\n",
      "   ('ml', 0.011780058547596374),\n",
      "   ('facebook', 0.011251014002045638),\n",
      "   ('conversational', 0.011074665820195393),\n",
      "   ('analytic', 0.00976968927450358),\n",
      "   ('deeplearn', 0.009452262547173138)]),\n",
      " (27,\n",
      "  [('great', 0.0484304213607024),\n",
      "   ('find', 0.04818987291023533),\n",
      "   ('world', 0.03323577757286614),\n",
      "   ('top', 0.029587459407448984),\n",
      "   ('product', 0.028023894479413062),\n",
      "   ('make', 0.026901335043900094),\n",
      "   ('people', 0.026099506875676543),\n",
      "   ('run', 0.021288537866335243),\n",
      "   ('back', 0.016958665757928076),\n",
      "   ('awesome', 0.015996471956059816),\n",
      "   ('super', 0.012708976466343263),\n",
      "   ('accord', 0.011385959988774405),\n",
      "   ('head', 0.011345868580363228),\n",
      "   ('task', 0.011185502946718518),\n",
      "   ('key', 0.011025137313073809),\n",
      "   ('nicebotskill', 0.010664314637373211),\n",
      "   ('ring', 0.009742212243916129),\n",
      "   ('household', 0.009221023934570822),\n",
      "   ('leave', 0.009020566892514934),\n",
      "   ('artificial_intelligence', 0.008379104357936094)]),\n",
      " (3,\n",
      "  [('skill', 0.242053952991453),\n",
      "   ('build', 0.050046741452991456),\n",
      "   ('create', 0.04470486111111111),\n",
      "   ('developer', 0.03502270299145299),\n",
      "   ('alexadevs', 0.0343215811965812),\n",
      "   ('voicefirst', 0.019831730769230768),\n",
      "   ('alexaskill', 0.019130608974358976),\n",
      "   ('custom', 0.01328792735042735),\n",
      "   ('vui', 0.013187767094017094),\n",
      "   ('develop', 0.01295405982905983),\n",
      "   ('blueprint', 0.011017628205128206),\n",
      "   ('experience', 0.010550213675213676),\n",
      "   ('kit', 0.010216346153846154),\n",
      "   ('development', 0.009982638888888888),\n",
      "   ('building', 0.009748931623931624),\n",
      "   ('code', 0.009281517094017094),\n",
      "   ('learn', 0.008814102564102564),\n",
      "   ('session', 0.00797943376068376),\n",
      "   ('dev', 0.007845886752136752),\n",
      "   ('workshop', 0.007745726495726496)]),\n",
      " (14,\n",
      "  [('amazon', 0.05638745905474965),\n",
      "   ('game', 0.05279987521447512),\n",
      "   ('year', 0.04617064420527219),\n",
      "   ('car', 0.03965839962564342),\n",
      "   ('bring', 0.03271720480424271),\n",
      "   ('world', 0.020121665886757137),\n",
      "   ('smartphone', 0.01918577445016378),\n",
      "   ('finally', 0.01918577445016378),\n",
      "   ('end', 0.01867883325534238),\n",
      "   ('hand', 0.015364217750740913),\n",
      "   ('drive', 0.015091249415067853),\n",
      "   ('canada', 0.01493526750896896),\n",
      "   ('grow', 0.013882389642801436),\n",
      "   ('early', 0.01306348463578225),\n",
      "   ('arrive', 0.01220558415223834),\n",
      "   ('startup', 0.012010606769614724),\n",
      "   ('expect', 0.010489783185150522),\n",
      "   ('fast', 0.0099438465138044),\n",
      "   ('power', 0.009904851037279675),\n",
      "   ('introduce', 0.008384027452815473)]),\n",
      " (24,\n",
      "  [('talk', 0.0933916538597943),\n",
      "   ('turn', 0.049730070536312405),\n",
      "   ('robot', 0.03842061709421918),\n",
      "   ('speak', 0.03786893643850731),\n",
      "   ('word', 0.037593096110651376),\n",
      "   ('real', 0.033573708476179215),\n",
      "   ('understand', 0.032509752925877766),\n",
      "   ('language', 0.02340702210663199),\n",
      "   ('respond', 0.020136343933483077),\n",
      "   ('start', 0.017693186743901957),\n",
      "   ('teach', 0.013634393348307523),\n",
      "   ('computer', 0.011900539858927375),\n",
      "   ('mother', 0.010206092130669505),\n",
      "   ('english', 0.00874807896914529),\n",
      "   ('walk', 0.0082358040745557),\n",
      "   ('trigger', 0.008078181030066595),\n",
      "   ('natural', 0.007959963746699767),\n",
      "   ('happen', 0.007526500374354731),\n",
      "   ('realize', 0.00713244276313197),\n",
      "   ('fail', 0.007093037002009694)]),\n",
      " (32,\n",
      "  [('show', 0.10648998163965834),\n",
      "   ('play', 0.10445437854234853),\n",
      "   ('red_state', 0.04326654426438892),\n",
      "   ('talkradio_redstatetalk', 0.042388440967510176),\n",
      "   ('voice', 0.02199249620819031),\n",
      "   ('hour', 0.020635427476650436),\n",
      "   ('event', 0.016604135068252573),\n",
      "   ('siriouslysusan', 0.01440887682605572),\n",
      "   ('live', 0.012892152949628801),\n",
      "   ('original', 0.012812325377185279),\n",
      "   ('conference', 0.012213618583858865),\n",
      "   ('news', 0.011455256645645406),\n",
      "   ('book', 0.010896463638540752),\n",
      "   ('speaker', 0.010537239562544903),\n",
      "   ('jj_mccartney', 0.009898618982996727),\n",
      "   ('woman', 0.009499481120779116),\n",
      "   ('adam', 0.009180170831005028),\n",
      "   ('twitter', 0.008501636465235092),\n",
      "   ('larry', 0.008262153747904526),\n",
      "   ('friis', 0.0079827572443522)]),\n",
      " (19,\n",
      "  [('make', 0.19894561598224195),\n",
      "   ('kid', 0.06643412081813857),\n",
      "   ('feel', 0.038013318534961156),\n",
      "   ('fun', 0.036903440621531634),\n",
      "   ('easy', 0.03119549706675123),\n",
      "   ('life', 0.030799112097669258),\n",
      "   ('fact', 0.017758046614872364),\n",
      "   ('amazon', 0.015459013794196924),\n",
      "   ('child', 0.015181544315839544),\n",
      "   ('baby', 0.013239257967337879),\n",
      "   ('discover', 0.011970826066275567),\n",
      "   ('parent', 0.011970826066275567),\n",
      "   ('simple', 0.01193118756936737),\n",
      "   ('purchase', 0.010900586649754242),\n",
      "   ('sense', 0.00990962422704931),\n",
      "   ('kind', 0.008522276835262407),\n",
      "   ('dinner', 0.007095290946567306),\n",
      "   ('safe', 0.006738544474393531),\n",
      "   ('learn', 0.006540351989852545),\n",
      "   ('friendly', 0.006342159505311558)]),\n",
      " (29,\n",
      "  [('ai', 0.06560908734821778),\n",
      "   ('learn', 0.03983548766157462),\n",
      "   ('open', 0.03587935761848805),\n",
      "   ('human', 0.031061496278887584),\n",
      "   ('machine', 0.024794359576968274),\n",
      "   ('part', 0.02072072072072072),\n",
      "   ('system', 0.019702311006658833),\n",
      "   ('door', 0.01680376028202115),\n",
      "   ('step', 0.016529573051312182),\n",
      "   ('_', 0.015080297688993341),\n",
      "   ('software', 0.01417939678809244),\n",
      "   ('test', 0.014061887974931454),\n",
      "   ('recognition', 0.01280846063454759),\n",
      "   ('front', 0.012025068546807677),\n",
      "   ('speech', 0.010771641206423816),\n",
      "   ('solution', 0.009204857030943987),\n",
      "   ('brain', 0.008421464943204074),\n",
      "   ('interaction', 0.008382295338817078),\n",
      "   ('head', 0.008147277712495104),\n",
      "   ('character', 0.007794751273012142)]),\n",
      " (17,\n",
      "  [('team', 0.029941036832835593),\n",
      "   ('service', 0.027107741787273144),\n",
      "   ('customer', 0.025691094264491923),\n",
      "   ('information', 0.022321770426525767),\n",
      "   ('health', 0.02178574163412206),\n",
      "   ('company', 0.020483957423998774),\n",
      "   ('experience', 0.019986216402481046),\n",
      "   ('amazon', 0.019947928631595068),\n",
      "   ('healthcare', 0.01990964086070909),\n",
      "   ('move', 0.018799295505015697),\n",
      "   ('base', 0.018071827858182097),\n",
      "   ('interesting', 0.01608086377211119),\n",
      "   ('voicefirst', 0.013515583122750594),\n",
      "   ('care', 0.013324144268320699),\n",
      "   ('provide', 0.013170993184776783),\n",
      "   ('build', 0.012405237767057202),\n",
      "   ('voice', 0.012213798912627307),\n",
      "   ('age', 0.011601194578451643),\n",
      "   ('account', 0.01052913699364423),\n",
      "   ('access', 0.010261122597442376)])]\n",
      "\n",
      "Coherence Score:  0.3892904413752746\n"
     ]
    }
   ],
   "source": [
    "# Show Topics\n",
    "pprint(ldamallet.show_topics(formatted=False, num_words=20))\n",
    "\n",
    "# Compute Coherence Score\n",
    "coherence_model_ldamallet = CoherenceModel(model=ldamallet, texts=data_lemmatized, dictionary=id2word, coherence='c_v')\n",
    "coherence_ldamallet = coherence_model_ldamallet.get_coherence()\n",
    "print('\\nCoherence Score: ', coherence_ldamallet)"
   ]
  },
  {
   "cell_type": "markdown",
   "metadata": {},
   "source": [
    "How to find the optimal number of topics for LDA?"
   ]
  },
  {
   "cell_type": "code",
   "execution_count": 21,
   "metadata": {},
   "outputs": [],
   "source": [
    "def compute_coherence_values(dictionary, corpus, texts, limit, start=2, step=3):\n",
    "    \"\"\"\n",
    "    Compute c_v coherence for various number of topics\n",
    "\n",
    "    Parameters:\n",
    "    ----------\n",
    "    dictionary : Gensim dictionary\n",
    "    corpus : Gensim corpus\n",
    "    texts : List of input texts\n",
    "    limit : Max num of topics\n",
    "\n",
    "    Returns:\n",
    "    -------\n",
    "    model_list : List of LDA topic models\n",
    "    coherence_values : Coherence values corresponding to the LDA model with respective number of topics\n",
    "    \"\"\"\n",
    "    coherence_values = []\n",
    "    model_list = []\n",
    "    for num_topics in range(start, limit, step):\n",
    "        model = gensim.models.wrappers.LdaMallet(mallet_path, corpus=corpus, num_topics=num_topics, id2word=id2word)\n",
    "        model_list.append(model)\n",
    "        coherencemodel = CoherenceModel(model=model, texts=texts, dictionary=dictionary, coherence='c_v')\n",
    "        coherence_values.append(coherencemodel.get_coherence())\n",
    "\n",
    "    return model_list, coherence_values"
   ]
  },
  {
   "cell_type": "code",
   "execution_count": 22,
   "metadata": {},
   "outputs": [],
   "source": [
    "# Can take a long time to run.\n",
    "model_list, coherence_values = compute_coherence_values(dictionary=id2word, corpus=corpus, texts=data_lemmatized, start=1, limit=40, step=1)"
   ]
  },
  {
   "cell_type": "code",
   "execution_count": 23,
   "metadata": {},
   "outputs": [
    {
     "data": {
      "image/png": "[encoded data removed]",
      "text/plain": [
       "<matplotlib.figure.Figure at 0x1a29fa12b0>"
      ]
     },
     "metadata": {},
     "output_type": "display_data"
    }
   ],
   "source": [
    "# Show graph\n",
    "limit=40; start=1; step=1;\n",
    "x = range(start, limit, step)\n",
    "plt.plot(x, coherence_values)\n",
    "plt.xlabel(\"Num Topics\")\n",
    "plt.ylabel(\"Coherence score\")\n",
    "plt.legend((\"coherence_values\"), loc='best')\n",
    "plt.show()"
   ]
  },
  {
   "cell_type": "code",
   "execution_count": 24,
   "metadata": {},
   "outputs": [
    {
     "name": "stdout",
     "output_type": "stream",
     "text": [
      "Num Topics = 1  has Coherence Value of 0.1472\n",
      "Num Topics = 2  has Coherence Value of 0.2202\n",
      "Num Topics = 3  has Coherence Value of 0.1993\n",
      "Num Topics = 4  has Coherence Value of 0.2768\n",
      "Num Topics = 5  has Coherence Value of 0.3992\n",
      "Num Topics = 6  has Coherence Value of 0.384\n",
      "Num Topics = 7  has Coherence Value of 0.3784\n",
      "Num Topics = 8  has Coherence Value of 0.3906\n",
      "Num Topics = 9  has Coherence Value of 0.3754\n",
      "Num Topics = 10  has Coherence Value of 0.4035\n",
      "Num Topics = 11  has Coherence Value of 0.3854\n",
      "Num Topics = 12  has Coherence Value of 0.3759\n",
      "Num Topics = 13  has Coherence Value of 0.3867\n",
      "Num Topics = 14  has Coherence Value of 0.4066\n",
      "Num Topics = 15  has Coherence Value of 0.4025\n",
      "Num Topics = 16  has Coherence Value of 0.3992\n",
      "Num Topics = 17  has Coherence Value of 0.4046\n",
      "Num Topics = 18  has Coherence Value of 0.4046\n",
      "Num Topics = 19  has Coherence Value of 0.3809\n",
      "Num Topics = 20  has Coherence Value of 0.3732\n",
      "Num Topics = 21  has Coherence Value of 0.4082\n",
      "Num Topics = 22  has Coherence Value of 0.4264\n",
      "Num Topics = 23  has Coherence Value of 0.381\n",
      "Num Topics = 24  has Coherence Value of 0.4106\n",
      "Num Topics = 25  has Coherence Value of 0.4113\n",
      "Num Topics = 26  has Coherence Value of 0.403\n",
      "Num Topics = 27  has Coherence Value of 0.401\n",
      "Num Topics = 28  has Coherence Value of 0.4246\n",
      "Num Topics = 29  has Coherence Value of 0.4206\n",
      "Num Topics = 30  has Coherence Value of 0.3938\n",
      "Num Topics = 31  has Coherence Value of 0.4152\n",
      "Num Topics = 32  has Coherence Value of 0.3888\n",
      "Num Topics = 33  has Coherence Value of 0.4102\n",
      "Num Topics = 34  has Coherence Value of 0.4165\n",
      "Num Topics = 35  has Coherence Value of 0.4036\n",
      "Num Topics = 36  has Coherence Value of 0.402\n",
      "Num Topics = 37  has Coherence Value of 0.4208\n",
      "Num Topics = 38  has Coherence Value of 0.3942\n",
      "Num Topics = 39  has Coherence Value of 0.4091\n"
     ]
    }
   ],
   "source": [
    "# Print the coherence scores\n",
    "for m, cv in zip(x, coherence_values):\n",
    "    print(\"Num Topics =\", m, \" has Coherence Value of\", round(cv, 4))"
   ]
  },
  {
   "cell_type": "code",
   "execution_count": null,
   "metadata": {},
   "outputs": [],
   "source": []
  }
 ],
 "metadata": {
  "kernelspec": {
   "display_name": "Python 3",
   "language": "python",
   "name": "python3"
  },
  "language_info": {
   "codemirror_mode": {
    "name": "ipython",
    "version": 3
   },
   "file_extension": ".py",
   "mimetype": "text/x-python",
   "name": "python",
   "nbconvert_exporter": "python",
   "pygments_lexer": "ipython3",
   "version": "3.6.4"
  }
 },
 "nbformat": 4,
 "nbformat_minor": 2
}
